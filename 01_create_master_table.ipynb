{
 "cells": [
  {
   "cell_type": "code",
   "execution_count": 1,
   "metadata": {},
   "outputs": [],
   "source": [
    "import pandas as pd\n",
    "\n",
    "from src.data_processing.wrangling import cat_conditions, map_comp, map_investimento, map_importo"
   ]
  },
  {
   "cell_type": "code",
   "execution_count": 2,
   "metadata": {},
   "outputs": [],
   "source": [
    "p01 = pd.read_parquet(\"data/updated/p01.parquet\")\n",
    "p02 = pd.read_parquet(\"data/updated/p02.parquet\")\n",
    "p03 = pd.read_parquet(\"data/updated/p03.parquet\")\n",
    "p04 = pd.read_parquet(\"data/updated/p04.parquet\")\n",
    "p05 = pd.read_parquet(\"data/updated/p05.parquet\")\n",
    "\n",
    "componenti = pd.read_parquet(\"data/updated/components.parquet\")\n",
    "missions = pd.read_parquet(\"data/updated/missions.parquet\")\n",
    "comuni = pd.read_parquet(\"data/updated/comuni.parquet\")"
   ]
  },
  {
   "cell_type": "markdown",
   "metadata": {},
   "source": [
    "## Data preprocessing"
   ]
  },
  {
   "cell_type": "code",
   "execution_count": 3,
   "metadata": {},
   "outputs": [
    {
     "data": {
      "text/plain": [
       "(4801727, 2)"
      ]
     },
     "execution_count": 3,
     "metadata": {},
     "output_type": "execute_result"
    }
   ],
   "source": [
    "p01.shape"
   ]
  },
  {
   "cell_type": "code",
   "execution_count": 4,
   "metadata": {},
   "outputs": [
    {
     "data": {
      "text/plain": [
       "Index(['CIG', 'CUP'], dtype='object')"
      ]
     },
     "execution_count": 4,
     "metadata": {},
     "output_type": "execute_result"
    }
   ],
   "source": [
    "p01.columns"
   ]
  },
  {
   "cell_type": "code",
   "execution_count": 5,
   "metadata": {},
   "outputs": [
    {
     "data": {
      "text/plain": [
       "Index(['Programma', 'Missione', 'Descrizione Missione', 'Componente',\n",
       "       'Descrizione Componente', 'ID Misura', 'Codice Univoco Misura',\n",
       "       'Descrizione Misura', 'ID Submisura', 'Codice CID',\n",
       "       'Codice Univoco Submisura', 'Descrizione Submisura',\n",
       "       'Amministrazione Titolare',\n",
       "       'Codice Identificativo Procedura di Attivazione', 'Titolo Procedura',\n",
       "       'Tipologia Procedura di Attivazione', 'CUP', 'Codice Locale Progetto',\n",
       "       'Stato CUP', 'CUP Codice Natura', 'CUP Descrizione Natura',\n",
       "       'CUP Codice Tipologia', 'CUP Descrizione Tipologia',\n",
       "       'CUP Codice Settore', 'CUP Descrizione Settore',\n",
       "       'CUP Codice Sottosettore', 'CUP Descrizione Sottosettore',\n",
       "       'CUP Codice Categoria', 'CUP Descrizione Categoria', 'Titolo Progetto',\n",
       "       'Sintesi Progetto', 'Descrizione Tipo Aiuto', 'Finanziamento - Stato',\n",
       "       'Finanziamento Stato - FOI',\n",
       "       'Finanziamento Prosecuzione Opere Pubbliche - FPOP',\n",
       "       'Finanziamento UE (Diverso da PNRR)', 'Finanziamento Regione',\n",
       "       'Finanziamento Provincia', 'Finanziamento Comune',\n",
       "       'Finanziamento Altro Pubblico', 'Finanziamento Privato',\n",
       "       'Finanziamento Da Reperire', 'Finanziamento PNRR', 'Finanziamento PNC',\n",
       "       'Altri Fondi', 'Finanziamento Totale', 'Finanziamento Totale Pubblico',\n",
       "       'Finanziamento Totale Pubblico Netto', 'Soggetto Attuatore',\n",
       "       'Codice Fiscale Soggetto Attuatore', 'Flag Progetti in Essere',\n",
       "       'Data di Estrazione', 'Progetto Validato',\n",
       "       'Data di ultima validazione'],\n",
       "      dtype='object')"
      ]
     },
     "execution_count": 5,
     "metadata": {},
     "output_type": "execute_result"
    }
   ],
   "source": [
    "p02.columns"
   ]
  },
  {
   "cell_type": "code",
   "execution_count": 6,
   "metadata": {},
   "outputs": [
    {
     "data": {
      "text/plain": [
       "(266562, 54)"
      ]
     },
     "execution_count": 6,
     "metadata": {},
     "output_type": "execute_result"
    }
   ],
   "source": [
    "p02.shape"
   ]
  },
  {
   "cell_type": "code",
   "execution_count": 7,
   "metadata": {},
   "outputs": [
    {
     "data": {
      "text/html": [
       "<div>\n",
       "<style scoped>\n",
       "    .dataframe tbody tr th:only-of-type {\n",
       "        vertical-align: middle;\n",
       "    }\n",
       "\n",
       "    .dataframe tbody tr th {\n",
       "        vertical-align: top;\n",
       "    }\n",
       "\n",
       "    .dataframe thead th {\n",
       "        text-align: right;\n",
       "    }\n",
       "</style>\n",
       "<table border=\"1\" class=\"dataframe\">\n",
       "  <thead>\n",
       "    <tr style=\"text-align: right;\">\n",
       "      <th></th>\n",
       "      <th>Programma</th>\n",
       "      <th>Missione</th>\n",
       "      <th>Descrizione Missione</th>\n",
       "      <th>Componente</th>\n",
       "      <th>Descrizione Componente</th>\n",
       "      <th>ID Misura</th>\n",
       "      <th>Codice Univoco Misura</th>\n",
       "      <th>Descrizione Misura</th>\n",
       "      <th>ID Submisura</th>\n",
       "      <th>Codice CID</th>\n",
       "      <th>...</th>\n",
       "      <th>Altri Fondi</th>\n",
       "      <th>Finanziamento Totale</th>\n",
       "      <th>Finanziamento Totale Pubblico</th>\n",
       "      <th>Finanziamento Totale Pubblico Netto</th>\n",
       "      <th>Soggetto Attuatore</th>\n",
       "      <th>Codice Fiscale Soggetto Attuatore</th>\n",
       "      <th>Flag Progetti in Essere</th>\n",
       "      <th>Data di Estrazione</th>\n",
       "      <th>Progetto Validato</th>\n",
       "      <th>Data di ultima validazione</th>\n",
       "    </tr>\n",
       "  </thead>\n",
       "  <tbody>\n",
       "    <tr>\n",
       "      <th>0</th>\n",
       "      <td>PNRR</td>\n",
       "      <td>M1</td>\n",
       "      <td>Digitalizzazione, innovazione, competitività e...</td>\n",
       "      <td>M1C1</td>\n",
       "      <td>Digitalizzazione, innovazione e sicurezza nell...</td>\n",
       "      <td>M1C1I1.1</td>\n",
       "      <td>M1C1I1.01</td>\n",
       "      <td>Infrastrutture digitali</td>\n",
       "      <td>M1C1I1.1</td>\n",
       "      <td>M1C1I1.1</td>\n",
       "      <td>...</td>\n",
       "      <td>0,00</td>\n",
       "      <td>1171320,00</td>\n",
       "      <td>1171320,00</td>\n",
       "      <td>1171320,00</td>\n",
       "      <td>AZIENDA SANITARIA PROVINCIALE DI SIRACUSA</td>\n",
       "      <td>1661590891</td>\n",
       "      <td>Sì</td>\n",
       "      <td>18/04/2024</td>\n",
       "      <td>Sì</td>\n",
       "      <td>20/03/2024</td>\n",
       "    </tr>\n",
       "    <tr>\n",
       "      <th>1</th>\n",
       "      <td>PNRR</td>\n",
       "      <td>M1</td>\n",
       "      <td>Digitalizzazione, innovazione, competitività e...</td>\n",
       "      <td>M1C1</td>\n",
       "      <td>Digitalizzazione, innovazione e sicurezza nell...</td>\n",
       "      <td>M1C1I1.1</td>\n",
       "      <td>M1C1I1.01</td>\n",
       "      <td>Infrastrutture digitali</td>\n",
       "      <td>M1C1I1.1</td>\n",
       "      <td>M1C1I1.1</td>\n",
       "      <td>...</td>\n",
       "      <td>0,00</td>\n",
       "      <td>926160,00</td>\n",
       "      <td>926160,00</td>\n",
       "      <td>926160,00</td>\n",
       "      <td>AZIENDA SANITARIA PROVINCIALE DI CALTANISSETTA</td>\n",
       "      <td>1825570854</td>\n",
       "      <td>Sì</td>\n",
       "      <td>18/04/2024</td>\n",
       "      <td>Sì</td>\n",
       "      <td>20/03/2024</td>\n",
       "    </tr>\n",
       "    <tr>\n",
       "      <th>2</th>\n",
       "      <td>PNRR</td>\n",
       "      <td>M1</td>\n",
       "      <td>Digitalizzazione, innovazione, competitività e...</td>\n",
       "      <td>M1C1</td>\n",
       "      <td>Digitalizzazione, innovazione e sicurezza nell...</td>\n",
       "      <td>M1C1I1.1</td>\n",
       "      <td>M1C1I1.01</td>\n",
       "      <td>Infrastrutture digitali</td>\n",
       "      <td>M1C1I1.1</td>\n",
       "      <td>M1C1I1.1</td>\n",
       "      <td>...</td>\n",
       "      <td>0,00</td>\n",
       "      <td>7599960,00</td>\n",
       "      <td>7599960,00</td>\n",
       "      <td>7599960,00</td>\n",
       "      <td>ASL ROMA 2</td>\n",
       "      <td>13665151000</td>\n",
       "      <td>Sì</td>\n",
       "      <td>18/04/2024</td>\n",
       "      <td>Sì</td>\n",
       "      <td>20/03/2024</td>\n",
       "    </tr>\n",
       "    <tr>\n",
       "      <th>3</th>\n",
       "      <td>PNRR</td>\n",
       "      <td>M1</td>\n",
       "      <td>Digitalizzazione, innovazione, competitività e...</td>\n",
       "      <td>M1C1</td>\n",
       "      <td>Digitalizzazione, innovazione e sicurezza nell...</td>\n",
       "      <td>M1C1I1.1</td>\n",
       "      <td>M1C1I1.01</td>\n",
       "      <td>Infrastrutture digitali</td>\n",
       "      <td>M1C1I1.1</td>\n",
       "      <td>M1C1I1.1</td>\n",
       "      <td>...</td>\n",
       "      <td>0,00</td>\n",
       "      <td>1358595,00</td>\n",
       "      <td>1358595,00</td>\n",
       "      <td>1358595,00</td>\n",
       "      <td>ASL ROMA 5</td>\n",
       "      <td>4733471009</td>\n",
       "      <td>Sì</td>\n",
       "      <td>18/04/2024</td>\n",
       "      <td>Sì</td>\n",
       "      <td>20/03/2024</td>\n",
       "    </tr>\n",
       "    <tr>\n",
       "      <th>4</th>\n",
       "      <td>PNRR</td>\n",
       "      <td>M1</td>\n",
       "      <td>Digitalizzazione, innovazione, competitività e...</td>\n",
       "      <td>M1C1</td>\n",
       "      <td>Digitalizzazione, innovazione e sicurezza nell...</td>\n",
       "      <td>M1C1I1.1</td>\n",
       "      <td>M1C1I1.01</td>\n",
       "      <td>Infrastrutture digitali</td>\n",
       "      <td>M1C1I1.1</td>\n",
       "      <td>M1C1I1.1</td>\n",
       "      <td>...</td>\n",
       "      <td>0,00</td>\n",
       "      <td>55318,00</td>\n",
       "      <td>55318,00</td>\n",
       "      <td>55318,00</td>\n",
       "      <td>MINISTERO DELL'INTERNO</td>\n",
       "      <td>97149560589</td>\n",
       "      <td>No</td>\n",
       "      <td>18/04/2024</td>\n",
       "      <td>Sì</td>\n",
       "      <td>20/03/2024</td>\n",
       "    </tr>\n",
       "  </tbody>\n",
       "</table>\n",
       "<p>5 rows × 54 columns</p>\n",
       "</div>"
      ],
      "text/plain": [
       "  Programma Missione                               Descrizione Missione  \\\n",
       "0      PNRR       M1  Digitalizzazione, innovazione, competitività e...   \n",
       "1      PNRR       M1  Digitalizzazione, innovazione, competitività e...   \n",
       "2      PNRR       M1  Digitalizzazione, innovazione, competitività e...   \n",
       "3      PNRR       M1  Digitalizzazione, innovazione, competitività e...   \n",
       "4      PNRR       M1  Digitalizzazione, innovazione, competitività e...   \n",
       "\n",
       "  Componente                             Descrizione Componente ID Misura  \\\n",
       "0       M1C1  Digitalizzazione, innovazione e sicurezza nell...  M1C1I1.1   \n",
       "1       M1C1  Digitalizzazione, innovazione e sicurezza nell...  M1C1I1.1   \n",
       "2       M1C1  Digitalizzazione, innovazione e sicurezza nell...  M1C1I1.1   \n",
       "3       M1C1  Digitalizzazione, innovazione e sicurezza nell...  M1C1I1.1   \n",
       "4       M1C1  Digitalizzazione, innovazione e sicurezza nell...  M1C1I1.1   \n",
       "\n",
       "  Codice Univoco Misura       Descrizione Misura ID Submisura Codice CID  ...  \\\n",
       "0             M1C1I1.01  Infrastrutture digitali     M1C1I1.1   M1C1I1.1  ...   \n",
       "1             M1C1I1.01  Infrastrutture digitali     M1C1I1.1   M1C1I1.1  ...   \n",
       "2             M1C1I1.01  Infrastrutture digitali     M1C1I1.1   M1C1I1.1  ...   \n",
       "3             M1C1I1.01  Infrastrutture digitali     M1C1I1.1   M1C1I1.1  ...   \n",
       "4             M1C1I1.01  Infrastrutture digitali     M1C1I1.1   M1C1I1.1  ...   \n",
       "\n",
       "  Altri Fondi Finanziamento Totale Finanziamento Totale Pubblico  \\\n",
       "0        0,00           1171320,00                    1171320,00   \n",
       "1        0,00            926160,00                     926160,00   \n",
       "2        0,00           7599960,00                    7599960,00   \n",
       "3        0,00           1358595,00                    1358595,00   \n",
       "4        0,00             55318,00                      55318,00   \n",
       "\n",
       "   Finanziamento Totale Pubblico Netto  \\\n",
       "0                           1171320,00   \n",
       "1                            926160,00   \n",
       "2                           7599960,00   \n",
       "3                           1358595,00   \n",
       "4                             55318,00   \n",
       "\n",
       "                               Soggetto Attuatore  \\\n",
       "0       AZIENDA SANITARIA PROVINCIALE DI SIRACUSA   \n",
       "1  AZIENDA SANITARIA PROVINCIALE DI CALTANISSETTA   \n",
       "2                                      ASL ROMA 2   \n",
       "3                                      ASL ROMA 5   \n",
       "4                          MINISTERO DELL'INTERNO   \n",
       "\n",
       "  Codice Fiscale Soggetto Attuatore Flag Progetti in Essere  \\\n",
       "0                        1661590891                      Sì   \n",
       "1                        1825570854                      Sì   \n",
       "2                       13665151000                      Sì   \n",
       "3                        4733471009                      Sì   \n",
       "4                       97149560589                      No   \n",
       "\n",
       "  Data di Estrazione Progetto Validato  Data di ultima validazione  \n",
       "0         18/04/2024                Sì                  20/03/2024  \n",
       "1         18/04/2024                Sì                  20/03/2024  \n",
       "2         18/04/2024                Sì                  20/03/2024  \n",
       "3         18/04/2024                Sì                  20/03/2024  \n",
       "4         18/04/2024                Sì                  20/03/2024  \n",
       "\n",
       "[5 rows x 54 columns]"
      ]
     },
     "execution_count": 7,
     "metadata": {},
     "output_type": "execute_result"
    }
   ],
   "source": [
    "p02.head()"
   ]
  },
  {
   "cell_type": "code",
   "execution_count": 8,
   "metadata": {},
   "outputs": [],
   "source": [
    "p03 = p03.rename(columns={'cig':'CIG'})\n",
    "p03['CATEGORIA'] = p03.apply(cat_conditions,axis=1)"
   ]
  },
  {
   "cell_type": "code",
   "execution_count": 9,
   "metadata": {},
   "outputs": [
    {
     "name": "stdout",
     "output_type": "stream",
     "text": [
      "(18548, 4)\n",
      "Index(['CIG', 'cod_mis_premiale', 'misura_premiale', 'CATEGORIA'], dtype='object')\n"
     ]
    },
    {
     "data": {
      "text/html": [
       "<div>\n",
       "<style scoped>\n",
       "    .dataframe tbody tr th:only-of-type {\n",
       "        vertical-align: middle;\n",
       "    }\n",
       "\n",
       "    .dataframe tbody tr th {\n",
       "        vertical-align: top;\n",
       "    }\n",
       "\n",
       "    .dataframe thead th {\n",
       "        text-align: right;\n",
       "    }\n",
       "</style>\n",
       "<table border=\"1\" class=\"dataframe\">\n",
       "  <thead>\n",
       "    <tr style=\"text-align: right;\">\n",
       "      <th></th>\n",
       "      <th>CIG</th>\n",
       "      <th>cod_mis_premiale</th>\n",
       "      <th>misura_premiale</th>\n",
       "      <th>CATEGORIA</th>\n",
       "    </tr>\n",
       "  </thead>\n",
       "  <tbody>\n",
       "    <tr>\n",
       "      <th>0</th>\n",
       "      <td>A02D3E0D1C</td>\n",
       "      <td>1</td>\n",
       "      <td>NEI TRE ANNI ANTECEDENTI LA DATA DI SCADENZA D...</td>\n",
       "      <td>GENERALE</td>\n",
       "    </tr>\n",
       "    <tr>\n",
       "      <th>1</th>\n",
       "      <td>975319926E</td>\n",
       "      <td>1</td>\n",
       "      <td>NEI TRE ANNI ANTECEDENTI LA DATA DI SCADENZA D...</td>\n",
       "      <td>GENERALE</td>\n",
       "    </tr>\n",
       "    <tr>\n",
       "      <th>2</th>\n",
       "      <td>975319926E</td>\n",
       "      <td>6</td>\n",
       "      <td>ABBIA, NELL'ULTIMO TRIENNIO, RISPETTATO I PRIN...</td>\n",
       "      <td>GENERE</td>\n",
       "    </tr>\n",
       "    <tr>\n",
       "      <th>3</th>\n",
       "      <td>975319926E</td>\n",
       "      <td>8</td>\n",
       "      <td>ABBIA, NELL'ULTIMO TRIENNIO, RISPETTATO GLI OB...</td>\n",
       "      <td>DISABILI</td>\n",
       "    </tr>\n",
       "    <tr>\n",
       "      <th>4</th>\n",
       "      <td>A028BBA332</td>\n",
       "      <td>1</td>\n",
       "      <td>NEI TRE ANNI ANTECEDENTI LA DATA DI SCADENZA D...</td>\n",
       "      <td>GENERALE</td>\n",
       "    </tr>\n",
       "  </tbody>\n",
       "</table>\n",
       "</div>"
      ],
      "text/plain": [
       "          CIG  cod_mis_premiale  \\\n",
       "0  A02D3E0D1C                 1   \n",
       "1  975319926E                 1   \n",
       "2  975319926E                 6   \n",
       "3  975319926E                 8   \n",
       "4  A028BBA332                 1   \n",
       "\n",
       "                                     misura_premiale CATEGORIA  \n",
       "0  NEI TRE ANNI ANTECEDENTI LA DATA DI SCADENZA D...  GENERALE  \n",
       "1  NEI TRE ANNI ANTECEDENTI LA DATA DI SCADENZA D...  GENERALE  \n",
       "2  ABBIA, NELL'ULTIMO TRIENNIO, RISPETTATO I PRIN...    GENERE  \n",
       "3  ABBIA, NELL'ULTIMO TRIENNIO, RISPETTATO GLI OB...  DISABILI  \n",
       "4  NEI TRE ANNI ANTECEDENTI LA DATA DI SCADENZA D...  GENERALE  "
      ]
     },
     "execution_count": 9,
     "metadata": {},
     "output_type": "execute_result"
    }
   ],
   "source": [
    "print(p03.shape)\n",
    "print(p03.columns)\n",
    "p03.head()"
   ]
  },
  {
   "cell_type": "code",
   "execution_count": 10,
   "metadata": {},
   "outputs": [
    {
     "name": "stdout",
     "output_type": "stream",
     "text": [
      "(256878, 6)\n",
      "Index(['CIG', 'flag_quote', 'quota_femminile', 'quota_giovanile',\n",
      "       'cod_mot_deroga', 'mot_deroga'],\n",
      "      dtype='object')\n"
     ]
    },
    {
     "data": {
      "text/html": [
       "<div>\n",
       "<style scoped>\n",
       "    .dataframe tbody tr th:only-of-type {\n",
       "        vertical-align: middle;\n",
       "    }\n",
       "\n",
       "    .dataframe tbody tr th {\n",
       "        vertical-align: top;\n",
       "    }\n",
       "\n",
       "    .dataframe thead th {\n",
       "        text-align: right;\n",
       "    }\n",
       "</style>\n",
       "<table border=\"1\" class=\"dataframe\">\n",
       "  <thead>\n",
       "    <tr style=\"text-align: right;\">\n",
       "      <th></th>\n",
       "      <th>CIG</th>\n",
       "      <th>flag_quote</th>\n",
       "      <th>quota_femminile</th>\n",
       "      <th>quota_giovanile</th>\n",
       "      <th>cod_mot_deroga</th>\n",
       "      <th>mot_deroga</th>\n",
       "    </tr>\n",
       "  </thead>\n",
       "  <tbody>\n",
       "    <tr>\n",
       "      <th>0</th>\n",
       "      <td>A0178738AE</td>\n",
       "      <td>N</td>\n",
       "      <td>NaN</td>\n",
       "      <td>NaN</td>\n",
       "      <td>1.0</td>\n",
       "      <td>IMPORTO RIDOTTO DEL CONTRATTO</td>\n",
       "    </tr>\n",
       "    <tr>\n",
       "      <th>1</th>\n",
       "      <td>9979062678</td>\n",
       "      <td>N</td>\n",
       "      <td>NaN</td>\n",
       "      <td>NaN</td>\n",
       "      <td>1.0</td>\n",
       "      <td>IMPORTO RIDOTTO DEL CONTRATTO</td>\n",
       "    </tr>\n",
       "    <tr>\n",
       "      <th>2</th>\n",
       "      <td>9984663490</td>\n",
       "      <td>N</td>\n",
       "      <td>NaN</td>\n",
       "      <td>NaN</td>\n",
       "      <td>1.0</td>\n",
       "      <td>IMPORTO RIDOTTO DEL CONTRATTO</td>\n",
       "    </tr>\n",
       "    <tr>\n",
       "      <th>3</th>\n",
       "      <td>A00867451A</td>\n",
       "      <td>N</td>\n",
       "      <td>NaN</td>\n",
       "      <td>NaN</td>\n",
       "      <td>8.0</td>\n",
       "      <td>ALTRO</td>\n",
       "    </tr>\n",
       "    <tr>\n",
       "      <th>4</th>\n",
       "      <td>9807735EF2</td>\n",
       "      <td>N</td>\n",
       "      <td>NaN</td>\n",
       "      <td>NaN</td>\n",
       "      <td>1.0</td>\n",
       "      <td>IMPORTO RIDOTTO DEL CONTRATTO</td>\n",
       "    </tr>\n",
       "  </tbody>\n",
       "</table>\n",
       "</div>"
      ],
      "text/plain": [
       "          CIG flag_quote  quota_femminile  quota_giovanile  cod_mot_deroga  \\\n",
       "0  A0178738AE          N              NaN              NaN             1.0   \n",
       "1  9979062678          N              NaN              NaN             1.0   \n",
       "2  9984663490          N              NaN              NaN             1.0   \n",
       "3  A00867451A          N              NaN              NaN             8.0   \n",
       "4  9807735EF2          N              NaN              NaN             1.0   \n",
       "\n",
       "                      mot_deroga  \n",
       "0  IMPORTO RIDOTTO DEL CONTRATTO  \n",
       "1  IMPORTO RIDOTTO DEL CONTRATTO  \n",
       "2  IMPORTO RIDOTTO DEL CONTRATTO  \n",
       "3                          ALTRO  \n",
       "4  IMPORTO RIDOTTO DEL CONTRATTO  "
      ]
     },
     "execution_count": 10,
     "metadata": {},
     "output_type": "execute_result"
    }
   ],
   "source": [
    "p04 = p04.rename(columns={'cig':'CIG'})\n",
    "print(p04.shape)\n",
    "print(p04.columns)\n",
    "p04.head()"
   ]
  },
  {
   "cell_type": "code",
   "execution_count": 11,
   "metadata": {},
   "outputs": [
    {
     "data": {
      "text/plain": [
       "array(['7280.0', '1681.84', '36720.87', ..., '46259.74', '45109.43',\n",
       "       '37683.44'], dtype=object)"
      ]
     },
     "execution_count": 11,
     "metadata": {},
     "output_type": "execute_result"
    }
   ],
   "source": [
    "p05['importo_complessivo_gara'].unique()"
   ]
  },
  {
   "cell_type": "code",
   "execution_count": 12,
   "metadata": {},
   "outputs": [],
   "source": [
    "p05 = p05.rename(columns={'cig':'CIG'})\n",
    "p05['importo_complessivo_gara'] = p05['importo_complessivo_gara'].astype(float)\n",
    "p05['CLASSE_IMPORTO'] = p05['importo_complessivo_gara'].apply(map_importo)"
   ]
  },
  {
   "cell_type": "code",
   "execution_count": 13,
   "metadata": {},
   "outputs": [
    {
     "name": "stdout",
     "output_type": "stream",
     "text": [
      "(264202, 62)\n",
      "Index(['CIG', 'cig_accordo_quadro', 'numero_gara', 'oggetto_gara',\n",
      "       'importo_complessivo_gara', 'n_lotti_componenti', 'oggetto_lotto',\n",
      "       'importo_lotto', 'oggetto_principale_contratto', 'stato', 'settore',\n",
      "       'luogo_istat', 'provincia', 'data_pubblicazione',\n",
      "       'data_scadenza_offerta', 'cod_tipo_scelta_contraente',\n",
      "       'tipo_scelta_contraente', 'cod_modalita_realizzazione',\n",
      "       'modalita_realizzazione', 'codice_ausa',\n",
      "       'cf_amministrazione_appaltante',\n",
      "       'denominazione_amministrazione_appaltante', 'sezione_regionale',\n",
      "       'id_centro_costo', 'denominazione_centro_costo', 'anno_pubblicazione',\n",
      "       'mese_pubblicazione', 'cod_cpv', 'descrizione_cpv', 'flag_prevalente',\n",
      "       'COD_MOTIVO_CANCELLAZIONE', 'MOTIVO_CANCELLAZIONE',\n",
      "       'DATA_CANCELLAZIONE', 'DATA_ULTIMO_PERFEZIONAMENTO',\n",
      "       'COD_MODALITA_INDIZIONE_SPECIALI', 'MODALITA_INDIZIONE_SPECIALI',\n",
      "       'COD_MODALITA_INDIZIONE_SERVIZI', 'MODALITA_INDIZIONE_SERVIZI',\n",
      "       'DURATA_PREVISTA', 'COD_STRUMENTO_SVOLGIMENTO', 'STRUMENTO_SVOLGIMENTO',\n",
      "       'FLAG_URGENZA', 'COD_MOTIVO_URGENZA', 'MOTIVO_URGENZA', 'FLAG_DELEGA',\n",
      "       'FUNZIONI_DELEGATE', 'CF_SA_DELEGANTE', 'DENOMINAZIONE_SA_DELEGANTE',\n",
      "       'CF_SA_DELEGATA', 'DENOMINAZIONE_SA_DELEGATA', 'IMPORTO_SICUREZZA',\n",
      "       'TIPO_APPALTO_RISERVATO', 'CUI_PROGRAMMA', 'FLAG_PREV_RIPETIZIONI',\n",
      "       'COD_IPOTESI_COLLEGAMENTO', 'IPOTESI_COLLEGAMENTO', 'CIG_COLLEGAMENTO',\n",
      "       'COD_ESITO', 'ESITO', 'DATA_COMUNICAZIONE_ESITO', 'FLAG_PNRR_PNC',\n",
      "       'CLASSE_IMPORTO'],\n",
      "      dtype='object')\n"
     ]
    },
    {
     "data": {
      "text/html": [
       "<div>\n",
       "<style scoped>\n",
       "    .dataframe tbody tr th:only-of-type {\n",
       "        vertical-align: middle;\n",
       "    }\n",
       "\n",
       "    .dataframe tbody tr th {\n",
       "        vertical-align: top;\n",
       "    }\n",
       "\n",
       "    .dataframe thead th {\n",
       "        text-align: right;\n",
       "    }\n",
       "</style>\n",
       "<table border=\"1\" class=\"dataframe\">\n",
       "  <thead>\n",
       "    <tr style=\"text-align: right;\">\n",
       "      <th></th>\n",
       "      <th>CIG</th>\n",
       "      <th>cig_accordo_quadro</th>\n",
       "      <th>numero_gara</th>\n",
       "      <th>oggetto_gara</th>\n",
       "      <th>importo_complessivo_gara</th>\n",
       "      <th>n_lotti_componenti</th>\n",
       "      <th>oggetto_lotto</th>\n",
       "      <th>importo_lotto</th>\n",
       "      <th>oggetto_principale_contratto</th>\n",
       "      <th>stato</th>\n",
       "      <th>...</th>\n",
       "      <th>CUI_PROGRAMMA</th>\n",
       "      <th>FLAG_PREV_RIPETIZIONI</th>\n",
       "      <th>COD_IPOTESI_COLLEGAMENTO</th>\n",
       "      <th>IPOTESI_COLLEGAMENTO</th>\n",
       "      <th>CIG_COLLEGAMENTO</th>\n",
       "      <th>COD_ESITO</th>\n",
       "      <th>ESITO</th>\n",
       "      <th>DATA_COMUNICAZIONE_ESITO</th>\n",
       "      <th>FLAG_PNRR_PNC</th>\n",
       "      <th>CLASSE_IMPORTO</th>\n",
       "    </tr>\n",
       "  </thead>\n",
       "  <tbody>\n",
       "    <tr>\n",
       "      <th>0</th>\n",
       "      <td>9708946BB0</td>\n",
       "      <td>None</td>\n",
       "      <td>8994956</td>\n",
       "      <td>SERVIZI DI GEOLOGIA E GEOTECNICA IVI COMPRESA ...</td>\n",
       "      <td>7280.00</td>\n",
       "      <td>1</td>\n",
       "      <td>SERVIZI DI GEOLOGIA E GEOTECNICA IVI COMPRESA ...</td>\n",
       "      <td>7280.0</td>\n",
       "      <td>SERVIZI</td>\n",
       "      <td>ATTIVO</td>\n",
       "      <td>...</td>\n",
       "      <td>L81001230614202200006</td>\n",
       "      <td>0</td>\n",
       "      <td>None</td>\n",
       "      <td>None</td>\n",
       "      <td>None</td>\n",
       "      <td>None</td>\n",
       "      <td>None</td>\n",
       "      <td>None</td>\n",
       "      <td>1</td>\n",
       "      <td>BASSA</td>\n",
       "    </tr>\n",
       "    <tr>\n",
       "      <th>1</th>\n",
       "      <td>9737176BD2</td>\n",
       "      <td>None</td>\n",
       "      <td>9018691</td>\n",
       "      <td>PNC - SAGGI PER VERIFICA MURATURA E SCAVI FOND...</td>\n",
       "      <td>1681.84</td>\n",
       "      <td>1</td>\n",
       "      <td>PNC - SAGGI PER VERIFICA MURATURA E SCAVI FOND...</td>\n",
       "      <td>1681.84</td>\n",
       "      <td>SERVIZI</td>\n",
       "      <td>ATTIVO</td>\n",
       "      <td>...</td>\n",
       "      <td>None</td>\n",
       "      <td>0</td>\n",
       "      <td>None</td>\n",
       "      <td>None</td>\n",
       "      <td>None</td>\n",
       "      <td>1.0</td>\n",
       "      <td>AGGIUDICATA</td>\n",
       "      <td>2023-04-06</td>\n",
       "      <td>1</td>\n",
       "      <td>BASSA</td>\n",
       "    </tr>\n",
       "    <tr>\n",
       "      <th>2</th>\n",
       "      <td>9601726AF2</td>\n",
       "      <td>None</td>\n",
       "      <td>8900928</td>\n",
       "      <td>PROGETTO RIQUALIFICAZIONE ENERGETICA EDIFICI S...</td>\n",
       "      <td>36720.87</td>\n",
       "      <td>1</td>\n",
       "      <td>PROGETTO RIQUALIFICAZIONE ENERGETICA EDIFICI S...</td>\n",
       "      <td>36720.87</td>\n",
       "      <td>SERVIZI</td>\n",
       "      <td>ATTIVO</td>\n",
       "      <td>...</td>\n",
       "      <td>9999999999999999999999</td>\n",
       "      <td>0</td>\n",
       "      <td>None</td>\n",
       "      <td>None</td>\n",
       "      <td>None</td>\n",
       "      <td>1.0</td>\n",
       "      <td>AGGIUDICATA</td>\n",
       "      <td>2023-01-19</td>\n",
       "      <td>1</td>\n",
       "      <td>BASSA</td>\n",
       "    </tr>\n",
       "    <tr>\n",
       "      <th>3</th>\n",
       "      <td>98273612D9</td>\n",
       "      <td>None</td>\n",
       "      <td>9100251</td>\n",
       "      <td>MIGRAZIONE AL CLOUD ANAGRAFE PNRR</td>\n",
       "      <td>6264.00</td>\n",
       "      <td>1</td>\n",
       "      <td>MIGRAZIONE AL CLOUD ANAGRAFE PNRR</td>\n",
       "      <td>6264.0</td>\n",
       "      <td>SERVIZI</td>\n",
       "      <td>ATTIVO</td>\n",
       "      <td>...</td>\n",
       "      <td>DEL. CONS.COM.47 /2022</td>\n",
       "      <td>0</td>\n",
       "      <td>None</td>\n",
       "      <td>None</td>\n",
       "      <td>None</td>\n",
       "      <td>1.0</td>\n",
       "      <td>AGGIUDICATA</td>\n",
       "      <td>2023-05-16</td>\n",
       "      <td>1</td>\n",
       "      <td>BASSA</td>\n",
       "    </tr>\n",
       "    <tr>\n",
       "      <th>4</th>\n",
       "      <td>97087509F2</td>\n",
       "      <td>None</td>\n",
       "      <td>8994782</td>\n",
       "      <td>SERVIZI DI GEOLOGIA E GEOTECNICA IVI COMPRESA ...</td>\n",
       "      <td>7280.00</td>\n",
       "      <td>1</td>\n",
       "      <td>SERVIZI DI GEOLOGIA E GEOTECNICA IVI COMPRESA ...</td>\n",
       "      <td>7280.0</td>\n",
       "      <td>SERVIZI</td>\n",
       "      <td>ATTIVO</td>\n",
       "      <td>...</td>\n",
       "      <td>L81001230614202200027</td>\n",
       "      <td>0</td>\n",
       "      <td>None</td>\n",
       "      <td>None</td>\n",
       "      <td>None</td>\n",
       "      <td>None</td>\n",
       "      <td>None</td>\n",
       "      <td>None</td>\n",
       "      <td>1</td>\n",
       "      <td>BASSA</td>\n",
       "    </tr>\n",
       "  </tbody>\n",
       "</table>\n",
       "<p>5 rows × 62 columns</p>\n",
       "</div>"
      ],
      "text/plain": [
       "          CIG cig_accordo_quadro numero_gara  \\\n",
       "0  9708946BB0               None     8994956   \n",
       "1  9737176BD2               None     9018691   \n",
       "2  9601726AF2               None     8900928   \n",
       "3  98273612D9               None     9100251   \n",
       "4  97087509F2               None     8994782   \n",
       "\n",
       "                                        oggetto_gara  \\\n",
       "0  SERVIZI DI GEOLOGIA E GEOTECNICA IVI COMPRESA ...   \n",
       "1  PNC - SAGGI PER VERIFICA MURATURA E SCAVI FOND...   \n",
       "2  PROGETTO RIQUALIFICAZIONE ENERGETICA EDIFICI S...   \n",
       "3                  MIGRAZIONE AL CLOUD ANAGRAFE PNRR   \n",
       "4  SERVIZI DI GEOLOGIA E GEOTECNICA IVI COMPRESA ...   \n",
       "\n",
       "   importo_complessivo_gara n_lotti_componenti  \\\n",
       "0                   7280.00                  1   \n",
       "1                   1681.84                  1   \n",
       "2                  36720.87                  1   \n",
       "3                   6264.00                  1   \n",
       "4                   7280.00                  1   \n",
       "\n",
       "                                       oggetto_lotto importo_lotto  \\\n",
       "0  SERVIZI DI GEOLOGIA E GEOTECNICA IVI COMPRESA ...        7280.0   \n",
       "1  PNC - SAGGI PER VERIFICA MURATURA E SCAVI FOND...       1681.84   \n",
       "2  PROGETTO RIQUALIFICAZIONE ENERGETICA EDIFICI S...      36720.87   \n",
       "3                  MIGRAZIONE AL CLOUD ANAGRAFE PNRR        6264.0   \n",
       "4  SERVIZI DI GEOLOGIA E GEOTECNICA IVI COMPRESA ...        7280.0   \n",
       "\n",
       "  oggetto_principale_contratto   stato  ...           CUI_PROGRAMMA  \\\n",
       "0                      SERVIZI  ATTIVO  ...   L81001230614202200006   \n",
       "1                      SERVIZI  ATTIVO  ...                    None   \n",
       "2                      SERVIZI  ATTIVO  ...  9999999999999999999999   \n",
       "3                      SERVIZI  ATTIVO  ...  DEL. CONS.COM.47 /2022   \n",
       "4                      SERVIZI  ATTIVO  ...   L81001230614202200027   \n",
       "\n",
       "  FLAG_PREV_RIPETIZIONI COD_IPOTESI_COLLEGAMENTO IPOTESI_COLLEGAMENTO  \\\n",
       "0                     0                     None                 None   \n",
       "1                     0                     None                 None   \n",
       "2                     0                     None                 None   \n",
       "3                     0                     None                 None   \n",
       "4                     0                     None                 None   \n",
       "\n",
       "  CIG_COLLEGAMENTO COD_ESITO        ESITO DATA_COMUNICAZIONE_ESITO  \\\n",
       "0             None      None         None                     None   \n",
       "1             None       1.0  AGGIUDICATA               2023-04-06   \n",
       "2             None       1.0  AGGIUDICATA               2023-01-19   \n",
       "3             None       1.0  AGGIUDICATA               2023-05-16   \n",
       "4             None      None         None                     None   \n",
       "\n",
       "  FLAG_PNRR_PNC CLASSE_IMPORTO  \n",
       "0             1          BASSA  \n",
       "1             1          BASSA  \n",
       "2             1          BASSA  \n",
       "3             1          BASSA  \n",
       "4             1          BASSA  \n",
       "\n",
       "[5 rows x 62 columns]"
      ]
     },
     "execution_count": 13,
     "metadata": {},
     "output_type": "execute_result"
    }
   ],
   "source": [
    "print(p05.shape)\n",
    "print(p05.columns)\n",
    "p05.head()"
   ]
  },
  {
   "cell_type": "markdown",
   "metadata": {},
   "source": [
    "## Merge dei Dataset \"P0\""
   ]
  },
  {
   "cell_type": "code",
   "execution_count": 14,
   "metadata": {},
   "outputs": [],
   "source": [
    "# missioni e componenti, left join da p02\n",
    "p02 = p02.merge(missions,left_on=\"Missione\", right_on=missions.index, how='inner')\n",
    "p02 = p02.drop_duplicates()\n",
    "p02 = p02.merge(componenti,left_on=\"Componente\", right_on=componenti.index, how='inner')\n",
    "p02 = p02.drop_duplicates()"
   ]
  },
  {
   "cell_type": "code",
   "execution_count": 15,
   "metadata": {},
   "outputs": [
    {
     "data": {
      "text/plain": [
       "Index(['Regione', 'Denominazione sovracomunale', 'Comune',\n",
       "       'Codice Comune Alfanumerico'],\n",
       "      dtype='object')"
      ]
     },
     "execution_count": 15,
     "metadata": {},
     "output_type": "execute_result"
    }
   ],
   "source": [
    "comuni.columns"
   ]
  },
  {
   "cell_type": "code",
   "execution_count": 16,
   "metadata": {},
   "outputs": [
    {
     "data": {
      "text/plain": [
       "Index(['CIG', 'cig_accordo_quadro', 'numero_gara', 'oggetto_gara',\n",
       "       'importo_complessivo_gara', 'n_lotti_componenti', 'oggetto_lotto',\n",
       "       'importo_lotto', 'oggetto_principale_contratto', 'stato', 'settore',\n",
       "       'luogo_istat', 'provincia', 'data_pubblicazione',\n",
       "       'data_scadenza_offerta', 'cod_tipo_scelta_contraente',\n",
       "       'tipo_scelta_contraente', 'cod_modalita_realizzazione',\n",
       "       'modalita_realizzazione', 'codice_ausa',\n",
       "       'cf_amministrazione_appaltante',\n",
       "       'denominazione_amministrazione_appaltante', 'sezione_regionale',\n",
       "       'id_centro_costo', 'denominazione_centro_costo', 'anno_pubblicazione',\n",
       "       'mese_pubblicazione', 'cod_cpv', 'descrizione_cpv', 'flag_prevalente',\n",
       "       'COD_MOTIVO_CANCELLAZIONE', 'MOTIVO_CANCELLAZIONE',\n",
       "       'DATA_CANCELLAZIONE', 'DATA_ULTIMO_PERFEZIONAMENTO',\n",
       "       'COD_MODALITA_INDIZIONE_SPECIALI', 'MODALITA_INDIZIONE_SPECIALI',\n",
       "       'COD_MODALITA_INDIZIONE_SERVIZI', 'MODALITA_INDIZIONE_SERVIZI',\n",
       "       'DURATA_PREVISTA', 'COD_STRUMENTO_SVOLGIMENTO', 'STRUMENTO_SVOLGIMENTO',\n",
       "       'FLAG_URGENZA', 'COD_MOTIVO_URGENZA', 'MOTIVO_URGENZA', 'FLAG_DELEGA',\n",
       "       'FUNZIONI_DELEGATE', 'CF_SA_DELEGANTE', 'DENOMINAZIONE_SA_DELEGANTE',\n",
       "       'CF_SA_DELEGATA', 'DENOMINAZIONE_SA_DELEGATA', 'IMPORTO_SICUREZZA',\n",
       "       'TIPO_APPALTO_RISERVATO', 'CUI_PROGRAMMA', 'FLAG_PREV_RIPETIZIONI',\n",
       "       'COD_IPOTESI_COLLEGAMENTO', 'IPOTESI_COLLEGAMENTO', 'CIG_COLLEGAMENTO',\n",
       "       'COD_ESITO', 'ESITO', 'DATA_COMUNICAZIONE_ESITO', 'FLAG_PNRR_PNC',\n",
       "       'CLASSE_IMPORTO'],\n",
       "      dtype='object')"
      ]
     },
     "execution_count": 16,
     "metadata": {},
     "output_type": "execute_result"
    }
   ],
   "source": [
    "p05.columns"
   ]
  },
  {
   "cell_type": "code",
   "execution_count": 17,
   "metadata": {},
   "outputs": [
    {
     "data": {
      "text/plain": [
       "0         061094\n",
       "1         050039\n",
       "2         068025\n",
       "3         022002\n",
       "4         061094\n",
       "           ...  \n",
       "264197    041028\n",
       "264198    013206\n",
       "264199    041020\n",
       "264200    051016\n",
       "264201    048033\n",
       "Name: luogo_istat, Length: 264202, dtype: object"
      ]
     },
     "execution_count": 17,
     "metadata": {},
     "output_type": "execute_result"
    }
   ],
   "source": [
    "p05['luogo_istat']"
   ]
  },
  {
   "cell_type": "code",
   "execution_count": 18,
   "metadata": {},
   "outputs": [
    {
     "data": {
      "text/plain": [
       "0         1001\n",
       "1         1002\n",
       "2         1003\n",
       "3         1004\n",
       "4         1006\n",
       "         ...  \n",
       "7891    111103\n",
       "7892    111104\n",
       "7893    111105\n",
       "7894    111106\n",
       "7895    111107\n",
       "Name: Codice Comune Alfanumerico, Length: 7896, dtype: object"
      ]
     },
     "execution_count": 18,
     "metadata": {},
     "output_type": "execute_result"
    }
   ],
   "source": [
    "comuni['Codice Comune Alfanumerico'] = comuni['Codice Comune Alfanumerico'].astype(str)\n",
    "comuni['Codice Comune Alfanumerico']"
   ]
  },
  {
   "cell_type": "code",
   "execution_count": 19,
   "metadata": {},
   "outputs": [],
   "source": [
    "# left join p05 con i dati su comuni e denominazioni \n",
    "p05=p05.merge(\n",
    "    comuni,\n",
    "    left_on='luogo_istat', \n",
    "    right_on='Codice Comune Alfanumerico',\n",
    "    how='left'\n",
    ")\n",
    "p05=p05.drop_duplicates()"
   ]
  },
  {
   "cell_type": "code",
   "execution_count": 20,
   "metadata": {},
   "outputs": [
    {
     "name": "stdout",
     "output_type": "stream",
     "text": [
      "(259740, 69)\n"
     ]
    }
   ],
   "source": [
    "# left join p5 e p3\n",
    "leftnew_3 = p05.merge(p03, on='CIG', how='left')\n",
    "leftnew_3 = leftnew_3.drop_duplicates()\n",
    "print(leftnew_3.shape)"
   ]
  },
  {
   "cell_type": "code",
   "execution_count": 21,
   "metadata": {},
   "outputs": [
    {
     "name": "stdout",
     "output_type": "stream",
     "text": [
      "(270148, 74)\n"
     ]
    }
   ],
   "source": [
    "# left join il risultato con p4\n",
    "leftnew_34 = leftnew_3.merge(p04, on='CIG', how='left')\n",
    "leftnew_34 = leftnew_34.drop_duplicates()\n",
    "print(leftnew_34.shape)"
   ]
  },
  {
   "cell_type": "code",
   "execution_count": 22,
   "metadata": {},
   "outputs": [
    {
     "name": "stdout",
     "output_type": "stream",
     "text": [
      "(284972, 75)\n"
     ]
    }
   ],
   "source": [
    "# left join il risultato con p1\n",
    "leftnew_341 = leftnew_34.merge(p01, on='CIG', how='left')\n",
    "leftnew_341 = leftnew_341.drop_duplicates()\n",
    "print(leftnew_341.shape)"
   ]
  },
  {
   "cell_type": "code",
   "execution_count": 23,
   "metadata": {},
   "outputs": [
    {
     "name": "stdout",
     "output_type": "stream",
     "text": [
      "(364104, 130)\n"
     ]
    }
   ],
   "source": [
    "# left join il risultato con p2\n",
    "leftnew_3412 = leftnew_341.merge(p02,how='left',left_on='CUP',right_on='CUP')\n",
    "leftnew_3412 = leftnew_3412.drop_duplicates()\n",
    "print(leftnew_3412.shape)"
   ]
  },
  {
   "cell_type": "code",
   "execution_count": 24,
   "metadata": {},
   "outputs": [],
   "source": [
    "colonne_da_selezionare = [\n",
    "    'CIG', \n",
    "    'CUP',  \n",
    "    'Regione', \n",
    "    'provincia',  \n",
    "    'Comune', \n",
    "    'importo_complessivo_gara', \n",
    "    'CLASSE_IMPORTO', \n",
    "    'Descrizione Missione', \n",
    "    'Missione', \n",
    "    'Componente',  \n",
    "    'cod_mis_premiale', \n",
    "    'misura_premiale', \n",
    "    'CATEGORIA', \n",
    "    'flag_quote', \n",
    "    'quota_femminile', \n",
    "    'quota_giovanile', \n",
    "    'cod_mot_deroga', \n",
    "    'mot_deroga', \n",
    "    'data_pubblicazione', \n",
    "    'anno_pubblicazione', \n",
    "    'FLAG_URGENZA', \n",
    "    'MOTIVO_URGENZA', \n",
    "    'ESITO',\n",
    "    'Codice Univoco Submisura'\n",
    "]"
   ]
  },
  {
   "cell_type": "code",
   "execution_count": 25,
   "metadata": {},
   "outputs": [],
   "source": [
    "master_table = leftnew_3412[colonne_da_selezionare]"
   ]
  },
  {
   "cell_type": "code",
   "execution_count": 26,
   "metadata": {},
   "outputs": [
    {
     "data": {
      "text/plain": [
       "365"
      ]
     },
     "execution_count": 26,
     "metadata": {},
     "output_type": "execute_result"
    }
   ],
   "source": [
    "master_table['Comune'].nunique()"
   ]
  },
  {
   "cell_type": "code",
   "execution_count": 27,
   "metadata": {},
   "outputs": [
    {
     "data": {
      "text/plain": [
       "(364104, 24)"
      ]
     },
     "execution_count": 27,
     "metadata": {},
     "output_type": "execute_result"
    }
   ],
   "source": [
    "master_table.shape"
   ]
  },
  {
   "cell_type": "code",
   "execution_count": 28,
   "metadata": {},
   "outputs": [
    {
     "data": {
      "text/html": [
       "<div>\n",
       "<style scoped>\n",
       "    .dataframe tbody tr th:only-of-type {\n",
       "        vertical-align: middle;\n",
       "    }\n",
       "\n",
       "    .dataframe tbody tr th {\n",
       "        vertical-align: top;\n",
       "    }\n",
       "\n",
       "    .dataframe thead th {\n",
       "        text-align: right;\n",
       "    }\n",
       "</style>\n",
       "<table border=\"1\" class=\"dataframe\">\n",
       "  <thead>\n",
       "    <tr style=\"text-align: right;\">\n",
       "      <th></th>\n",
       "      <th>CIG</th>\n",
       "      <th>CUP</th>\n",
       "      <th>Regione</th>\n",
       "      <th>provincia</th>\n",
       "      <th>Comune</th>\n",
       "      <th>importo_complessivo_gara</th>\n",
       "      <th>CLASSE_IMPORTO</th>\n",
       "      <th>Descrizione Missione</th>\n",
       "      <th>Missione</th>\n",
       "      <th>Componente</th>\n",
       "      <th>...</th>\n",
       "      <th>quota_femminile</th>\n",
       "      <th>quota_giovanile</th>\n",
       "      <th>cod_mot_deroga</th>\n",
       "      <th>mot_deroga</th>\n",
       "      <th>data_pubblicazione</th>\n",
       "      <th>anno_pubblicazione</th>\n",
       "      <th>FLAG_URGENZA</th>\n",
       "      <th>MOTIVO_URGENZA</th>\n",
       "      <th>ESITO</th>\n",
       "      <th>Codice Univoco Submisura</th>\n",
       "    </tr>\n",
       "  </thead>\n",
       "  <tbody>\n",
       "    <tr>\n",
       "      <th>0</th>\n",
       "      <td>9708946BB0</td>\n",
       "      <td>D28I21000110001</td>\n",
       "      <td>NaN</td>\n",
       "      <td>CASERTA</td>\n",
       "      <td>NaN</td>\n",
       "      <td>7280.00</td>\n",
       "      <td>BASSA</td>\n",
       "      <td>Inclusione e coesione</td>\n",
       "      <td>M5</td>\n",
       "      <td>M5C2</td>\n",
       "      <td>...</td>\n",
       "      <td>NaN</td>\n",
       "      <td>NaN</td>\n",
       "      <td>1.0</td>\n",
       "      <td>IMPORTO RIDOTTO DEL CONTRATTO</td>\n",
       "      <td>2023-01-23</td>\n",
       "      <td>2023</td>\n",
       "      <td>0</td>\n",
       "      <td>None</td>\n",
       "      <td>None</td>\n",
       "      <td>M5C2I2.01.00</td>\n",
       "    </tr>\n",
       "    <tr>\n",
       "      <th>1</th>\n",
       "      <td>9708946BB0</td>\n",
       "      <td>D28I21000110001</td>\n",
       "      <td>NaN</td>\n",
       "      <td>CASERTA</td>\n",
       "      <td>NaN</td>\n",
       "      <td>7280.00</td>\n",
       "      <td>BASSA</td>\n",
       "      <td>Inclusione e coesione</td>\n",
       "      <td>M5</td>\n",
       "      <td>M5C2</td>\n",
       "      <td>...</td>\n",
       "      <td>NaN</td>\n",
       "      <td>NaN</td>\n",
       "      <td>6.0</td>\n",
       "      <td>NECESSITÀ DI ESPERIENZA O DI PARTICOLARI ABILI...</td>\n",
       "      <td>2023-01-23</td>\n",
       "      <td>2023</td>\n",
       "      <td>0</td>\n",
       "      <td>None</td>\n",
       "      <td>None</td>\n",
       "      <td>M5C2I2.01.00</td>\n",
       "    </tr>\n",
       "    <tr>\n",
       "      <th>2</th>\n",
       "      <td>9708946BB0</td>\n",
       "      <td>D28I21000110001</td>\n",
       "      <td>NaN</td>\n",
       "      <td>CASERTA</td>\n",
       "      <td>NaN</td>\n",
       "      <td>7280.00</td>\n",
       "      <td>BASSA</td>\n",
       "      <td>Inclusione e coesione</td>\n",
       "      <td>M5</td>\n",
       "      <td>M5C2</td>\n",
       "      <td>...</td>\n",
       "      <td>NaN</td>\n",
       "      <td>NaN</td>\n",
       "      <td>7.0</td>\n",
       "      <td>ASSUNZIONE DI UN NUMERO DI LAVORATORI INFERIOR...</td>\n",
       "      <td>2023-01-23</td>\n",
       "      <td>2023</td>\n",
       "      <td>0</td>\n",
       "      <td>None</td>\n",
       "      <td>None</td>\n",
       "      <td>M5C2I2.01.00</td>\n",
       "    </tr>\n",
       "    <tr>\n",
       "      <th>3</th>\n",
       "      <td>9737176BD2</td>\n",
       "      <td>J91B22000660001</td>\n",
       "      <td>NaN</td>\n",
       "      <td>PISA</td>\n",
       "      <td>NaN</td>\n",
       "      <td>1681.84</td>\n",
       "      <td>BASSA</td>\n",
       "      <td>NaN</td>\n",
       "      <td>NaN</td>\n",
       "      <td>NaN</td>\n",
       "      <td>...</td>\n",
       "      <td>NaN</td>\n",
       "      <td>NaN</td>\n",
       "      <td>1.0</td>\n",
       "      <td>IMPORTO RIDOTTO DEL CONTRATTO</td>\n",
       "      <td>2023-01-17</td>\n",
       "      <td>2023</td>\n",
       "      <td>0</td>\n",
       "      <td>None</td>\n",
       "      <td>AGGIUDICATA</td>\n",
       "      <td>NaN</td>\n",
       "    </tr>\n",
       "    <tr>\n",
       "      <th>4</th>\n",
       "      <td>9601726AF2</td>\n",
       "      <td>E86F22000100001</td>\n",
       "      <td>NaN</td>\n",
       "      <td>PESCARA</td>\n",
       "      <td>NaN</td>\n",
       "      <td>36720.87</td>\n",
       "      <td>BASSA</td>\n",
       "      <td>NaN</td>\n",
       "      <td>NaN</td>\n",
       "      <td>NaN</td>\n",
       "      <td>...</td>\n",
       "      <td>NaN</td>\n",
       "      <td>NaN</td>\n",
       "      <td>8.0</td>\n",
       "      <td>ALTRO</td>\n",
       "      <td>2023-01-13</td>\n",
       "      <td>2023</td>\n",
       "      <td>0</td>\n",
       "      <td>None</td>\n",
       "      <td>AGGIUDICATA</td>\n",
       "      <td>NaN</td>\n",
       "    </tr>\n",
       "  </tbody>\n",
       "</table>\n",
       "<p>5 rows × 24 columns</p>\n",
       "</div>"
      ],
      "text/plain": [
       "          CIG              CUP Regione provincia Comune  \\\n",
       "0  9708946BB0  D28I21000110001     NaN   CASERTA    NaN   \n",
       "1  9708946BB0  D28I21000110001     NaN   CASERTA    NaN   \n",
       "2  9708946BB0  D28I21000110001     NaN   CASERTA    NaN   \n",
       "3  9737176BD2  J91B22000660001     NaN      PISA    NaN   \n",
       "4  9601726AF2  E86F22000100001     NaN   PESCARA    NaN   \n",
       "\n",
       "   importo_complessivo_gara CLASSE_IMPORTO   Descrizione Missione Missione  \\\n",
       "0                   7280.00          BASSA  Inclusione e coesione       M5   \n",
       "1                   7280.00          BASSA  Inclusione e coesione       M5   \n",
       "2                   7280.00          BASSA  Inclusione e coesione       M5   \n",
       "3                   1681.84          BASSA                    NaN      NaN   \n",
       "4                  36720.87          BASSA                    NaN      NaN   \n",
       "\n",
       "  Componente  ...  quota_femminile quota_giovanile cod_mot_deroga  \\\n",
       "0       M5C2  ...              NaN             NaN            1.0   \n",
       "1       M5C2  ...              NaN             NaN            6.0   \n",
       "2       M5C2  ...              NaN             NaN            7.0   \n",
       "3        NaN  ...              NaN             NaN            1.0   \n",
       "4        NaN  ...              NaN             NaN            8.0   \n",
       "\n",
       "                                          mot_deroga  data_pubblicazione  \\\n",
       "0                      IMPORTO RIDOTTO DEL CONTRATTO          2023-01-23   \n",
       "1  NECESSITÀ DI ESPERIENZA O DI PARTICOLARI ABILI...          2023-01-23   \n",
       "2  ASSUNZIONE DI UN NUMERO DI LAVORATORI INFERIOR...          2023-01-23   \n",
       "3                      IMPORTO RIDOTTO DEL CONTRATTO          2023-01-17   \n",
       "4                                              ALTRO          2023-01-13   \n",
       "\n",
       "   anno_pubblicazione  FLAG_URGENZA MOTIVO_URGENZA        ESITO  \\\n",
       "0                2023             0           None         None   \n",
       "1                2023             0           None         None   \n",
       "2                2023             0           None         None   \n",
       "3                2023             0           None  AGGIUDICATA   \n",
       "4                2023             0           None  AGGIUDICATA   \n",
       "\n",
       "  Codice Univoco Submisura  \n",
       "0             M5C2I2.01.00  \n",
       "1             M5C2I2.01.00  \n",
       "2             M5C2I2.01.00  \n",
       "3                      NaN  \n",
       "4                      NaN  \n",
       "\n",
       "[5 rows x 24 columns]"
      ]
     },
     "execution_count": 28,
     "metadata": {},
     "output_type": "execute_result"
    }
   ],
   "source": [
    "master_table.head(5)"
   ]
  },
  {
   "cell_type": "code",
   "execution_count": 30,
   "metadata": {},
   "outputs": [],
   "source": [
    "master_table.to_csv(\"data/updated/master_table_base.csv\", sep=\";\")"
   ]
  }
 ],
 "metadata": {
  "kernelspec": {
   "display_name": "period2",
   "language": "python",
   "name": "python3"
  },
  "language_info": {
   "codemirror_mode": {
    "name": "ipython",
    "version": 3
   },
   "file_extension": ".py",
   "mimetype": "text/x-python",
   "name": "python",
   "nbconvert_exporter": "python",
   "pygments_lexer": "ipython3",
   "version": "3.9.16"
  }
 },
 "nbformat": 4,
 "nbformat_minor": 2
}
