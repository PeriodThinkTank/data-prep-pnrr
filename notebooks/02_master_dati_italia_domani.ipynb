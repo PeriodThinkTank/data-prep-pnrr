{
 "cells": [
  {
   "cell_type": "markdown",
   "metadata": {},
   "source": [
    "# Merge Master Table \n",
    "Notebook di merging della master table (ottenuta nel Notebook 1) con i dataset provenienti da Italia Domani "
   ]
  },
  {
   "cell_type": "code",
   "execution_count": null,
   "metadata": {},
   "outputs": [],
   "source": [
    "import pandas as pd\n",
    "pd.set_option('display.max_columns', None)\n",
    "master_table = pd.read_csv(\"data/updated/master_table_base.csv\", sep=\";\")"
   ]
  },
  {
   "cell_type": "markdown",
   "metadata": {},
   "source": [
    "# Indicatori"
   ]
  },
  {
   "cell_type": "code",
   "execution_count": null,
   "metadata": {},
   "outputs": [],
   "source": [
    "indicators = pd.read_parquet(\"data/updated/indicators.parquet\")\n",
    "\n",
    "master_table_ID = master_table.merge(\n",
    "    indicators,\n",
    "    how='left',\n",
    "    left_on='Codice Univoco Submisura',\n",
    "    right_on='Codice Univoco Submisura'\n",
    ")\n",
    "master_table_ID = master_table_ID.drop_duplicates()\n",
    "print(master_table_ID.shape)"
   ]
  },
  {
   "cell_type": "code",
   "execution_count": null,
   "metadata": {},
   "outputs": [],
   "source": [
    "master_table_ID.columns"
   ]
  },
  {
   "cell_type": "code",
   "execution_count": null,
   "metadata": {},
   "outputs": [],
   "source": [
    "colonne = [\n",
    "    'CIG', \n",
    "    'CUP', \n",
    "    'Regione', \n",
    "    'provincia', \n",
    "    'Comune',\n",
    "    'importo_complessivo_gara', \n",
    "    'CLASSE_IMPORTO', \n",
    "    'Missione_x', \n",
    "    'Descrizione Missione_x',\n",
    "    'Componente_x',\n",
    "    'cod_mis_premiale', \n",
    "    'misura_premiale',\n",
    "    'CATEGORIA', \n",
    "    'flag_quote', \n",
    "    'quota_femminile', \n",
    "    'quota_giovanile',\n",
    "    'cod_mot_deroga', \n",
    "    'mot_deroga', \n",
    "    'data_pubblicazione',\n",
    "    'anno_pubblicazione', \n",
    "    'FLAG_URGENZA', \n",
    "    'MOTIVO_URGENZA', \n",
    "    'ESITO',\n",
    "    'Codice Univoco Submisura', \n",
    "    'Programma',\n",
    "    'Descrizione Componente',\n",
    "    'ID Misura', \n",
    "    'Codice Univoco Misura', \n",
    "    'Descrizione Misura',\n",
    "    'ID Submisura', \n",
    "    'Codice CID', \n",
    "    'Descrizione Submisura',\n",
    "    'Amministrazione Titolare', \n",
    "    'Codice Indicatore',\n",
    "    'Descrizione Indicatore', \n",
    "    'Unità di misura', \n",
    "    'Stock/Flusso'\n",
    "]"
   ]
  },
  {
   "cell_type": "code",
   "execution_count": null,
   "metadata": {},
   "outputs": [],
   "source": [
    "master_table_ID = master_table_ID[colonne]"
   ]
  },
  {
   "cell_type": "code",
   "execution_count": null,
   "metadata": {},
   "outputs": [],
   "source": [
    "master_table_ID.head()"
   ]
  },
  {
   "cell_type": "code",
   "execution_count": null,
   "metadata": {},
   "outputs": [],
   "source": [
    "master_table_ID.to_parquet('data/helpers/master_ID1.parquet')"
   ]
  },
  {
   "cell_type": "markdown",
   "metadata": {},
   "source": [
    "## Indicatori SDG"
   ]
  },
  {
   "cell_type": "code",
   "execution_count": null,
   "metadata": {},
   "outputs": [],
   "source": [
    "import pandas as pd\n",
    "pd.set_option('display.max_columns', None)\n",
    "\n",
    "master_table_ID = pd.read_parquet('data/helpers/master_ID1.parquet')\n",
    "indicatori_sdg = pd.read_parquet(\"data/updated/indicators_sdg.parquet\")\n",
    "\n",
    "master_table_ID = master_table_ID.merge(\n",
    "    indicatori_sdg,\n",
    "    how='left',\n",
    "    left_on='Codice Univoco Submisura',\n",
    "    right_on='COD_SUB_MISURA'\n",
    ")\n",
    "master_table_ID = master_table_ID.drop_duplicates()\n",
    "print(master_table_ID.shape)"
   ]
  },
  {
   "cell_type": "code",
   "execution_count": null,
   "metadata": {},
   "outputs": [],
   "source": [
    "colonne = [\n",
    "    'CIG', \n",
    "    'CUP', \n",
    "    'Regione', \n",
    "    'provincia', \n",
    "    'Comune',\n",
    "    'importo_complessivo_gara', \n",
    "    'CLASSE_IMPORTO', \n",
    "    'Missione_x', \n",
    "    'Descrizione Missione_x',\n",
    "    'Componente_x',\n",
    "    'DES_COMPONENTE',\n",
    "    'cod_mis_premiale', \n",
    "    'misura_premiale',\n",
    "    'CATEGORIA', \n",
    "    'flag_quote', \n",
    "    'quota_femminile', \n",
    "    'quota_giovanile',\n",
    "    'cod_mot_deroga', \n",
    "    'mot_deroga', \n",
    "    'data_pubblicazione',\n",
    "    'anno_pubblicazione', \n",
    "    'FLAG_URGENZA', \n",
    "    'MOTIVO_URGENZA', \n",
    "    'ESITO',\n",
    "    'Codice Univoco Submisura', \n",
    "    'Programma',\n",
    "    'COD_MISURA',\n",
    "    'Codice Univoco Misura', \n",
    "    'DES_MISURA',\n",
    "    'DES_LIVELLO',\n",
    "    'ID Submisura', \n",
    "    'Codice CID', \n",
    "    'Descrizione Submisura',\n",
    "    'Amministrazione Titolare', \n",
    "    'Codice Indicatore',\n",
    "    'Descrizione Indicatore', \n",
    "    'Unità di misura', \n",
    "    'Stock/Flusso',\n",
    "    'IMPORTO',\n",
    "    'DES_INVESTIMENTO',\n",
    "    'DES_PRESTITO',\n",
    "    'DES_AMMINISTRAZIONE',\n",
    "    'PREVALENTE',\n",
    "    'INDICATORE',\n",
    "    'DES_INDICATORE',\n",
    "    'DES_INDAGINE',\n",
    "    'NOTA',\n",
    "    'DES_FONTE',\n",
    "    'DES_UNITA',\n",
    "    'GOAL',\n",
    "    'DES_GOAL',\n",
    "    'TARGET',\n",
    "    'DES_TARGET',\n",
    "    'INDICATOR',\n",
    "    'DES_INDICATOR'\n",
    "]"
   ]
  },
  {
   "cell_type": "code",
   "execution_count": null,
   "metadata": {},
   "outputs": [],
   "source": [
    "master_table_ID = master_table_ID[colonne]\n",
    "master_table_ID.shape"
   ]
  },
  {
   "cell_type": "code",
   "execution_count": null,
   "metadata": {},
   "outputs": [],
   "source": [
    "master_table_ID.head()"
   ]
  },
  {
   "cell_type": "code",
   "execution_count": null,
   "metadata": {},
   "outputs": [],
   "source": [
    "master_table_ID.to_parquet('data/helpers/master_ID2.parquet')"
   ]
  },
  {
   "cell_type": "markdown",
   "metadata": {},
   "source": [
    "## Targets"
   ]
  },
  {
   "cell_type": "code",
   "execution_count": null,
   "metadata": {},
   "outputs": [],
   "source": [
    "import pandas as pd\n",
    "pd.set_option('display.max_columns', None)\n",
    "\n",
    "master_table_ID = pd.read_parquet('data/helpers/master_ID2.parquet')\n",
    "targets = pd.read_parquet(\"data/updated/targets.parquet\")\n",
    "\n",
    "master_table_ID = master_table_ID.merge(\n",
    "    targets,\n",
    "    how='left',\n",
    "    left_on='CUP',\n",
    "    right_on='CUP'\n",
    ")\n",
    "master_table_ID = master_table_ID.drop_duplicates()\n",
    "print(master_table_ID.shape)"
   ]
  },
  {
   "cell_type": "code",
   "execution_count": null,
   "metadata": {},
   "outputs": [],
   "source": [
    "colonne = [\n",
    "    'CIG', \n",
    "    'CUP', \n",
    "    'Regione', \n",
    "    'provincia', \n",
    "    'Comune',\n",
    "    'importo_complessivo_gara', \n",
    "    'CLASSE_IMPORTO', \n",
    "    'Missione_x', \n",
    "    'Descrizione Missione_x',\n",
    "    'Componente_x',\n",
    "    'DES_COMPONENTE',\n",
    "    'cod_mis_premiale', \n",
    "    'misura_premiale',\n",
    "    'CATEGORIA', \n",
    "    'flag_quote', \n",
    "    'quota_femminile', \n",
    "    'quota_giovanile',\n",
    "    'cod_mot_deroga', \n",
    "    'mot_deroga', \n",
    "    'data_pubblicazione',\n",
    "    'anno_pubblicazione', \n",
    "    'FLAG_URGENZA', \n",
    "    'MOTIVO_URGENZA', \n",
    "    'ESITO',\n",
    "    'Codice Univoco Submisura_x', \n",
    "    'Programma',\n",
    "    'COD_MISURA',\n",
    "    'Codice Univoco Misura', \n",
    "    'DES_MISURA',\n",
    "    'DES_LIVELLO',\n",
    "    'ID Submisura', \n",
    "    'Codice CID', \n",
    "    'Descrizione Submisura_x',\n",
    "    'Amministrazione Titolare', \n",
    "    'Codice Indicatore_x',\n",
    "    'Descrizione Indicatore_x', \n",
    "    'Unità di misura', \n",
    "    'Descrizione Unità di Misura',\n",
    "    'Stock/Flusso',\n",
    "    'IMPORTO',\n",
    "    'DES_INVESTIMENTO',\n",
    "    'DES_PRESTITO',\n",
    "    'DES_AMMINISTRAZIONE',\n",
    "    'PREVALENTE',\n",
    "    'INDICATORE',\n",
    "    'DES_INDICATORE',\n",
    "    'DES_INDAGINE',\n",
    "    'NOTA',\n",
    "    'DES_FONTE',\n",
    "    'DES_UNITA',\n",
    "    'GOAL',\n",
    "    'DES_GOAL',\n",
    "    'TARGET',\n",
    "    'DES_TARGET',\n",
    "    'INDICATOR',\n",
    "    'DES_INDICATOR',\n",
    "    'Codice Locale Progetto',\n",
    "    'Valore Programmato',\n",
    "    'Valore Realizzato',\n",
    "    'Mese',\n",
    "    'Anno',\n",
    "    'Data di Aggiornamento'\n",
    "]"
   ]
  },
  {
   "cell_type": "code",
   "execution_count": null,
   "metadata": {},
   "outputs": [],
   "source": [
    "master_table_ID = master_table_ID[colonne]\n",
    "master_table_ID.shape"
   ]
  },
  {
   "cell_type": "code",
   "execution_count": null,
   "metadata": {},
   "outputs": [],
   "source": [
    "master_table_ID.to_parquet('data/helpers/master_ID3.parquet')"
   ]
  },
  {
   "cell_type": "markdown",
   "metadata": {},
   "source": [
    "## Universo Regis "
   ]
  },
  {
   "cell_type": "code",
   "execution_count": null,
   "metadata": {},
   "outputs": [],
   "source": [
    "import pandas as pd\n",
    "pd.set_option('display.max_columns', None)\n",
    "\n",
    "master_table_ID = pd.read_parquet('data/helpers/master_ID3.parquet')\n",
    "indicatori_com_regis = pd.read_parquet(\"data/updated/universo_regis.parquet\")"
   ]
  },
  {
   "cell_type": "code",
   "execution_count": null,
   "metadata": {},
   "outputs": [],
   "source": [
    "master_table_ID.shape"
   ]
  },
  {
   "cell_type": "code",
   "execution_count": null,
   "metadata": {},
   "outputs": [],
   "source": [
    "master_table_ID.columns"
   ]
  },
  {
   "cell_type": "code",
   "execution_count": null,
   "metadata": {},
   "outputs": [],
   "source": [
    "master_table_ID['Codice Indicatore_x']"
   ]
  },
  {
   "cell_type": "code",
   "execution_count": null,
   "metadata": {},
   "outputs": [],
   "source": [
    "master_table_ID['Anno'].isna().sum()"
   ]
  },
  {
   "cell_type": "code",
   "execution_count": null,
   "metadata": {},
   "outputs": [],
   "source": [
    "master_table_ID['CUP'].nunique()"
   ]
  },
  {
   "cell_type": "code",
   "execution_count": null,
   "metadata": {},
   "outputs": [],
   "source": [
    "indicatori_com_regis['CUP'].nunique()"
   ]
  },
  {
   "cell_type": "code",
   "execution_count": null,
   "metadata": {},
   "outputs": [],
   "source": [
    "indicatori_com_regis.shape"
   ]
  },
  {
   "cell_type": "code",
   "execution_count": null,
   "metadata": {},
   "outputs": [],
   "source": [
    "indicatori_com_regis.columns"
   ]
  },
  {
   "cell_type": "code",
   "execution_count": null,
   "metadata": {},
   "outputs": [],
   "source": [
    "indicatori_com_regis['FLG_INDICATORI_GENERE']"
   ]
  },
  {
   "cell_type": "code",
   "execution_count": null,
   "metadata": {},
   "outputs": [],
   "source": [
    "indicatori_com_regis['FLG_INDICATORI_GENERE'].nunique()"
   ]
  },
  {
   "cell_type": "code",
   "execution_count": null,
   "metadata": {},
   "outputs": [],
   "source": [
    "indicatori_com_regis['FLG_INDICATORI_GENERE'].isna().sum()"
   ]
  },
  {
   "cell_type": "code",
   "execution_count": null,
   "metadata": {},
   "outputs": [],
   "source": [
    "indicatori_com_regis.dropna"
   ]
  },
  {
   "cell_type": "code",
   "execution_count": null,
   "metadata": {},
   "outputs": [],
   "source": [
    "cols_to_drop = [\n",
    "    'Codice Univoco Submisura', \n",
    "    'Descrizione Submisura', \n",
    "    'Codice Indicatore', \n",
    "    'Descrizione Indicatore',\n",
    "    'Unità di Misura', \n",
    "    'Descrizione Unità di Misura',\n",
    "    'Descrizione Tipo Indicatore', \n",
    "    'Mese', \n",
    "    'Anno', \n",
    "    'Data di Estrazione'\n",
    "]"
   ]
  },
  {
   "cell_type": "code",
   "execution_count": null,
   "metadata": {},
   "outputs": [],
   "source": [
    "indicatori_com_regis.drop(columns=cols_to_drop, inplace=True)\n",
    "indicatori_com_regis.shape"
   ]
  },
  {
   "cell_type": "code",
   "execution_count": null,
   "metadata": {},
   "outputs": [],
   "source": [
    "master_table_ID = master_table_ID.merge(\n",
    "    indicatori_com_regis,\n",
    "    how='left',\n",
    "    left_on='CUP',\n",
    "    right_on='CUP'\n",
    ")\n",
    "master_table_ID = master_table_ID.drop_duplicates()\n",
    "print(master_table_ID.shape)"
   ]
  },
  {
   "cell_type": "code",
   "execution_count": null,
   "metadata": {},
   "outputs": [],
   "source": [
    "master_table_ID.to_parquet('data/updated/master_ID4.parquet')"
   ]
  }
 ],
 "metadata": {
  "kernelspec": {
   "display_name": "period2",
   "language": "python",
   "name": "python3"
  },
  "language_info": {
   "codemirror_mode": {
    "name": "ipython",
    "version": 3
   },
   "file_extension": ".py",
   "mimetype": "text/x-python",
   "name": "python",
   "nbconvert_exporter": "python",
   "pygments_lexer": "ipython3",
   "version": "3.9.-1"
  }
 },
 "nbformat": 4,
 "nbformat_minor": 2
}
