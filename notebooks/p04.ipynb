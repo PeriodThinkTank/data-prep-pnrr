{
 "cells": [
  {
   "cell_type": "markdown",
   "metadata": {},
   "source": [
    "P04_URL = \"https://dati.anticorruzione.it/opendata/dataset/indicatori-pnrrpnc\"\n",
    "\n",
    "P04_ZIP_URL = \"https://dati.anticorruzione.it/opendata/download/dataset/indicatori-pnrrpnc/filesystem/indicatori-pnrrpnc_csv.zip\""
   ]
  },
  {
   "cell_type": "code",
   "execution_count": 15,
   "metadata": {},
   "outputs": [],
   "source": [
    "import requests\n",
    "from io import BytesIO\n",
    "from zipfile import ZipFile\n",
    "import pandas as pd\n",
    "\n",
    "# Define the URL for dataset P04\n",
    "P04_URL = \"https://dati.anticorruzione.it/opendata/download/dataset/indicatori-pnrrpnc/filesystem/indicatori-pnrrpnc_csv.zip\""
   ]
  },
  {
   "cell_type": "code",
   "execution_count": 16,
   "metadata": {},
   "outputs": [
    {
     "name": "stdout",
     "output_type": "stream",
     "text": [
      "Files in the ZIP: ['indicatori-pnrrpnc_csv.csv']\n"
     ]
    }
   ],
   "source": [
    "# Fetch the ZIP file from the URL\n",
    "response = requests.get(P04_URL)\n",
    "response.raise_for_status()  # Raise an HTTPError for bad responses\n",
    "\n",
    "# Use BytesIO to handle the ZIP file in memory\n",
    "with ZipFile(BytesIO(response.content)) as zip_file:\n",
    "    # List all files in the ZIP to find the correct one\n",
    "    zip_files = zip_file.namelist()\n",
    "    print(\"Files in the ZIP:\", zip_files)\n",
    "    \n",
    "    \n",
    "    csv_filename = [f for f in zip_files if f.endswith('.csv')][0]\n",
    "    with zip_file.open(csv_filename) as file:\n",
    "        df = pd.read_csv(file, sep=\";\", na_values=[\"NA\", \"ND\"])\n",
    "\n",
    "\n"
   ]
  },
  {
   "cell_type": "code",
   "execution_count": 17,
   "metadata": {},
   "outputs": [
    {
     "data": {
      "text/plain": [
       "(11723, 6)"
      ]
     },
     "execution_count": 17,
     "metadata": {},
     "output_type": "execute_result"
    }
   ],
   "source": [
    "df.shape"
   ]
  },
  {
   "cell_type": "code",
   "execution_count": 18,
   "metadata": {},
   "outputs": [
    {
     "data": {
      "text/html": [
       "<div>\n",
       "<style scoped>\n",
       "    .dataframe tbody tr th:only-of-type {\n",
       "        vertical-align: middle;\n",
       "    }\n",
       "\n",
       "    .dataframe tbody tr th {\n",
       "        vertical-align: top;\n",
       "    }\n",
       "\n",
       "    .dataframe thead th {\n",
       "        text-align: right;\n",
       "    }\n",
       "</style>\n",
       "<table border=\"1\" class=\"dataframe\">\n",
       "  <thead>\n",
       "    <tr style=\"text-align: right;\">\n",
       "      <th></th>\n",
       "      <th>cig</th>\n",
       "      <th>flag_quote</th>\n",
       "      <th>quota_femminile</th>\n",
       "      <th>quota_giovanile</th>\n",
       "      <th>cod_mot_deroga</th>\n",
       "      <th>mot_deroga</th>\n",
       "    </tr>\n",
       "  </thead>\n",
       "  <tbody>\n",
       "    <tr>\n",
       "      <th>0</th>\n",
       "      <td>A00C11AB0A</td>\n",
       "      <td>N</td>\n",
       "      <td>NaN</td>\n",
       "      <td>NaN</td>\n",
       "      <td>1</td>\n",
       "      <td>IMPORTO RIDOTTO DEL CONTRATTO</td>\n",
       "    </tr>\n",
       "    <tr>\n",
       "      <th>1</th>\n",
       "      <td>A02C35EDB4</td>\n",
       "      <td>N</td>\n",
       "      <td>NaN</td>\n",
       "      <td>NaN</td>\n",
       "      <td>8</td>\n",
       "      <td>ALTRO</td>\n",
       "    </tr>\n",
       "    <tr>\n",
       "      <th>2</th>\n",
       "      <td>9887941B09</td>\n",
       "      <td>N</td>\n",
       "      <td>NaN</td>\n",
       "      <td>NaN</td>\n",
       "      <td>8</td>\n",
       "      <td>ALTRO</td>\n",
       "    </tr>\n",
       "    <tr>\n",
       "      <th>3</th>\n",
       "      <td>A0464BB8FE</td>\n",
       "      <td>N</td>\n",
       "      <td>NaN</td>\n",
       "      <td>NaN</td>\n",
       "      <td>1</td>\n",
       "      <td>IMPORTO RIDOTTO DEL CONTRATTO</td>\n",
       "    </tr>\n",
       "    <tr>\n",
       "      <th>4</th>\n",
       "      <td>A0464BB8FE</td>\n",
       "      <td>N</td>\n",
       "      <td>NaN</td>\n",
       "      <td>NaN</td>\n",
       "      <td>6</td>\n",
       "      <td>NECESSITÀ DI ESPERIENZA O DI PARTICOLARI ABILI...</td>\n",
       "    </tr>\n",
       "  </tbody>\n",
       "</table>\n",
       "</div>"
      ],
      "text/plain": [
       "          cig flag_quote  quota_femminile  quota_giovanile  cod_mot_deroga  \\\n",
       "0  A00C11AB0A          N              NaN              NaN               1   \n",
       "1  A02C35EDB4          N              NaN              NaN               8   \n",
       "2  9887941B09          N              NaN              NaN               8   \n",
       "3  A0464BB8FE          N              NaN              NaN               1   \n",
       "4  A0464BB8FE          N              NaN              NaN               6   \n",
       "\n",
       "                                          mot_deroga  \n",
       "0                      IMPORTO RIDOTTO DEL CONTRATTO  \n",
       "1                                              ALTRO  \n",
       "2                                              ALTRO  \n",
       "3                      IMPORTO RIDOTTO DEL CONTRATTO  \n",
       "4  NECESSITÀ DI ESPERIENZA O DI PARTICOLARI ABILI...  "
      ]
     },
     "execution_count": 18,
     "metadata": {},
     "output_type": "execute_result"
    }
   ],
   "source": [
    "df.head()\n"
   ]
  }
 ],
 "metadata": {
  "kernelspec": {
   "display_name": "Python 3",
   "language": "python",
   "name": "python3"
  },
  "language_info": {
   "codemirror_mode": {
    "name": "ipython",
    "version": 3
   },
   "file_extension": ".py",
   "mimetype": "text/x-python",
   "name": "python",
   "nbconvert_exporter": "python",
   "pygments_lexer": "ipython3",
   "version": "3.9.13"
  }
 },
 "nbformat": 4,
 "nbformat_minor": 2
}
