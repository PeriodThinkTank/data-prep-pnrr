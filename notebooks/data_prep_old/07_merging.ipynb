{
 "cells": [
  {
   "cell_type": "markdown",
   "metadata": {},
   "source": [
    "Nuovi tentativi di merge a partire da soli ds ANAC"
   ]
  },
  {
   "cell_type": "markdown",
   "metadata": {},
   "source": [
    "Script Borruso\n",
    "- Scarica tutti i csv di delta aggiornamenti di CIG bandi gara (ANAC, 23) zippati, li decomprimere e li converte in gzip così sono accessibili in stream;\n",
    "- Filtra da tutti i file scaricati soltanto quelli con flag PNRR uguale a 1;\n",
    "- Per cig duplicati, prende il più recente;\n",
    "- Fa il merge di tutti i file in uno solo"
   ]
  },
  {
   "cell_type": "markdown",
   "metadata": {},
   "source": [
    "P03 : dataset CIG - MISURE PREMIALI\n",
    "\n",
    "PNEW : dataset CIG - anagrafica CIG [per CIG PNRR, 2023]\n",
    "\n",
    "P04 : dataset CIG - quote/deroghe\n",
    "\n",
    "COMUNI : Istat"
   ]
  },
  {
   "cell_type": "code",
   "execution_count": 1,
   "metadata": {},
   "outputs": [],
   "source": [
    "import pandas as pd\n",
    "import numpy as np "
   ]
  },
  {
   "cell_type": "code",
   "execution_count": 2,
   "metadata": {},
   "outputs": [
    {
     "name": "stderr",
     "output_type": "stream",
     "text": [
      "C:\\Users\\Alessandra\\AppData\\Local\\Temp\\ipykernel_17648\\3709095954.py:2: DtypeWarning: Columns (51) have mixed types. Specify dtype option on import or set low_memory=False.\n",
      "  pnew = pd.read_csv(\"./datasets/pnrr.csv\",delimiter=',',encoding = \"UTF-8\")\n"
     ]
    }
   ],
   "source": [
    "# datasets\n",
    "pnew = pd.read_csv(\"./datasets/pnrr.csv\",delimiter=',',encoding = \"UTF-8\")\n",
    "p03 = pd.read_excel(\"./datasets/p06-p03-p04_formattati.xlsx\", sheet_name=\"misurepremiali-pnrrpnc_csv\")\n",
    "p04 = pd.read_excel(\"./datasets/p06-p03-p04_formattati.xlsx\", sheet_name=\"indicatori-pnrrpnc_csv\")"
   ]
  },
  {
   "cell_type": "code",
   "execution_count": 4,
   "metadata": {},
   "outputs": [],
   "source": [
    "p06 = pd.read_excel(\"./datasets/p06-p03-p04_formattati.xlsx\", sheet_name=\"PNRR_Gare-Dati_Validati\")"
   ]
  },
  {
   "cell_type": "code",
   "execution_count": 3,
   "metadata": {},
   "outputs": [],
   "source": [
    "comuni = pd.read_csv(\"./datasets/Elenco-comuni-italiani.csv\",delimiter=';',encoding = \"ISO-8859-1\")"
   ]
  },
  {
   "cell_type": "code",
   "execution_count": 3,
   "metadata": {},
   "outputs": [],
   "source": [
    "# preprocessing\n",
    "pnew = pnew.rename(columns={'cig':'CIG'})\n",
    "p03 = p03.rename(columns={'cig':'CIG'})\n",
    "p04 = p04.rename(columns={'cig':'CIG'})"
   ]
  },
  {
   "cell_type": "code",
   "execution_count": 12,
   "metadata": {},
   "outputs": [
    {
     "data": {
      "text/plain": [
       "array(['N', 'Q', 'S', nan], dtype=object)"
      ]
     },
     "execution_count": 12,
     "metadata": {},
     "output_type": "execute_result"
    }
   ],
   "source": [
    "p04['flag_quote'].unique()"
   ]
  },
  {
   "cell_type": "code",
   "execution_count": 5,
   "metadata": {},
   "outputs": [
    {
     "data": {
      "text/plain": [
       "177312"
      ]
     },
     "execution_count": 5,
     "metadata": {},
     "output_type": "execute_result"
    }
   ],
   "source": [
    "pnew['CIG'].nunique()"
   ]
  },
  {
   "cell_type": "code",
   "execution_count": 6,
   "metadata": {},
   "outputs": [],
   "source": [
    "entries = pnew['oggetto_gara']\n",
    "pnew_missioni = pnew[pd.Series(entries).str.contains(r'MISSIONE')]"
   ]
  },
  {
   "cell_type": "code",
   "execution_count": 16,
   "metadata": {},
   "outputs": [
    {
     "data": {
      "text/plain": [
       "(15333, 62)"
      ]
     },
     "execution_count": 16,
     "metadata": {},
     "output_type": "execute_result"
    }
   ],
   "source": [
    "pnew_missioni.shape"
   ]
  },
  {
   "cell_type": "markdown",
   "metadata": {},
   "source": [
    "Aggiunta colonne in p03 e pnew di categoria/importo/regione"
   ]
  },
  {
   "cell_type": "markdown",
   "metadata": {},
   "source": [
    "- categoria"
   ]
  },
  {
   "cell_type": "code",
   "execution_count": 7,
   "metadata": {},
   "outputs": [],
   "source": [
    "def conditions(s):\n",
    "    if s['cod_mis_premiale'] in [1,2,9]:\n",
    "        return \"GENERALE\"\n",
    "    elif s['cod_mis_premiale'] in [3,8,12]:\n",
    "        return \"DISABILI\"\n",
    "    elif s['cod_mis_premiale'] in [4,6,10]:\n",
    "        return \"GENERE\"\n",
    "    elif s['cod_mis_premiale'] in [5,7,11]:\n",
    "        return \"ETÀ\"\n",
    "    else:\n",
    "        return 0\n",
    "    \n",
    "p03['CATEGORIA'] = p03.apply(conditions,axis=1)"
   ]
  },
  {
   "cell_type": "markdown",
   "metadata": {},
   "source": [
    "- importo"
   ]
  },
  {
   "cell_type": "code",
   "execution_count": 7,
   "metadata": {},
   "outputs": [],
   "source": [
    "pd.set_option('display.float_format', lambda x: '%.2f' % x)"
   ]
  },
  {
   "cell_type": "code",
   "execution_count": 8,
   "metadata": {},
   "outputs": [],
   "source": [
    "min_importo = pnew['importo_complessivo_gara'].min()\n",
    "max_importo = pnew[\"importo_complessivo_gara\"].max()"
   ]
  },
  {
   "cell_type": "code",
   "execution_count": 9,
   "metadata": {},
   "outputs": [],
   "source": [
    "def map_importo(importo):\n",
    "    if importo <= 100000:\n",
    "        return 'BASSA'\n",
    "    elif importo <= 1000000:\n",
    "        return 'MEDIA'\n",
    "    else:\n",
    "        return 'ALTA'\n",
    "    \n",
    "pnew['CLASSE_IMPORTO'] = pnew['importo_complessivo_gara'].apply(map_importo)"
   ]
  },
  {
   "cell_type": "code",
   "execution_count": 9,
   "metadata": {},
   "outputs": [
    {
     "data": {
      "text/plain": [
       "array(['INTEGRAZIONE ED EVOLUZIONE DEL MODULO GPP CON MPP E MOSS E CANONE MANUTENZIONE INTEGRAZIONE',\n",
       "       'MISURA 1.4.5.SPID PIATTAFORMA NOTIFICHE DIGITALI PNRR M1C1',\n",
       "       \"MISURA 1.4.1 'ESPERIENZA DEL CITTADINO NEI SERVIZI PUBBLICI' \",\n",
       "       ...,\n",
       "       'AFFIDAMENTO LAVORI DI: RIPRISTINO MANTI DI COPERTURA DI EDIFICI SCOLASTICI',\n",
       "       \"AFFIDAMENTO DIRETTO, AI SENSI DELL'ART. 1, COMMA 2, LETT. A) DEL D.LGS. N. 76/2020, CONVERTITO CON MODIFICAZIONI, DALLA L. N.120/2020, PER L'ATTRIBUZIONE DELL'INCARICO DI REDAZIONE DELLA PROGETTAZIONE ESECUTIVA, COORDINAMENTO DELLA SICUREZZA IN FASE DI PROGETTAZIONE ED ESECUZIONE E DIREZIONE LAVORI DELL INTERVENTO PER LA FORNITURA E INSTALLAZIONE DI UNA SECONDA TAC PRESSO IL P.O. 'MAGGIORE - NINO BAGLIERI' DI MODICA\",\n",
       "       'PNRR LABS RIFACIMENTO IMPIANTO ELETTRICO SECONDO NORMA DI LEGGE'],\n",
       "      dtype=object)"
      ]
     },
     "execution_count": 9,
     "metadata": {},
     "output_type": "execute_result"
    }
   ],
   "source": [
    "pnew['oggetto_gara'].unique()"
   ]
  },
  {
   "cell_type": "markdown",
   "metadata": {},
   "source": [
    "- regione"
   ]
  },
  {
   "cell_type": "code",
   "execution_count": 11,
   "metadata": {},
   "outputs": [
    {
     "data": {
      "text/plain": [
       "19494"
      ]
     },
     "execution_count": 11,
     "metadata": {},
     "output_type": "execute_result"
    }
   ],
   "source": [
    "pnew['provincia'].isna().sum() # 19494 CIG senza luogo associato"
   ]
  },
  {
   "cell_type": "code",
   "execution_count": 12,
   "metadata": {},
   "outputs": [],
   "source": [
    "# file istat\n",
    "prov_reg = comuni[['Denominazione Regione','Denominazione dell\\'Unità territoriale sovracomunale \\n(valida a fini statistici)']]"
   ]
  },
  {
   "cell_type": "code",
   "execution_count": 13,
   "metadata": {},
   "outputs": [],
   "source": [
    "prov_reg = prov_reg.rename(columns={'Denominazione dell\\'Unità territoriale sovracomunale \\n(valida a fini statistici)':'Denominazione sovracomunale','Denominazione Regione':'Regione'})"
   ]
  },
  {
   "cell_type": "code",
   "execution_count": 14,
   "metadata": {},
   "outputs": [
    {
     "data": {
      "text/plain": [
       "array(['TORINO', 'VERCELLI', 'NOVARA', 'CUNEO', 'ASTI', 'ALESSANDRIA',\n",
       "       'BIELLA', 'VERBANO-CUSIO-OSSOLA', 'AOSTA', 'VARESE', 'COMO',\n",
       "       'SONDRIO', 'MILANO', 'BERGAMO', 'BRESCIA', 'PAVIA', 'CREMONA',\n",
       "       'MANTOVA', 'LECCO', 'LODI', 'MONZA E DELLA BRIANZA', 'BOLZANO',\n",
       "       'TRENTO', 'VERONA', 'VICENZA', 'BELLUNO', 'TREVISO', 'VENEZIA',\n",
       "       'PADOVA', 'ROVIGO', 'UDINE', 'GORIZIA', 'TRIESTE', 'PORDENONE',\n",
       "       'IMPERIA', 'SAVONA', 'GENOVA', 'LA SPEZIA', 'PIACENZA', 'PARMA',\n",
       "       \"REGGIO NELL'EMILIA\", 'MODENA', 'BOLOGNA', 'FERRARA', 'RAVENNA',\n",
       "       'FORLÌ-CESENA', 'RIMINI', 'MASSA-CARRARA', 'LUCCA', 'PISTOIA',\n",
       "       'FIRENZE', 'LIVORNO', 'PISA', 'AREZZO', 'SIENA', 'GROSSETO',\n",
       "       'PRATO', 'PERUGIA', 'TERNI', 'PESARO E URBINO', 'ANCONA',\n",
       "       'MACERATA', 'ASCOLI PICENO', 'FERMO', 'VITERBO', 'RIETI', 'ROMA',\n",
       "       'LATINA', 'FROSINONE', \"L'AQUILA\", 'TERAMO', 'PESCARA', 'CHIETI',\n",
       "       'CAMPOBASSO', 'ISERNIA', 'CASERTA', 'BENEVENTO', 'NAPOLI',\n",
       "       'AVELLINO', 'SALERNO', 'FOGGIA', 'BARI', 'TARANTO', 'BRINDISI',\n",
       "       'LECCE', 'BARLETTA-ANDRIA-TRANI', 'POTENZA', 'MATERA', 'COSENZA',\n",
       "       'CATANZARO', 'REGGIO CALABRIA', 'CROTONE', 'VIBO VALENTIA',\n",
       "       'TRAPANI', 'PALERMO', 'MESSINA', 'AGRIGENTO', 'CALTANISSETTA',\n",
       "       'ENNA', 'CATANIA', 'RAGUSA', 'SIRACUSA', 'SASSARI', 'NUORO',\n",
       "       'CAGLIARI', 'ORISTANO', 'SUD SARDEGNA'], dtype=object)"
      ]
     },
     "execution_count": 14,
     "metadata": {},
     "output_type": "execute_result"
    }
   ],
   "source": [
    "prov_reg['Denominazione sovracomunale']=prov_reg['Denominazione sovracomunale'].replace(to_replace=r\"Valle d'Aosta/Vallée d'Aoste\", value='Aosta', regex=False)\n",
    "prov_reg['Denominazione sovracomunale']=prov_reg['Denominazione sovracomunale'].replace(to_replace=r\"Bolzano/Bozen\", value='Bolzano',regex=False)\n",
    "prov_reg['Denominazione sovracomunale']=prov_reg['Denominazione sovracomunale'].str.upper()\n",
    "prov_reg['Denominazione sovracomunale'].unique()"
   ]
  },
  {
   "cell_type": "code",
   "execution_count": 15,
   "metadata": {},
   "outputs": [],
   "source": [
    "prov_reg=prov_reg.drop_duplicates()"
   ]
  },
  {
   "cell_type": "code",
   "execution_count": 16,
   "metadata": {},
   "outputs": [],
   "source": [
    "pnew=pnew.merge(prov_reg,left_on='provincia', right_on='Denominazione sovracomunale',how='left')"
   ]
  },
  {
   "cell_type": "code",
   "execution_count": 17,
   "metadata": {},
   "outputs": [
    {
     "data": {
      "text/html": [
       "<div>\n",
       "<style scoped>\n",
       "    .dataframe tbody tr th:only-of-type {\n",
       "        vertical-align: middle;\n",
       "    }\n",
       "\n",
       "    .dataframe tbody tr th {\n",
       "        vertical-align: top;\n",
       "    }\n",
       "\n",
       "    .dataframe thead th {\n",
       "        text-align: right;\n",
       "    }\n",
       "</style>\n",
       "<table border=\"1\" class=\"dataframe\">\n",
       "  <thead>\n",
       "    <tr style=\"text-align: right;\">\n",
       "      <th></th>\n",
       "      <th>CIG</th>\n",
       "      <th>cig_accordo_quadro</th>\n",
       "      <th>numero_gara</th>\n",
       "      <th>oggetto_gara</th>\n",
       "      <th>importo_complessivo_gara</th>\n",
       "      <th>n_lotti_componenti</th>\n",
       "      <th>oggetto_lotto</th>\n",
       "      <th>importo_lotto</th>\n",
       "      <th>oggetto_principale_contratto</th>\n",
       "      <th>stato</th>\n",
       "      <th>...</th>\n",
       "      <th>IPOTESI_COLLEGAMENTO</th>\n",
       "      <th>CIG_COLLEGAMENTO</th>\n",
       "      <th>COD_ESITO</th>\n",
       "      <th>ESITO</th>\n",
       "      <th>DATA_COMUNICAZIONE_ESITO</th>\n",
       "      <th>FLAG_PNRR_PNC</th>\n",
       "      <th>file</th>\n",
       "      <th>CLASSE_IMPORTO</th>\n",
       "      <th>Regione</th>\n",
       "      <th>Denominazione sovracomunale</th>\n",
       "    </tr>\n",
       "  </thead>\n",
       "  <tbody>\n",
       "    <tr>\n",
       "      <th>0</th>\n",
       "      <td>94965511CD</td>\n",
       "      <td>NaN</td>\n",
       "      <td>8803480</td>\n",
       "      <td>INTEGRAZIONE ED EVOLUZIONE DEL MODULO GPP CON ...</td>\n",
       "      <td>135244.23</td>\n",
       "      <td>1.00</td>\n",
       "      <td>INTEGRAZIONE ED EVOLUZIONE DEL MODULO GPP CON ...</td>\n",
       "      <td>135244.23</td>\n",
       "      <td>SERVIZI</td>\n",
       "      <td>ATTIVO</td>\n",
       "      <td>...</td>\n",
       "      <td>NaN</td>\n",
       "      <td>NaN</td>\n",
       "      <td>NaN</td>\n",
       "      <td>NaN</td>\n",
       "      <td>NaN</td>\n",
       "      <td>1</td>\n",
       "      <td>20231101-cig_csv.gz</td>\n",
       "      <td>MEDIA</td>\n",
       "      <td>NaN</td>\n",
       "      <td>NaN</td>\n",
       "    </tr>\n",
       "    <tr>\n",
       "      <th>1</th>\n",
       "      <td>9719455BFD</td>\n",
       "      <td>NaN</td>\n",
       "      <td>9003805</td>\n",
       "      <td>MISURA 1.4.5.SPID PIATTAFORMA NOTIFICHE DIGITA...</td>\n",
       "      <td>18972.95</td>\n",
       "      <td>1.00</td>\n",
       "      <td>MISURA 1.4.5.SPID PIATTAFORMA NOTIFICHE DIGITA...</td>\n",
       "      <td>18972.95</td>\n",
       "      <td>SERVIZI</td>\n",
       "      <td>ATTIVO</td>\n",
       "      <td>...</td>\n",
       "      <td>NaN</td>\n",
       "      <td>NaN</td>\n",
       "      <td>NaN</td>\n",
       "      <td>NaN</td>\n",
       "      <td>NaN</td>\n",
       "      <td>1</td>\n",
       "      <td>20231101-cig_csv.gz</td>\n",
       "      <td>BASSA</td>\n",
       "      <td>Sicilia</td>\n",
       "      <td>MESSINA</td>\n",
       "    </tr>\n",
       "    <tr>\n",
       "      <th>2</th>\n",
       "      <td>9576444B94</td>\n",
       "      <td>NaN</td>\n",
       "      <td>8878071</td>\n",
       "      <td>MISURA 1.4.1 'ESPERIENZA DEL CITTADINO NEI SER...</td>\n",
       "      <td>243287.16</td>\n",
       "      <td>1.00</td>\n",
       "      <td>MISURA 1.4.1 'ESPERIENZA DEL CITTADINO NEI SER...</td>\n",
       "      <td>243287.16</td>\n",
       "      <td>SERVIZI</td>\n",
       "      <td>ATTIVO</td>\n",
       "      <td>...</td>\n",
       "      <td>NaN</td>\n",
       "      <td>NaN</td>\n",
       "      <td>7.00</td>\n",
       "      <td>ANNULLATA/REVOCATA DOPO L'APERTURA DELLE BUSTE...</td>\n",
       "      <td>2023-04-04</td>\n",
       "      <td>1</td>\n",
       "      <td>20231101-cig_csv.gz</td>\n",
       "      <td>MEDIA</td>\n",
       "      <td>Sicilia</td>\n",
       "      <td>MESSINA</td>\n",
       "    </tr>\n",
       "    <tr>\n",
       "      <th>3</th>\n",
       "      <td>9583207896</td>\n",
       "      <td>NaN</td>\n",
       "      <td>8884263</td>\n",
       "      <td>PROCEDURA APERTA DA ESPLETARSI IN MANIERA TELE...</td>\n",
       "      <td>287648.76</td>\n",
       "      <td>1.00</td>\n",
       "      <td>PROCEDURA APERTA DA ESPLETARSI IN MANIERA TELE...</td>\n",
       "      <td>287648.76</td>\n",
       "      <td>SERVIZI</td>\n",
       "      <td>ATTIVO</td>\n",
       "      <td>...</td>\n",
       "      <td>NaN</td>\n",
       "      <td>NaN</td>\n",
       "      <td>NaN</td>\n",
       "      <td>NaN</td>\n",
       "      <td>NaN</td>\n",
       "      <td>1</td>\n",
       "      <td>20231101-cig_csv.gz</td>\n",
       "      <td>MEDIA</td>\n",
       "      <td>Puglia</td>\n",
       "      <td>TARANTO</td>\n",
       "    </tr>\n",
       "    <tr>\n",
       "      <th>4</th>\n",
       "      <td>9469637FA6</td>\n",
       "      <td>NaN</td>\n",
       "      <td>8779273</td>\n",
       "      <td>PON LABORATORI GREEN, SOSTENIBILI E INNOVATIVI...</td>\n",
       "      <td>4500.00</td>\n",
       "      <td>1.00</td>\n",
       "      <td>PON LABORATORI GREEN, SOSTENIBILI E INNOVATIVI...</td>\n",
       "      <td>4500.00</td>\n",
       "      <td>FORNITURE</td>\n",
       "      <td>ATTIVO</td>\n",
       "      <td>...</td>\n",
       "      <td>NaN</td>\n",
       "      <td>NaN</td>\n",
       "      <td>NaN</td>\n",
       "      <td>NaN</td>\n",
       "      <td>NaN</td>\n",
       "      <td>1</td>\n",
       "      <td>20231101-cig_csv.gz</td>\n",
       "      <td>BASSA</td>\n",
       "      <td>NaN</td>\n",
       "      <td>NaN</td>\n",
       "    </tr>\n",
       "    <tr>\n",
       "      <th>...</th>\n",
       "      <td>...</td>\n",
       "      <td>...</td>\n",
       "      <td>...</td>\n",
       "      <td>...</td>\n",
       "      <td>...</td>\n",
       "      <td>...</td>\n",
       "      <td>...</td>\n",
       "      <td>...</td>\n",
       "      <td>...</td>\n",
       "      <td>...</td>\n",
       "      <td>...</td>\n",
       "      <td>...</td>\n",
       "      <td>...</td>\n",
       "      <td>...</td>\n",
       "      <td>...</td>\n",
       "      <td>...</td>\n",
       "      <td>...</td>\n",
       "      <td>...</td>\n",
       "      <td>...</td>\n",
       "      <td>...</td>\n",
       "      <td>...</td>\n",
       "    </tr>\n",
       "    <tr>\n",
       "      <th>177307</th>\n",
       "      <td>94455244FC</td>\n",
       "      <td>NaN</td>\n",
       "      <td>8757718</td>\n",
       "      <td>ESPERIENZA DEL CITTADINO NEI SERVIZI PUBBLICI</td>\n",
       "      <td>79922.00</td>\n",
       "      <td>2.00</td>\n",
       "      <td>ESPERIENZA DEL CITTADINO NEI SERVIZI PUBBLICI ...</td>\n",
       "      <td>30922.00</td>\n",
       "      <td>SERVIZI</td>\n",
       "      <td>ATTIVO</td>\n",
       "      <td>...</td>\n",
       "      <td>NaN</td>\n",
       "      <td>NaN</td>\n",
       "      <td>NaN</td>\n",
       "      <td>NaN</td>\n",
       "      <td>NaN</td>\n",
       "      <td>1</td>\n",
       "      <td>20231101-cig_csv.gz</td>\n",
       "      <td>BASSA</td>\n",
       "      <td>Veneto</td>\n",
       "      <td>VERONA</td>\n",
       "    </tr>\n",
       "    <tr>\n",
       "      <th>177308</th>\n",
       "      <td>A00B0BA7B2</td>\n",
       "      <td>NaN</td>\n",
       "      <td>9301932</td>\n",
       "      <td>ABILITAZIONE AL CLOUD PER LE PA LOCALI' SCUOLE...</td>\n",
       "      <td>3626.23</td>\n",
       "      <td>1.00</td>\n",
       "      <td>ABILITAZIONE AL CLOUD PER LE PA LOCALI' SCUOLE...</td>\n",
       "      <td>3626.23</td>\n",
       "      <td>SERVIZI</td>\n",
       "      <td>ATTIVO</td>\n",
       "      <td>...</td>\n",
       "      <td>NaN</td>\n",
       "      <td>NaN</td>\n",
       "      <td>NaN</td>\n",
       "      <td>NaN</td>\n",
       "      <td>NaN</td>\n",
       "      <td>1</td>\n",
       "      <td>20231101-cig_csv.gz</td>\n",
       "      <td>BASSA</td>\n",
       "      <td>Toscana</td>\n",
       "      <td>LUCCA</td>\n",
       "    </tr>\n",
       "    <tr>\n",
       "      <th>177309</th>\n",
       "      <td>A0173FA7CC</td>\n",
       "      <td>NaN</td>\n",
       "      <td>9345564</td>\n",
       "      <td>AFFIDAMENTO LAVORI DI: RIPRISTINO MANTI DI COP...</td>\n",
       "      <td>130366.07</td>\n",
       "      <td>1.00</td>\n",
       "      <td>AFFIDAMENTO LAVORI DI: 'RIPRISTINO MANTI DI CO...</td>\n",
       "      <td>130366.07</td>\n",
       "      <td>LAVORI</td>\n",
       "      <td>ATTIVO</td>\n",
       "      <td>...</td>\n",
       "      <td>NaN</td>\n",
       "      <td>NaN</td>\n",
       "      <td>NaN</td>\n",
       "      <td>NaN</td>\n",
       "      <td>NaN</td>\n",
       "      <td>1</td>\n",
       "      <td>20231101-cig_csv.gz</td>\n",
       "      <td>MEDIA</td>\n",
       "      <td>Campania</td>\n",
       "      <td>NAPOLI</td>\n",
       "    </tr>\n",
       "    <tr>\n",
       "      <th>177310</th>\n",
       "      <td>9998983DCA</td>\n",
       "      <td>NaN</td>\n",
       "      <td>9258977</td>\n",
       "      <td>AFFIDAMENTO DIRETTO, AI SENSI DELL'ART. 1, COM...</td>\n",
       "      <td>21034.21</td>\n",
       "      <td>1.00</td>\n",
       "      <td>AFFIDAMENTO DIRETTO, AI SENSI DELL'ART. 1, COM...</td>\n",
       "      <td>21034.21</td>\n",
       "      <td>SERVIZI</td>\n",
       "      <td>ATTIVO</td>\n",
       "      <td>...</td>\n",
       "      <td>NaN</td>\n",
       "      <td>NaN</td>\n",
       "      <td>NaN</td>\n",
       "      <td>NaN</td>\n",
       "      <td>NaN</td>\n",
       "      <td>1</td>\n",
       "      <td>20231101-cig_csv.gz</td>\n",
       "      <td>BASSA</td>\n",
       "      <td>Sicilia</td>\n",
       "      <td>RAGUSA</td>\n",
       "    </tr>\n",
       "    <tr>\n",
       "      <th>177311</th>\n",
       "      <td>998232070E</td>\n",
       "      <td>NaN</td>\n",
       "      <td>9243076</td>\n",
       "      <td>PNRR LABS RIFACIMENTO IMPIANTO ELETTRICO SECON...</td>\n",
       "      <td>8176.00</td>\n",
       "      <td>1.00</td>\n",
       "      <td>PNRR LABS RIFACIMENTO IMPIANTO ELETTRICO SECON...</td>\n",
       "      <td>8176.00</td>\n",
       "      <td>SERVIZI</td>\n",
       "      <td>ATTIVO</td>\n",
       "      <td>...</td>\n",
       "      <td>NaN</td>\n",
       "      <td>NaN</td>\n",
       "      <td>NaN</td>\n",
       "      <td>NaN</td>\n",
       "      <td>NaN</td>\n",
       "      <td>1</td>\n",
       "      <td>20231101-cig_csv.gz</td>\n",
       "      <td>BASSA</td>\n",
       "      <td>Marche</td>\n",
       "      <td>PESARO E URBINO</td>\n",
       "    </tr>\n",
       "  </tbody>\n",
       "</table>\n",
       "<p>177312 rows × 65 columns</p>\n",
       "</div>"
      ],
      "text/plain": [
       "               CIG cig_accordo_quadro  numero_gara  \\\n",
       "0       94965511CD                NaN      8803480   \n",
       "1       9719455BFD                NaN      9003805   \n",
       "2       9576444B94                NaN      8878071   \n",
       "3       9583207896                NaN      8884263   \n",
       "4       9469637FA6                NaN      8779273   \n",
       "...            ...                ...          ...   \n",
       "177307  94455244FC                NaN      8757718   \n",
       "177308  A00B0BA7B2                NaN      9301932   \n",
       "177309  A0173FA7CC                NaN      9345564   \n",
       "177310  9998983DCA                NaN      9258977   \n",
       "177311  998232070E                NaN      9243076   \n",
       "\n",
       "                                             oggetto_gara  \\\n",
       "0       INTEGRAZIONE ED EVOLUZIONE DEL MODULO GPP CON ...   \n",
       "1       MISURA 1.4.5.SPID PIATTAFORMA NOTIFICHE DIGITA...   \n",
       "2       MISURA 1.4.1 'ESPERIENZA DEL CITTADINO NEI SER...   \n",
       "3       PROCEDURA APERTA DA ESPLETARSI IN MANIERA TELE...   \n",
       "4       PON LABORATORI GREEN, SOSTENIBILI E INNOVATIVI...   \n",
       "...                                                   ...   \n",
       "177307      ESPERIENZA DEL CITTADINO NEI SERVIZI PUBBLICI   \n",
       "177308  ABILITAZIONE AL CLOUD PER LE PA LOCALI' SCUOLE...   \n",
       "177309  AFFIDAMENTO LAVORI DI: RIPRISTINO MANTI DI COP...   \n",
       "177310  AFFIDAMENTO DIRETTO, AI SENSI DELL'ART. 1, COM...   \n",
       "177311  PNRR LABS RIFACIMENTO IMPIANTO ELETTRICO SECON...   \n",
       "\n",
       "        importo_complessivo_gara  n_lotti_componenti  \\\n",
       "0                      135244.23                1.00   \n",
       "1                       18972.95                1.00   \n",
       "2                      243287.16                1.00   \n",
       "3                      287648.76                1.00   \n",
       "4                        4500.00                1.00   \n",
       "...                          ...                 ...   \n",
       "177307                  79922.00                2.00   \n",
       "177308                   3626.23                1.00   \n",
       "177309                 130366.07                1.00   \n",
       "177310                  21034.21                1.00   \n",
       "177311                   8176.00                1.00   \n",
       "\n",
       "                                            oggetto_lotto  importo_lotto  \\\n",
       "0       INTEGRAZIONE ED EVOLUZIONE DEL MODULO GPP CON ...      135244.23   \n",
       "1       MISURA 1.4.5.SPID PIATTAFORMA NOTIFICHE DIGITA...       18972.95   \n",
       "2       MISURA 1.4.1 'ESPERIENZA DEL CITTADINO NEI SER...      243287.16   \n",
       "3       PROCEDURA APERTA DA ESPLETARSI IN MANIERA TELE...      287648.76   \n",
       "4       PON LABORATORI GREEN, SOSTENIBILI E INNOVATIVI...        4500.00   \n",
       "...                                                   ...            ...   \n",
       "177307  ESPERIENZA DEL CITTADINO NEI SERVIZI PUBBLICI ...       30922.00   \n",
       "177308  ABILITAZIONE AL CLOUD PER LE PA LOCALI' SCUOLE...        3626.23   \n",
       "177309  AFFIDAMENTO LAVORI DI: 'RIPRISTINO MANTI DI CO...      130366.07   \n",
       "177310  AFFIDAMENTO DIRETTO, AI SENSI DELL'ART. 1, COM...       21034.21   \n",
       "177311  PNRR LABS RIFACIMENTO IMPIANTO ELETTRICO SECON...        8176.00   \n",
       "\n",
       "       oggetto_principale_contratto   stato  ... IPOTESI_COLLEGAMENTO  \\\n",
       "0                           SERVIZI  ATTIVO  ...                  NaN   \n",
       "1                           SERVIZI  ATTIVO  ...                  NaN   \n",
       "2                           SERVIZI  ATTIVO  ...                  NaN   \n",
       "3                           SERVIZI  ATTIVO  ...                  NaN   \n",
       "4                         FORNITURE  ATTIVO  ...                  NaN   \n",
       "...                             ...     ...  ...                  ...   \n",
       "177307                      SERVIZI  ATTIVO  ...                  NaN   \n",
       "177308                      SERVIZI  ATTIVO  ...                  NaN   \n",
       "177309                       LAVORI  ATTIVO  ...                  NaN   \n",
       "177310                      SERVIZI  ATTIVO  ...                  NaN   \n",
       "177311                      SERVIZI  ATTIVO  ...                  NaN   \n",
       "\n",
       "        CIG_COLLEGAMENTO COD_ESITO  \\\n",
       "0                    NaN       NaN   \n",
       "1                    NaN       NaN   \n",
       "2                    NaN      7.00   \n",
       "3                    NaN       NaN   \n",
       "4                    NaN       NaN   \n",
       "...                  ...       ...   \n",
       "177307               NaN       NaN   \n",
       "177308               NaN       NaN   \n",
       "177309               NaN       NaN   \n",
       "177310               NaN       NaN   \n",
       "177311               NaN       NaN   \n",
       "\n",
       "                                                    ESITO  \\\n",
       "0                                                     NaN   \n",
       "1                                                     NaN   \n",
       "2       ANNULLATA/REVOCATA DOPO L'APERTURA DELLE BUSTE...   \n",
       "3                                                     NaN   \n",
       "4                                                     NaN   \n",
       "...                                                   ...   \n",
       "177307                                                NaN   \n",
       "177308                                                NaN   \n",
       "177309                                                NaN   \n",
       "177310                                                NaN   \n",
       "177311                                                NaN   \n",
       "\n",
       "       DATA_COMUNICAZIONE_ESITO  FLAG_PNRR_PNC                 file  \\\n",
       "0                           NaN              1  20231101-cig_csv.gz   \n",
       "1                           NaN              1  20231101-cig_csv.gz   \n",
       "2                    2023-04-04              1  20231101-cig_csv.gz   \n",
       "3                           NaN              1  20231101-cig_csv.gz   \n",
       "4                           NaN              1  20231101-cig_csv.gz   \n",
       "...                         ...            ...                  ...   \n",
       "177307                      NaN              1  20231101-cig_csv.gz   \n",
       "177308                      NaN              1  20231101-cig_csv.gz   \n",
       "177309                      NaN              1  20231101-cig_csv.gz   \n",
       "177310                      NaN              1  20231101-cig_csv.gz   \n",
       "177311                      NaN              1  20231101-cig_csv.gz   \n",
       "\n",
       "        CLASSE_IMPORTO   Regione  Denominazione sovracomunale  \n",
       "0                MEDIA       NaN                          NaN  \n",
       "1                BASSA   Sicilia                      MESSINA  \n",
       "2                MEDIA   Sicilia                      MESSINA  \n",
       "3                MEDIA    Puglia                      TARANTO  \n",
       "4                BASSA       NaN                          NaN  \n",
       "...                ...       ...                          ...  \n",
       "177307           BASSA    Veneto                       VERONA  \n",
       "177308           BASSA   Toscana                        LUCCA  \n",
       "177309           MEDIA  Campania                       NAPOLI  \n",
       "177310           BASSA   Sicilia                       RAGUSA  \n",
       "177311           BASSA    Marche              PESARO E URBINO  \n",
       "\n",
       "[177312 rows x 65 columns]"
      ]
     },
     "execution_count": 17,
     "metadata": {},
     "output_type": "execute_result"
    }
   ],
   "source": [
    "pnew"
   ]
  },
  {
   "cell_type": "markdown",
   "metadata": {},
   "source": [
    "- missione"
   ]
  },
  {
   "cell_type": "code",
   "execution_count": null,
   "metadata": {},
   "outputs": [],
   "source": [
    "\"\"\"rdc = testo.lower().find(\"reddito di cittadinanza\")\n",
    "        pre = testo[:rdc]\n",
    "        end = testo.find(\". \",rdc)\n",
    "        paragraph = testo[pre.rfind(\". \")+2: end+2]\"\"\""
   ]
  },
  {
   "cell_type": "markdown",
   "metadata": {},
   "source": [
    "Joins"
   ]
  },
  {
   "cell_type": "code",
   "execution_count": 18,
   "metadata": {},
   "outputs": [],
   "source": [
    "# inner join p3 e pNEW\n",
    "innerNEW_3 = p03.merge(pnew, on='CIG',how='inner')"
   ]
  },
  {
   "cell_type": "code",
   "execution_count": 19,
   "metadata": {},
   "outputs": [],
   "source": [
    "# inner join p4 e pNEW\n",
    "innerNEW_4 = p04.merge(pnew, on='CIG',how='inner')"
   ]
  },
  {
   "cell_type": "code",
   "execution_count": 24,
   "metadata": {},
   "outputs": [
    {
     "data": {
      "text/plain": [
       "178550"
      ]
     },
     "execution_count": 24,
     "metadata": {},
     "output_type": "execute_result"
    }
   ],
   "source": [
    "p04['CIG'].nunique()\n",
    "#p03['CIG'].nunique()"
   ]
  },
  {
   "cell_type": "code",
   "execution_count": 160,
   "metadata": {},
   "outputs": [],
   "source": [
    "# left join pNEW e p3\n",
    "leftnew_3 = pnew.merge(p03, on='CIG',how='left')"
   ]
  },
  {
   "cell_type": "code",
   "execution_count": 161,
   "metadata": {},
   "outputs": [],
   "source": [
    "leftnew_3=leftnew_3.drop_duplicates()\n",
    "# left join il risultato con p4\n",
    "leftnew_34 = leftnew_3.merge(p04, on='CIG',how='left')"
   ]
  },
  {
   "cell_type": "code",
   "execution_count": 166,
   "metadata": {},
   "outputs": [],
   "source": [
    "leftnew_34=leftnew_34.drop_duplicates()"
   ]
  },
  {
   "cell_type": "code",
   "execution_count": 167,
   "metadata": {},
   "outputs": [
    {
     "data": {
      "text/plain": [
       "177312"
      ]
     },
     "execution_count": 167,
     "metadata": {},
     "output_type": "execute_result"
    }
   ],
   "source": [
    "leftnew_34['CIG'].nunique()"
   ]
  },
  {
   "cell_type": "code",
   "execution_count": 168,
   "metadata": {},
   "outputs": [
    {
     "name": "stderr",
     "output_type": "stream",
     "text": [
      "C:\\Users\\Alessandra\\AppData\\Local\\Temp\\ipykernel_17720\\2854529410.py:2: DtypeWarning: Columns (51) have mixed types. Specify dtype option on import or set low_memory=False.\n",
      "  pd.read_csv(\"CIG_prem_deroghe.csv\", sep=';')\n"
     ]
    },
    {
     "data": {
      "text/html": [
       "<div>\n",
       "<style scoped>\n",
       "    .dataframe tbody tr th:only-of-type {\n",
       "        vertical-align: middle;\n",
       "    }\n",
       "\n",
       "    .dataframe tbody tr th {\n",
       "        vertical-align: top;\n",
       "    }\n",
       "\n",
       "    .dataframe thead th {\n",
       "        text-align: right;\n",
       "    }\n",
       "</style>\n",
       "<table border=\"1\" class=\"dataframe\">\n",
       "  <thead>\n",
       "    <tr style=\"text-align: right;\">\n",
       "      <th></th>\n",
       "      <th>CIG</th>\n",
       "      <th>cig_accordo_quadro</th>\n",
       "      <th>numero_gara</th>\n",
       "      <th>oggetto_gara</th>\n",
       "      <th>importo_complessivo_gara</th>\n",
       "      <th>n_lotti_componenti</th>\n",
       "      <th>oggetto_lotto</th>\n",
       "      <th>importo_lotto</th>\n",
       "      <th>oggetto_principale_contratto</th>\n",
       "      <th>stato</th>\n",
       "      <th>...</th>\n",
       "      <th>Regione</th>\n",
       "      <th>Denominazione sovracomunale</th>\n",
       "      <th>cod_mis_premiale</th>\n",
       "      <th>misura_premiale</th>\n",
       "      <th>CATEGORIA</th>\n",
       "      <th>flag_quote</th>\n",
       "      <th>quota_femminile</th>\n",
       "      <th>quota_giovanile</th>\n",
       "      <th>cod_mot_deroga</th>\n",
       "      <th>mot_deroga</th>\n",
       "    </tr>\n",
       "  </thead>\n",
       "  <tbody>\n",
       "    <tr>\n",
       "      <th>0</th>\n",
       "      <td>94965511CD</td>\n",
       "      <td>NaN</td>\n",
       "      <td>8803480</td>\n",
       "      <td>INTEGRAZIONE ED EVOLUZIONE DEL MODULO GPP CON ...</td>\n",
       "      <td>135244.23</td>\n",
       "      <td>1.00</td>\n",
       "      <td>INTEGRAZIONE ED EVOLUZIONE DEL MODULO GPP CON ...</td>\n",
       "      <td>135244.23</td>\n",
       "      <td>SERVIZI</td>\n",
       "      <td>ATTIVO</td>\n",
       "      <td>...</td>\n",
       "      <td>NaN</td>\n",
       "      <td>NaN</td>\n",
       "      <td>NaN</td>\n",
       "      <td>NaN</td>\n",
       "      <td>NaN</td>\n",
       "      <td>S</td>\n",
       "      <td>NaN</td>\n",
       "      <td>NaN</td>\n",
       "      <td>NaN</td>\n",
       "      <td>NaN</td>\n",
       "    </tr>\n",
       "    <tr>\n",
       "      <th>1</th>\n",
       "      <td>9719455BFD</td>\n",
       "      <td>NaN</td>\n",
       "      <td>9003805</td>\n",
       "      <td>MISURA 1.4.5.SPID PIATTAFORMA NOTIFICHE DIGITA...</td>\n",
       "      <td>18972.95</td>\n",
       "      <td>1.00</td>\n",
       "      <td>MISURA 1.4.5.SPID PIATTAFORMA NOTIFICHE DIGITA...</td>\n",
       "      <td>18972.95</td>\n",
       "      <td>SERVIZI</td>\n",
       "      <td>ATTIVO</td>\n",
       "      <td>...</td>\n",
       "      <td>Sicilia</td>\n",
       "      <td>MESSINA</td>\n",
       "      <td>NaN</td>\n",
       "      <td>NaN</td>\n",
       "      <td>NaN</td>\n",
       "      <td>N</td>\n",
       "      <td>NaN</td>\n",
       "      <td>NaN</td>\n",
       "      <td>1.00</td>\n",
       "      <td>IMPORTO RIDOTTO DEL CONTRATTO</td>\n",
       "    </tr>\n",
       "    <tr>\n",
       "      <th>2</th>\n",
       "      <td>9576444B94</td>\n",
       "      <td>NaN</td>\n",
       "      <td>8878071</td>\n",
       "      <td>MISURA 1.4.1 'ESPERIENZA DEL CITTADINO NEI SER...</td>\n",
       "      <td>243287.16</td>\n",
       "      <td>1.00</td>\n",
       "      <td>MISURA 1.4.1 'ESPERIENZA DEL CITTADINO NEI SER...</td>\n",
       "      <td>243287.16</td>\n",
       "      <td>SERVIZI</td>\n",
       "      <td>ATTIVO</td>\n",
       "      <td>...</td>\n",
       "      <td>Sicilia</td>\n",
       "      <td>MESSINA</td>\n",
       "      <td>NaN</td>\n",
       "      <td>NaN</td>\n",
       "      <td>NaN</td>\n",
       "      <td>S</td>\n",
       "      <td>NaN</td>\n",
       "      <td>NaN</td>\n",
       "      <td>NaN</td>\n",
       "      <td>NaN</td>\n",
       "    </tr>\n",
       "    <tr>\n",
       "      <th>3</th>\n",
       "      <td>9583207896</td>\n",
       "      <td>NaN</td>\n",
       "      <td>8884263</td>\n",
       "      <td>PROCEDURA APERTA DA ESPLETARSI IN MANIERA TELE...</td>\n",
       "      <td>287648.76</td>\n",
       "      <td>1.00</td>\n",
       "      <td>PROCEDURA APERTA DA ESPLETARSI IN MANIERA TELE...</td>\n",
       "      <td>287648.76</td>\n",
       "      <td>SERVIZI</td>\n",
       "      <td>ATTIVO</td>\n",
       "      <td>...</td>\n",
       "      <td>Puglia</td>\n",
       "      <td>TARANTO</td>\n",
       "      <td>NaN</td>\n",
       "      <td>NaN</td>\n",
       "      <td>NaN</td>\n",
       "      <td>N</td>\n",
       "      <td>NaN</td>\n",
       "      <td>NaN</td>\n",
       "      <td>8.00</td>\n",
       "      <td>ALTRO</td>\n",
       "    </tr>\n",
       "    <tr>\n",
       "      <th>4</th>\n",
       "      <td>9469637FA6</td>\n",
       "      <td>NaN</td>\n",
       "      <td>8779273</td>\n",
       "      <td>PON LABORATORI GREEN, SOSTENIBILI E INNOVATIVI...</td>\n",
       "      <td>4500.00</td>\n",
       "      <td>1.00</td>\n",
       "      <td>PON LABORATORI GREEN, SOSTENIBILI E INNOVATIVI...</td>\n",
       "      <td>4500.00</td>\n",
       "      <td>FORNITURE</td>\n",
       "      <td>ATTIVO</td>\n",
       "      <td>...</td>\n",
       "      <td>NaN</td>\n",
       "      <td>NaN</td>\n",
       "      <td>NaN</td>\n",
       "      <td>NaN</td>\n",
       "      <td>NaN</td>\n",
       "      <td>N</td>\n",
       "      <td>NaN</td>\n",
       "      <td>NaN</td>\n",
       "      <td>1.00</td>\n",
       "      <td>IMPORTO RIDOTTO DEL CONTRATTO</td>\n",
       "    </tr>\n",
       "    <tr>\n",
       "      <th>...</th>\n",
       "      <td>...</td>\n",
       "      <td>...</td>\n",
       "      <td>...</td>\n",
       "      <td>...</td>\n",
       "      <td>...</td>\n",
       "      <td>...</td>\n",
       "      <td>...</td>\n",
       "      <td>...</td>\n",
       "      <td>...</td>\n",
       "      <td>...</td>\n",
       "      <td>...</td>\n",
       "      <td>...</td>\n",
       "      <td>...</td>\n",
       "      <td>...</td>\n",
       "      <td>...</td>\n",
       "      <td>...</td>\n",
       "      <td>...</td>\n",
       "      <td>...</td>\n",
       "      <td>...</td>\n",
       "      <td>...</td>\n",
       "      <td>...</td>\n",
       "    </tr>\n",
       "    <tr>\n",
       "      <th>205950</th>\n",
       "      <td>A00B0BA7B2</td>\n",
       "      <td>NaN</td>\n",
       "      <td>9301932</td>\n",
       "      <td>ABILITAZIONE AL CLOUD PER LE PA LOCALI' SCUOLE...</td>\n",
       "      <td>3626.23</td>\n",
       "      <td>1.00</td>\n",
       "      <td>ABILITAZIONE AL CLOUD PER LE PA LOCALI' SCUOLE...</td>\n",
       "      <td>3626.23</td>\n",
       "      <td>SERVIZI</td>\n",
       "      <td>ATTIVO</td>\n",
       "      <td>...</td>\n",
       "      <td>Toscana</td>\n",
       "      <td>LUCCA</td>\n",
       "      <td>NaN</td>\n",
       "      <td>NaN</td>\n",
       "      <td>NaN</td>\n",
       "      <td>S</td>\n",
       "      <td>NaN</td>\n",
       "      <td>NaN</td>\n",
       "      <td>NaN</td>\n",
       "      <td>NaN</td>\n",
       "    </tr>\n",
       "    <tr>\n",
       "      <th>205951</th>\n",
       "      <td>A0173FA7CC</td>\n",
       "      <td>NaN</td>\n",
       "      <td>9345564</td>\n",
       "      <td>AFFIDAMENTO LAVORI DI: RIPRISTINO MANTI DI COP...</td>\n",
       "      <td>130366.07</td>\n",
       "      <td>1.00</td>\n",
       "      <td>AFFIDAMENTO LAVORI DI: 'RIPRISTINO MANTI DI CO...</td>\n",
       "      <td>130366.07</td>\n",
       "      <td>LAVORI</td>\n",
       "      <td>ATTIVO</td>\n",
       "      <td>...</td>\n",
       "      <td>Campania</td>\n",
       "      <td>NAPOLI</td>\n",
       "      <td>NaN</td>\n",
       "      <td>NaN</td>\n",
       "      <td>NaN</td>\n",
       "      <td>N</td>\n",
       "      <td>NaN</td>\n",
       "      <td>NaN</td>\n",
       "      <td>1.00</td>\n",
       "      <td>IMPORTO RIDOTTO DEL CONTRATTO</td>\n",
       "    </tr>\n",
       "    <tr>\n",
       "      <th>205952</th>\n",
       "      <td>9998983DCA</td>\n",
       "      <td>NaN</td>\n",
       "      <td>9258977</td>\n",
       "      <td>AFFIDAMENTO DIRETTO, AI SENSI DELL'ART. 1, COM...</td>\n",
       "      <td>21034.21</td>\n",
       "      <td>1.00</td>\n",
       "      <td>AFFIDAMENTO DIRETTO, AI SENSI DELL'ART. 1, COM...</td>\n",
       "      <td>21034.21</td>\n",
       "      <td>SERVIZI</td>\n",
       "      <td>ATTIVO</td>\n",
       "      <td>...</td>\n",
       "      <td>Sicilia</td>\n",
       "      <td>RAGUSA</td>\n",
       "      <td>NaN</td>\n",
       "      <td>NaN</td>\n",
       "      <td>NaN</td>\n",
       "      <td>S</td>\n",
       "      <td>NaN</td>\n",
       "      <td>NaN</td>\n",
       "      <td>NaN</td>\n",
       "      <td>NaN</td>\n",
       "    </tr>\n",
       "    <tr>\n",
       "      <th>205953</th>\n",
       "      <td>998232070E</td>\n",
       "      <td>NaN</td>\n",
       "      <td>9243076</td>\n",
       "      <td>PNRR LABS RIFACIMENTO IMPIANTO ELETTRICO SECON...</td>\n",
       "      <td>8176.00</td>\n",
       "      <td>1.00</td>\n",
       "      <td>PNRR LABS RIFACIMENTO IMPIANTO ELETTRICO SECON...</td>\n",
       "      <td>8176.00</td>\n",
       "      <td>SERVIZI</td>\n",
       "      <td>ATTIVO</td>\n",
       "      <td>...</td>\n",
       "      <td>Marche</td>\n",
       "      <td>PESARO E URBINO</td>\n",
       "      <td>NaN</td>\n",
       "      <td>NaN</td>\n",
       "      <td>NaN</td>\n",
       "      <td>N</td>\n",
       "      <td>NaN</td>\n",
       "      <td>NaN</td>\n",
       "      <td>1.00</td>\n",
       "      <td>IMPORTO RIDOTTO DEL CONTRATTO</td>\n",
       "    </tr>\n",
       "    <tr>\n",
       "      <th>205954</th>\n",
       "      <td>998232070E</td>\n",
       "      <td>NaN</td>\n",
       "      <td>9243076</td>\n",
       "      <td>PNRR LABS RIFACIMENTO IMPIANTO ELETTRICO SECON...</td>\n",
       "      <td>8176.00</td>\n",
       "      <td>1.00</td>\n",
       "      <td>PNRR LABS RIFACIMENTO IMPIANTO ELETTRICO SECON...</td>\n",
       "      <td>8176.00</td>\n",
       "      <td>SERVIZI</td>\n",
       "      <td>ATTIVO</td>\n",
       "      <td>...</td>\n",
       "      <td>Marche</td>\n",
       "      <td>PESARO E URBINO</td>\n",
       "      <td>NaN</td>\n",
       "      <td>NaN</td>\n",
       "      <td>NaN</td>\n",
       "      <td>N</td>\n",
       "      <td>NaN</td>\n",
       "      <td>NaN</td>\n",
       "      <td>2.00</td>\n",
       "      <td>MERCATO DI RIFERIMENTO</td>\n",
       "    </tr>\n",
       "  </tbody>\n",
       "</table>\n",
       "<p>205955 rows × 73 columns</p>\n",
       "</div>"
      ],
      "text/plain": [
       "               CIG cig_accordo_quadro  numero_gara  \\\n",
       "0       94965511CD                NaN      8803480   \n",
       "1       9719455BFD                NaN      9003805   \n",
       "2       9576444B94                NaN      8878071   \n",
       "3       9583207896                NaN      8884263   \n",
       "4       9469637FA6                NaN      8779273   \n",
       "...            ...                ...          ...   \n",
       "205950  A00B0BA7B2                NaN      9301932   \n",
       "205951  A0173FA7CC                NaN      9345564   \n",
       "205952  9998983DCA                NaN      9258977   \n",
       "205953  998232070E                NaN      9243076   \n",
       "205954  998232070E                NaN      9243076   \n",
       "\n",
       "                                             oggetto_gara  \\\n",
       "0       INTEGRAZIONE ED EVOLUZIONE DEL MODULO GPP CON ...   \n",
       "1       MISURA 1.4.5.SPID PIATTAFORMA NOTIFICHE DIGITA...   \n",
       "2       MISURA 1.4.1 'ESPERIENZA DEL CITTADINO NEI SER...   \n",
       "3       PROCEDURA APERTA DA ESPLETARSI IN MANIERA TELE...   \n",
       "4       PON LABORATORI GREEN, SOSTENIBILI E INNOVATIVI...   \n",
       "...                                                   ...   \n",
       "205950  ABILITAZIONE AL CLOUD PER LE PA LOCALI' SCUOLE...   \n",
       "205951  AFFIDAMENTO LAVORI DI: RIPRISTINO MANTI DI COP...   \n",
       "205952  AFFIDAMENTO DIRETTO, AI SENSI DELL'ART. 1, COM...   \n",
       "205953  PNRR LABS RIFACIMENTO IMPIANTO ELETTRICO SECON...   \n",
       "205954  PNRR LABS RIFACIMENTO IMPIANTO ELETTRICO SECON...   \n",
       "\n",
       "        importo_complessivo_gara  n_lotti_componenti  \\\n",
       "0                      135244.23                1.00   \n",
       "1                       18972.95                1.00   \n",
       "2                      243287.16                1.00   \n",
       "3                      287648.76                1.00   \n",
       "4                        4500.00                1.00   \n",
       "...                          ...                 ...   \n",
       "205950                   3626.23                1.00   \n",
       "205951                 130366.07                1.00   \n",
       "205952                  21034.21                1.00   \n",
       "205953                   8176.00                1.00   \n",
       "205954                   8176.00                1.00   \n",
       "\n",
       "                                            oggetto_lotto  importo_lotto  \\\n",
       "0       INTEGRAZIONE ED EVOLUZIONE DEL MODULO GPP CON ...      135244.23   \n",
       "1       MISURA 1.4.5.SPID PIATTAFORMA NOTIFICHE DIGITA...       18972.95   \n",
       "2       MISURA 1.4.1 'ESPERIENZA DEL CITTADINO NEI SER...      243287.16   \n",
       "3       PROCEDURA APERTA DA ESPLETARSI IN MANIERA TELE...      287648.76   \n",
       "4       PON LABORATORI GREEN, SOSTENIBILI E INNOVATIVI...        4500.00   \n",
       "...                                                   ...            ...   \n",
       "205950  ABILITAZIONE AL CLOUD PER LE PA LOCALI' SCUOLE...        3626.23   \n",
       "205951  AFFIDAMENTO LAVORI DI: 'RIPRISTINO MANTI DI CO...      130366.07   \n",
       "205952  AFFIDAMENTO DIRETTO, AI SENSI DELL'ART. 1, COM...       21034.21   \n",
       "205953  PNRR LABS RIFACIMENTO IMPIANTO ELETTRICO SECON...        8176.00   \n",
       "205954  PNRR LABS RIFACIMENTO IMPIANTO ELETTRICO SECON...        8176.00   \n",
       "\n",
       "       oggetto_principale_contratto   stato  ...   Regione  \\\n",
       "0                           SERVIZI  ATTIVO  ...       NaN   \n",
       "1                           SERVIZI  ATTIVO  ...   Sicilia   \n",
       "2                           SERVIZI  ATTIVO  ...   Sicilia   \n",
       "3                           SERVIZI  ATTIVO  ...    Puglia   \n",
       "4                         FORNITURE  ATTIVO  ...       NaN   \n",
       "...                             ...     ...  ...       ...   \n",
       "205950                      SERVIZI  ATTIVO  ...   Toscana   \n",
       "205951                       LAVORI  ATTIVO  ...  Campania   \n",
       "205952                      SERVIZI  ATTIVO  ...   Sicilia   \n",
       "205953                      SERVIZI  ATTIVO  ...    Marche   \n",
       "205954                      SERVIZI  ATTIVO  ...    Marche   \n",
       "\n",
       "        Denominazione sovracomunale cod_mis_premiale misura_premiale  \\\n",
       "0                               NaN              NaN             NaN   \n",
       "1                           MESSINA              NaN             NaN   \n",
       "2                           MESSINA              NaN             NaN   \n",
       "3                           TARANTO              NaN             NaN   \n",
       "4                               NaN              NaN             NaN   \n",
       "...                             ...              ...             ...   \n",
       "205950                        LUCCA              NaN             NaN   \n",
       "205951                       NAPOLI              NaN             NaN   \n",
       "205952                       RAGUSA              NaN             NaN   \n",
       "205953              PESARO E URBINO              NaN             NaN   \n",
       "205954              PESARO E URBINO              NaN             NaN   \n",
       "\n",
       "       CATEGORIA  flag_quote quota_femminile  quota_giovanile cod_mot_deroga  \\\n",
       "0            NaN           S             NaN              NaN            NaN   \n",
       "1            NaN           N             NaN              NaN           1.00   \n",
       "2            NaN           S             NaN              NaN            NaN   \n",
       "3            NaN           N             NaN              NaN           8.00   \n",
       "4            NaN           N             NaN              NaN           1.00   \n",
       "...          ...         ...             ...              ...            ...   \n",
       "205950       NaN           S             NaN              NaN            NaN   \n",
       "205951       NaN           N             NaN              NaN           1.00   \n",
       "205952       NaN           S             NaN              NaN            NaN   \n",
       "205953       NaN           N             NaN              NaN           1.00   \n",
       "205954       NaN           N             NaN              NaN           2.00   \n",
       "\n",
       "                           mot_deroga  \n",
       "0                                 NaN  \n",
       "1       IMPORTO RIDOTTO DEL CONTRATTO  \n",
       "2                                 NaN  \n",
       "3                               ALTRO  \n",
       "4       IMPORTO RIDOTTO DEL CONTRATTO  \n",
       "...                               ...  \n",
       "205950                            NaN  \n",
       "205951  IMPORTO RIDOTTO DEL CONTRATTO  \n",
       "205952                            NaN  \n",
       "205953  IMPORTO RIDOTTO DEL CONTRATTO  \n",
       "205954         MERCATO DI RIFERIMENTO  \n",
       "\n",
       "[205955 rows x 73 columns]"
      ]
     },
     "execution_count": 168,
     "metadata": {},
     "output_type": "execute_result"
    }
   ],
   "source": [
    "leftnew_34.to_csv(\"CIG_prem_deroghe.csv\", index = False, sep=';')\n",
    "pd.read_csv(\"CIG_prem_deroghe.csv\", sep=';')"
   ]
  },
  {
   "cell_type": "code",
   "execution_count": 18,
   "metadata": {},
   "outputs": [
    {
     "name": "stdout",
     "output_type": "stream",
     "text": [
      "CIG unici in P03 [MISURE PREMIALI]:  11402\n",
      "CIG unici in P04 [DEROGHE]:  178550\n",
      "CIG unici in PNEW [CIG TOT 2023]:  177312\n",
      "CIG unici in P03 presenti anche in pNEW [CIG TOT 2023] 11265\n",
      "CIG unici in P04 presenti anche in pNEW [CIG TOT 2023] 177297\n"
     ]
    }
   ],
   "source": [
    "print('CIG unici in P03 [MISURE PREMIALI]: ',p03['CIG'].nunique())\n",
    "print('CIG unici in P04 [DEROGHE]: ',p04['CIG'].nunique())\n",
    "print('CIG unici in PNEW [CIG TOT 2023]: ', pnew['CIG'].nunique())\n",
    "print('CIG unici in P03 presenti anche in pNEW [CIG TOT 2023]',innerNEW_3['CIG'].nunique())\n",
    "print('CIG unici in P04 presenti anche in pNEW [CIG TOT 2023]',innerNEW_4['CIG'].nunique())"
   ]
  },
  {
   "cell_type": "code",
   "execution_count": 19,
   "metadata": {},
   "outputs": [],
   "source": [
    "count_CIG_p3 = p03['CIG'].nunique()\n",
    "count_CIG_p4 = p04['CIG'].nunique()\n",
    "count_CIG_new3 = innerNEW_3['CIG'].nunique()\n",
    "count_CIG_new4 = innerNEW_4['CIG'].nunique()"
   ]
  },
  {
   "cell_type": "code",
   "execution_count": 20,
   "metadata": {},
   "outputs": [
    {
     "name": "stdout",
     "output_type": "stream",
     "text": [
      "98.8 %\n",
      "99.3 %\n"
     ]
    }
   ],
   "source": [
    "print(np.round(count_CIG_new3/count_CIG_p3*100, 2),'%')\n",
    "print(np.round(count_CIG_new4/count_CIG_p4*100, 2),'%') # per p04 -> 99.3%"
   ]
  },
  {
   "cell_type": "markdown",
   "metadata": {},
   "source": [
    "98.8% dei CIG in p03 hanno un match nel dataset new\n",
    "\n",
    "99.3 % dei CIG in p04 hanno un match nel dataset new"
   ]
  },
  {
   "cell_type": "code",
   "execution_count": 21,
   "metadata": {},
   "outputs": [
    {
     "name": "stdout",
     "output_type": "stream",
     "text": [
      "6.35 %\n",
      "6.43 %\n"
     ]
    }
   ],
   "source": [
    "print(np.round((11265/177312)*100,2),'%')\n",
    "print(np.round((11402/177312)*100,2),'%')"
   ]
  },
  {
   "cell_type": "markdown",
   "metadata": {},
   "source": [
    "Sul totale dei CIG del 2023, 6.35% dei CIG del 2023 hanno premialità\n",
    "\n",
    "[6.43 % se si considerano 1.2% di CIG con premialità - 137 su 11402 - senza match in pNEW]"
   ]
  },
  {
   "cell_type": "code",
   "execution_count": 25,
   "metadata": {},
   "outputs": [
    {
     "name": "stdout",
     "output_type": "stream",
     "text": [
      "99.99 %\n"
     ]
    }
   ],
   "source": [
    "print(np.round((count_CIG_new4/177312)*100,2),'%')"
   ]
  },
  {
   "cell_type": "markdown",
   "metadata": {},
   "source": [
    "Sul totale dei CIG del 2023, 99.99 % dei CIG del 2023 hanno informazioni sulle quote/deroghe."
   ]
  },
  {
   "cell_type": "markdown",
   "metadata": {},
   "source": [
    "Info presenti: CIG, importo, provincia/luogo istat, data"
   ]
  },
  {
   "cell_type": "code",
   "execution_count": 22,
   "metadata": {},
   "outputs": [
    {
     "data": {
      "text/plain": [
       "0"
      ]
     },
     "execution_count": 22,
     "metadata": {},
     "output_type": "execute_result"
    }
   ],
   "source": [
    "innerNEW_3['sezione_regionale'].isna().sum()"
   ]
  },
  {
   "cell_type": "markdown",
   "metadata": {},
   "source": [
    "Confronto col dataset p06 [fino ad ora]"
   ]
  },
  {
   "cell_type": "code",
   "execution_count": 12,
   "metadata": {},
   "outputs": [],
   "source": [
    "# inner join p3 e p6\n",
    "temp3_6 = p03.merge(p06, on='CIG',how='inner')"
   ]
  },
  {
   "cell_type": "code",
   "execution_count": 13,
   "metadata": {},
   "outputs": [],
   "source": [
    "temp4_6 = p04.merge(p06, on='CIG',how='inner')"
   ]
  },
  {
   "cell_type": "code",
   "execution_count": 14,
   "metadata": {},
   "outputs": [
    {
     "name": "stdout",
     "output_type": "stream",
     "text": [
      "CIG unici in P06:  56984\n",
      "CIG unici in P03 [MISURE PREMIALI]:  11402\n",
      "CIG unici in P04 [DEROGHE]:  178550\n",
      "CIG unici in P03 presenti anche in p06: 2215\n",
      "CIG unici in P04 presenti anche in p06: 19727\n"
     ]
    }
   ],
   "source": [
    "print('CIG unici in P06: ', p06['CIG'].nunique())\n",
    "print('CIG unici in P03 [MISURE PREMIALI]: ',p03['CIG'].nunique())\n",
    "print('CIG unici in P04 [DEROGHE]: ',p04['CIG'].nunique())\n",
    "print('CIG unici in P03 presenti anche in p06:',temp3_6['CIG'].nunique())\n",
    "print('CIG unici in P04 presenti anche in p06:',temp4_6['CIG'].nunique())"
   ]
  },
  {
   "cell_type": "code",
   "execution_count": 15,
   "metadata": {},
   "outputs": [
    {
     "name": "stdout",
     "output_type": "stream",
     "text": [
      "19.43 %\n",
      "11.05 %\n"
     ]
    }
   ],
   "source": [
    "print(np.round((2215/11402)*100,2),'%')\n",
    "print(np.round((19727/178550)*100,2),'%')"
   ]
  },
  {
   "cell_type": "markdown",
   "metadata": {},
   "source": [
    "19.43 % dei CIG in p03 hanno un match nel dataset P06\n",
    "\n",
    "11.05 % dei CIG in p04 hanno un match nel dataset P06"
   ]
  },
  {
   "cell_type": "code",
   "execution_count": 69,
   "metadata": {},
   "outputs": [
    {
     "data": {
      "text/plain": [
       "Index(['Codice Univoco Submisura', 'Descrizione Submisura',\n",
       "       'Descrizione Procedura di Aggiudicazione', 'CUP',\n",
       "       'Codice Locale Progetto', 'CIG', 'CIG Accordo Quadro',\n",
       "       'Codice Procedura Utente', 'Modalit� di Realizzazione',\n",
       "       'Codice Interno PDA', 'Oggetto Principale del Contratto',\n",
       "       'Oggetto Gara', 'Data Pubblicazione del CIG',\n",
       "       'Codice Motivo Assenza CIG', 'Descrizione Motivo Assenza CIG',\n",
       "       'Importo Complessivo Gara', 'Importo Aggiudicazione',\n",
       "       'Data Aggiudicazione Definitiva', 'Data di Aggiornamento'],\n",
       "      dtype='object')"
      ]
     },
     "execution_count": 69,
     "metadata": {},
     "output_type": "execute_result"
    }
   ],
   "source": [
    "p06.columns"
   ]
  },
  {
   "cell_type": "code",
   "execution_count": 10,
   "metadata": {},
   "outputs": [],
   "source": [
    "p01 = pd.read_csv(\"./datasets/cup_csv.csv\",delimiter=';',encoding = \"ISO-8859-1\")"
   ]
  },
  {
   "cell_type": "code",
   "execution_count": 11,
   "metadata": {},
   "outputs": [],
   "source": [
    "pnew_cup = p01.merge(pnew, on='CIG', how='inner')"
   ]
  },
  {
   "cell_type": "code",
   "execution_count": 13,
   "metadata": {},
   "outputs": [
    {
     "data": {
      "text/plain": [
       "177312"
      ]
     },
     "execution_count": 13,
     "metadata": {},
     "output_type": "execute_result"
    }
   ],
   "source": [
    "pnew['CIG'].nunique()"
   ]
  },
  {
   "cell_type": "code",
   "execution_count": 14,
   "metadata": {},
   "outputs": [
    {
     "data": {
      "text/plain": [
       "51313"
      ]
     },
     "execution_count": 14,
     "metadata": {},
     "output_type": "execute_result"
    }
   ],
   "source": [
    "pnew_cup['CIG'].nunique()"
   ]
  },
  {
   "cell_type": "code",
   "execution_count": null,
   "metadata": {},
   "outputs": [],
   "source": []
  }
 ],
 "metadata": {
  "kernelspec": {
   "display_name": "Python 3",
   "language": "python",
   "name": "python3"
  },
  "language_info": {
   "codemirror_mode": {
    "name": "ipython",
    "version": 3
   },
   "file_extension": ".py",
   "mimetype": "text/x-python",
   "name": "python",
   "nbconvert_exporter": "python",
   "pygments_lexer": "ipython3",
   "version": "3.9.13"
  }
 },
 "nbformat": 4,
 "nbformat_minor": 2
}
