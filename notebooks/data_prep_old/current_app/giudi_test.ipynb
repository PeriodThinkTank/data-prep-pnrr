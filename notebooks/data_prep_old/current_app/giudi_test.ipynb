{
 "cells": [
  {
   "cell_type": "code",
   "execution_count": 56,
   "metadata": {},
   "outputs": [
    {
     "name": "stdout",
     "output_type": "stream",
     "text": [
      "/Users/venere/Desktop/period/data-prep-pnrr/notebooks/data_prep_old/current_app\n"
     ]
    }
   ],
   "source": [
    "import pandas as pd\n",
    "import numpy as np \n",
    "import os\n",
    "\n",
    "print(os.getcwd())\n",
    "\n",
    "\"\"\" p01 = pd.read_parquet(\"../data/updated/p01.parquet\")\n",
    "p02 = pd.read_parquet(\"../data/updated/p02.parquet\")\n",
    "p03 = pd.read_parquet(\"../data/updated/p03.parquet\")\n",
    "p04 = pd.read_parquet(\"../data/updated/p04.parquet\")\n",
    "p05 = pd.read_parquet(\"../data/updated/p05.parquet\")\n",
    "\n",
    "componenti = pd.read_parquet(\"../data/updated/components.parquet\")\n",
    "missions = pd.read_parquet(\"../data/updated/missions.parquet\")\n",
    "comuni = pd.read_parquet(\"../data/updated/comuni.parquet\")\n",
    "\n",
    "indicatori_sdg = pd.read_parquet(\"../data/updated/indicators_sdg.parquet\")\n",
    "indicatori_comuni=pd.read_csv(\"../data/updated/PNRR_Indicatori_Comuni-Universo_REGIS_v2.csv\", sep=\";\", encoding='latin-1')\n",
    "#indicatori_comuni = pd.read_csv(\"../data/updated/PNRR_Indicatori_Comuni-Universo_REGIS_v2.csv\",sep=\",\")\n",
    "\"\"\"\n",
    "appalti_2024=pd.read_excel(\"/Users/venere/Desktop/period/data-prep-pnrr/data/updated/APPALTI_2024_PNRR_PNC_Full 2.xlsx\", header=0)\n",
    "\n",
    "#appalti_2024=pd.read_csv(\"/Users/venere/Desktop/period/data-prep-pnrr/data/updated/APPALTI_2024_PNRR_PNC_csv.csv\", sep=\",\")"
   ]
  },
  {
   "cell_type": "code",
   "execution_count": 98,
   "metadata": {},
   "outputs": [
    {
     "data": {
      "text/plain": [
       "Index(['cig', 'cf_sa', 'Denominazione SA', 'data_pubblicazione',\n",
       "       'importo_lotto', 'oggetto_lotto', 'tipo_procedura', 'flag_pnrr_pnc',\n",
       "       'flag_quote_deroga', 'quota_femminile', 'quota_giovani',\n",
       "       'cod_mot_deroga', 'motivo_deroga', 'flag_misure_premiali',\n",
       "       'codice_mis_prem', 'misura_premiale'],\n",
       "      dtype='object')"
      ]
     },
     "execution_count": 98,
     "metadata": {},
     "output_type": "execute_result"
    }
   ],
   "source": [
    "appalti_2024.columns"
   ]
  },
  {
   "cell_type": "code",
   "execution_count": null,
   "metadata": {},
   "outputs": [],
   "source": [
    "appalti_2024"
   ]
  },
  {
   "cell_type": "code",
   "execution_count": 100,
   "metadata": {},
   "outputs": [],
   "source": [
    "appalti_2024\n",
    "appalti_2024 = appalti_2024[['cig','data_pubblicazione',\n",
    "       'importo_lotto','flag_quote_deroga', 'quota_femminile', 'quota_giovani',\n",
    "       'cod_mot_deroga', 'motivo_deroga', 'flag_misure_premiali',\n",
    "       'codice_mis_prem', 'misura_premiale']]"
   ]
  },
  {
   "cell_type": "code",
   "execution_count": 101,
   "metadata": {},
   "outputs": [
    {
     "name": "stdout",
     "output_type": "stream",
     "text": [
      "51395 1852 3.6034633719233393\n"
     ]
    }
   ],
   "source": [
    "premialita_24 = appalti_2024[appalti_2024[\"flag_misure_premiali\"]=='[]']\n",
    "x = appalti_2024.shape\n",
    "y = premialita_24.shape\n",
    "x = x[0]\n",
    "y = y[0]\n",
    "percentuale = y/x*100\n",
    "print(x, y, percentuale)\n"
   ]
  },
  {
   "cell_type": "code",
   "execution_count": 102,
   "metadata": {},
   "outputs": [
    {
     "name": "stderr",
     "output_type": "stream",
     "text": [
      "/var/folders/zx/2_t1dk8d70ld1mtph0ys7mt40000gn/T/ipykernel_29095/3802793326.py:2: SettingWithCopyWarning: \n",
      "A value is trying to be set on a copy of a slice from a DataFrame.\n",
      "Try using .loc[row_indexer,col_indexer] = value instead\n",
      "\n",
      "See the caveats in the documentation: https://pandas.pydata.org/pandas-docs/stable/user_guide/indexing.html#returning-a-view-versus-a-copy\n",
      "  premialita_24['codice_mis_prem'] = premialita_24['codice_mis_prem'].apply(ast.literal_eval)\n",
      "/var/folders/zx/2_t1dk8d70ld1mtph0ys7mt40000gn/T/ipykernel_29095/3802793326.py:3: SettingWithCopyWarning: \n",
      "A value is trying to be set on a copy of a slice from a DataFrame.\n",
      "Try using .loc[row_indexer,col_indexer] = value instead\n",
      "\n",
      "See the caveats in the documentation: https://pandas.pydata.org/pandas-docs/stable/user_guide/indexing.html#returning-a-view-versus-a-copy\n",
      "  premialita_24['misura_premiale'] = premialita_24['misura_premiale'].apply(ast.literal_eval)\n"
     ]
    }
   ],
   "source": [
    "import ast\n",
    "premialita_24['codice_mis_prem'] = premialita_24['codice_mis_prem'].apply(ast.literal_eval)\n",
    "premialita_24['misura_premiale'] = premialita_24['misura_premiale'].apply(ast.literal_eval)"
   ]
  },
  {
   "cell_type": "code",
   "execution_count": 103,
   "metadata": {},
   "outputs": [],
   "source": [
    "premialita_24_exploded = premialita_24.explode(['codice_mis_prem', 'misura_premiale']).reset_index(drop=True)\n"
   ]
  },
  {
   "cell_type": "markdown",
   "metadata": {},
   "source": [
    "Deroghe e codice motivo deroga"
   ]
  },
  {
   "cell_type": "code",
   "execution_count": 104,
   "metadata": {},
   "outputs": [
    {
     "name": "stdout",
     "output_type": "stream",
     "text": [
      "Index(['cig', 'data_pubblicazione', 'importo_lotto', 'flag_quote_deroga',\n",
      "       'quota_femminile', 'quota_giovani', 'cod_mot_deroga', 'motivo_deroga',\n",
      "       'flag_misure_premiali', 'codice_mis_prem', 'misura_premiale'],\n",
      "      dtype='object')\n"
     ]
    }
   ],
   "source": [
    "print(appalti_2024.columns)\n"
   ]
  },
  {
   "cell_type": "code",
   "execution_count": 105,
   "metadata": {},
   "outputs": [
    {
     "data": {
      "text/plain": [
       "(8061, 11)"
      ]
     },
     "execution_count": 105,
     "metadata": {},
     "output_type": "execute_result"
    }
   ],
   "source": [
    "deroghe_24 = appalti_2024[appalti_2024[\"flag_quote_deroga\"].fillna('').isin(['Q', 'N'])]\n",
    "\n",
    "deroghe_24.shape"
   ]
  },
  {
   "cell_type": "code",
   "execution_count": 106,
   "metadata": {},
   "outputs": [
    {
     "name": "stderr",
     "output_type": "stream",
     "text": [
      "/var/folders/zx/2_t1dk8d70ld1mtph0ys7mt40000gn/T/ipykernel_29095/2803642113.py:9: SettingWithCopyWarning: \n",
      "A value is trying to be set on a copy of a slice from a DataFrame.\n",
      "Try using .loc[row_indexer,col_indexer] = value instead\n",
      "\n",
      "See the caveats in the documentation: https://pandas.pydata.org/pandas-docs/stable/user_guide/indexing.html#returning-a-view-versus-a-copy\n",
      "  deroghe_24['cod_mot_deroga'] = deroghe_24['cod_mot_deroga'].apply(safe_eval)\n",
      "/var/folders/zx/2_t1dk8d70ld1mtph0ys7mt40000gn/T/ipykernel_29095/2803642113.py:10: SettingWithCopyWarning: \n",
      "A value is trying to be set on a copy of a slice from a DataFrame.\n",
      "Try using .loc[row_indexer,col_indexer] = value instead\n",
      "\n",
      "See the caveats in the documentation: https://pandas.pydata.org/pandas-docs/stable/user_guide/indexing.html#returning-a-view-versus-a-copy\n",
      "  deroghe_24['motivo_deroga'] = deroghe_24['motivo_deroga'].apply(safe_eval)\n"
     ]
    }
   ],
   "source": [
    "def safe_eval(val):\n",
    "    if isinstance(val, str):  # Applica solo se è una stringa\n",
    "        try:\n",
    "            return ast.literal_eval(val)\n",
    "        except (ValueError, SyntaxError):\n",
    "            return val  # Ritorna il valore originale se non è una lista valida\n",
    "    return val  # Se è un numero o NaN, lascia invariato\n",
    "\n",
    "deroghe_24['cod_mot_deroga'] = deroghe_24['cod_mot_deroga'].apply(safe_eval)\n",
    "deroghe_24['motivo_deroga'] = deroghe_24['motivo_deroga'].apply(safe_eval)\n",
    "\n",
    "deroghe_24_exploded = deroghe_24.explode([\"cod_mot_deroga\", \"motivo_deroga\"]).reset_index(drop=True)\n"
   ]
  },
  {
   "cell_type": "code",
   "execution_count": 107,
   "metadata": {},
   "outputs": [
    {
     "data": {
      "text/plain": [
       "(8168, 11)"
      ]
     },
     "execution_count": 107,
     "metadata": {},
     "output_type": "execute_result"
    }
   ],
   "source": [
    "deroghe_24_exploded.shape"
   ]
  },
  {
   "cell_type": "markdown",
   "metadata": {},
   "source": [
    "*Analisi premialità*\n",
    "\n",
    "Nella scorsa versione erano 11 misure premiali, ora risultano 13, necessario analizzarle e aggiornare la mappatura"
   ]
  },
  {
   "cell_type": "code",
   "execution_count": 108,
   "metadata": {},
   "outputs": [
    {
     "data": {
      "text/plain": [
       "array(['UTILIZZI O SI IMPEGNI A UTILIZZARE SPECIFICI STRUMENTI DI CONCILIAZIONE DELLE ESIGENZE DI CURA, DI VITA E DI LAVORO PER I PROPRI DIPENDENTI, NONCHÉ MODALITÀ INNOVATIVE DI ORGANIZZAZIONE DEL LAVORO',\n",
       "       \"SI IMPEGNI AD ASSUMERE, OLTRE ALLA SOGLIA MINIMA PERCENTUALE PREVISTA COME REQUISITO DI PARTECIPAZIONE, DONNE PER L'ESECUZIONE DEL CONTRATTO O PER LA REALIZZAZIONE DI ATTIVITÀ AD ESSO CONNESSE O STRUMENTALI\",\n",
       "       \"SI IMPEGNI AD ASSUMERE, OLTRE ALLA SOGLIA MINIMA PERCENTUALE PREVISTA COME REQUISITO DI PARTECIPAZIONE GIOVANI DI ETÀ INFERIORE A TRENTASEI ANNI PER L'ESECUZIONE DEL CONTRATTO O PER LA REALIZZAZIONE DI ATTIVITÀ AD ESSO CONNESSE O STRUMENTALI\",\n",
       "       \"ABBIA, NELL'ULTIMO TRIENNIO, RISPETTATO GLI OBBLIGHI DI CUI ALLA LEGGE 12 MARZO 1999, N. 68 IN MATERIA DI LAVORO DELLE PERSONE DISABILI\",\n",
       "       'ALTRO CRITERIO DI RESPONSABILITÀ SOCIALE NEI CONFRONTI DEI DIVARI DI GENERE',\n",
       "       'ALTRO CRITERIO DI RESPONSABILITÀ SOCIALE NEI CONFRONTI DEI DIVARI INTERGENERAZIONALI',\n",
       "       \"NEI TRE ANNI ANTECEDENTI LA DATA DI SCADENZA DEL TERMINE DI PRESENTAZIONE DELLE OFFERTE, NON RISULTI DESTINATARIO DI ACCERTAMENTI RELATIVI AD ATTI O COMPORTAMENTI DISCRIMINATORI AI SENSI DELL'ARTICOLO 44 DEL D.LGS 25 LUGLIO 1998, N. 286, DELL'ARTICOLO 4 DEL 9 LUGLIO 2003, N. 215, DELL'ARTICOLO 4 DEL D.LGS 9 LUGLIO 2003, N. 216, DELL'ARTICOLO 3 DELLA LEGGE 1° MARZO 2006, N. 67, DEGLI ARTICOLI 35 E 55-QUINQUIES DEL D.LGS. 11 APRILE 2006, N. 198, OVVERO DELL'ARTICOLO 54 DEL D.LGS. 26 MARZO 2001, N. 151\",\n",
       "       'ALTRO CRITERIO PER LU2019INCLUSIONE DEI LAVORATORI DISABILI',\n",
       "       \"SI IMPEGNI AD ASSUMERE, OLTRE ALLA SOGLIA MINIMA PERCENTUALE PREVISTA COME REQUISITO DI PARTECIPAZIONE, PERSONE DISABILI PER L'ESECUZIONE DEL CONTRATTO O PER LA REALIZZAZIONE DI ATTIVITÀ AD ESSO CONNESSE O STRUMENTALI\",\n",
       "       \"ABBIA, NELL'ULTIMO TRIENNIO, ADOTTATO SPECIFICHE MISURE PER PROMUOVERE LE PARI OPPORTUNITÀ GENERAZIONALI\",\n",
       "       \"ABBIA, NELL'ULTIMO TRIENNIO, RISPETTATO I PRINCIPI DELLA PARITÀ DI GENERE, ANCHE TENENDO CONTO DEL RAPPORTO TRA UOMINI E DONNE NELLE ASSUNZIONI, NEI LIVELLI RETRIBUTIVI E NEL CONFERIMENTO DI INCARICHI APICALI\",\n",
       "       \"ABBIA PRESENTATO O SI IMPEGNI A PRESENTARE PER CIASCUNO DEGLI ESERCIZI FINANZIARI, RICOMPRESI NELLA DURATA DEL CONTRATTO DI APPALTO, UNA DICHIARAZIONE VOLONTARIA DI CARATTERE NON FINANZIARIO AI SENSI DELL'ARTICOLO 7 DEL D.LGS. 30 DICEMBRE 2016, N. 254\"],\n",
       "      dtype=object)"
      ]
     },
     "execution_count": 108,
     "metadata": {},
     "output_type": "execute_result"
    }
   ],
   "source": [
    "premialita_24_exploded[\"misura_premiale\"].unique()"
   ]
  },
  {
   "cell_type": "code",
   "execution_count": 109,
   "metadata": {},
   "outputs": [],
   "source": [
    "premialita_24_exploded.to_csv(\"premialita_24_exploded.csv\", index = False, sep=';')\n",
    "#cod_mis_premiale\n",
    "premialita_24_exploded = premialita_24_exploded.rename(columns={'codice_mis_prem': 'cod_mis_premiale'})"
   ]
  },
  {
   "cell_type": "markdown",
   "metadata": {},
   "source": [
    "Riapplichiamo la mappatura fatta in precedenza per le misure premiali"
   ]
  },
  {
   "cell_type": "code",
   "execution_count": null,
   "metadata": {},
   "outputs": [],
   "source": [
    "premialita_24_exploded"
   ]
  },
  {
   "cell_type": "code",
   "execution_count": null,
   "metadata": {},
   "outputs": [],
   "source": [
    "def conditions(s):\n",
    "    if s['cod_mis_premiale'] in [1,2,9]:\n",
    "        return \"GENERALE\"\n",
    "    elif s['cod_mis_premiale'] in [3,8,12]:\n",
    "        return \"DISABILI\"\n",
    "    elif s['cod_mis_premiale'] in [4,6,10]:\n",
    "        return \"GENERE\"\n",
    "    elif s['cod_mis_premiale'] in [5,7,11]:\n",
    "        return \"ETÀ\"\n",
    "    else:\n",
    "        return 0\n",
    "    \n",
    "premialita_24_exploded['CATEGORIA'] = premialita_24_exploded.apply(conditions,axis=1)\n",
    "premialita_24_exploded"
   ]
  },
  {
   "cell_type": "markdown",
   "metadata": {},
   "source": [
    "Motivo deroga è coerente.\n",
    "Creiamo il dataset con premialità e deroghe."
   ]
  },
  {
   "cell_type": "code",
   "execution_count": 113,
   "metadata": {},
   "outputs": [],
   "source": [
    "appalti_2024 = appalti_2024[['cig','data_pubblicazione',\n",
    "       'importo_lotto']]"
   ]
  },
  {
   "cell_type": "code",
   "execution_count": null,
   "metadata": {},
   "outputs": [],
   "source": [
    "leftpremialita = appalti_2024.merge(premialita_24_exploded, on='cig',how='left')\n",
    "leftpremialita\n",
    "leftpremialita = leftpremialita[['cig','data_pubblicazione_x', 'importo_lotto_x', 'flag_misure_premiali',\t'cod_mis_premiale',\t'misura_premiale',\t'CATEGORIA']]\n",
    "leftpremialita = leftpremialita.rename(columns={'importo_lotto_x': 'importo_lotto'})\n",
    "leftpremialita = leftpremialita.rename(columns={'data_pubblicazione_x': 'data_pubblicazione'})\n",
    "leftpremialita"
   ]
  },
  {
   "cell_type": "code",
   "execution_count": 128,
   "metadata": {},
   "outputs": [
    {
     "data": {
      "text/html": [
       "<div>\n",
       "<style scoped>\n",
       "    .dataframe tbody tr th:only-of-type {\n",
       "        vertical-align: middle;\n",
       "    }\n",
       "\n",
       "    .dataframe tbody tr th {\n",
       "        vertical-align: top;\n",
       "    }\n",
       "\n",
       "    .dataframe thead th {\n",
       "        text-align: right;\n",
       "    }\n",
       "</style>\n",
       "<table border=\"1\" class=\"dataframe\">\n",
       "  <thead>\n",
       "    <tr style=\"text-align: right;\">\n",
       "      <th></th>\n",
       "      <th>cig</th>\n",
       "      <th>data_pubblicazione</th>\n",
       "      <th>importo_lotto</th>\n",
       "      <th>flag_misure_premiali</th>\n",
       "      <th>cod_mis_premiale</th>\n",
       "      <th>misura_premiale</th>\n",
       "      <th>CATEGORIA</th>\n",
       "      <th>flag_quote_deroga</th>\n",
       "      <th>quota_femminile</th>\n",
       "      <th>quota_giovani</th>\n",
       "      <th>cod_mot_deroga</th>\n",
       "      <th>motivo_deroga</th>\n",
       "    </tr>\n",
       "  </thead>\n",
       "  <tbody>\n",
       "    <tr>\n",
       "      <th>0</th>\n",
       "      <td>A01C3C50B3</td>\n",
       "      <td>2024-01-01</td>\n",
       "      <td>684237.20</td>\n",
       "      <td>[]</td>\n",
       "      <td>2</td>\n",
       "      <td>UTILIZZI O SI IMPEGNI A UTILIZZARE SPECIFICI S...</td>\n",
       "      <td>GENERALE</td>\n",
       "      <td>Q</td>\n",
       "      <td>15.0</td>\n",
       "      <td>30.0</td>\n",
       "      <td>2</td>\n",
       "      <td>MERCATO DI RIFERIMENTO</td>\n",
       "    </tr>\n",
       "    <tr>\n",
       "      <th>1</th>\n",
       "      <td>A01C3C50B3</td>\n",
       "      <td>2024-01-01</td>\n",
       "      <td>684237.20</td>\n",
       "      <td>[]</td>\n",
       "      <td>2</td>\n",
       "      <td>UTILIZZI O SI IMPEGNI A UTILIZZARE SPECIFICI S...</td>\n",
       "      <td>GENERALE</td>\n",
       "      <td>Q</td>\n",
       "      <td>15.0</td>\n",
       "      <td>30.0</td>\n",
       "      <td>5</td>\n",
       "      <td>SCARSA OCCUPAZIONE FEMMINILE NEL SETTORE</td>\n",
       "    </tr>\n",
       "    <tr>\n",
       "      <th>2</th>\n",
       "      <td>A01C3C50B3</td>\n",
       "      <td>2024-01-01</td>\n",
       "      <td>684237.20</td>\n",
       "      <td>[]</td>\n",
       "      <td>4</td>\n",
       "      <td>SI IMPEGNI AD ASSUMERE, OLTRE ALLA SOGLIA MINI...</td>\n",
       "      <td>GENERE</td>\n",
       "      <td>Q</td>\n",
       "      <td>15.0</td>\n",
       "      <td>30.0</td>\n",
       "      <td>2</td>\n",
       "      <td>MERCATO DI RIFERIMENTO</td>\n",
       "    </tr>\n",
       "    <tr>\n",
       "      <th>3</th>\n",
       "      <td>A01C3C50B3</td>\n",
       "      <td>2024-01-01</td>\n",
       "      <td>684237.20</td>\n",
       "      <td>[]</td>\n",
       "      <td>4</td>\n",
       "      <td>SI IMPEGNI AD ASSUMERE, OLTRE ALLA SOGLIA MINI...</td>\n",
       "      <td>GENERE</td>\n",
       "      <td>Q</td>\n",
       "      <td>15.0</td>\n",
       "      <td>30.0</td>\n",
       "      <td>5</td>\n",
       "      <td>SCARSA OCCUPAZIONE FEMMINILE NEL SETTORE</td>\n",
       "    </tr>\n",
       "    <tr>\n",
       "      <th>4</th>\n",
       "      <td>A01C3C50B3</td>\n",
       "      <td>2024-01-01</td>\n",
       "      <td>684237.20</td>\n",
       "      <td>[]</td>\n",
       "      <td>5</td>\n",
       "      <td>SI IMPEGNI AD ASSUMERE, OLTRE ALLA SOGLIA MINI...</td>\n",
       "      <td>ETÀ</td>\n",
       "      <td>Q</td>\n",
       "      <td>15.0</td>\n",
       "      <td>30.0</td>\n",
       "      <td>2</td>\n",
       "      <td>MERCATO DI RIFERIMENTO</td>\n",
       "    </tr>\n",
       "    <tr>\n",
       "      <th>...</th>\n",
       "      <td>...</td>\n",
       "      <td>...</td>\n",
       "      <td>...</td>\n",
       "      <td>...</td>\n",
       "      <td>...</td>\n",
       "      <td>...</td>\n",
       "      <td>...</td>\n",
       "      <td>...</td>\n",
       "      <td>...</td>\n",
       "      <td>...</td>\n",
       "      <td>...</td>\n",
       "      <td>...</td>\n",
       "    </tr>\n",
       "    <tr>\n",
       "      <th>54811</th>\n",
       "      <td>B5133EBD2E</td>\n",
       "      <td>2024-12-31</td>\n",
       "      <td>220000.00</td>\n",
       "      <td>NaN</td>\n",
       "      <td>NaN</td>\n",
       "      <td>NaN</td>\n",
       "      <td>NaN</td>\n",
       "      <td>NaN</td>\n",
       "      <td>NaN</td>\n",
       "      <td>NaN</td>\n",
       "      <td>NaN</td>\n",
       "      <td>NaN</td>\n",
       "    </tr>\n",
       "    <tr>\n",
       "      <th>54812</th>\n",
       "      <td>B5137B8024</td>\n",
       "      <td>2024-12-31</td>\n",
       "      <td>91177.99</td>\n",
       "      <td>NaN</td>\n",
       "      <td>NaN</td>\n",
       "      <td>NaN</td>\n",
       "      <td>NaN</td>\n",
       "      <td>NaN</td>\n",
       "      <td>NaN</td>\n",
       "      <td>NaN</td>\n",
       "      <td>NaN</td>\n",
       "      <td>NaN</td>\n",
       "    </tr>\n",
       "    <tr>\n",
       "      <th>54813</th>\n",
       "      <td>B5138B4019</td>\n",
       "      <td>2024-12-31</td>\n",
       "      <td>292652.00</td>\n",
       "      <td>NaN</td>\n",
       "      <td>NaN</td>\n",
       "      <td>NaN</td>\n",
       "      <td>NaN</td>\n",
       "      <td>NaN</td>\n",
       "      <td>NaN</td>\n",
       "      <td>NaN</td>\n",
       "      <td>NaN</td>\n",
       "      <td>NaN</td>\n",
       "    </tr>\n",
       "    <tr>\n",
       "      <th>54814</th>\n",
       "      <td>B51390A70F</td>\n",
       "      <td>2024-12-31</td>\n",
       "      <td>531650.00</td>\n",
       "      <td>NaN</td>\n",
       "      <td>NaN</td>\n",
       "      <td>NaN</td>\n",
       "      <td>NaN</td>\n",
       "      <td>NaN</td>\n",
       "      <td>NaN</td>\n",
       "      <td>NaN</td>\n",
       "      <td>NaN</td>\n",
       "      <td>NaN</td>\n",
       "    </tr>\n",
       "    <tr>\n",
       "      <th>54815</th>\n",
       "      <td>B513C45187</td>\n",
       "      <td>2024-12-31</td>\n",
       "      <td>7004.67</td>\n",
       "      <td>NaN</td>\n",
       "      <td>NaN</td>\n",
       "      <td>NaN</td>\n",
       "      <td>NaN</td>\n",
       "      <td>NaN</td>\n",
       "      <td>NaN</td>\n",
       "      <td>NaN</td>\n",
       "      <td>NaN</td>\n",
       "      <td>NaN</td>\n",
       "    </tr>\n",
       "  </tbody>\n",
       "</table>\n",
       "<p>54816 rows × 12 columns</p>\n",
       "</div>"
      ],
      "text/plain": [
       "              cig data_pubblicazione  importo_lotto flag_misure_premiali  \\\n",
       "0      A01C3C50B3         2024-01-01      684237.20                   []   \n",
       "1      A01C3C50B3         2024-01-01      684237.20                   []   \n",
       "2      A01C3C50B3         2024-01-01      684237.20                   []   \n",
       "3      A01C3C50B3         2024-01-01      684237.20                   []   \n",
       "4      A01C3C50B3         2024-01-01      684237.20                   []   \n",
       "...           ...                ...            ...                  ...   \n",
       "54811  B5133EBD2E         2024-12-31      220000.00                  NaN   \n",
       "54812  B5137B8024         2024-12-31       91177.99                  NaN   \n",
       "54813  B5138B4019         2024-12-31      292652.00                  NaN   \n",
       "54814  B51390A70F         2024-12-31      531650.00                  NaN   \n",
       "54815  B513C45187         2024-12-31        7004.67                  NaN   \n",
       "\n",
       "      cod_mis_premiale                                    misura_premiale  \\\n",
       "0                    2  UTILIZZI O SI IMPEGNI A UTILIZZARE SPECIFICI S...   \n",
       "1                    2  UTILIZZI O SI IMPEGNI A UTILIZZARE SPECIFICI S...   \n",
       "2                    4  SI IMPEGNI AD ASSUMERE, OLTRE ALLA SOGLIA MINI...   \n",
       "3                    4  SI IMPEGNI AD ASSUMERE, OLTRE ALLA SOGLIA MINI...   \n",
       "4                    5  SI IMPEGNI AD ASSUMERE, OLTRE ALLA SOGLIA MINI...   \n",
       "...                ...                                                ...   \n",
       "54811              NaN                                                NaN   \n",
       "54812              NaN                                                NaN   \n",
       "54813              NaN                                                NaN   \n",
       "54814              NaN                                                NaN   \n",
       "54815              NaN                                                NaN   \n",
       "\n",
       "      CATEGORIA flag_quote_deroga  quota_femminile  quota_giovani  \\\n",
       "0      GENERALE                 Q             15.0           30.0   \n",
       "1      GENERALE                 Q             15.0           30.0   \n",
       "2        GENERE                 Q             15.0           30.0   \n",
       "3        GENERE                 Q             15.0           30.0   \n",
       "4           ETÀ                 Q             15.0           30.0   \n",
       "...         ...               ...              ...            ...   \n",
       "54811       NaN               NaN              NaN            NaN   \n",
       "54812       NaN               NaN              NaN            NaN   \n",
       "54813       NaN               NaN              NaN            NaN   \n",
       "54814       NaN               NaN              NaN            NaN   \n",
       "54815       NaN               NaN              NaN            NaN   \n",
       "\n",
       "      cod_mot_deroga                             motivo_deroga  \n",
       "0                  2                    MERCATO DI RIFERIMENTO  \n",
       "1                  5  SCARSA OCCUPAZIONE FEMMINILE NEL SETTORE  \n",
       "2                  2                    MERCATO DI RIFERIMENTO  \n",
       "3                  5  SCARSA OCCUPAZIONE FEMMINILE NEL SETTORE  \n",
       "4                  2                    MERCATO DI RIFERIMENTO  \n",
       "...              ...                                       ...  \n",
       "54811            NaN                                       NaN  \n",
       "54812            NaN                                       NaN  \n",
       "54813            NaN                                       NaN  \n",
       "54814            NaN                                       NaN  \n",
       "54815            NaN                                       NaN  \n",
       "\n",
       "[54816 rows x 12 columns]"
      ]
     },
     "execution_count": 128,
     "metadata": {},
     "output_type": "execute_result"
    }
   ],
   "source": [
    "leftquote = leftpremialita.merge(deroghe_24_exploded, on='cig',how='left')\n",
    "leftquote\n",
    "leftquote = leftquote[['cig','data_pubblicazione_x', 'importo_lotto_x', 'flag_misure_premiali_x',\t'cod_mis_premiale',\t'misura_premiale_x',\t'CATEGORIA','flag_quote_deroga', 'quota_femminile',\t'quota_giovani', 'cod_mot_deroga',\t'motivo_deroga']]\n",
    "leftquote = leftquote.rename(columns={'data_pubblicazione_x': 'data_pubblicazione'})\n",
    "leftquote = leftquote.rename(columns={'importo_lotto_x': 'importo_lotto'})\n",
    "leftquote = leftquote.rename(columns={'flag_misure_premiali_x': 'flag_misure_premiali'})\n",
    "leftquote = leftquote.rename(columns={'misura_premiale_x': 'misura_premiale'})\n",
    "\n",
    "leftquote"
   ]
  },
  {
   "cell_type": "code",
   "execution_count": null,
   "metadata": {},
   "outputs": [],
   "source": [
    "indicatori_comuni\n",
    "\n",
    "print(indicatori_comuni[\"Descrizione Indicatore\"].unique());\n",
    "print(indicatori_comuni[\"Codice Indicatore\"].unique())\n",
    "\n",
    "def conditions_persone(s):\n",
    "    if s['Codice Indicatore'] in [\n",
    "        \"C10.A\",\n",
    "        \"C10.B\",\n",
    "        \"C10.C\",\n",
    "        \"C10.D\",\n",
    "        \"C10.E\",\n",
    "        \"C10.F\",\n",
    "        \"C10.G\",\n",
    "        \"C10.H\",\n",
    "        \"C10IA\",\n",
    "        \"C10IB\",\n",
    "        \"C10IC\",\n",
    "        \"C10ID\",\n",
    "        \"C10IE\",\n",
    "        \"C10IF\",\n",
    "        \"C10IG\",\n",
    "        \"C10IH\",\n",
    "        \"C11.A\",\n",
    "        \"C11.B\",\n",
    "        \"C11.C\",\n",
    "        \"C11.D\",\n",
    "        \"C11.E\",\n",
    "        \"C11.F\",\n",
    "        \"C11.G\",\n",
    "        \"C11.H\",\n",
    "        \"C12\",\n",
    "        \"C14.F\",\n",
    "        \"C14.M\",\n",
    "        \"C4\",\n",
    "        \"C7\",\n",
    "        \"C8.F\",\n",
    "        \"C8.M\"]:\n",
    "        return \"1\"\n",
    "    else:\n",
    "        return 0\n",
    "    \n",
    "indicatori_comuni['FLG_INDICATORI_PERSONE'] = indicatori_comuni.apply(conditions_persone, axis=1)\n",
    "indicatori_comuni\n",
    "\n",
    "indicatori_comuni\n",
    "\n",
    "print(indicatori_comuni[\"Descrizione Indicatore\"].unique());\n",
    "print(indicatori_comuni[\"Codice Indicatore\"].unique())\n",
    "\n",
    "def conditions_persone(s):\n",
    "    if s['Codice Indicatore'] in [\n",
    "        \"C10.A\",\n",
    "        \"C10.B\",\n",
    "        \"C10.C\",\n",
    "        \"C10.D\",\n",
    "        \"C10.E\",\n",
    "        \"C10.F\",\n",
    "        \"C10.G\",\n",
    "        \"C10.H\",\n",
    "        \"C10IA\",\n",
    "        \"C10IB\",\n",
    "        \"C10IC\",\n",
    "        \"C10ID\",\n",
    "        \"C10IE\",\n",
    "        \"C10IF\",\n",
    "        \"C10IG\",\n",
    "        \"C10IH\",\n",
    "        \"C11.A\",\n",
    "        \"C11.B\",\n",
    "        \"C11.C\",\n",
    "        \"C11.D\",\n",
    "        \"C11.E\",\n",
    "        \"C11.F\",\n",
    "        \"C11.G\",\n",
    "        \"C11.H\",\n",
    "        \"C12\",\n",
    "        \"C14.F\",\n",
    "        \"C14.M\",\n",
    "        \"C4\",\n",
    "        \"C7\",\n",
    "        \"C8.F\",\n",
    "        \"C8.M\"]:\n",
    "        return \"1\"\n",
    "    else:\n",
    "        return 0\n",
    "    \n",
    "indicatori_comuni['FLG_INDICATORI_PERSONE'] = indicatori_comuni.apply(conditions_persone, axis=1)\n",
    "indicatori_comuni\n",
    "\n",
    "def conditions_persone(s):\n",
    "    if s['Codice Indicatore'] in [\n",
    "        \"C10.A\",\n",
    "        \"C10.B\",\n",
    "        \"C10.C\",\n",
    "        \"C10.D\",\n",
    "        \"C10.E\",\n",
    "        \"C10.F\",\n",
    "        \"C10.G\",\n",
    "        \"C10.H\",\n",
    "        \"C10IA\",\n",
    "        \"C10IB\",\n",
    "        \"C10IC\",\n",
    "        \"C10ID\",\n",
    "        \"C10IE\",\n",
    "        \"C10IF\",\n",
    "        \"C10IG\",\n",
    "        \"C10IH\",\n",
    "        \"C11.A\",\n",
    "        \"C11.B\",\n",
    "        \"C11.C\",\n",
    "        \"C11.D\",\n",
    "        \"C11.E\",\n",
    "        \"C11.F\",\n",
    "        \"C11.G\",\n",
    "        \"C11.H\",\n",
    "        \"C12\",\n",
    "        \"C14.F\",\n",
    "        \"C14.M\",\n",
    "        \"C4\",\n",
    "        \"C7\",\n",
    "        \"C8.F\",\n",
    "        \"C8.M\"]:\n",
    "        return \"1\"\n",
    "    else:\n",
    "        return 0\n",
    "    \n",
    "indicatori_comuni['FLG_INDICATORI_PERSONE'] = indicatori_comuni.apply(conditions_persone, axis=1)\n",
    "indicatori_comuni\n",
    "\n",
    "\n",
    "def conditions_genere(s):\n",
    "    if s['Codice Indicatore'] in [\n",
    "        \"C10.E\",\n",
    "        \"C10.F\",\n",
    "        \"C10.G\",\n",
    "        \"C10.H\",\n",
    "        \"C10IE\",\n",
    "        \"C10IF\",\n",
    "        \"C10IG\",\n",
    "        \"C10IH\",\n",
    "        \"C11.E\",\n",
    "        \"C11.F\",\n",
    "        \"C11.G\",\n",
    "        \"C11.H\",\n",
    "        \"C14.F\",\n",
    "         \"C8.F\"]:\n",
    "        return \"1\"\n",
    "    else:\n",
    "        return 0\n",
    "\n",
    "indicatori_comuni['FLG_INDICATORI_GENERE'] = indicatori_comuni.apply(conditions_genere, axis=1) \n",
    "indicatori_comuni\n",
    "indicatori_comuni.to_csv(\"indicatori_comuni.csv\", index = False, sep=';')"
   ]
  },
  {
   "cell_type": "code",
   "execution_count": null,
   "metadata": {},
   "outputs": [],
   "source": [
    "p05 = p05.rename(columns={'cig':'CIG'})\n",
    "p03 = p03.rename(columns={'cig':'CIG'})\n",
    "p04 = p04.rename(columns={'cig':'CIG'})\n",
    "def conditions(s):\n",
    "    if s['cod_mis_premiale'] in [1,2,9]:\n",
    "        return \"GENERALE\"\n",
    "    elif s['cod_mis_premiale'] in [3,8,12]:\n",
    "        return \"DISABILI\"\n",
    "    elif s['cod_mis_premiale'] in [4,6,10]:\n",
    "        return \"GENERE\"\n",
    "    elif s['cod_mis_premiale'] in [5,7,11]:\n",
    "        return \"ETÀ\"\n",
    "    else:\n",
    "        return 0\n",
    "    \n",
    "p03['CATEGORIA'] = p03.apply(conditions,axis=1)\n",
    "\n",
    "# left join p5 e p3\n",
    "leftnew_3 = p05.merge(p03, on='CIG',how='left')\n",
    "leftnew_3 = leftnew_3.drop_duplicates()\n",
    "print(leftnew_3.columns)\n",
    "print(leftnew_3.shape)\n",
    "# left join il risultato con p4\n",
    "leftnew_34 = leftnew_3.merge(p04, on='CIG', how='left')\n",
    "leftnew_34 = leftnew_34.drop_duplicates()\n",
    "print(leftnew_34.columns)\n",
    "print(leftnew_34.shape)\n",
    "leftnew_34.to_csv(\"leftnew_34.csv\", index = False, sep=';')"
   ]
  }
 ],
 "metadata": {
  "kernelspec": {
   "display_name": "period",
   "language": "python",
   "name": "python3"
  },
  "language_info": {
   "codemirror_mode": {
    "name": "ipython",
    "version": 3
   },
   "file_extension": ".py",
   "mimetype": "text/x-python",
   "name": "python",
   "nbconvert_exporter": "python",
   "pygments_lexer": "ipython3",
   "version": "3.11.9"
  }
 },
 "nbformat": 4,
 "nbformat_minor": 2
}
