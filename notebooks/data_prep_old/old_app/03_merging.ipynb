{
 "cells": [
  {
   "cell_type": "markdown",
   "metadata": {},
   "source": [
    "titolo\n",
    "P01 = dataset associazione CIG-CUP\n",
    "P03 = dataset CIG-misure premiali\n",
    "P04 = dataset CIG-deroghe \n",
    "P06 = dataset CIG-CUP-anagrafica\n",
    "Tentativi di merge di P06 con P03/P04"
   ]
  },
  {
   "cell_type": "code",
   "execution_count": 105,
   "metadata": {},
   "outputs": [],
   "source": [
    "# dependencies\n",
    "import pandas as pd\n",
    "import numpy as np\n",
    "pd.set_option('display.float_format', lambda x: '%.9f' % x)\n",
    "pd.set_option('display.float_format', str)"
   ]
  },
  {
   "cell_type": "code",
   "execution_count": 106,
   "metadata": {},
   "outputs": [],
   "source": [
    "# datasets\n",
    "p01 = pd.read_csv(\"./datasets/cup_csv.csv\",delimiter=';')\n",
    "p03 = pd.read_excel(\"./datasets/p06-p03-p04_formattati.xlsx\", sheet_name=\"misurepremiali-pnrrpnc_csv\")\n",
    "# dtype=str\n",
    "p04 = pd.read_excel(\"./datasets/p06-p03-p04_formattati.xlsx\", sheet_name=\"indicatori-pnrrpnc_csv\")\n",
    "p06 = pd.read_excel(\"./datasets/p06-p03-p04_formattati.xlsx\", sheet_name=\"PNRR_Gare-Dati_Validati\")"
   ]
  },
  {
   "cell_type": "code",
   "execution_count": 125,
   "metadata": {},
   "outputs": [],
   "source": [
    "p04 = pd.read_excel(\"./datasets/p06-p03-p04_formattati.xlsx\", sheet_name=\"indicatori-pnrrpnc_csv\",dtype=str)"
   ]
  },
  {
   "cell_type": "markdown",
   "metadata": {},
   "source": [
    "Operazioni sui dataset di preprocessing per poter fare merge"
   ]
  },
  {
   "cell_type": "code",
   "execution_count": 126,
   "metadata": {},
   "outputs": [],
   "source": [
    "p01 = p01[[\"CIG\", \"CUP\"]]\n",
    "p03 = p03.rename(columns={'cig':'CIG'})\n",
    "p04 = p04.rename(columns={'cig':'CIG'})"
   ]
  },
  {
   "cell_type": "code",
   "execution_count": 127,
   "metadata": {},
   "outputs": [
    {
     "data": {
      "text/html": [
       "<div>\n",
       "<style scoped>\n",
       "    .dataframe tbody tr th:only-of-type {\n",
       "        vertical-align: middle;\n",
       "    }\n",
       "\n",
       "    .dataframe tbody tr th {\n",
       "        vertical-align: top;\n",
       "    }\n",
       "\n",
       "    .dataframe thead th {\n",
       "        text-align: right;\n",
       "    }\n",
       "</style>\n",
       "<table border=\"1\" class=\"dataframe\">\n",
       "  <thead>\n",
       "    <tr style=\"text-align: right;\">\n",
       "      <th></th>\n",
       "      <th>CIG</th>\n",
       "      <th>flag_quote</th>\n",
       "      <th>quota_femminile</th>\n",
       "      <th>quota_giovanile</th>\n",
       "      <th>cod_mot_deroga</th>\n",
       "      <th>mot_deroga</th>\n",
       "    </tr>\n",
       "  </thead>\n",
       "  <tbody>\n",
       "    <tr>\n",
       "      <th>0</th>\n",
       "      <td>999337491A</td>\n",
       "      <td>N</td>\n",
       "      <td>NaN</td>\n",
       "      <td>NaN</td>\n",
       "      <td>1</td>\n",
       "      <td>IMPORTO RIDOTTO DEL CONTRATTO</td>\n",
       "    </tr>\n",
       "    <tr>\n",
       "      <th>1</th>\n",
       "      <td>947945126F</td>\n",
       "      <td>N</td>\n",
       "      <td>NaN</td>\n",
       "      <td>NaN</td>\n",
       "      <td>8</td>\n",
       "      <td>ALTRO</td>\n",
       "    </tr>\n",
       "    <tr>\n",
       "      <th>2</th>\n",
       "      <td>9494177AB4</td>\n",
       "      <td>N</td>\n",
       "      <td>NaN</td>\n",
       "      <td>NaN</td>\n",
       "      <td>1</td>\n",
       "      <td>IMPORTO RIDOTTO DEL CONTRATTO</td>\n",
       "    </tr>\n",
       "    <tr>\n",
       "      <th>3</th>\n",
       "      <td>9475802F2B</td>\n",
       "      <td>N</td>\n",
       "      <td>NaN</td>\n",
       "      <td>NaN</td>\n",
       "      <td>1</td>\n",
       "      <td>IMPORTO RIDOTTO DEL CONTRATTO</td>\n",
       "    </tr>\n",
       "    <tr>\n",
       "      <th>4</th>\n",
       "      <td>9475802F2B</td>\n",
       "      <td>N</td>\n",
       "      <td>NaN</td>\n",
       "      <td>NaN</td>\n",
       "      <td>8</td>\n",
       "      <td>ALTRO</td>\n",
       "    </tr>\n",
       "    <tr>\n",
       "      <th>...</th>\n",
       "      <td>...</td>\n",
       "      <td>...</td>\n",
       "      <td>...</td>\n",
       "      <td>...</td>\n",
       "      <td>...</td>\n",
       "      <td>...</td>\n",
       "    </tr>\n",
       "    <tr>\n",
       "      <th>193045</th>\n",
       "      <td>A020B19D50</td>\n",
       "      <td>S</td>\n",
       "      <td>NaN</td>\n",
       "      <td>NaN</td>\n",
       "      <td>NaN</td>\n",
       "      <td>NaN</td>\n",
       "    </tr>\n",
       "    <tr>\n",
       "      <th>193046</th>\n",
       "      <td>A0035B63AE</td>\n",
       "      <td>S</td>\n",
       "      <td>NaN</td>\n",
       "      <td>NaN</td>\n",
       "      <td>NaN</td>\n",
       "      <td>NaN</td>\n",
       "    </tr>\n",
       "    <tr>\n",
       "      <th>193047</th>\n",
       "      <td>A01C6CC040</td>\n",
       "      <td>NaN</td>\n",
       "      <td>NaN</td>\n",
       "      <td>NaN</td>\n",
       "      <td>NaN</td>\n",
       "      <td>NaN</td>\n",
       "    </tr>\n",
       "    <tr>\n",
       "      <th>193048</th>\n",
       "      <td>A01C41B7A9</td>\n",
       "      <td>S</td>\n",
       "      <td>NaN</td>\n",
       "      <td>NaN</td>\n",
       "      <td>NaN</td>\n",
       "      <td>NaN</td>\n",
       "    </tr>\n",
       "    <tr>\n",
       "      <th>193049</th>\n",
       "      <td>A011D51429</td>\n",
       "      <td>NaN</td>\n",
       "      <td>NaN</td>\n",
       "      <td>NaN</td>\n",
       "      <td>NaN</td>\n",
       "      <td>NaN</td>\n",
       "    </tr>\n",
       "  </tbody>\n",
       "</table>\n",
       "<p>193050 rows × 6 columns</p>\n",
       "</div>"
      ],
      "text/plain": [
       "               CIG flag_quote quota_femminile quota_giovanile cod_mot_deroga  \\\n",
       "0       999337491A          N             NaN             NaN              1   \n",
       "1       947945126F          N             NaN             NaN              8   \n",
       "2       9494177AB4          N             NaN             NaN              1   \n",
       "3       9475802F2B          N             NaN             NaN              1   \n",
       "4       9475802F2B          N             NaN             NaN              8   \n",
       "...            ...        ...             ...             ...            ...   \n",
       "193045  A020B19D50          S             NaN             NaN            NaN   \n",
       "193046  A0035B63AE          S             NaN             NaN            NaN   \n",
       "193047  A01C6CC040        NaN             NaN             NaN            NaN   \n",
       "193048  A01C41B7A9          S             NaN             NaN            NaN   \n",
       "193049  A011D51429        NaN             NaN             NaN            NaN   \n",
       "\n",
       "                           mot_deroga  \n",
       "0       IMPORTO RIDOTTO DEL CONTRATTO  \n",
       "1                               ALTRO  \n",
       "2       IMPORTO RIDOTTO DEL CONTRATTO  \n",
       "3       IMPORTO RIDOTTO DEL CONTRATTO  \n",
       "4                               ALTRO  \n",
       "...                               ...  \n",
       "193045                            NaN  \n",
       "193046                            NaN  \n",
       "193047                            NaN  \n",
       "193048                            NaN  \n",
       "193049                            NaN  \n",
       "\n",
       "[193050 rows x 6 columns]"
      ]
     },
     "execution_count": 127,
     "metadata": {},
     "output_type": "execute_result"
    }
   ],
   "source": [
    "p04"
   ]
  },
  {
   "cell_type": "code",
   "execution_count": 120,
   "metadata": {},
   "outputs": [],
   "source": [
    "# per ri aggiustare i type\n",
    "p04 = p04.astype({'quota_femminile': float,'quota_giovanile':float})\n",
    "# p04['cod_mot_deroga'] = p04['cod_mot_deroga'].fillna(0).astype(int)\n",
    "# p04['cod_mot_deroga'].replace(0, np.nan,inplace=True)\n"
   ]
  },
  {
   "cell_type": "code",
   "execution_count": 128,
   "metadata": {},
   "outputs": [
    {
     "name": "stdout",
     "output_type": "stream",
     "text": [
      "shape p01: 1048575\n",
      "shape p03: 25278\n",
      "shape p04: 193050\n",
      "shape p06: 65144\n"
     ]
    }
   ],
   "source": [
    "p06.head(5)\n",
    "print('shape p01:',p01.shape[0])\n",
    "print('shape p03:',p03.shape[0])\n",
    "print('shape p04:',p04.shape[0])\n",
    "print('shape p06:',p06.shape[0])"
   ]
  },
  {
   "cell_type": "code",
   "execution_count": 153,
   "metadata": {},
   "outputs": [
    {
     "name": "stdout",
     "output_type": "stream",
     "text": [
      "shape of p06/p04 merged: 23596\n"
     ]
    }
   ],
   "source": [
    "# merging p06/p04 on CIG\n",
    "d_46 = p06.merge(p04,on=\"CIG\",how='inner')\n",
    "print('shape of p06/p04 merged:', d_46.shape[0])\n",
    "#d_46 = d_46.drop_duplicates()\n",
    "#print('shape of p06/p04 merged:', d_46.shape[0])"
   ]
  },
  {
   "cell_type": "code",
   "execution_count": 154,
   "metadata": {},
   "outputs": [
    {
     "name": "stdout",
     "output_type": "stream",
     "text": [
      "shape of p04/p01 merged: 56798\n"
     ]
    }
   ],
   "source": [
    "# merging p04/p01 on CIG\n",
    "d_14 = p04.merge(p01,on='CIG',how='inner')\n",
    "print('shape of p04/p01 merged:',d_14.shape[0])\n",
    "#d_14 = d_14.drop_duplicates()\n",
    "#print('shape of p04/p01 merged:', d_14.shape[0])"
   ]
  },
  {
   "cell_type": "markdown",
   "metadata": {},
   "source": [
    "Non tutti i CIG di p04 (deroghe) ci sono in p06. I matching CIG sono 23596, a fronte di 193050 CIG in P04. Progetti non andati a buon fine? Alcuni CIG di p04 che non trovano corrispondenza in p06 la trovavano in p01, ma non tutti (i matching cig tra p04 e p01 sono 56798). \n"
   ]
  },
  {
   "cell_type": "code",
   "execution_count": 155,
   "metadata": {},
   "outputs": [
    {
     "name": "stdout",
     "output_type": "stream",
     "text": [
      "shape of p04/p03 merged: 28349\n"
     ]
    }
   ],
   "source": [
    "# merging p04/p03 on CIG\n",
    "d_34 = p04.merge(p03,on='CIG',how='inner')\n",
    "print('shape of p04/p03 merged:',d_34.shape[0])\n",
    "#d_34 = d_34.drop_duplicates()\n",
    "#print('shape of p04/p03 merged:',d_34.shape[0])\n",
    "#print(d_34['CIG'].nunique())"
   ]
  },
  {
   "cell_type": "code",
   "execution_count": 156,
   "metadata": {},
   "outputs": [
    {
     "name": "stdout",
     "output_type": "stream",
     "text": [
      "shape temp p06-p03: 5495\n"
     ]
    }
   ],
   "source": [
    "# merging p06/p03 on CIG\n",
    "d_36 = p06.merge(p03,on=\"CIG\",how='inner')\n",
    "print('shape temp p06-p03:',d_36.shape[0])\n",
    "#d_36 = d_36.drop_duplicates()\n",
    "#print('shape temp p06-p03:',d_36.shape[0])"
   ]
  },
  {
   "cell_type": "code",
   "execution_count": 152,
   "metadata": {},
   "outputs": [
    {
     "name": "stdout",
     "output_type": "stream",
     "text": [
      "shape temp p06-p01: 24212\n"
     ]
    }
   ],
   "source": [
    "# merging p06/p01 on CIG\n",
    "d_16 = p06.merge(p01,on=\"CIG\",how='inner')\n",
    "print('shape temp p06-p01:',d_16.shape[0])"
   ]
  }
 ],
 "metadata": {
  "kernelspec": {
   "display_name": "Python 3",
   "language": "python",
   "name": "python3"
  },
  "language_info": {
   "codemirror_mode": {
    "name": "ipython",
    "version": 3
   },
   "file_extension": ".py",
   "mimetype": "text/x-python",
   "name": "python",
   "nbconvert_exporter": "python",
   "pygments_lexer": "ipython3",
   "version": "3.9.13"
  }
 },
 "nbformat": 4,
 "nbformat_minor": 2
}
