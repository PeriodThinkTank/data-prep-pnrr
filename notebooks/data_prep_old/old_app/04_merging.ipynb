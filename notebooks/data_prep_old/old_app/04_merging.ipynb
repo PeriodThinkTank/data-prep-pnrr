{
 "cells": [
  {
   "cell_type": "markdown",
   "metadata": {},
   "source": [
    "Lo scopo è una più completa associazione tra i CIG e i CUP\n",
    "\n",
    "Nel notebook sono svolte le seguenti op:\n",
    "1) Fare merge tra \"P03\" (misure premiali) e \"P01\" (associazione CIG-CUP), ne risulta dataset \"anac_13\".\n",
    "2) Prendere un subset di \"anac_13\" con le righe in cui i CIG sono privi di CUP, ne risulta dataset \"anac_13_unmatched\".\n",
    "3) Fare merge tra P06 (Gare ReGis) con \"anac_13_unmatched\" per vedere se alcuni CIG hanno un corrispondente CUP in p06, ne risulta che un sottoinsieme di CIG orfani ha CUP in P06.\n",
    "4) Fare merge tra P03 con P06 (Gare ReGis)"
   ]
  },
  {
   "cell_type": "code",
   "execution_count": 1,
   "metadata": {},
   "outputs": [],
   "source": [
    "# dependencies\n",
    "import pandas as pd\n",
    "import numpy as np"
   ]
  },
  {
   "cell_type": "code",
   "execution_count": 2,
   "metadata": {},
   "outputs": [],
   "source": [
    "# datasets\n",
    "p01 = pd.read_csv(\"./datasets/cup_csv.csv\",delimiter=';')\n",
    "p03 = pd.read_excel(\"./datasets/p06-p03-p04_formattati.xlsx\", sheet_name=\"misurepremiali-pnrrpnc_csv\")\n",
    "p04 = pd.read_excel(\"./datasets/p06-p03-p04_formattati.xlsx\", sheet_name=\"indicatori-pnrrpnc_csv\")\n",
    "p06 = pd.read_excel(\"./datasets/p06-p03-p04_formattati.xlsx\", sheet_name=\"PNRR_Gare-Dati_Validati\")"
   ]
  },
  {
   "cell_type": "code",
   "execution_count": 3,
   "metadata": {},
   "outputs": [],
   "source": [
    "# preprocessing\n",
    "p01 = p01[[\"CIG\", \"CUP\"]]\n",
    "p03 = p03.rename(columns={'cig':'CIG'})\n",
    "p04 = p04.rename(columns={'cig':'CIG'})"
   ]
  },
  {
   "cell_type": "code",
   "execution_count": 4,
   "metadata": {},
   "outputs": [
    {
     "name": "stdout",
     "output_type": "stream",
     "text": [
      "CIG privi di CUP: 8453\n",
      "Esempi di CIG privi di CUP: ['9976140B27' '996699614C' '99818578F9' ... 'A00A492F95' 'A01CB2FEF6'\n",
      " 'A0149545FB']\n"
     ]
    }
   ],
   "source": [
    "# merging anac dataset p01 (associazione cig-cup) e p03 (premialità)\n",
    "anac_13 = p03.merge(p01, on='CIG',how='left')\n",
    "print('CIG privi di CUP:',anac_13[anac_13['CUP'].isna()]['CIG'].nunique())\n",
    "print('Esempi di CIG privi di CUP:',anac_13[anac_13['CUP'].isna()]['CIG'].unique())"
   ]
  },
  {
   "cell_type": "code",
   "execution_count": 140,
   "metadata": {},
   "outputs": [
    {
     "data": {
      "text/html": [
       "<div>\n",
       "<style scoped>\n",
       "    .dataframe tbody tr th:only-of-type {\n",
       "        vertical-align: middle;\n",
       "    }\n",
       "\n",
       "    .dataframe tbody tr th {\n",
       "        vertical-align: top;\n",
       "    }\n",
       "\n",
       "    .dataframe thead th {\n",
       "        text-align: right;\n",
       "    }\n",
       "</style>\n",
       "<table border=\"1\" class=\"dataframe\">\n",
       "  <thead>\n",
       "    <tr style=\"text-align: right;\">\n",
       "      <th></th>\n",
       "      <th>CIG</th>\n",
       "      <th>cod_mis_premiale</th>\n",
       "      <th>misura_premiale</th>\n",
       "      <th>CUP</th>\n",
       "    </tr>\n",
       "  </thead>\n",
       "  <tbody>\n",
       "    <tr>\n",
       "      <th>7382</th>\n",
       "      <td>9234507C3D</td>\n",
       "      <td>1</td>\n",
       "      <td>NEI TRE ANNI ANTECEDENTI LA DATA DI SCADENZA D...</td>\n",
       "      <td>NaN</td>\n",
       "    </tr>\n",
       "    <tr>\n",
       "      <th>7383</th>\n",
       "      <td>9234507C3D</td>\n",
       "      <td>2</td>\n",
       "      <td>UTILIZZI O SI IMPEGNI A UTILIZZARE SPECIFICI S...</td>\n",
       "      <td>NaN</td>\n",
       "    </tr>\n",
       "  </tbody>\n",
       "</table>\n",
       "</div>"
      ],
      "text/plain": [
       "             CIG  cod_mis_premiale  \\\n",
       "7382  9234507C3D                 1   \n",
       "7383  9234507C3D                 2   \n",
       "\n",
       "                                        misura_premiale  CUP  \n",
       "7382  NEI TRE ANNI ANTECEDENTI LA DATA DI SCADENZA D...  NaN  \n",
       "7383  UTILIZZI O SI IMPEGNI A UTILIZZARE SPECIFICI S...  NaN  "
      ]
     },
     "execution_count": 140,
     "metadata": {},
     "output_type": "execute_result"
    }
   ],
   "source": [
    "# esempio di CIG privo di CUP\n",
    "anac_13[anac_13['CIG']=='9234507C3D']"
   ]
  },
  {
   "cell_type": "code",
   "execution_count": 64,
   "metadata": {},
   "outputs": [],
   "source": [
    "# crea dataset \"anac_13_unmatched\" con CIG privi di CUP, per mergiarlo con p06\n",
    "anac_13_unmatched = anac_13[anac_13['CUP'].isna()]\n",
    "m = anac_13_unmatched.merge(p06,on='CIG',how='left')"
   ]
  },
  {
   "cell_type": "code",
   "execution_count": 136,
   "metadata": {},
   "outputs": [
    {
     "name": "stdout",
     "output_type": "stream",
     "text": [
      "1552 (CIG privi di CUP che hanno \"acquisito\" un CUP dopo il merge)\n"
     ]
    }
   ],
   "source": [
    "# CIG che in p06 hanno un CUP corrispondente\n",
    "matching = m[m['CUP_y'].notna()]\n",
    "# cig senza cup\n",
    "non_matching = m[m['CUP_y'].isna()]\n",
    "print(matching['CIG'].nunique(), '(CIG privi di CUP che hanno \"acquisito\" un CUP dopo il merge)')"
   ]
  },
  {
   "cell_type": "code",
   "execution_count": 137,
   "metadata": {},
   "outputs": [
    {
     "data": {
      "text/plain": [
       "12       9735915B36\n",
       "13       9735915B36\n",
       "31       9465732926\n",
       "34       9735708067\n",
       "35       9735708067\n",
       "            ...    \n",
       "18706    9757982D79\n",
       "18707    9757982D79\n",
       "18708    9757982D79\n",
       "18844    99276392DF\n",
       "18845    99276392DF\n",
       "Name: CIG, Length: 3731, dtype: object"
      ]
     },
     "execution_count": 137,
     "metadata": {},
     "output_type": "execute_result"
    }
   ],
   "source": [
    "# esempi di cig senza cup che hanno cup in p06\n",
    "matching['CIG']"
   ]
  },
  {
   "cell_type": "code",
   "execution_count": 147,
   "metadata": {},
   "outputs": [
    {
     "data": {
      "text/plain": [
       "0        9976140B27\n",
       "1        996699614C\n",
       "2        996699614C\n",
       "3        996699614C\n",
       "4        996699614C\n",
       "            ...    \n",
       "18918    A00A492F95\n",
       "18919    A01CB2FEF6\n",
       "18920    A0149545FB\n",
       "18921    A0149545FB\n",
       "18922    A0149545FB\n",
       "Name: CIG, Length: 15192, dtype: object"
      ]
     },
     "execution_count": 147,
     "metadata": {},
     "output_type": "execute_result"
    }
   ],
   "source": [
    "# esempi di cig ancora senza cup\n",
    "non_matching['CIG']"
   ]
  },
  {
   "cell_type": "code",
   "execution_count": 142,
   "metadata": {},
   "outputs": [
    {
     "data": {
      "text/plain": [
       "Index(['CIG Accordo Quadro'], dtype='object')"
      ]
     },
     "execution_count": 142,
     "metadata": {},
     "output_type": "execute_result"
    }
   ],
   "source": [
    "# il cig di esempio risulta tra i matching now?\n",
    "matching.columns[matching.isin(['9234507C3D']).any()]"
   ]
  },
  {
   "cell_type": "code",
   "execution_count": 146,
   "metadata": {},
   "outputs": [
    {
     "data": {
      "text/plain": [
       "Index(['CIG'], dtype='object')"
      ]
     },
     "execution_count": 146,
     "metadata": {},
     "output_type": "execute_result"
    }
   ],
   "source": [
    "non_matching.columns[non_matching.isin(['9234507C3D']).any()]"
   ]
  },
  {
   "cell_type": "code",
   "execution_count": 120,
   "metadata": {},
   "outputs": [
    {
     "data": {
      "text/plain": [
       "array(['9621836E3D', '962541146F', '9620534BCC', '962102944B',\n",
       "       '96039126E5', '9625829D5E', '962458177E', '9622573E6E',\n",
       "       '96253924C1', '962587100B', '96259132B3', '9623336417',\n",
       "       '9625801645', '9624175873', '9622505653'], dtype=object)"
      ]
     },
     "execution_count": 120,
     "metadata": {},
     "output_type": "execute_result"
    }
   ],
   "source": [
    "matching[matching['CIG Accordo Quadro']=='9234507C3D']['CIG'].unique()"
   ]
  },
  {
   "cell_type": "code",
   "execution_count": 14,
   "metadata": {},
   "outputs": [],
   "source": [
    "# fare merge tra p03 (premialità) e p06\n",
    "merge_36 = p06.merge(p03,on='CIG',how='inner')"
   ]
  },
  {
   "cell_type": "code",
   "execution_count": 5,
   "metadata": {},
   "outputs": [],
   "source": [
    "merge_36 = p03.merge(p06,on='CIG',how='inner')"
   ]
  },
  {
   "cell_type": "code",
   "execution_count": 7,
   "metadata": {},
   "outputs": [
    {
     "data": {
      "text/plain": [
       "11402"
      ]
     },
     "execution_count": 7,
     "metadata": {},
     "output_type": "execute_result"
    }
   ],
   "source": [
    "p03['CIG'].nunique()"
   ]
  },
  {
   "cell_type": "code",
   "execution_count": 8,
   "metadata": {},
   "outputs": [
    {
     "data": {
      "text/plain": [
       "2215"
      ]
     },
     "execution_count": 8,
     "metadata": {},
     "output_type": "execute_result"
    }
   ],
   "source": [
    "merge_36['CIG'].nunique()"
   ]
  },
  {
   "cell_type": "code",
   "execution_count": 9,
   "metadata": {},
   "outputs": [
    {
     "data": {
      "text/plain": [
       "Index(['CIG', 'cod_mis_premiale', 'misura_premiale',\n",
       "       'Codice Univoco Submisura', 'Descrizione Submisura',\n",
       "       'Descrizione Procedura di Aggiudicazione', 'CUP',\n",
       "       'Codice Locale Progetto', 'CIG Accordo Quadro',\n",
       "       'Codice Procedura Utente', 'Modalit� di Realizzazione',\n",
       "       'Codice Interno PDA', 'Oggetto Principale del Contratto',\n",
       "       'Oggetto Gara', 'Data Pubblicazione del CIG',\n",
       "       'Codice Motivo Assenza CIG', 'Descrizione Motivo Assenza CIG',\n",
       "       'Importo Complessivo Gara', 'Importo Aggiudicazione',\n",
       "       'Data Aggiudicazione Definitiva', 'Data di Aggiornamento'],\n",
       "      dtype='object')"
      ]
     },
     "execution_count": 9,
     "metadata": {},
     "output_type": "execute_result"
    }
   ],
   "source": [
    "merge_36.columns"
   ]
  },
  {
   "cell_type": "code",
   "execution_count": 10,
   "metadata": {},
   "outputs": [],
   "source": [
    "merge_37 = p03.merge(p06,left_on='CIG', right_on='CIG Accordo Quadro', how='inner')"
   ]
  },
  {
   "cell_type": "code",
   "execution_count": 14,
   "metadata": {},
   "outputs": [
    {
     "data": {
      "text/plain": [
       "56984"
      ]
     },
     "execution_count": 14,
     "metadata": {},
     "output_type": "execute_result"
    }
   ],
   "source": [
    "p06['CIG'].nunique()"
   ]
  },
  {
   "cell_type": "code",
   "execution_count": 13,
   "metadata": {},
   "outputs": [
    {
     "data": {
      "text/plain": [
       "121"
      ]
     },
     "execution_count": 13,
     "metadata": {},
     "output_type": "execute_result"
    }
   ],
   "source": [
    "merge_37['CIG_x'].nunique()"
   ]
  },
  {
   "cell_type": "code",
   "execution_count": 79,
   "metadata": {},
   "outputs": [
    {
     "data": {
      "text/plain": [
       "2215"
      ]
     },
     "execution_count": 79,
     "metadata": {},
     "output_type": "execute_result"
    }
   ],
   "source": [
    "merge_36['CIG'].nunique()"
   ]
  },
  {
   "cell_type": "code",
   "execution_count": 32,
   "metadata": {},
   "outputs": [
    {
     "data": {
      "text/html": [
       "<div>\n",
       "<style scoped>\n",
       "    .dataframe tbody tr th:only-of-type {\n",
       "        vertical-align: middle;\n",
       "    }\n",
       "\n",
       "    .dataframe tbody tr th {\n",
       "        vertical-align: top;\n",
       "    }\n",
       "\n",
       "    .dataframe thead th {\n",
       "        text-align: right;\n",
       "    }\n",
       "</style>\n",
       "<table border=\"1\" class=\"dataframe\">\n",
       "  <thead>\n",
       "    <tr style=\"text-align: right;\">\n",
       "      <th></th>\n",
       "      <th>CIG</th>\n",
       "      <th>cod_mis_premiale</th>\n",
       "      <th>misura_premiale</th>\n",
       "    </tr>\n",
       "  </thead>\n",
       "  <tbody>\n",
       "    <tr>\n",
       "      <th>0</th>\n",
       "      <td>9976140B27</td>\n",
       "      <td>1</td>\n",
       "      <td>NEI TRE ANNI ANTECEDENTI LA DATA DI SCADENZA D...</td>\n",
       "    </tr>\n",
       "    <tr>\n",
       "      <th>1</th>\n",
       "      <td>996699614C</td>\n",
       "      <td>1</td>\n",
       "      <td>NEI TRE ANNI ANTECEDENTI LA DATA DI SCADENZA D...</td>\n",
       "    </tr>\n",
       "    <tr>\n",
       "      <th>2</th>\n",
       "      <td>996699614C</td>\n",
       "      <td>3</td>\n",
       "      <td>SI IMPEGNI AD ASSUMERE, OLTRE ALLA SOGLIA MINI...</td>\n",
       "    </tr>\n",
       "    <tr>\n",
       "      <th>3</th>\n",
       "      <td>996699614C</td>\n",
       "      <td>4</td>\n",
       "      <td>SI IMPEGNI AD ASSUMERE, OLTRE ALLA SOGLIA MINI...</td>\n",
       "    </tr>\n",
       "    <tr>\n",
       "      <th>4</th>\n",
       "      <td>996699614C</td>\n",
       "      <td>5</td>\n",
       "      <td>SI IMPEGNI AD ASSUMERE, OLTRE ALLA SOGLIA MINI...</td>\n",
       "    </tr>\n",
       "  </tbody>\n",
       "</table>\n",
       "</div>"
      ],
      "text/plain": [
       "          CIG  cod_mis_premiale  \\\n",
       "0  9976140B27                 1   \n",
       "1  996699614C                 1   \n",
       "2  996699614C                 3   \n",
       "3  996699614C                 4   \n",
       "4  996699614C                 5   \n",
       "\n",
       "                                     misura_premiale  \n",
       "0  NEI TRE ANNI ANTECEDENTI LA DATA DI SCADENZA D...  \n",
       "1  NEI TRE ANNI ANTECEDENTI LA DATA DI SCADENZA D...  \n",
       "2  SI IMPEGNI AD ASSUMERE, OLTRE ALLA SOGLIA MINI...  \n",
       "3  SI IMPEGNI AD ASSUMERE, OLTRE ALLA SOGLIA MINI...  \n",
       "4  SI IMPEGNI AD ASSUMERE, OLTRE ALLA SOGLIA MINI...  "
      ]
     },
     "execution_count": 32,
     "metadata": {},
     "output_type": "execute_result"
    }
   ],
   "source": [
    "p03.head()"
   ]
  },
  {
   "cell_type": "code",
   "execution_count": 33,
   "metadata": {},
   "outputs": [],
   "source": [
    "temp = p03.merge(p01, on='CIG',how='left')"
   ]
  },
  {
   "cell_type": "code",
   "execution_count": 36,
   "metadata": {},
   "outputs": [
    {
     "data": {
      "text/plain": [
       "6607"
      ]
     },
     "execution_count": 36,
     "metadata": {},
     "output_type": "execute_result"
    }
   ],
   "source": [
    "temp['CUP'].notna().sum()"
   ]
  },
  {
   "cell_type": "code",
   "execution_count": 25,
   "metadata": {},
   "outputs": [],
   "source": [
    "temp1 = temp.merge(p06,on='CUP',how='left')"
   ]
  },
  {
   "cell_type": "code",
   "execution_count": 26,
   "metadata": {},
   "outputs": [
    {
     "data": {
      "text/plain": [
       "Index(['CIG', 'cod_mis_premiale', 'misura_premiale', 'CUP_x',\n",
       "       'Codice Univoco Submisura', 'Descrizione Submisura',\n",
       "       'Descrizione Procedura di Aggiudicazione', 'CUP_y',\n",
       "       'Codice Locale Progetto', 'CIG Accordo Quadro',\n",
       "       'Codice Procedura Utente', 'Modalit� di Realizzazione',\n",
       "       'Codice Interno PDA', 'Oggetto Principale del Contratto',\n",
       "       'Oggetto Gara', 'Data Pubblicazione del CIG',\n",
       "       'Codice Motivo Assenza CIG', 'Descrizione Motivo Assenza CIG',\n",
       "       'Importo Complessivo Gara', 'Importo Aggiudicazione',\n",
       "       'Data Aggiudicazione Definitiva', 'Data di Aggiornamento'],\n",
       "      dtype='object')"
      ]
     },
     "execution_count": 26,
     "metadata": {},
     "output_type": "execute_result"
    }
   ],
   "source": [
    "temp1.columns"
   ]
  },
  {
   "cell_type": "code",
   "execution_count": 38,
   "metadata": {},
   "outputs": [
    {
     "name": "stdout",
     "output_type": "stream",
     "text": [
      "7400\n"
     ]
    },
    {
     "data": {
      "text/plain": [
       "6088"
      ]
     },
     "execution_count": 38,
     "metadata": {},
     "output_type": "execute_result"
    }
   ],
   "source": [
    "print(temp1['CUP_x'].notna().sum())\n",
    "temp1['CUP_y'].notna().sum()"
   ]
  },
  {
   "cell_type": "code",
   "execution_count": null,
   "metadata": {},
   "outputs": [],
   "source": [
    "temp.mer"
   ]
  }
 ],
 "metadata": {
  "kernelspec": {
   "display_name": "Python 3",
   "language": "python",
   "name": "python3"
  },
  "language_info": {
   "codemirror_mode": {
    "name": "ipython",
    "version": 3
   },
   "file_extension": ".py",
   "mimetype": "text/x-python",
   "name": "python",
   "nbconvert_exporter": "python",
   "pygments_lexer": "ipython3",
   "version": "3.9.13"
  }
 },
 "nbformat": 4,
 "nbformat_minor": 2
}
