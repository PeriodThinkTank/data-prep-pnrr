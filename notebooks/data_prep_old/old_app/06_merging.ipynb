{
 "cells": [
  {
   "cell_type": "markdown",
   "metadata": {},
   "source": [
    "New merge approach per contabilizzare e territorializzare le unità di progetto finanziate col PNRR con misure premiali a tutela dell'equità di genere e intergenerazionale"
   ]
  },
  {
   "cell_type": "code",
   "execution_count": 63,
   "metadata": {},
   "outputs": [],
   "source": [
    "import pandas as pd\n",
    "import numpy as np "
   ]
  },
  {
   "cell_type": "code",
   "execution_count": 5,
   "metadata": {},
   "outputs": [],
   "source": [
    "# datasets\n",
    "p01 = pd.read_csv(\"./datasets/cup_csv.csv\",delimiter=';',encoding = \"ISO-8859-1\")\n",
    "p03 = pd.read_excel(\"./datasets/p06-p03-p04_formattati.xlsx\", sheet_name=\"misurepremiali-pnrrpnc_csv\")\n",
    "#p03 = pd.read_csv(\"./datasets/misurepremiali-pnrrpnc_csv.csv\",delimiter=';',encoding = \"ISO-8859-1\")\n",
    "p04 = pd.read_excel(\"./datasets/p06-p03-p04_formattati.xlsx\", sheet_name=\"indicatori-pnrrpnc_csv\")\n",
    "p06 = pd.read_excel(\"./datasets/p06-p03-p04_formattati.xlsx\", sheet_name=\"PNRR_Gare-Dati_Validati\")"
   ]
  },
  {
   "cell_type": "code",
   "execution_count": 3,
   "metadata": {},
   "outputs": [],
   "source": [
    "p07 = pd.read_csv(\"./datasets/PNRR_Aggiudicatari_Gare-Universo_REGIS_v3.csv\",delimiter=';',encoding = \"ISO-8859-1\")"
   ]
  },
  {
   "cell_type": "code",
   "execution_count": 6,
   "metadata": {},
   "outputs": [],
   "source": [
    "# preprocessing\n",
    "p01 = p01[[\"CIG\", \"CUP\"]]\n",
    "p03 = p03.rename(columns={'cig':'CIG'})"
   ]
  },
  {
   "cell_type": "code",
   "execution_count": 8,
   "metadata": {},
   "outputs": [],
   "source": [
    "# inner join p3 e p1\n",
    "temp1_3 = p03.merge(p01, on='CIG',how='inner')\n",
    "temp1_3.shape\n",
    "matching_cig_1_3 = temp1_3['CIG'].nunique()"
   ]
  },
  {
   "cell_type": "code",
   "execution_count": 86,
   "metadata": {},
   "outputs": [
    {
     "data": {
      "text/plain": [
       "0.258638835292054"
      ]
     },
     "execution_count": 86,
     "metadata": {},
     "output_type": "execute_result"
    }
   ],
   "source": [
    "tot_cig_3 = p03['CIG'].nunique()\n",
    "matching_cig_1_3/tot_cig_3"
   ]
  },
  {
   "cell_type": "code",
   "execution_count": 88,
   "metadata": {},
   "outputs": [
    {
     "data": {
      "text/plain": [
       "0.1910191194527276"
      ]
     },
     "execution_count": 88,
     "metadata": {},
     "output_type": "execute_result"
    }
   ],
   "source": [
    "temp3_7 = p03.merge(p07, on='CIG',how='inner')\n",
    "temp3_7.shape\n",
    "matching_cig_3_7 = temp3_7['CIG'].nunique()\n",
    "matching_cig_3_7/tot_cig_3"
   ]
  },
  {
   "cell_type": "markdown",
   "metadata": {},
   "source": [
    "Approccio suggerito"
   ]
  },
  {
   "cell_type": "code",
   "execution_count": 90,
   "metadata": {},
   "outputs": [
    {
     "data": {
      "text/plain": [
       "Index(['Codice Univoco Submisura', 'Descrizione Submisura', 'CUP',\n",
       "       'Codice Locale Progetto', 'CIG', 'Codice Interno PDA',\n",
       "       'Codice Fiscale/P.IVA', 'Denominazione Aggiudicatario',\n",
       "       'Ruolo Soggetto', 'Descrizione Ruolo Soggetto',\n",
       "       'Forma Giuridica Aggiudicatario',\n",
       "       'Descrizione Forma Giuridica Aggiudicatario',\n",
       "       'Codice ATECO Aggiudicatario', 'Codice Procedura Utente',\n",
       "       'Data di Estrazione'],\n",
       "      dtype='object')"
      ]
     },
     "execution_count": 90,
     "metadata": {},
     "output_type": "execute_result"
    }
   ],
   "source": [
    "p07.columns"
   ]
  },
  {
   "cell_type": "markdown",
   "metadata": {},
   "source": [
    "- usare il file  \"PNRR_Aggiudicatari_Gare-Universo_REGIS_v3.csv\" (P07)\n",
    "- usare  \"cup_csv.zip\", per i soli CIG  \"misurepremiali-pnrrpnc_csv.zip\" (P03)\n",
    "AKA MERGE P06-bis (P07) e P03 \n",
    "- usare CIG e CUP per metterli in correlazione\n",
    "- e poi usare il \"codice_locale_progetto\" per incrociarlo con le localizzazioni di ReGis."
   ]
  },
  {
   "cell_type": "code",
   "execution_count": 7,
   "metadata": {},
   "outputs": [],
   "source": [
    "# merge left from p07 to p03\n",
    "m17 = p07.merge(p03,on='CIG',how='left')"
   ]
  },
  {
   "cell_type": "code",
   "execution_count": 8,
   "metadata": {},
   "outputs": [
    {
     "data": {
      "text/plain": [
       "83300"
      ]
     },
     "execution_count": 8,
     "metadata": {},
     "output_type": "execute_result"
    }
   ],
   "source": [
    "m17['CUP'].notna().sum()"
   ]
  },
  {
   "cell_type": "code",
   "execution_count": null,
   "metadata": {},
   "outputs": [],
   "source": [
    "83300/"
   ]
  },
  {
   "cell_type": "code",
   "execution_count": 121,
   "metadata": {},
   "outputs": [
    {
     "data": {
      "text/plain": [
       "9142"
      ]
     },
     "execution_count": 121,
     "metadata": {},
     "output_type": "execute_result"
    }
   ],
   "source": [
    "m17['cod_mis_premiale'].notna().sum()"
   ]
  },
  {
   "cell_type": "code",
   "execution_count": 130,
   "metadata": {},
   "outputs": [],
   "source": [
    "def conditions(s):\n",
    "    if str(s['cod_mis_premiale']) != 'nan':\n",
    "        return \"yes\"\n",
    "    else:\n",
    "        return \"no\"\n",
    "m17['premialità'] = m17.apply(conditions,axis=1)\n",
    "m17[m17['premialità']=='yes']"
   ]
  },
  {
   "cell_type": "code",
   "execution_count": 135,
   "metadata": {},
   "outputs": [],
   "source": [
    "m17 = m17.drop_duplicates()"
   ]
  },
  {
   "cell_type": "code",
   "execution_count": 136,
   "metadata": {},
   "outputs": [
    {
     "data": {
      "text/html": [
       "<div>\n",
       "<style scoped>\n",
       "    .dataframe tbody tr th:only-of-type {\n",
       "        vertical-align: middle;\n",
       "    }\n",
       "\n",
       "    .dataframe tbody tr th {\n",
       "        vertical-align: top;\n",
       "    }\n",
       "\n",
       "    .dataframe thead th {\n",
       "        text-align: right;\n",
       "    }\n",
       "</style>\n",
       "<table border=\"1\" class=\"dataframe\">\n",
       "  <thead>\n",
       "    <tr style=\"text-align: right;\">\n",
       "      <th></th>\n",
       "      <th>Codice Univoco Submisura</th>\n",
       "      <th>Descrizione Submisura</th>\n",
       "      <th>CUP</th>\n",
       "      <th>Codice Locale Progetto</th>\n",
       "      <th>CIG</th>\n",
       "      <th>Codice Interno PDA</th>\n",
       "      <th>Codice Fiscale/P.IVA</th>\n",
       "      <th>Denominazione Aggiudicatario</th>\n",
       "      <th>Ruolo Soggetto</th>\n",
       "      <th>Descrizione Ruolo Soggetto</th>\n",
       "      <th>Forma Giuridica Aggiudicatario</th>\n",
       "      <th>Descrizione Forma Giuridica Aggiudicatario</th>\n",
       "      <th>Codice ATECO Aggiudicatario</th>\n",
       "      <th>Codice Procedura Utente</th>\n",
       "      <th>Data di Estrazione</th>\n",
       "      <th>cod_mis_premiale</th>\n",
       "      <th>misura_premiale</th>\n",
       "      <th>premialità</th>\n",
       "    </tr>\n",
       "  </thead>\n",
       "  <tbody>\n",
       "    <tr>\n",
       "      <th>3227</th>\n",
       "      <td>M1C2I4.01.04</td>\n",
       "      <td>In-Orbit Economy</td>\n",
       "      <td>F83D22001720005</td>\n",
       "      <td>F83D22001720005</td>\n",
       "      <td>9498798016</td>\n",
       "      <td>5.000171e+09</td>\n",
       "      <td>09105940960</td>\n",
       "      <td>AVIO S.P.A.</td>\n",
       "      <td>8888888801</td>\n",
       "      <td>MANDANTE</td>\n",
       "      <td>10.0</td>\n",
       "      <td>Società per azioni</td>\n",
       "      <td>30.30.09</td>\n",
       "      <td>NaN</td>\n",
       "      <td>04/12/2023</td>\n",
       "      <td>1.0</td>\n",
       "      <td>NEI TRE ANNI ANTECEDENTI LA DATA DI SCADENZA D...</td>\n",
       "      <td>yes</td>\n",
       "    </tr>\n",
       "    <tr>\n",
       "      <th>3228</th>\n",
       "      <td>M1C2I4.01.04</td>\n",
       "      <td>In-Orbit Economy</td>\n",
       "      <td>F83D22001720005</td>\n",
       "      <td>F83D22001720005</td>\n",
       "      <td>9498798016</td>\n",
       "      <td>5.000171e+09</td>\n",
       "      <td>09105940960</td>\n",
       "      <td>AVIO S.P.A.</td>\n",
       "      <td>8888888801</td>\n",
       "      <td>MANDANTE</td>\n",
       "      <td>10.0</td>\n",
       "      <td>Società per azioni</td>\n",
       "      <td>30.30.09</td>\n",
       "      <td>NaN</td>\n",
       "      <td>04/12/2023</td>\n",
       "      <td>2.0</td>\n",
       "      <td>UTILIZZI O SI IMPEGNI A UTILIZZARE SPECIFICI S...</td>\n",
       "      <td>yes</td>\n",
       "    </tr>\n",
       "    <tr>\n",
       "      <th>3229</th>\n",
       "      <td>M1C2I4.01.04</td>\n",
       "      <td>In-Orbit Economy</td>\n",
       "      <td>F83D22001720005</td>\n",
       "      <td>F83D22001720005</td>\n",
       "      <td>9498798016</td>\n",
       "      <td>5.000171e+09</td>\n",
       "      <td>09105940960</td>\n",
       "      <td>AVIO S.P.A.</td>\n",
       "      <td>8888888801</td>\n",
       "      <td>MANDANTE</td>\n",
       "      <td>10.0</td>\n",
       "      <td>Società per azioni</td>\n",
       "      <td>30.30.09</td>\n",
       "      <td>NaN</td>\n",
       "      <td>04/12/2023</td>\n",
       "      <td>6.0</td>\n",
       "      <td>ABBIA, NELL'ULTIMO TRIENNIO, RISPETTATO I PRIN...</td>\n",
       "      <td>yes</td>\n",
       "    </tr>\n",
       "    <tr>\n",
       "      <th>3230</th>\n",
       "      <td>M1C2I4.01.04</td>\n",
       "      <td>In-Orbit Economy</td>\n",
       "      <td>F83D22001720005</td>\n",
       "      <td>F83D22001720005</td>\n",
       "      <td>9498798016</td>\n",
       "      <td>5.000171e+09</td>\n",
       "      <td>09105940960</td>\n",
       "      <td>AVIO S.P.A.</td>\n",
       "      <td>8888888801</td>\n",
       "      <td>MANDANTE</td>\n",
       "      <td>10.0</td>\n",
       "      <td>Società per azioni</td>\n",
       "      <td>30.30.09</td>\n",
       "      <td>NaN</td>\n",
       "      <td>04/12/2023</td>\n",
       "      <td>7.0</td>\n",
       "      <td>ABBIA, NELL'ULTIMO TRIENNIO, ADOTTATO SPECIFIC...</td>\n",
       "      <td>yes</td>\n",
       "    </tr>\n",
       "    <tr>\n",
       "      <th>3231</th>\n",
       "      <td>M1C2I4.01.04</td>\n",
       "      <td>In-Orbit Economy</td>\n",
       "      <td>F83D22001720005</td>\n",
       "      <td>F83D22001720005</td>\n",
       "      <td>9498798016</td>\n",
       "      <td>5.000171e+09</td>\n",
       "      <td>09105940960</td>\n",
       "      <td>AVIO S.P.A.</td>\n",
       "      <td>8888888801</td>\n",
       "      <td>MANDANTE</td>\n",
       "      <td>10.0</td>\n",
       "      <td>Società per azioni</td>\n",
       "      <td>30.30.09</td>\n",
       "      <td>NaN</td>\n",
       "      <td>04/12/2023</td>\n",
       "      <td>8.0</td>\n",
       "      <td>ABBIA, NELL'ULTIMO TRIENNIO, RISPETTATO GLI OB...</td>\n",
       "      <td>yes</td>\n",
       "    </tr>\n",
       "    <tr>\n",
       "      <th>...</th>\n",
       "      <td>...</td>\n",
       "      <td>...</td>\n",
       "      <td>...</td>\n",
       "      <td>...</td>\n",
       "      <td>...</td>\n",
       "      <td>...</td>\n",
       "      <td>...</td>\n",
       "      <td>...</td>\n",
       "      <td>...</td>\n",
       "      <td>...</td>\n",
       "      <td>...</td>\n",
       "      <td>...</td>\n",
       "      <td>...</td>\n",
       "      <td>...</td>\n",
       "      <td>...</td>\n",
       "      <td>...</td>\n",
       "      <td>...</td>\n",
       "      <td>...</td>\n",
       "    </tr>\n",
       "    <tr>\n",
       "      <th>83177</th>\n",
       "      <td>M6C2I1.02.00</td>\n",
       "      <td>Verso un ospedale sicuro e sostenibile</td>\n",
       "      <td>D51B22001600006</td>\n",
       "      <td>D51B22001600006</td>\n",
       "      <td>972626609E</td>\n",
       "      <td>5.000146e+09</td>\n",
       "      <td>02437750736</td>\n",
       "      <td>TECHIN S.R.L.</td>\n",
       "      <td>8888888802</td>\n",
       "      <td>MANDATARIA</td>\n",
       "      <td>11.0</td>\n",
       "      <td>Società a responsabilità limitata</td>\n",
       "      <td>71.12.20</td>\n",
       "      <td>NaN</td>\n",
       "      <td>04/12/2023</td>\n",
       "      <td>5.0</td>\n",
       "      <td>SI IMPEGNI AD ASSUMERE, OLTRE ALLA SOGLIA MINI...</td>\n",
       "      <td>yes</td>\n",
       "    </tr>\n",
       "    <tr>\n",
       "      <th>83186</th>\n",
       "      <td>M6C2I1.02.00</td>\n",
       "      <td>Verso un ospedale sicuro e sostenibile</td>\n",
       "      <td>D61B22001370006</td>\n",
       "      <td>D61B22001370006</td>\n",
       "      <td>9726229215</td>\n",
       "      <td>5.000148e+09</td>\n",
       "      <td>02437750736</td>\n",
       "      <td>TECHIN S.R.L.</td>\n",
       "      <td>8888888802</td>\n",
       "      <td>MANDATARIA</td>\n",
       "      <td>11.0</td>\n",
       "      <td>Società a responsabilità limitata</td>\n",
       "      <td>71.12.20</td>\n",
       "      <td>NaN</td>\n",
       "      <td>04/12/2023</td>\n",
       "      <td>2.0</td>\n",
       "      <td>UTILIZZI O SI IMPEGNI A UTILIZZARE SPECIFICI S...</td>\n",
       "      <td>yes</td>\n",
       "    </tr>\n",
       "    <tr>\n",
       "      <th>83187</th>\n",
       "      <td>M6C2I1.02.00</td>\n",
       "      <td>Verso un ospedale sicuro e sostenibile</td>\n",
       "      <td>D61B22001370006</td>\n",
       "      <td>D61B22001370006</td>\n",
       "      <td>9726229215</td>\n",
       "      <td>5.000148e+09</td>\n",
       "      <td>02437750736</td>\n",
       "      <td>TECHIN S.R.L.</td>\n",
       "      <td>8888888802</td>\n",
       "      <td>MANDATARIA</td>\n",
       "      <td>11.0</td>\n",
       "      <td>Società a responsabilità limitata</td>\n",
       "      <td>71.12.20</td>\n",
       "      <td>NaN</td>\n",
       "      <td>04/12/2023</td>\n",
       "      <td>4.0</td>\n",
       "      <td>SI IMPEGNI AD ASSUMERE, OLTRE ALLA SOGLIA MINI...</td>\n",
       "      <td>yes</td>\n",
       "    </tr>\n",
       "    <tr>\n",
       "      <th>83188</th>\n",
       "      <td>M6C2I1.02.00</td>\n",
       "      <td>Verso un ospedale sicuro e sostenibile</td>\n",
       "      <td>D61B22001370006</td>\n",
       "      <td>D61B22001370006</td>\n",
       "      <td>9726229215</td>\n",
       "      <td>5.000148e+09</td>\n",
       "      <td>02437750736</td>\n",
       "      <td>TECHIN S.R.L.</td>\n",
       "      <td>8888888802</td>\n",
       "      <td>MANDATARIA</td>\n",
       "      <td>11.0</td>\n",
       "      <td>Società a responsabilità limitata</td>\n",
       "      <td>71.12.20</td>\n",
       "      <td>NaN</td>\n",
       "      <td>04/12/2023</td>\n",
       "      <td>5.0</td>\n",
       "      <td>SI IMPEGNI AD ASSUMERE, OLTRE ALLA SOGLIA MINI...</td>\n",
       "      <td>yes</td>\n",
       "    </tr>\n",
       "    <tr>\n",
       "      <th>83196</th>\n",
       "      <td>M6C2I1.02.00</td>\n",
       "      <td>Verso un ospedale sicuro e sostenibile</td>\n",
       "      <td>F46G21001580001</td>\n",
       "      <td>F46G21001580001</td>\n",
       "      <td>9597874030</td>\n",
       "      <td>5.000128e+09</td>\n",
       "      <td>03641991009</td>\n",
       "      <td>ICARIA S.R.L.</td>\n",
       "      <td>999</td>\n",
       "      <td>NON CLASSIFICATO</td>\n",
       "      <td>NaN</td>\n",
       "      <td>NaN</td>\n",
       "      <td>NaN</td>\n",
       "      <td>NaN</td>\n",
       "      <td>04/12/2023</td>\n",
       "      <td>3.0</td>\n",
       "      <td>SI IMPEGNI AD ASSUMERE, OLTRE ALLA SOGLIA MINI...</td>\n",
       "      <td>yes</td>\n",
       "    </tr>\n",
       "  </tbody>\n",
       "</table>\n",
       "<p>8358 rows × 18 columns</p>\n",
       "</div>"
      ],
      "text/plain": [
       "      Codice Univoco Submisura                   Descrizione Submisura  \\\n",
       "3227              M1C2I4.01.04                        In-Orbit Economy   \n",
       "3228              M1C2I4.01.04                        In-Orbit Economy   \n",
       "3229              M1C2I4.01.04                        In-Orbit Economy   \n",
       "3230              M1C2I4.01.04                        In-Orbit Economy   \n",
       "3231              M1C2I4.01.04                        In-Orbit Economy   \n",
       "...                        ...                                     ...   \n",
       "83177             M6C2I1.02.00  Verso un ospedale sicuro e sostenibile   \n",
       "83186             M6C2I1.02.00  Verso un ospedale sicuro e sostenibile   \n",
       "83187             M6C2I1.02.00  Verso un ospedale sicuro e sostenibile   \n",
       "83188             M6C2I1.02.00  Verso un ospedale sicuro e sostenibile   \n",
       "83196             M6C2I1.02.00  Verso un ospedale sicuro e sostenibile   \n",
       "\n",
       "                   CUP Codice Locale Progetto         CIG  Codice Interno PDA  \\\n",
       "3227   F83D22001720005        F83D22001720005  9498798016        5.000171e+09   \n",
       "3228   F83D22001720005        F83D22001720005  9498798016        5.000171e+09   \n",
       "3229   F83D22001720005        F83D22001720005  9498798016        5.000171e+09   \n",
       "3230   F83D22001720005        F83D22001720005  9498798016        5.000171e+09   \n",
       "3231   F83D22001720005        F83D22001720005  9498798016        5.000171e+09   \n",
       "...                ...                    ...         ...                 ...   \n",
       "83177  D51B22001600006        D51B22001600006  972626609E        5.000146e+09   \n",
       "83186  D61B22001370006        D61B22001370006  9726229215        5.000148e+09   \n",
       "83187  D61B22001370006        D61B22001370006  9726229215        5.000148e+09   \n",
       "83188  D61B22001370006        D61B22001370006  9726229215        5.000148e+09   \n",
       "83196  F46G21001580001        F46G21001580001  9597874030        5.000128e+09   \n",
       "\n",
       "      Codice Fiscale/P.IVA Denominazione Aggiudicatario Ruolo Soggetto  \\\n",
       "3227           09105940960                  AVIO S.P.A.     8888888801   \n",
       "3228           09105940960                  AVIO S.P.A.     8888888801   \n",
       "3229           09105940960                  AVIO S.P.A.     8888888801   \n",
       "3230           09105940960                  AVIO S.P.A.     8888888801   \n",
       "3231           09105940960                  AVIO S.P.A.     8888888801   \n",
       "...                    ...                          ...            ...   \n",
       "83177          02437750736                TECHIN S.R.L.     8888888802   \n",
       "83186          02437750736                TECHIN S.R.L.     8888888802   \n",
       "83187          02437750736                TECHIN S.R.L.     8888888802   \n",
       "83188          02437750736                TECHIN S.R.L.     8888888802   \n",
       "83196          03641991009                ICARIA S.R.L.            999   \n",
       "\n",
       "      Descrizione Ruolo Soggetto  Forma Giuridica Aggiudicatario  \\\n",
       "3227                    MANDANTE                            10.0   \n",
       "3228                    MANDANTE                            10.0   \n",
       "3229                    MANDANTE                            10.0   \n",
       "3230                    MANDANTE                            10.0   \n",
       "3231                    MANDANTE                            10.0   \n",
       "...                          ...                             ...   \n",
       "83177                 MANDATARIA                            11.0   \n",
       "83186                 MANDATARIA                            11.0   \n",
       "83187                 MANDATARIA                            11.0   \n",
       "83188                 MANDATARIA                            11.0   \n",
       "83196           NON CLASSIFICATO                             NaN   \n",
       "\n",
       "      Descrizione Forma Giuridica Aggiudicatario Codice ATECO Aggiudicatario  \\\n",
       "3227                          Società per azioni                    30.30.09   \n",
       "3228                          Società per azioni                    30.30.09   \n",
       "3229                          Società per azioni                    30.30.09   \n",
       "3230                          Società per azioni                    30.30.09   \n",
       "3231                          Società per azioni                    30.30.09   \n",
       "...                                          ...                         ...   \n",
       "83177          Società a responsabilità limitata                    71.12.20   \n",
       "83186          Società a responsabilità limitata                    71.12.20   \n",
       "83187          Società a responsabilità limitata                    71.12.20   \n",
       "83188          Società a responsabilità limitata                    71.12.20   \n",
       "83196                                        NaN                         NaN   \n",
       "\n",
       "      Codice Procedura Utente Data di Estrazione  cod_mis_premiale  \\\n",
       "3227                      NaN         04/12/2023               1.0   \n",
       "3228                      NaN         04/12/2023               2.0   \n",
       "3229                      NaN         04/12/2023               6.0   \n",
       "3230                      NaN         04/12/2023               7.0   \n",
       "3231                      NaN         04/12/2023               8.0   \n",
       "...                       ...                ...               ...   \n",
       "83177                     NaN         04/12/2023               5.0   \n",
       "83186                     NaN         04/12/2023               2.0   \n",
       "83187                     NaN         04/12/2023               4.0   \n",
       "83188                     NaN         04/12/2023               5.0   \n",
       "83196                     NaN         04/12/2023               3.0   \n",
       "\n",
       "                                         misura_premiale premialità  \n",
       "3227   NEI TRE ANNI ANTECEDENTI LA DATA DI SCADENZA D...        yes  \n",
       "3228   UTILIZZI O SI IMPEGNI A UTILIZZARE SPECIFICI S...        yes  \n",
       "3229   ABBIA, NELL'ULTIMO TRIENNIO, RISPETTATO I PRIN...        yes  \n",
       "3230   ABBIA, NELL'ULTIMO TRIENNIO, ADOTTATO SPECIFIC...        yes  \n",
       "3231   ABBIA, NELL'ULTIMO TRIENNIO, RISPETTATO GLI OB...        yes  \n",
       "...                                                  ...        ...  \n",
       "83177  SI IMPEGNI AD ASSUMERE, OLTRE ALLA SOGLIA MINI...        yes  \n",
       "83186  UTILIZZI O SI IMPEGNI A UTILIZZARE SPECIFICI S...        yes  \n",
       "83187  SI IMPEGNI AD ASSUMERE, OLTRE ALLA SOGLIA MINI...        yes  \n",
       "83188  SI IMPEGNI AD ASSUMERE, OLTRE ALLA SOGLIA MINI...        yes  \n",
       "83196  SI IMPEGNI AD ASSUMERE, OLTRE ALLA SOGLIA MINI...        yes  \n",
       "\n",
       "[8358 rows x 18 columns]"
      ]
     },
     "execution_count": 136,
     "metadata": {},
     "output_type": "execute_result"
    }
   ],
   "source": [
    "m17[m17['premialità']=='yes']"
   ]
  },
  {
   "cell_type": "markdown",
   "metadata": {},
   "source": [
    "scopo Giuditta: vorrei ottenere questi due indicatori/associazioni\n",
    "- percentuale dei cig del pnrr con una misura premiale\n",
    "- percentuale dei cig del pnrr con quota feminnile/giovanile in deroga.\n",
    "Quindi per trovare tutti i CIG associati al pnrr a prescindere da premialità e deroghe quale dataset devo considerare? Dobbiamo fare l'export dei file con scritto CIG dal 2018 presenti su Anac?\n"
   ]
  },
  {
   "cell_type": "code",
   "execution_count": null,
   "metadata": {},
   "outputs": [],
   "source": []
  },
  {
   "cell_type": "markdown",
   "metadata": {},
   "source": [
    "Richiesta giuditta\n",
    "In P03 mi puoi creare un campo testuale chiamato CATEGORIA popolato così:\n",
    "- se codice=1,2,9 allora \"GENERALE\"\n",
    "- se codice=3,8,12 allora \"DISABILI\"\n",
    "- se codice=4,6,10 allora \"GENERE\"\n",
    "- se codice=5,7,11 allora \"ETA'\""
   ]
  },
  {
   "cell_type": "code",
   "execution_count": 9,
   "metadata": {},
   "outputs": [],
   "source": [
    "def conditions(s):\n",
    "    if s['cod_mis_premiale'] in [1,2,9]:\n",
    "        return \"GENERALE\"\n",
    "    elif s['cod_mis_premiale'] in [3,8,12]:\n",
    "        return \"DISABILI\"\n",
    "    elif s['cod_mis_premiale'] in [4,6,10]:\n",
    "        return \"GENERE\"\n",
    "    elif s['cod_mis_premiale'] in [5,7,11]:\n",
    "        return \"ETA'\"\n",
    "    else:\n",
    "        return 0\n"
   ]
  },
  {
   "cell_type": "code",
   "execution_count": 10,
   "metadata": {},
   "outputs": [],
   "source": [
    "p03['CATEGORIA'] = p03.apply(conditions,axis=1)"
   ]
  },
  {
   "cell_type": "code",
   "execution_count": 11,
   "metadata": {},
   "outputs": [
    {
     "data": {
      "text/plain": [
       "array(['GENERALE', 'DISABILI', 'GENERE', \"ETA'\"], dtype=object)"
      ]
     },
     "execution_count": 11,
     "metadata": {},
     "output_type": "execute_result"
    }
   ],
   "source": [
    "p03['CATEGORIA'].unique()"
   ]
  },
  {
   "cell_type": "code",
   "execution_count": 72,
   "metadata": {},
   "outputs": [
    {
     "name": "stdout",
     "output_type": "stream",
     "text": [
      "CIG con premialità GENERALE 50.8 %\n",
      "CIG con premialità GENERE 52.0 %\n",
      "CIG con premialità DISABILI 32.0 %\n",
      "CIG con premialità ETA' 50.3 %\n"
     ]
    }
   ],
   "source": [
    "tot=p03['CIG'].nunique()\n",
    "gen=p03[p03['CATEGORIA'] == \"GENERALE\"]['CIG'].nunique()\n",
    "fem=p03[p03['CATEGORIA'] == \"GENERE\"]['CIG'].nunique()\n",
    "eta=p03[p03['CATEGORIA'] == \"ETA'\"]['CIG'].nunique()\n",
    "dis=p03[p03['CATEGORIA'] == \"DISABILI\"]['CIG'].nunique()\n",
    "\n",
    "print(\"CIG con premialità GENERALE\",np.round(gen/tot*100,1),\"%\")\n",
    "print(\"CIG con premialità GENERE\", np.round(fem/tot*100,1),\"%\")\n",
    "print(\"CIG con premialità DISABILI\", np.round(dis/tot*100,1),\"%\")\n",
    "print(\"CIG con premialità ETA'\", np.round(eta/tot*100,1),\"%\")\n"
   ]
  },
  {
   "cell_type": "code",
   "execution_count": 31,
   "metadata": {},
   "outputs": [
    {
     "data": {
      "text/plain": [
       "array([\"SI IMPEGNI AD ASSUMERE, OLTRE ALLA SOGLIA MINIMA PERCENTUALE PREVISTA COME REQUISITO DI PARTECIPAZIONE GIOVANI DI ETÀ INFERIORE A TRENTASEI ANNI PER L'ESECUZIONE DEL CONTRATTO O PER LA REALIZZAZIONE DI ATTIVITÀ AD ESSO CONNESSE O STRUMENTALI\",\n",
       "       'ALTRO CRITERIO DI RESPONSABILITÀ SOCIALE NEI CONFRONTI DEI DIVARI INTERGENERAZIONALI',\n",
       "       \"ABBIA, NELL'ULTIMO TRIENNIO, ADOTTATO SPECIFICHE MISURE PER PROMUOVERE LE PARI OPPORTUNITÀ GENERAZIONALI\"],\n",
       "      dtype=object)"
      ]
     },
     "execution_count": 31,
     "metadata": {},
     "output_type": "execute_result"
    }
   ],
   "source": [
    "p03[p03['CATEGORIA'] == \"ETA'\"]['misura_premiale'].unique()"
   ]
  },
  {
   "cell_type": "code",
   "execution_count": 81,
   "metadata": {},
   "outputs": [
    {
     "data": {
      "text/html": [
       "<div>\n",
       "<style scoped>\n",
       "    .dataframe tbody tr th:only-of-type {\n",
       "        vertical-align: middle;\n",
       "    }\n",
       "\n",
       "    .dataframe tbody tr th {\n",
       "        vertical-align: top;\n",
       "    }\n",
       "\n",
       "    .dataframe thead th {\n",
       "        text-align: right;\n",
       "    }\n",
       "</style>\n",
       "<table border=\"1\" class=\"dataframe\">\n",
       "  <thead>\n",
       "    <tr style=\"text-align: right;\">\n",
       "      <th></th>\n",
       "      <th>CIG</th>\n",
       "      <th>cod_mis_premiale</th>\n",
       "      <th>misura_premiale</th>\n",
       "      <th>CATEGORIA</th>\n",
       "    </tr>\n",
       "  </thead>\n",
       "  <tbody>\n",
       "    <tr>\n",
       "      <th>0</th>\n",
       "      <td>9976140B27</td>\n",
       "      <td>1</td>\n",
       "      <td>NEI TRE ANNI ANTECEDENTI LA DATA DI SCADENZA D...</td>\n",
       "      <td>GENERALE</td>\n",
       "    </tr>\n",
       "    <tr>\n",
       "      <th>1</th>\n",
       "      <td>996699614C</td>\n",
       "      <td>1</td>\n",
       "      <td>NEI TRE ANNI ANTECEDENTI LA DATA DI SCADENZA D...</td>\n",
       "      <td>GENERALE</td>\n",
       "    </tr>\n",
       "    <tr>\n",
       "      <th>2</th>\n",
       "      <td>996699614C</td>\n",
       "      <td>3</td>\n",
       "      <td>SI IMPEGNI AD ASSUMERE, OLTRE ALLA SOGLIA MINI...</td>\n",
       "      <td>DISABILI</td>\n",
       "    </tr>\n",
       "    <tr>\n",
       "      <th>3</th>\n",
       "      <td>996699614C</td>\n",
       "      <td>4</td>\n",
       "      <td>SI IMPEGNI AD ASSUMERE, OLTRE ALLA SOGLIA MINI...</td>\n",
       "      <td>GENERE</td>\n",
       "    </tr>\n",
       "    <tr>\n",
       "      <th>4</th>\n",
       "      <td>996699614C</td>\n",
       "      <td>5</td>\n",
       "      <td>SI IMPEGNI AD ASSUMERE, OLTRE ALLA SOGLIA MINI...</td>\n",
       "      <td>ETA'</td>\n",
       "    </tr>\n",
       "    <tr>\n",
       "      <th>...</th>\n",
       "      <td>...</td>\n",
       "      <td>...</td>\n",
       "      <td>...</td>\n",
       "      <td>...</td>\n",
       "    </tr>\n",
       "    <tr>\n",
       "      <th>25273</th>\n",
       "      <td>A0149545FB</td>\n",
       "      <td>10</td>\n",
       "      <td>ALTRO CRITERIO DI RESPONSABILITÃ SOCIALE NEI ...</td>\n",
       "      <td>GENERE</td>\n",
       "    </tr>\n",
       "    <tr>\n",
       "      <th>25274</th>\n",
       "      <td>A0149545FB</td>\n",
       "      <td>11</td>\n",
       "      <td>ALTRO CRITERIO DI RESPONSABILITÃ SOCIALE NEI ...</td>\n",
       "      <td>ETA'</td>\n",
       "    </tr>\n",
       "    <tr>\n",
       "      <th>25275</th>\n",
       "      <td>A0149545FB</td>\n",
       "      <td>12</td>\n",
       "      <td>ALTRO CRITERIO PER LU2019INCLUSIONE DEI LAVORA...</td>\n",
       "      <td>DISABILI</td>\n",
       "    </tr>\n",
       "    <tr>\n",
       "      <th>25276</th>\n",
       "      <td>A00F9F4563</td>\n",
       "      <td>4</td>\n",
       "      <td>SI IMPEGNI AD ASSUMERE, OLTRE ALLA SOGLIA MINI...</td>\n",
       "      <td>GENERE</td>\n",
       "    </tr>\n",
       "    <tr>\n",
       "      <th>25277</th>\n",
       "      <td>A00F9F4563</td>\n",
       "      <td>5</td>\n",
       "      <td>SI IMPEGNI AD ASSUMERE, OLTRE ALLA SOGLIA MINI...</td>\n",
       "      <td>ETA'</td>\n",
       "    </tr>\n",
       "  </tbody>\n",
       "</table>\n",
       "<p>25278 rows × 4 columns</p>\n",
       "</div>"
      ],
      "text/plain": [
       "              CIG  cod_mis_premiale  \\\n",
       "0      9976140B27                 1   \n",
       "1      996699614C                 1   \n",
       "2      996699614C                 3   \n",
       "3      996699614C                 4   \n",
       "4      996699614C                 5   \n",
       "...           ...               ...   \n",
       "25273  A0149545FB                10   \n",
       "25274  A0149545FB                11   \n",
       "25275  A0149545FB                12   \n",
       "25276  A00F9F4563                 4   \n",
       "25277  A00F9F4563                 5   \n",
       "\n",
       "                                         misura_premiale CATEGORIA  \n",
       "0      NEI TRE ANNI ANTECEDENTI LA DATA DI SCADENZA D...  GENERALE  \n",
       "1      NEI TRE ANNI ANTECEDENTI LA DATA DI SCADENZA D...  GENERALE  \n",
       "2      SI IMPEGNI AD ASSUMERE, OLTRE ALLA SOGLIA MINI...  DISABILI  \n",
       "3      SI IMPEGNI AD ASSUMERE, OLTRE ALLA SOGLIA MINI...    GENERE  \n",
       "4      SI IMPEGNI AD ASSUMERE, OLTRE ALLA SOGLIA MINI...      ETA'  \n",
       "...                                                  ...       ...  \n",
       "25273  ALTRO CRITERIO DI RESPONSABILITÃ SOCIALE NEI ...    GENERE  \n",
       "25274  ALTRO CRITERIO DI RESPONSABILITÃ SOCIALE NEI ...      ETA'  \n",
       "25275  ALTRO CRITERIO PER LU2019INCLUSIONE DEI LAVORA...  DISABILI  \n",
       "25276  SI IMPEGNI AD ASSUMERE, OLTRE ALLA SOGLIA MINI...    GENERE  \n",
       "25277  SI IMPEGNI AD ASSUMERE, OLTRE ALLA SOGLIA MINI...      ETA'  \n",
       "\n",
       "[25278 rows x 4 columns]"
      ]
     },
     "execution_count": 81,
     "metadata": {},
     "output_type": "execute_result"
    }
   ],
   "source": [
    "p03.to_csv(\"p03_categorie.csv\", index = False, sep=';')\n",
    "pd.read_csv(\"p03_categorie.csv\", sep=';')"
   ]
  }
 ],
 "metadata": {
  "kernelspec": {
   "display_name": "Python 3",
   "language": "python",
   "name": "python3"
  },
  "language_info": {
   "codemirror_mode": {
    "name": "ipython",
    "version": 3
   },
   "file_extension": ".py",
   "mimetype": "text/x-python",
   "name": "python",
   "nbconvert_exporter": "python",
   "pygments_lexer": "ipython3",
   "version": "3.9.13"
  }
 },
 "nbformat": 4,
 "nbformat_minor": 2
}
