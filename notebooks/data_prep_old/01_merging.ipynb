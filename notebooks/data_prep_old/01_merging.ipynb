{
 "cells": [
  {
   "cell_type": "markdown",
   "metadata": {},
   "source": [
    "### Merging attempts (CIG)"
   ]
  },
  {
   "cell_type": "markdown",
   "metadata": {},
   "source": [
    "Dependencies"
   ]
  },
  {
   "cell_type": "code",
   "execution_count": 1,
   "metadata": {},
   "outputs": [],
   "source": [
    "import numpy as np\n",
    "import pandas as pd"
   ]
  },
  {
   "cell_type": "markdown",
   "metadata": {},
   "source": [
    "Merging ds 01 \"Gare_PNRR\" with ds 02 \"cup.csv\" by CIG per capire se esistono CIG non associati a CUP\n",
    "Se sì, integrarli nel dataset 01."
   ]
  },
  {
   "cell_type": "code",
   "execution_count": 2,
   "metadata": {},
   "outputs": [
    {
     "name": "stdout",
     "output_type": "stream",
     "text": [
      "<_io.TextIOWrapper name='./datasets/PNRR_Gare-Dati_Validati.csv' mode='r' encoding='cp1252'>\n"
     ]
    }
   ],
   "source": [
    "# checks encoding\n",
    "with open(\"./datasets/PNRR_Gare-Dati_Validati.csv\") as f:\n",
    "    print(f)"
   ]
  },
  {
   "cell_type": "code",
   "execution_count": 111,
   "metadata": {},
   "outputs": [],
   "source": [
    "# Loading dataset \"PNRR_Gare-Dati_Validati\" \n",
    "p06 = pd.read_csv(\"./datasets/PNRR_Gare-Dati_Validati.csv\", delimiter=\";\", encoding='cp1252')"
   ]
  },
  {
   "cell_type": "code",
   "execution_count": 117,
   "metadata": {},
   "outputs": [
    {
     "data": {
      "text/plain": [
       "0        9443593B77\n",
       "1        9693467605\n",
       "2               NaN\n",
       "3               NaN\n",
       "4        9902449F69\n",
       "            ...    \n",
       "65139           NaN\n",
       "65140           NaN\n",
       "65141           NaN\n",
       "65142           NaN\n",
       "65143    9326791769\n",
       "Name: CIG, Length: 65144, dtype: object"
      ]
     },
     "execution_count": 117,
     "metadata": {},
     "output_type": "execute_result"
    }
   ],
   "source": [
    "p06['CIG']"
   ]
  },
  {
   "cell_type": "code",
   "execution_count": 44,
   "metadata": {},
   "outputs": [
    {
     "name": "stdout",
     "output_type": "stream",
     "text": [
      "(65144, 19)\n"
     ]
    },
    {
     "data": {
      "text/plain": [
       "Index(['Codice Univoco Submisura', 'Descrizione Submisura',\n",
       "       'Descrizione Procedura di Aggiudicazione', 'CUP',\n",
       "       'Codice Locale Progetto', 'CIG', 'CIG Accordo Quadro',\n",
       "       'Codice Procedura Utente', 'Modalità di Realizzazione',\n",
       "       'Codice Interno PDA', 'Oggetto Principale del Contratto',\n",
       "       'Oggetto Gara', 'Data Pubblicazione del CIG',\n",
       "       'Codice Motivo Assenza CIG', 'Descrizione Motivo Assenza CIG',\n",
       "       'Importo Complessivo Gara', 'Importo Aggiudicazione',\n",
       "       'Data Aggiudicazione Definitiva', 'Data di Aggiornamento'],\n",
       "      dtype='object')"
      ]
     },
     "execution_count": 44,
     "metadata": {},
     "output_type": "execute_result"
    }
   ],
   "source": [
    "p06.head\n",
    "print(p06.shape)\n",
    "p06.columns"
   ]
  },
  {
   "cell_type": "code",
   "execution_count": 118,
   "metadata": {},
   "outputs": [
    {
     "data": {
      "text/plain": [
       "14016"
      ]
     },
     "execution_count": 118,
     "metadata": {},
     "output_type": "execute_result"
    }
   ],
   "source": [
    "p06['CIG'].astype(str).str.contains('E+').sum()"
   ]
  },
  {
   "cell_type": "code",
   "execution_count": 46,
   "metadata": {},
   "outputs": [
    {
     "data": {
      "text/plain": [
       "array([nan, 'ALTRO', 'DLGS 50/2016 ART. 23 COMMA 2: AFFIDAMENTO INTERNO',\n",
       "       'DLGS 80/2021: ART 9 COMMA 1 CONFERIMENTO INCARICHI',\n",
       "       'DLGS 50/2016: ART 192 - REGIME SPECIALE DEGLI AFFIDAMENTI IN HOUSE',\n",
       "       'DLGS 163/2006: ART 19 COMMA 1 LETTERA A) PRIMO CAPOVERSO',\n",
       "       'DLGS 50/2016 ART. 5 PRINCIPI COMUNI IN MATERIA DI ESCLUSIONI PER CONCESSIONI APPALTI PUBBLICI E ACCORDI TRA ENTI E AMMINISTRAZIONI AGGIUDICATRICI NELL AMBITO DEL SETTORE PUBBLICO',\n",
       "       'DLGS 50/2016: ART. 18', 'DLGS 50/2016: ART 17 COMMA 1 LETTERA E)',\n",
       "       \"DLGS 50/2016: ART 11 - APPALTI AGGIUDICATI PER L'ACQUISTO DI ACQUA E PER LA FORNITURA DI ENERGIA O DI COMBUSTIBILI DESTINATI ALLA PRODUZIONE DI ENERGIA\",\n",
       "       'DLGS 163/2006: ART 19 COMMA 2',\n",
       "       'DLGS 50/2016: ART 17 COMMA 1 LETTERA A)',\n",
       "       'DLGS 163/2006: ART 19 COMMA 1 LETTERA E): (CONCERNENTI CONTRATTI DI LAVORO)',\n",
       "       'DLGS 163/2006: ART 24 - APPALTI AGGIUDICATI A SCOPO DI RIVENDITA O DI LOCAZIONE A TERZI',\n",
       "       'DLGS 50/2016: ART 17 COMMA 1 LETTERA G): (CONCERNENTI CONTRATTI DI LAVORO)'],\n",
       "      dtype=object)"
      ]
     },
     "execution_count": 46,
     "metadata": {},
     "output_type": "execute_result"
    }
   ],
   "source": [
    "p06['Descrizione Motivo Assenza CIG'].unique()"
   ]
  },
  {
   "cell_type": "code",
   "execution_count": 5,
   "metadata": {},
   "outputs": [
    {
     "name": "stdout",
     "output_type": "stream",
     "text": [
      "5952\n",
      "5947\n",
      "Codice Univoco Submisura                       0\n",
      "Descrizione Submisura                          0\n",
      "Descrizione Procedura di Aggiudicazione        6\n",
      "CUP                                            0\n",
      "Codice Locale Progetto                         0\n",
      "CIG                                         5952\n",
      "CIG Accordo Quadro                         61535\n",
      "Codice Procedura Utente                    59317\n",
      "Modalità di Realizzazione                  20126\n",
      "Codice Interno PDA                             0\n",
      "Oggetto Principale del Contratto            5975\n",
      "Oggetto Gara                                   7\n",
      "Data Pubblicazione del CIG                     5\n",
      "Codice Motivo Assenza CIG                      0\n",
      "Descrizione Motivo Assenza CIG             59197\n",
      "Importo Complessivo Gara                       0\n",
      "Importo Aggiudicazione                         0\n",
      "Data Aggiudicazione Definitiva             32122\n",
      "Data di Aggiornamento                          9\n",
      "dtype: int64\n"
     ]
    }
   ],
   "source": [
    "p06['CIG']\n",
    "p06_nan_count = p06['CIG'].isna().sum()\n",
    "# Quanti NaNs nella colonna CIG\n",
    "print(p06_nan_count) \n",
    "\n",
    "# Quante giustificate nella colonna motivo assenza\n",
    "print(cig_ds['Descrizione Motivo Assenza CIG'].notna().sum())\n",
    "# Per ogni colonna\n",
    "nan_count = cig_ds.isna().sum()\n",
    "print(nan_count)"
   ]
  },
  {
   "cell_type": "code",
   "execution_count": 7,
   "metadata": {},
   "outputs": [],
   "source": [
    "p06['CIG'] = p06['CIG'].astype(str)"
   ]
  },
  {
   "cell_type": "markdown",
   "metadata": {},
   "source": [
    "Load dataset di matching CIG-CUP"
   ]
  },
  {
   "cell_type": "code",
   "execution_count": 8,
   "metadata": {},
   "outputs": [
    {
     "name": "stdout",
     "output_type": "stream",
     "text": [
      "<_io.TextIOWrapper name='./datasets/cup_csv.csv' mode='r' encoding='cp1252'>\n"
     ]
    }
   ],
   "source": [
    "# checks encoding\n",
    "with open(\"./datasets/cup_csv.csv\") as f:\n",
    "    print(f)"
   ]
  },
  {
   "cell_type": "code",
   "execution_count": 9,
   "metadata": {},
   "outputs": [],
   "source": [
    "#cig_cup = pd.read_csv(\"./datasets/cup_csv.csv\", delimiter=\";\", encoding='cp1252')\n",
    "cig_cup = pd.read_csv(\"./datasets/cup_csv.csv\",delimiter=';')"
   ]
  },
  {
   "cell_type": "code",
   "execution_count": 10,
   "metadata": {},
   "outputs": [
    {
     "name": "stdout",
     "output_type": "stream",
     "text": [
      "Index(['CIG', 'CUP', 'Unnamed: 2', 'Unnamed: 3', 'Unnamed: 4', 'Unnamed: 5',\n",
      "       'Unnamed: 6', 'Unnamed: 7', 'Unnamed: 8', 'Unnamed: 9'],\n",
      "      dtype='object')\n",
      "(1048575, 10)\n"
     ]
    },
    {
     "data": {
      "text/plain": [
       "CIG                 0\n",
       "CUP                 0\n",
       "Unnamed: 2    1048575\n",
       "Unnamed: 3    1048575\n",
       "Unnamed: 4    1048575\n",
       "Unnamed: 5    1048575\n",
       "Unnamed: 6    1048575\n",
       "Unnamed: 7    1048575\n",
       "Unnamed: 8    1048575\n",
       "Unnamed: 9    1048575\n",
       "dtype: int64"
      ]
     },
     "execution_count": 10,
     "metadata": {},
     "output_type": "execute_result"
    }
   ],
   "source": [
    "print(cig_cup.columns)\n",
    "print(cig_cup.shape)\n",
    "cig_cup.isna().sum()"
   ]
  },
  {
   "cell_type": "code",
   "execution_count": 11,
   "metadata": {},
   "outputs": [
    {
     "data": {
      "text/plain": [
       "'98198848A0'"
      ]
     },
     "execution_count": 11,
     "metadata": {},
     "output_type": "execute_result"
    }
   ],
   "source": [
    "cig_cup['CIG'] = cig_cup['CIG'].astype(str)"
   ]
  },
  {
   "cell_type": "code",
   "execution_count": 12,
   "metadata": {},
   "outputs": [
    {
     "data": {
      "text/html": [
       "<div>\n",
       "<style scoped>\n",
       "    .dataframe tbody tr th:only-of-type {\n",
       "        vertical-align: middle;\n",
       "    }\n",
       "\n",
       "    .dataframe tbody tr th {\n",
       "        vertical-align: top;\n",
       "    }\n",
       "\n",
       "    .dataframe thead th {\n",
       "        text-align: right;\n",
       "    }\n",
       "</style>\n",
       "<table border=\"1\" class=\"dataframe\">\n",
       "  <thead>\n",
       "    <tr style=\"text-align: right;\">\n",
       "      <th></th>\n",
       "      <th>CIG</th>\n",
       "      <th>CUP</th>\n",
       "    </tr>\n",
       "  </thead>\n",
       "  <tbody>\n",
       "    <tr>\n",
       "      <th>0</th>\n",
       "      <td>98198848A0</td>\n",
       "      <td>F33I22000020001</td>\n",
       "    </tr>\n",
       "    <tr>\n",
       "      <th>1</th>\n",
       "      <td>9976259D5A</td>\n",
       "      <td>G33C23000040008</td>\n",
       "    </tr>\n",
       "    <tr>\n",
       "      <th>2</th>\n",
       "      <td>971276071B</td>\n",
       "      <td>B47G21000070004</td>\n",
       "    </tr>\n",
       "    <tr>\n",
       "      <th>3</th>\n",
       "      <td>9731791FF9</td>\n",
       "      <td>I51F22004310006</td>\n",
       "    </tr>\n",
       "    <tr>\n",
       "      <th>4</th>\n",
       "      <td>9971602A47</td>\n",
       "      <td>D64D22003740006</td>\n",
       "    </tr>\n",
       "    <tr>\n",
       "      <th>...</th>\n",
       "      <td>...</td>\n",
       "      <td>...</td>\n",
       "    </tr>\n",
       "    <tr>\n",
       "      <th>1048570</th>\n",
       "      <td>Z51053139C</td>\n",
       "      <td>B81J06000750007</td>\n",
       "    </tr>\n",
       "    <tr>\n",
       "      <th>1048571</th>\n",
       "      <td>Z6B3C7C23B</td>\n",
       "      <td>D95F21001890006</td>\n",
       "    </tr>\n",
       "    <tr>\n",
       "      <th>1048572</th>\n",
       "      <td>Z71230FB48</td>\n",
       "      <td>B77D18000220005</td>\n",
       "    </tr>\n",
       "    <tr>\n",
       "      <th>1048573</th>\n",
       "      <td>ZF835647B0</td>\n",
       "      <td>B42F19000210007</td>\n",
       "    </tr>\n",
       "    <tr>\n",
       "      <th>1048574</th>\n",
       "      <td>Z4F3936494</td>\n",
       "      <td>G31B21008660004</td>\n",
       "    </tr>\n",
       "  </tbody>\n",
       "</table>\n",
       "<p>1048575 rows × 2 columns</p>\n",
       "</div>"
      ],
      "text/plain": [
       "                CIG              CUP\n",
       "0        98198848A0  F33I22000020001\n",
       "1        9976259D5A  G33C23000040008\n",
       "2        971276071B  B47G21000070004\n",
       "3        9731791FF9  I51F22004310006\n",
       "4        9971602A47  D64D22003740006\n",
       "...             ...              ...\n",
       "1048570  Z51053139C  B81J06000750007\n",
       "1048571  Z6B3C7C23B  D95F21001890006\n",
       "1048572  Z71230FB48  B77D18000220005\n",
       "1048573  ZF835647B0  B42F19000210007\n",
       "1048574  Z4F3936494  G31B21008660004\n",
       "\n",
       "[1048575 rows x 2 columns]"
      ]
     },
     "execution_count": 12,
     "metadata": {},
     "output_type": "execute_result"
    }
   ],
   "source": [
    "cig_cup = cig_cup[[\"CIG\", \"CUP\"]]\n",
    "cig_cup"
   ]
  },
  {
   "cell_type": "code",
   "execution_count": 13,
   "metadata": {},
   "outputs": [
    {
     "name": "stdout",
     "output_type": "stream",
     "text": [
      "(1048575,)\n"
     ]
    },
    {
     "data": {
      "text/plain": [
       "(65144,)"
      ]
     },
     "execution_count": 13,
     "metadata": {},
     "output_type": "execute_result"
    }
   ],
   "source": [
    "print(cig_cup['CIG'].shape) # dataset associazioni\n",
    "cig_ds['CIG'].shape # dataset cig gare"
   ]
  },
  {
   "cell_type": "markdown",
   "metadata": {},
   "source": [
    "Dataset misure premiali"
   ]
  },
  {
   "cell_type": "code",
   "execution_count": 103,
   "metadata": {},
   "outputs": [],
   "source": [
    "p03 = pd.read_csv(\"./datasets/misurepremiali-pnrrpnc_csv.csv\", delimiter=';')\n",
    "#p03 = pd.read_csv(\"./datasets/misurepremiali-pnrrpnc_csv.csv\", encoding='utf-16-le')"
   ]
  },
  {
   "cell_type": "code",
   "execution_count": 104,
   "metadata": {},
   "outputs": [
    {
     "data": {
      "text/plain": [
       "0        9976140B27\n",
       "1        996699614C\n",
       "2        996699614C\n",
       "3        996699614C\n",
       "4        996699614C\n",
       "            ...    \n",
       "25273    A0149545FB\n",
       "25274    A0149545FB\n",
       "25275    A0149545FB\n",
       "25276    A00F9F4563\n",
       "25277    A00F9F4563\n",
       "Name: cig, Length: 25278, dtype: object"
      ]
     },
     "execution_count": 104,
     "metadata": {},
     "output_type": "execute_result"
    }
   ],
   "source": [
    "p03['cig']"
   ]
  },
  {
   "cell_type": "code",
   "execution_count": 101,
   "metadata": {},
   "outputs": [],
   "source": [
    "p03 = p03.rename(columns={'cig':'CIG'})"
   ]
  },
  {
   "cell_type": "code",
   "execution_count": 102,
   "metadata": {},
   "outputs": [],
   "source": [
    "p03['CIG'] = p03['CIG'].astype(str)"
   ]
  },
  {
   "cell_type": "code",
   "execution_count": 76,
   "metadata": {},
   "outputs": [
    {
     "data": {
      "text/plain": [
       "(25278, 3)"
      ]
     },
     "execution_count": 76,
     "metadata": {},
     "output_type": "execute_result"
    }
   ],
   "source": [
    "p03.shape"
   ]
  },
  {
   "cell_type": "code",
   "execution_count": 77,
   "metadata": {},
   "outputs": [],
   "source": [
    "temp = p03.merge(p06, on ='CIG', how=\"left\")"
   ]
  },
  {
   "cell_type": "code",
   "execution_count": 78,
   "metadata": {},
   "outputs": [
    {
     "name": "stdout",
     "output_type": "stream",
     "text": [
      "(25628, 21)\n"
     ]
    },
    {
     "data": {
      "text/plain": [
       "20133"
      ]
     },
     "execution_count": 78,
     "metadata": {},
     "output_type": "execute_result"
    }
   ],
   "source": [
    "print(temp.shape)\n",
    "temp['CUP'].isna().sum()\n"
   ]
  },
  {
   "cell_type": "code",
   "execution_count": 53,
   "metadata": {},
   "outputs": [
    {
     "data": {
      "text/html": [
       "<div>\n",
       "<style scoped>\n",
       "    .dataframe tbody tr th:only-of-type {\n",
       "        vertical-align: middle;\n",
       "    }\n",
       "\n",
       "    .dataframe tbody tr th {\n",
       "        vertical-align: top;\n",
       "    }\n",
       "\n",
       "    .dataframe thead th {\n",
       "        text-align: right;\n",
       "    }\n",
       "</style>\n",
       "<table border=\"1\" class=\"dataframe\">\n",
       "  <thead>\n",
       "    <tr style=\"text-align: right;\">\n",
       "      <th></th>\n",
       "      <th>CIG</th>\n",
       "      <th>cod_mis_premiale</th>\n",
       "      <th>misura_premiale</th>\n",
       "      <th>Codice Univoco Submisura</th>\n",
       "      <th>Descrizione Submisura</th>\n",
       "      <th>Descrizione Procedura di Aggiudicazione</th>\n",
       "      <th>CUP</th>\n",
       "      <th>Codice Locale Progetto</th>\n",
       "      <th>CIG Accordo Quadro</th>\n",
       "      <th>Codice Procedura Utente</th>\n",
       "      <th>...</th>\n",
       "      <th>Codice Interno PDA</th>\n",
       "      <th>Oggetto Principale del Contratto</th>\n",
       "      <th>Oggetto Gara</th>\n",
       "      <th>Data Pubblicazione del CIG</th>\n",
       "      <th>Codice Motivo Assenza CIG</th>\n",
       "      <th>Descrizione Motivo Assenza CIG</th>\n",
       "      <th>Importo Complessivo Gara</th>\n",
       "      <th>Importo Aggiudicazione</th>\n",
       "      <th>Data Aggiudicazione Definitiva</th>\n",
       "      <th>Data di Aggiornamento</th>\n",
       "    </tr>\n",
       "  </thead>\n",
       "  <tbody>\n",
       "    <tr>\n",
       "      <th>0</th>\n",
       "      <td>9976140B27</td>\n",
       "      <td>1</td>\n",
       "      <td>NEI TRE ANNI ANTECEDENTI LA DATA DI SCADENZA D...</td>\n",
       "      <td>NaN</td>\n",
       "      <td>NaN</td>\n",
       "      <td>NaN</td>\n",
       "      <td>NaN</td>\n",
       "      <td>NaN</td>\n",
       "      <td>NaN</td>\n",
       "      <td>NaN</td>\n",
       "      <td>...</td>\n",
       "      <td>NaN</td>\n",
       "      <td>NaN</td>\n",
       "      <td>NaN</td>\n",
       "      <td>NaN</td>\n",
       "      <td>NaN</td>\n",
       "      <td>NaN</td>\n",
       "      <td>NaN</td>\n",
       "      <td>NaN</td>\n",
       "      <td>NaN</td>\n",
       "      <td>NaN</td>\n",
       "    </tr>\n",
       "    <tr>\n",
       "      <th>1</th>\n",
       "      <td>996699614C</td>\n",
       "      <td>1</td>\n",
       "      <td>NEI TRE ANNI ANTECEDENTI LA DATA DI SCADENZA D...</td>\n",
       "      <td>NaN</td>\n",
       "      <td>NaN</td>\n",
       "      <td>NaN</td>\n",
       "      <td>NaN</td>\n",
       "      <td>NaN</td>\n",
       "      <td>NaN</td>\n",
       "      <td>NaN</td>\n",
       "      <td>...</td>\n",
       "      <td>NaN</td>\n",
       "      <td>NaN</td>\n",
       "      <td>NaN</td>\n",
       "      <td>NaN</td>\n",
       "      <td>NaN</td>\n",
       "      <td>NaN</td>\n",
       "      <td>NaN</td>\n",
       "      <td>NaN</td>\n",
       "      <td>NaN</td>\n",
       "      <td>NaN</td>\n",
       "    </tr>\n",
       "    <tr>\n",
       "      <th>2</th>\n",
       "      <td>996699614C</td>\n",
       "      <td>3</td>\n",
       "      <td>SI IMPEGNI AD ASSUMERE, OLTRE ALLA SOGLIA MINI...</td>\n",
       "      <td>NaN</td>\n",
       "      <td>NaN</td>\n",
       "      <td>NaN</td>\n",
       "      <td>NaN</td>\n",
       "      <td>NaN</td>\n",
       "      <td>NaN</td>\n",
       "      <td>NaN</td>\n",
       "      <td>...</td>\n",
       "      <td>NaN</td>\n",
       "      <td>NaN</td>\n",
       "      <td>NaN</td>\n",
       "      <td>NaN</td>\n",
       "      <td>NaN</td>\n",
       "      <td>NaN</td>\n",
       "      <td>NaN</td>\n",
       "      <td>NaN</td>\n",
       "      <td>NaN</td>\n",
       "      <td>NaN</td>\n",
       "    </tr>\n",
       "    <tr>\n",
       "      <th>3</th>\n",
       "      <td>996699614C</td>\n",
       "      <td>4</td>\n",
       "      <td>SI IMPEGNI AD ASSUMERE, OLTRE ALLA SOGLIA MINI...</td>\n",
       "      <td>NaN</td>\n",
       "      <td>NaN</td>\n",
       "      <td>NaN</td>\n",
       "      <td>NaN</td>\n",
       "      <td>NaN</td>\n",
       "      <td>NaN</td>\n",
       "      <td>NaN</td>\n",
       "      <td>...</td>\n",
       "      <td>NaN</td>\n",
       "      <td>NaN</td>\n",
       "      <td>NaN</td>\n",
       "      <td>NaN</td>\n",
       "      <td>NaN</td>\n",
       "      <td>NaN</td>\n",
       "      <td>NaN</td>\n",
       "      <td>NaN</td>\n",
       "      <td>NaN</td>\n",
       "      <td>NaN</td>\n",
       "    </tr>\n",
       "    <tr>\n",
       "      <th>4</th>\n",
       "      <td>996699614C</td>\n",
       "      <td>5</td>\n",
       "      <td>SI IMPEGNI AD ASSUMERE, OLTRE ALLA SOGLIA MINI...</td>\n",
       "      <td>NaN</td>\n",
       "      <td>NaN</td>\n",
       "      <td>NaN</td>\n",
       "      <td>NaN</td>\n",
       "      <td>NaN</td>\n",
       "      <td>NaN</td>\n",
       "      <td>NaN</td>\n",
       "      <td>...</td>\n",
       "      <td>NaN</td>\n",
       "      <td>NaN</td>\n",
       "      <td>NaN</td>\n",
       "      <td>NaN</td>\n",
       "      <td>NaN</td>\n",
       "      <td>NaN</td>\n",
       "      <td>NaN</td>\n",
       "      <td>NaN</td>\n",
       "      <td>NaN</td>\n",
       "      <td>NaN</td>\n",
       "    </tr>\n",
       "    <tr>\n",
       "      <th>...</th>\n",
       "      <td>...</td>\n",
       "      <td>...</td>\n",
       "      <td>...</td>\n",
       "      <td>...</td>\n",
       "      <td>...</td>\n",
       "      <td>...</td>\n",
       "      <td>...</td>\n",
       "      <td>...</td>\n",
       "      <td>...</td>\n",
       "      <td>...</td>\n",
       "      <td>...</td>\n",
       "      <td>...</td>\n",
       "      <td>...</td>\n",
       "      <td>...</td>\n",
       "      <td>...</td>\n",
       "      <td>...</td>\n",
       "      <td>...</td>\n",
       "      <td>...</td>\n",
       "      <td>...</td>\n",
       "      <td>...</td>\n",
       "      <td>...</td>\n",
       "    </tr>\n",
       "    <tr>\n",
       "      <th>25623</th>\n",
       "      <td>A0149545FB</td>\n",
       "      <td>10</td>\n",
       "      <td>ALTRO CRITERIO DI RESPONSABILITÀ SOCIALE NEI C...</td>\n",
       "      <td>NaN</td>\n",
       "      <td>NaN</td>\n",
       "      <td>NaN</td>\n",
       "      <td>NaN</td>\n",
       "      <td>NaN</td>\n",
       "      <td>NaN</td>\n",
       "      <td>NaN</td>\n",
       "      <td>...</td>\n",
       "      <td>NaN</td>\n",
       "      <td>NaN</td>\n",
       "      <td>NaN</td>\n",
       "      <td>NaN</td>\n",
       "      <td>NaN</td>\n",
       "      <td>NaN</td>\n",
       "      <td>NaN</td>\n",
       "      <td>NaN</td>\n",
       "      <td>NaN</td>\n",
       "      <td>NaN</td>\n",
       "    </tr>\n",
       "    <tr>\n",
       "      <th>25624</th>\n",
       "      <td>A0149545FB</td>\n",
       "      <td>11</td>\n",
       "      <td>ALTRO CRITERIO DI RESPONSABILITÀ SOCIALE NEI C...</td>\n",
       "      <td>NaN</td>\n",
       "      <td>NaN</td>\n",
       "      <td>NaN</td>\n",
       "      <td>NaN</td>\n",
       "      <td>NaN</td>\n",
       "      <td>NaN</td>\n",
       "      <td>NaN</td>\n",
       "      <td>...</td>\n",
       "      <td>NaN</td>\n",
       "      <td>NaN</td>\n",
       "      <td>NaN</td>\n",
       "      <td>NaN</td>\n",
       "      <td>NaN</td>\n",
       "      <td>NaN</td>\n",
       "      <td>NaN</td>\n",
       "      <td>NaN</td>\n",
       "      <td>NaN</td>\n",
       "      <td>NaN</td>\n",
       "    </tr>\n",
       "    <tr>\n",
       "      <th>25625</th>\n",
       "      <td>A0149545FB</td>\n",
       "      <td>12</td>\n",
       "      <td>ALTRO CRITERIO PER LU2019INCLUSIONE DEI LAVORA...</td>\n",
       "      <td>NaN</td>\n",
       "      <td>NaN</td>\n",
       "      <td>NaN</td>\n",
       "      <td>NaN</td>\n",
       "      <td>NaN</td>\n",
       "      <td>NaN</td>\n",
       "      <td>NaN</td>\n",
       "      <td>...</td>\n",
       "      <td>NaN</td>\n",
       "      <td>NaN</td>\n",
       "      <td>NaN</td>\n",
       "      <td>NaN</td>\n",
       "      <td>NaN</td>\n",
       "      <td>NaN</td>\n",
       "      <td>NaN</td>\n",
       "      <td>NaN</td>\n",
       "      <td>NaN</td>\n",
       "      <td>NaN</td>\n",
       "    </tr>\n",
       "    <tr>\n",
       "      <th>25626</th>\n",
       "      <td>A00F9F4563</td>\n",
       "      <td>4</td>\n",
       "      <td>SI IMPEGNI AD ASSUMERE, OLTRE ALLA SOGLIA MINI...</td>\n",
       "      <td>NaN</td>\n",
       "      <td>NaN</td>\n",
       "      <td>NaN</td>\n",
       "      <td>NaN</td>\n",
       "      <td>NaN</td>\n",
       "      <td>NaN</td>\n",
       "      <td>NaN</td>\n",
       "      <td>...</td>\n",
       "      <td>NaN</td>\n",
       "      <td>NaN</td>\n",
       "      <td>NaN</td>\n",
       "      <td>NaN</td>\n",
       "      <td>NaN</td>\n",
       "      <td>NaN</td>\n",
       "      <td>NaN</td>\n",
       "      <td>NaN</td>\n",
       "      <td>NaN</td>\n",
       "      <td>NaN</td>\n",
       "    </tr>\n",
       "    <tr>\n",
       "      <th>25627</th>\n",
       "      <td>A00F9F4563</td>\n",
       "      <td>5</td>\n",
       "      <td>SI IMPEGNI AD ASSUMERE, OLTRE ALLA SOGLIA MINI...</td>\n",
       "      <td>NaN</td>\n",
       "      <td>NaN</td>\n",
       "      <td>NaN</td>\n",
       "      <td>NaN</td>\n",
       "      <td>NaN</td>\n",
       "      <td>NaN</td>\n",
       "      <td>NaN</td>\n",
       "      <td>...</td>\n",
       "      <td>NaN</td>\n",
       "      <td>NaN</td>\n",
       "      <td>NaN</td>\n",
       "      <td>NaN</td>\n",
       "      <td>NaN</td>\n",
       "      <td>NaN</td>\n",
       "      <td>NaN</td>\n",
       "      <td>NaN</td>\n",
       "      <td>NaN</td>\n",
       "      <td>NaN</td>\n",
       "    </tr>\n",
       "  </tbody>\n",
       "</table>\n",
       "<p>25628 rows × 21 columns</p>\n",
       "</div>"
      ],
      "text/plain": [
       "              CIG  cod_mis_premiale  \\\n",
       "0      9976140B27                 1   \n",
       "1      996699614C                 1   \n",
       "2      996699614C                 3   \n",
       "3      996699614C                 4   \n",
       "4      996699614C                 5   \n",
       "...           ...               ...   \n",
       "25623  A0149545FB                10   \n",
       "25624  A0149545FB                11   \n",
       "25625  A0149545FB                12   \n",
       "25626  A00F9F4563                 4   \n",
       "25627  A00F9F4563                 5   \n",
       "\n",
       "                                         misura_premiale  \\\n",
       "0      NEI TRE ANNI ANTECEDENTI LA DATA DI SCADENZA D...   \n",
       "1      NEI TRE ANNI ANTECEDENTI LA DATA DI SCADENZA D...   \n",
       "2      SI IMPEGNI AD ASSUMERE, OLTRE ALLA SOGLIA MINI...   \n",
       "3      SI IMPEGNI AD ASSUMERE, OLTRE ALLA SOGLIA MINI...   \n",
       "4      SI IMPEGNI AD ASSUMERE, OLTRE ALLA SOGLIA MINI...   \n",
       "...                                                  ...   \n",
       "25623  ALTRO CRITERIO DI RESPONSABILITÀ SOCIALE NEI C...   \n",
       "25624  ALTRO CRITERIO DI RESPONSABILITÀ SOCIALE NEI C...   \n",
       "25625  ALTRO CRITERIO PER LU2019INCLUSIONE DEI LAVORA...   \n",
       "25626  SI IMPEGNI AD ASSUMERE, OLTRE ALLA SOGLIA MINI...   \n",
       "25627  SI IMPEGNI AD ASSUMERE, OLTRE ALLA SOGLIA MINI...   \n",
       "\n",
       "      Codice Univoco Submisura Descrizione Submisura  \\\n",
       "0                          NaN                   NaN   \n",
       "1                          NaN                   NaN   \n",
       "2                          NaN                   NaN   \n",
       "3                          NaN                   NaN   \n",
       "4                          NaN                   NaN   \n",
       "...                        ...                   ...   \n",
       "25623                      NaN                   NaN   \n",
       "25624                      NaN                   NaN   \n",
       "25625                      NaN                   NaN   \n",
       "25626                      NaN                   NaN   \n",
       "25627                      NaN                   NaN   \n",
       "\n",
       "      Descrizione Procedura di Aggiudicazione  CUP Codice Locale Progetto  \\\n",
       "0                                         NaN  NaN                    NaN   \n",
       "1                                         NaN  NaN                    NaN   \n",
       "2                                         NaN  NaN                    NaN   \n",
       "3                                         NaN  NaN                    NaN   \n",
       "4                                         NaN  NaN                    NaN   \n",
       "...                                       ...  ...                    ...   \n",
       "25623                                     NaN  NaN                    NaN   \n",
       "25624                                     NaN  NaN                    NaN   \n",
       "25625                                     NaN  NaN                    NaN   \n",
       "25626                                     NaN  NaN                    NaN   \n",
       "25627                                     NaN  NaN                    NaN   \n",
       "\n",
       "      CIG Accordo Quadro Codice Procedura Utente  ... Codice Interno PDA  \\\n",
       "0                    NaN                     NaN  ...                NaN   \n",
       "1                    NaN                     NaN  ...                NaN   \n",
       "2                    NaN                     NaN  ...                NaN   \n",
       "3                    NaN                     NaN  ...                NaN   \n",
       "4                    NaN                     NaN  ...                NaN   \n",
       "...                  ...                     ...  ...                ...   \n",
       "25623                NaN                     NaN  ...                NaN   \n",
       "25624                NaN                     NaN  ...                NaN   \n",
       "25625                NaN                     NaN  ...                NaN   \n",
       "25626                NaN                     NaN  ...                NaN   \n",
       "25627                NaN                     NaN  ...                NaN   \n",
       "\n",
       "       Oggetto Principale del Contratto Oggetto Gara  \\\n",
       "0                                   NaN          NaN   \n",
       "1                                   NaN          NaN   \n",
       "2                                   NaN          NaN   \n",
       "3                                   NaN          NaN   \n",
       "4                                   NaN          NaN   \n",
       "...                                 ...          ...   \n",
       "25623                               NaN          NaN   \n",
       "25624                               NaN          NaN   \n",
       "25625                               NaN          NaN   \n",
       "25626                               NaN          NaN   \n",
       "25627                               NaN          NaN   \n",
       "\n",
       "      Data Pubblicazione del CIG Codice Motivo Assenza CIG  \\\n",
       "0                            NaN                       NaN   \n",
       "1                            NaN                       NaN   \n",
       "2                            NaN                       NaN   \n",
       "3                            NaN                       NaN   \n",
       "4                            NaN                       NaN   \n",
       "...                          ...                       ...   \n",
       "25623                        NaN                       NaN   \n",
       "25624                        NaN                       NaN   \n",
       "25625                        NaN                       NaN   \n",
       "25626                        NaN                       NaN   \n",
       "25627                        NaN                       NaN   \n",
       "\n",
       "       Descrizione Motivo Assenza CIG Importo Complessivo Gara  \\\n",
       "0                                 NaN                      NaN   \n",
       "1                                 NaN                      NaN   \n",
       "2                                 NaN                      NaN   \n",
       "3                                 NaN                      NaN   \n",
       "4                                 NaN                      NaN   \n",
       "...                               ...                      ...   \n",
       "25623                             NaN                      NaN   \n",
       "25624                             NaN                      NaN   \n",
       "25625                             NaN                      NaN   \n",
       "25626                             NaN                      NaN   \n",
       "25627                             NaN                      NaN   \n",
       "\n",
       "      Importo Aggiudicazione Data Aggiudicazione Definitiva  \\\n",
       "0                        NaN                            NaN   \n",
       "1                        NaN                            NaN   \n",
       "2                        NaN                            NaN   \n",
       "3                        NaN                            NaN   \n",
       "4                        NaN                            NaN   \n",
       "...                      ...                            ...   \n",
       "25623                    NaN                            NaN   \n",
       "25624                    NaN                            NaN   \n",
       "25625                    NaN                            NaN   \n",
       "25626                    NaN                            NaN   \n",
       "25627                    NaN                            NaN   \n",
       "\n",
       "      Data di Aggiornamento  \n",
       "0                       NaN  \n",
       "1                       NaN  \n",
       "2                       NaN  \n",
       "3                       NaN  \n",
       "4                       NaN  \n",
       "...                     ...  \n",
       "25623                   NaN  \n",
       "25624                   NaN  \n",
       "25625                   NaN  \n",
       "25626                   NaN  \n",
       "25627                   NaN  \n",
       "\n",
       "[25628 rows x 21 columns]"
      ]
     },
     "execution_count": 53,
     "metadata": {},
     "output_type": "execute_result"
    }
   ],
   "source": [
    "temp"
   ]
  },
  {
   "cell_type": "code",
   "execution_count": null,
   "metadata": {},
   "outputs": [],
   "source": [
    "pd.read_excel('path', sheet=\"\")"
   ]
  },
  {
   "cell_type": "code",
   "execution_count": 42,
   "metadata": {},
   "outputs": [
    {
     "data": {
      "text/plain": [
       "56985"
      ]
     },
     "execution_count": 42,
     "metadata": {},
     "output_type": "execute_result"
    }
   ],
   "source": [
    "p06['CIG'].nunique()"
   ]
  }
 ],
 "metadata": {
  "kernelspec": {
   "display_name": "Python 3",
   "language": "python",
   "name": "python3"
  },
  "language_info": {
   "codemirror_mode": {
    "name": "ipython",
    "version": 3
   },
   "file_extension": ".py",
   "mimetype": "text/x-python",
   "name": "python",
   "nbconvert_exporter": "python",
   "pygments_lexer": "ipython3",
   "version": "3.9.13"
  }
 },
 "nbformat": 4,
 "nbformat_minor": 2
}
