{
 "cells": [
  {
   "cell_type": "markdown",
   "metadata": {},
   "source": [
    "Creazione BASE DATI dataset finale"
   ]
  },
  {
   "cell_type": "markdown",
   "metadata": {},
   "source": [
    "Dependencies"
   ]
  },
  {
   "cell_type": "code",
   "execution_count": 1,
   "metadata": {},
   "outputs": [],
   "source": [
    "import pandas as pd\n",
    "import numpy as np "
   ]
  },
  {
   "cell_type": "markdown",
   "metadata": {},
   "source": [
    "Datasets"
   ]
  },
  {
   "cell_type": "code",
   "execution_count": 22,
   "metadata": {},
   "outputs": [
    {
     "name": "stderr",
     "output_type": "stream",
     "text": [
      "C:\\Users\\Alessandra\\AppData\\Local\\Temp\\ipykernel_2788\\1520190168.py:1: DtypeWarning: Columns (51) have mixed types. Specify dtype option on import or set low_memory=False.\n",
      "  p05 = pd.read_csv(\"./cig_pnrr_anac.csv/cig_pnrr_anac.csv\",sep=\",\")\n"
     ]
    }
   ],
   "source": [
    "p05 = pd.read_csv(\"./cig_pnrr_anac.csv/cig_pnrr_anac.csv\",sep=\",\")\n",
    "p03 = pd.read_csv(\"./datasets/misurepremiali-pnrrpnc_csv.csv\",delimiter=';')\n",
    "p04 = pd.read_csv(\"./datasets/indicatori-pnrrpnc_csv.csv\",delimiter=';')"
   ]
  },
  {
   "cell_type": "code",
   "execution_count": 23,
   "metadata": {},
   "outputs": [],
   "source": [
    "p01 = pd.read_csv(\"./datasets/cup_csv.csv\",delimiter=';',encoding = \"ISO-8859-1\")\n",
    "p02 = pd.read_excel(\"./datasets/CUP_PNRR_2023_12_08.xlsx\")\n",
    "comuni = pd.read_csv(\"./datasets/Elenco-comuni-italiani.csv\",delimiter=';',encoding = \"ISO-8859-1\")\n",
    "missioni_map = pd.read_json(\"./missioni_pnrr.json\", orient=\"index\")"
   ]
  },
  {
   "cell_type": "markdown",
   "metadata": {},
   "source": [
    "Pre-processing dei dataset"
   ]
  },
  {
   "cell_type": "code",
   "execution_count": 24,
   "metadata": {},
   "outputs": [],
   "source": [
    "# preprocessing\n",
    "p05 = p05.rename(columns={'cig':'CIG'})\n",
    "p03 = p03.rename(columns={'cig':'CIG'})\n",
    "p04 = p04.rename(columns={'cig':'CIG'})"
   ]
  },
  {
   "cell_type": "code",
   "execution_count": 25,
   "metadata": {},
   "outputs": [],
   "source": [
    "# pre-processing p03\n",
    "# add colonna 'CATEGORIA'\n",
    "def conditions(s):\n",
    "    if s['cod_mis_premiale'] in [1,2,9]:\n",
    "        return \"GENERALE\"\n",
    "    elif s['cod_mis_premiale'] in [3,8,12]:\n",
    "        return \"DISABILI\"\n",
    "    elif s['cod_mis_premiale'] in [4,6,10]:\n",
    "        return \"GENERE\"\n",
    "    elif s['cod_mis_premiale'] in [5,7,11]:\n",
    "        return \"ETÀ\"\n",
    "    else:\n",
    "        return 0\n",
    "    \n",
    "p03['CATEGORIA'] = p03.apply(conditions,axis=1)"
   ]
  },
  {
   "cell_type": "code",
   "execution_count": 26,
   "metadata": {},
   "outputs": [],
   "source": [
    "# pre-processing p05 pnew\n",
    "# add colonna 'CLASSE_IMPORTO' \n",
    "pd.set_option('display.float_format', lambda x: '%.2f' % x)\n",
    "def map_importo(importo):\n",
    "    if importo <= 100000:\n",
    "        return 'BASSA'\n",
    "    elif importo <= 1000000:\n",
    "        return 'MEDIA'\n",
    "    else:\n",
    "        return 'ALTA'\n",
    "    \n",
    "p05['CLASSE_IMPORTO'] = p05['importo_complessivo_gara'].apply(map_importo)\n",
    "# add colonna 'REGIONI'\n",
    "prov_reg = comuni[['Denominazione Regione','Denominazione dell\\'Unità territoriale sovracomunale \\n(valida a fini statistici)']]\n",
    "prov_reg = prov_reg.rename(columns={'Denominazione dell\\'Unità territoriale sovracomunale \\n(valida a fini statistici)':'Denominazione sovracomunale','Denominazione Regione':'Regione'})\n",
    "prov_reg['Denominazione sovracomunale']=prov_reg['Denominazione sovracomunale'].replace(to_replace=r\"Valle d'Aosta/Vallée d'Aoste\", value='Aosta', regex=False)\n",
    "prov_reg['Denominazione sovracomunale']=prov_reg['Denominazione sovracomunale'].replace(to_replace=r\"Bolzano/Bozen\", value='Bolzano',regex=False)\n",
    "prov_reg['Denominazione sovracomunale']=prov_reg['Denominazione sovracomunale'].str.upper()\n",
    "prov_reg=prov_reg.drop_duplicates()\n",
    "p05=p05.merge(prov_reg,left_on='provincia', right_on='Denominazione sovracomunale',how='left')\n",
    "p05=p05.drop_duplicates()\n",
    "#p05_new = p05[['CIG','importo_complessivo_gara','CLASSE_IMPORTO', 'luogo_istat', 'provincia', 'Denominazione sovracomunale','Regione','data_pubblicazione']]"
   ]
  },
  {
   "cell_type": "code",
   "execution_count": 27,
   "metadata": {},
   "outputs": [
    {
     "data": {
      "text/plain": [
       "dtype('float64')"
      ]
     },
     "execution_count": 27,
     "metadata": {},
     "output_type": "execute_result"
    }
   ],
   "source": [
    "p05['importo_complessivo_gara'].dtype\n",
    "p02['COSTO_PROGETTO'].dtype\n",
    "p02['IMPORTO_FINANZIAMENTO'].dtype"
   ]
  },
  {
   "cell_type": "code",
   "execution_count": 28,
   "metadata": {},
   "outputs": [],
   "source": [
    "# pre-processing p02\n",
    "# add colonna 'CODICE COMPONENTE', 'CODICE MISSIONE', 'COMPONENTE', 'INVESTIMENTO' \n",
    "def map_comp(tematica):\n",
    "    if tematica.count('-')==1:\n",
    "        componente = tematica[6:tematica.find('-')-1]\n",
    "    else:\n",
    "        componente = tematica[6:tematica.find('I')-4]\n",
    "    return componente\n",
    "\n",
    "def map_investimento(tematica):\n",
    "    # con numeri\n",
    "    if tematica.count('-')==1:\n",
    "        investimento = tematica[tematica.find('-')+2:]\n",
    "    else:\n",
    "        first = tematica.find('-')+1\n",
    "        tematica = tematica[first:]\n",
    "        investimento = tematica[tematica.find('-')+2:]\n",
    "    return investimento\n",
    "\n",
    "p02[\"CODICE_COMPONENTE\"] = p02[\"NOME_TEMATICA\"].apply(lambda x: x[:4])\n",
    "p02[\"CODICE_MISSIONE\"] = p02[\"NOME_TEMATICA\"].apply(lambda x: x[:2])\n",
    "p02[\"COMPONENTE\"] = p02['NOME_TEMATICA'].apply(map_comp)\n",
    "p02[\"INVESTIMENTO\"] = p02['NOME_TEMATICA'].apply(map_investimento)\n",
    "# add colonna 'MISSIONE'\n",
    "missioni_map.columns = [\"MISSIONE\"]\n",
    "p02 = p02.merge(missioni_map,left_on=\"CODICE_MISSIONE\", right_on=missioni_map.index, how='inner')\n",
    "p02 = p02.drop_duplicates()"
   ]
  },
  {
   "cell_type": "markdown",
   "metadata": {},
   "source": [
    "joins"
   ]
  },
  {
   "cell_type": "code",
   "execution_count": 30,
   "metadata": {},
   "outputs": [
    {
     "name": "stdout",
     "output_type": "stream",
     "text": [
      "Index(['CIG', 'cig_accordo_quadro', 'numero_gara', 'oggetto_gara',\n",
      "       'importo_complessivo_gara', 'n_lotti_componenti', 'oggetto_lotto',\n",
      "       'importo_lotto', 'oggetto_principale_contratto', 'stato', 'settore',\n",
      "       'luogo_istat', 'provincia', 'data_pubblicazione',\n",
      "       'data_scadenza_offerta', 'cod_tipo_scelta_contraente',\n",
      "       'tipo_scelta_contraente', 'cod_modalita_realizzazione',\n",
      "       'modalita_realizzazione', 'codice_ausa',\n",
      "       'cf_amministrazione_appaltante',\n",
      "       'denominazione_amministrazione_appaltante', 'sezione_regionale',\n",
      "       'id_centro_costo', 'denominazione_centro_costo', 'anno_pubblicazione',\n",
      "       'mese_pubblicazione', 'cod_cpv', 'descrizione_cpv', 'flag_prevalente',\n",
      "       'COD_MOTIVO_CANCELLAZIONE', 'MOTIVO_CANCELLAZIONE',\n",
      "       'DATA_CANCELLAZIONE', 'DATA_ULTIMO_PERFEZIONAMENTO',\n",
      "       'COD_MODALITA_INDIZIONE_SPECIALI', 'MODALITA_INDIZIONE_SPECIALI',\n",
      "       'COD_MODALITA_INDIZIONE_SERVIZI', 'MODALITA_INDIZIONE_SERVIZI',\n",
      "       'DURATA_PREVISTA', 'COD_STRUMENTO_SVOLGIMENTO', 'STRUMENTO_SVOLGIMENTO',\n",
      "       'FLAG_URGENZA', 'COD_MOTIVO_URGENZA', 'MOTIVO_URGENZA', 'FLAG_DELEGA',\n",
      "       'FUNZIONI_DELEGATE', 'CF_SA_DELEGANTE', 'DENOMINAZIONE_SA_DELEGANTE',\n",
      "       'CF_SA_DELEGATA', 'DENOMINAZIONE_SA_DELEGATA', 'IMPORTO_SICUREZZA',\n",
      "       'TIPO_APPALTO_RISERVATO', 'CUI_PROGRAMMA', 'FLAG_PREV_RIPETIZIONI',\n",
      "       'COD_IPOTESI_COLLEGAMENTO', 'IPOTESI_COLLEGAMENTO', 'CIG_COLLEGAMENTO',\n",
      "       'COD_ESITO', 'ESITO', 'DATA_COMUNICAZIONE_ESITO', 'FLAG_PNRR_PNC',\n",
      "       'filename', 'CLASSE_IMPORTO', 'Regione', 'Denominazione sovracomunale',\n",
      "       'cod_mis_premiale', 'misura_premiale', 'CATEGORIA'],\n",
      "      dtype='object')\n",
      "(182870, 68)\n"
     ]
    }
   ],
   "source": [
    "# left join p5 e p3\n",
    "leftnew_3 = p05.merge(p03, on='CIG',how='left')\n",
    "leftnew_3 = leftnew_3.drop_duplicates()\n",
    "print(leftnew_3.columns)\n",
    "print(leftnew_3.shape)"
   ]
  },
  {
   "cell_type": "code",
   "execution_count": 31,
   "metadata": {},
   "outputs": [
    {
     "name": "stdout",
     "output_type": "stream",
     "text": [
      "Index(['CIG', 'cig_accordo_quadro', 'numero_gara', 'oggetto_gara',\n",
      "       'importo_complessivo_gara', 'n_lotti_componenti', 'oggetto_lotto',\n",
      "       'importo_lotto', 'oggetto_principale_contratto', 'stato', 'settore',\n",
      "       'luogo_istat', 'provincia', 'data_pubblicazione',\n",
      "       'data_scadenza_offerta', 'cod_tipo_scelta_contraente',\n",
      "       'tipo_scelta_contraente', 'cod_modalita_realizzazione',\n",
      "       'modalita_realizzazione', 'codice_ausa',\n",
      "       'cf_amministrazione_appaltante',\n",
      "       'denominazione_amministrazione_appaltante', 'sezione_regionale',\n",
      "       'id_centro_costo', 'denominazione_centro_costo', 'anno_pubblicazione',\n",
      "       'mese_pubblicazione', 'cod_cpv', 'descrizione_cpv', 'flag_prevalente',\n",
      "       'COD_MOTIVO_CANCELLAZIONE', 'MOTIVO_CANCELLAZIONE',\n",
      "       'DATA_CANCELLAZIONE', 'DATA_ULTIMO_PERFEZIONAMENTO',\n",
      "       'COD_MODALITA_INDIZIONE_SPECIALI', 'MODALITA_INDIZIONE_SPECIALI',\n",
      "       'COD_MODALITA_INDIZIONE_SERVIZI', 'MODALITA_INDIZIONE_SERVIZI',\n",
      "       'DURATA_PREVISTA', 'COD_STRUMENTO_SVOLGIMENTO', 'STRUMENTO_SVOLGIMENTO',\n",
      "       'FLAG_URGENZA', 'COD_MOTIVO_URGENZA', 'MOTIVO_URGENZA', 'FLAG_DELEGA',\n",
      "       'FUNZIONI_DELEGATE', 'CF_SA_DELEGANTE', 'DENOMINAZIONE_SA_DELEGANTE',\n",
      "       'CF_SA_DELEGATA', 'DENOMINAZIONE_SA_DELEGATA', 'IMPORTO_SICUREZZA',\n",
      "       'TIPO_APPALTO_RISERVATO', 'CUI_PROGRAMMA', 'FLAG_PREV_RIPETIZIONI',\n",
      "       'COD_IPOTESI_COLLEGAMENTO', 'IPOTESI_COLLEGAMENTO', 'CIG_COLLEGAMENTO',\n",
      "       'COD_ESITO', 'ESITO', 'DATA_COMUNICAZIONE_ESITO', 'FLAG_PNRR_PNC',\n",
      "       'filename', 'CLASSE_IMPORTO', 'Regione', 'Denominazione sovracomunale',\n",
      "       'cod_mis_premiale', 'misura_premiale', 'CATEGORIA', 'flag_quote',\n",
      "       'quota_femminile', 'quota_giovanile', 'cod_mot_deroga', 'mot_deroga'],\n",
      "      dtype='object')\n",
      "(197840, 73)\n"
     ]
    }
   ],
   "source": [
    "# left join il risultato con p4\n",
    "leftnew_34 = leftnew_3.merge(p04, on='CIG', how='left')\n",
    "leftnew_34 = leftnew_34.drop_duplicates()\n",
    "print(leftnew_34.columns)\n",
    "print(leftnew_34.shape)"
   ]
  },
  {
   "cell_type": "code",
   "execution_count": 32,
   "metadata": {},
   "outputs": [
    {
     "name": "stdout",
     "output_type": "stream",
     "text": [
      "Index(['CIG', 'cig_accordo_quadro', 'numero_gara', 'oggetto_gara',\n",
      "       'importo_complessivo_gara', 'n_lotti_componenti', 'oggetto_lotto',\n",
      "       'importo_lotto', 'oggetto_principale_contratto', 'stato', 'settore',\n",
      "       'luogo_istat', 'provincia', 'data_pubblicazione',\n",
      "       'data_scadenza_offerta', 'cod_tipo_scelta_contraente',\n",
      "       'tipo_scelta_contraente', 'cod_modalita_realizzazione',\n",
      "       'modalita_realizzazione', 'codice_ausa',\n",
      "       'cf_amministrazione_appaltante',\n",
      "       'denominazione_amministrazione_appaltante', 'sezione_regionale',\n",
      "       'id_centro_costo', 'denominazione_centro_costo', 'anno_pubblicazione',\n",
      "       'mese_pubblicazione', 'cod_cpv', 'descrizione_cpv', 'flag_prevalente',\n",
      "       'COD_MOTIVO_CANCELLAZIONE', 'MOTIVO_CANCELLAZIONE',\n",
      "       'DATA_CANCELLAZIONE', 'DATA_ULTIMO_PERFEZIONAMENTO',\n",
      "       'COD_MODALITA_INDIZIONE_SPECIALI', 'MODALITA_INDIZIONE_SPECIALI',\n",
      "       'COD_MODALITA_INDIZIONE_SERVIZI', 'MODALITA_INDIZIONE_SERVIZI',\n",
      "       'DURATA_PREVISTA', 'COD_STRUMENTO_SVOLGIMENTO', 'STRUMENTO_SVOLGIMENTO',\n",
      "       'FLAG_URGENZA', 'COD_MOTIVO_URGENZA', 'MOTIVO_URGENZA', 'FLAG_DELEGA',\n",
      "       'FUNZIONI_DELEGATE', 'CF_SA_DELEGANTE', 'DENOMINAZIONE_SA_DELEGANTE',\n",
      "       'CF_SA_DELEGATA', 'DENOMINAZIONE_SA_DELEGATA', 'IMPORTO_SICUREZZA',\n",
      "       'TIPO_APPALTO_RISERVATO', 'CUI_PROGRAMMA', 'FLAG_PREV_RIPETIZIONI',\n",
      "       'COD_IPOTESI_COLLEGAMENTO', 'IPOTESI_COLLEGAMENTO', 'CIG_COLLEGAMENTO',\n",
      "       'COD_ESITO', 'ESITO', 'DATA_COMUNICAZIONE_ESITO', 'FLAG_PNRR_PNC',\n",
      "       'filename', 'CLASSE_IMPORTO', 'Regione', 'Denominazione sovracomunale',\n",
      "       'cod_mis_premiale', 'misura_premiale', 'CATEGORIA', 'flag_quote',\n",
      "       'quota_femminile', 'quota_giovanile', 'cod_mot_deroga', 'mot_deroga',\n",
      "       'CUP'],\n",
      "      dtype='object')\n",
      "(205865, 74)\n"
     ]
    }
   ],
   "source": [
    "# left join il risultato con p1\n",
    "leftnew_341 = leftnew_34.merge(p01, on='CIG', how='left')\n",
    "leftnew_341 = leftnew_341.drop_duplicates()\n",
    "print(leftnew_341.columns)\n",
    "print(leftnew_341.shape)"
   ]
  },
  {
   "cell_type": "code",
   "execution_count": 33,
   "metadata": {},
   "outputs": [
    {
     "name": "stdout",
     "output_type": "stream",
     "text": [
      "Index(['CIG', 'cig_accordo_quadro', 'numero_gara', 'oggetto_gara',\n",
      "       'importo_complessivo_gara', 'n_lotti_componenti', 'oggetto_lotto',\n",
      "       'importo_lotto', 'oggetto_principale_contratto', 'stato',\n",
      "       ...\n",
      "       'DATA_GENERAZIONE_COMPLETO', 'COSTO_PROGETTO', 'IMPORTO_FINANZIAMENTO',\n",
      "       'STATO_PROGETTO', 'TIPO_PROGETTO', 'CODICE_COMPONENTE',\n",
      "       'CODICE_MISSIONE', 'COMPONENTE', 'INVESTIMENTO', 'MISSIONE'],\n",
      "      dtype='object', length=113)\n",
      "(273879, 113)\n"
     ]
    }
   ],
   "source": [
    "# left join il risultato con p2\n",
    "leftnew_3412 = leftnew_341.merge(p02,how='left',left_on='CUP',right_on='CODICE_CUP')\n",
    "leftnew_3412 = leftnew_3412.drop_duplicates()\n",
    "print(leftnew_3412.columns)\n",
    "print(leftnew_3412.shape)"
   ]
  },
  {
   "cell_type": "code",
   "execution_count": 98,
   "metadata": {},
   "outputs": [],
   "source": [
    "# sintesi in un solo block\n",
    "# con P05 con tutte le colonne\n",
    "leftnew_3_complete = p05.merge(p03, on='CIG',how='left')\n",
    "leftnew_3_complete = leftnew_3_complete.drop_duplicates()\n",
    "leftnew_34_complete = leftnew_3_complete.merge(p04, on='CIG', how='left')\n",
    "leftnew_34_complete = leftnew_34_complete.drop_duplicates()\n",
    "leftnew_341_complete = leftnew_34_complete.merge(p01, on='CIG', how='left')\n",
    "leftnew_341_complete = leftnew_341_complete.drop_duplicates()\n",
    "leftnew_3412_complete = leftnew_341_complete.merge(p02,how='left',left_on='CUP',right_on='CODICE_CUP')\n",
    "leftnew_3412_complete = leftnew_3412_complete.drop_duplicates()"
   ]
  },
  {
   "cell_type": "code",
   "execution_count": 34,
   "metadata": {},
   "outputs": [],
   "source": [
    "selezione = ['CIG', 'CUP', 'REGIONE', 'Regione', 'provincia', 'PROVINCIA', 'COMUNE',   'importo_complessivo_gara', 'CLASSE_IMPORTO', 'NOME_TEMATICA', 'CODICE_MISSIONE', 'MISSIONE', 'CODICE_COMPONENTE', 'COMPONENTE',  'INVESTIMENTO', 'cod_mis_premiale', 'misura_premiale', 'CATEGORIA',  'flag_quote', 'quota_femminile', 'quota_giovanile',\n",
    "'cod_mot_deroga', 'mot_deroga', 'data_pubblicazione', 'anno_pubblicazione', 'FLAG_URGENZA', 'MOTIVO_URGENZA', 'ESITO']"
   ]
  },
  {
   "cell_type": "code",
   "execution_count": 35,
   "metadata": {},
   "outputs": [],
   "source": [
    "p_basedati = leftnew_3412[selezione]"
   ]
  },
  {
   "cell_type": "code",
   "execution_count": 48,
   "metadata": {},
   "outputs": [
    {
     "data": {
      "text/plain": [
       "REGIONE\n",
       "TRENTINO-ALTO ADIGE      4022\n",
       "VALLE D'AOSTA             955\n",
       "FRIULI-VENEZIA GIULIA     786\n",
       "CAMPANIA                  616\n",
       "LAZIO                     597\n",
       "LOMBARDIA                 499\n",
       "VENETO                    406\n",
       "EMILIA-ROMAGNA            287\n",
       "PUGLIA                    254\n",
       "SICILIA                   247\n",
       "PIEMONTE                  192\n",
       "TOSCANA                   178\n",
       "LIGURIA                    94\n",
       "BASILICATA                 63\n",
       "CALABRIA                   51\n",
       "ABRUZZO                    27\n",
       "SARDEGNA                   21\n",
       "MOLISE                     18\n",
       "MARCHE                     10\n",
       "UMBRIA                      9\n",
       "Name: count, dtype: int64"
      ]
     },
     "execution_count": 48,
     "metadata": {},
     "output_type": "execute_result"
    }
   ],
   "source": [
    "p_basedati[(p_basedati['REGIONE']!=p_basedati['Regione'].str.upper())&(p_basedati['Regione'].notna())&(p_basedati['REGIONE'].notna())]['REGIONE'].value_counts()"
   ]
  },
  {
   "cell_type": "code",
   "execution_count": 49,
   "metadata": {},
   "outputs": [],
   "source": [
    "p_basedati.to_csv(\"basedati.csv\", index = False, sep=';')"
   ]
  },
  {
   "cell_type": "markdown",
   "metadata": {},
   "source": [
    "prima"
   ]
  },
  {
   "cell_type": "code",
   "execution_count": 99,
   "metadata": {},
   "outputs": [],
   "source": [
    "# prima\n",
    "# con tutti i campi p02, con tutti i campi P05\n",
    "p07 = leftnew_3412_complete\n",
    "# con tutti i campi p02, i campi di P05 sono già selezionati\n",
    "p07_rid = leftnew_3412\n",
    "# selezione di campi\n",
    "p07_base = p07_rid[['CIG', 'importo_complessivo_gara','CLASSE_IMPORTO',\n",
    "       'cod_mis_premiale', 'misura_premiale', 'CATEGORIA', 'flag_quote',\n",
    "       'quota_femminile', 'quota_giovanile', 'cod_mot_deroga', 'mot_deroga',\n",
    "       'CUP', 'REGIONE', 'PROVINCIA', 'COMUNE','ANNO_DECISIONE','data_pubblicazione', 'COSTO_PROGETTO', 'IMPORTO_FINANZIAMENTO', 'CODICE_MISSIONE', 'COMPONENTE',\n",
    "       'INVESTIMENTO', 'MISSIONE']]"
   ]
  },
  {
   "cell_type": "code",
   "execution_count": 105,
   "metadata": {},
   "outputs": [
    {
     "name": "stdout",
     "output_type": "stream",
     "text": [
      "(273879, 23)\n",
      "(273879, 56)\n",
      "(273879, 113)\n"
     ]
    }
   ],
   "source": [
    "print(p07_base.shape)\n",
    "print(p07_rid.shape)\n",
    "print(p07.shape)"
   ]
  },
  {
   "cell_type": "code",
   "execution_count": 101,
   "metadata": {},
   "outputs": [
    {
     "data": {
      "text/html": [
       "<div>\n",
       "<style scoped>\n",
       "    .dataframe tbody tr th:only-of-type {\n",
       "        vertical-align: middle;\n",
       "    }\n",
       "\n",
       "    .dataframe tbody tr th {\n",
       "        vertical-align: top;\n",
       "    }\n",
       "\n",
       "    .dataframe thead th {\n",
       "        text-align: right;\n",
       "    }\n",
       "</style>\n",
       "<table border=\"1\" class=\"dataframe\">\n",
       "  <thead>\n",
       "    <tr style=\"text-align: right;\">\n",
       "      <th></th>\n",
       "      <th>CIG</th>\n",
       "      <th>importo_complessivo_gara</th>\n",
       "      <th>CLASSE_IMPORTO</th>\n",
       "      <th>luogo_istat</th>\n",
       "      <th>provincia</th>\n",
       "      <th>Denominazione sovracomunale</th>\n",
       "      <th>Regione</th>\n",
       "      <th>data_pubblicazione</th>\n",
       "      <th>cod_mis_premiale</th>\n",
       "      <th>misura_premiale</th>\n",
       "      <th>...</th>\n",
       "      <th>DATA_GENERAZIONE_COMPLETO</th>\n",
       "      <th>COSTO_PROGETTO</th>\n",
       "      <th>IMPORTO_FINANZIAMENTO</th>\n",
       "      <th>STATO_PROGETTO</th>\n",
       "      <th>TIPO_PROGETTO</th>\n",
       "      <th>CODICE_COMPONENTE</th>\n",
       "      <th>CODICE_MISSIONE</th>\n",
       "      <th>COMPONENTE</th>\n",
       "      <th>INVESTIMENTO</th>\n",
       "      <th>MISSIONE</th>\n",
       "    </tr>\n",
       "  </thead>\n",
       "  <tbody>\n",
       "    <tr>\n",
       "      <th>0</th>\n",
       "      <td>A0011137E1</td>\n",
       "      <td>21131.90</td>\n",
       "      <td>BASSA</td>\n",
       "      <td>NaN</td>\n",
       "      <td>NaN</td>\n",
       "      <td>NaN</td>\n",
       "      <td>NaN</td>\n",
       "      <td>2023-08-02</td>\n",
       "      <td>NaN</td>\n",
       "      <td>NaN</td>\n",
       "      <td>...</td>\n",
       "      <td>2021-11-29</td>\n",
       "      <td>29500000.00</td>\n",
       "      <td>29500000.00</td>\n",
       "      <td>Attivo</td>\n",
       "      <td>Progetto Normale</td>\n",
       "      <td>M2C4</td>\n",
       "      <td>M2</td>\n",
       "      <td>Tutela del territorio e della risorsa idrica</td>\n",
       "      <td>I4.1:Investimenti in infrastrutture idriche pr...</td>\n",
       "      <td>RIVOLUZIONE VERDE E TRANSIZIONE ECOLOGICA</td>\n",
       "    </tr>\n",
       "    <tr>\n",
       "      <th>1</th>\n",
       "      <td>A0011137E1</td>\n",
       "      <td>21131.90</td>\n",
       "      <td>BASSA</td>\n",
       "      <td>NaN</td>\n",
       "      <td>NaN</td>\n",
       "      <td>NaN</td>\n",
       "      <td>NaN</td>\n",
       "      <td>2023-08-02</td>\n",
       "      <td>NaN</td>\n",
       "      <td>NaN</td>\n",
       "      <td>...</td>\n",
       "      <td>2021-11-29</td>\n",
       "      <td>29500000.00</td>\n",
       "      <td>29500000.00</td>\n",
       "      <td>Attivo</td>\n",
       "      <td>Progetto Normale</td>\n",
       "      <td>M2C4</td>\n",
       "      <td>M2</td>\n",
       "      <td>Tutela del territorio e della risorsa idrica</td>\n",
       "      <td>I4.1:Investimenti in infrastrutture idriche pr...</td>\n",
       "      <td>RIVOLUZIONE VERDE E TRANSIZIONE ECOLOGICA</td>\n",
       "    </tr>\n",
       "    <tr>\n",
       "      <th>2</th>\n",
       "      <td>A0011137E1</td>\n",
       "      <td>21131.90</td>\n",
       "      <td>BASSA</td>\n",
       "      <td>NaN</td>\n",
       "      <td>NaN</td>\n",
       "      <td>NaN</td>\n",
       "      <td>NaN</td>\n",
       "      <td>2023-08-02</td>\n",
       "      <td>NaN</td>\n",
       "      <td>NaN</td>\n",
       "      <td>...</td>\n",
       "      <td>2021-11-29</td>\n",
       "      <td>29500000.00</td>\n",
       "      <td>29500000.00</td>\n",
       "      <td>Attivo</td>\n",
       "      <td>Progetto Normale</td>\n",
       "      <td>M2C4</td>\n",
       "      <td>M2</td>\n",
       "      <td>Tutela del territorio e della risorsa idrica</td>\n",
       "      <td>I4.1:Investimenti in infrastrutture idriche pr...</td>\n",
       "      <td>RIVOLUZIONE VERDE E TRANSIZIONE ECOLOGICA</td>\n",
       "    </tr>\n",
       "    <tr>\n",
       "      <th>3</th>\n",
       "      <td>A0011137E1</td>\n",
       "      <td>21131.90</td>\n",
       "      <td>BASSA</td>\n",
       "      <td>NaN</td>\n",
       "      <td>NaN</td>\n",
       "      <td>NaN</td>\n",
       "      <td>NaN</td>\n",
       "      <td>2023-08-02</td>\n",
       "      <td>NaN</td>\n",
       "      <td>NaN</td>\n",
       "      <td>...</td>\n",
       "      <td>2021-11-29</td>\n",
       "      <td>29500000.00</td>\n",
       "      <td>29500000.00</td>\n",
       "      <td>Attivo</td>\n",
       "      <td>Progetto Normale</td>\n",
       "      <td>M2C4</td>\n",
       "      <td>M2</td>\n",
       "      <td>Tutela del territorio e della risorsa idrica</td>\n",
       "      <td>I4.1:Investimenti in infrastrutture idriche pr...</td>\n",
       "      <td>RIVOLUZIONE VERDE E TRANSIZIONE ECOLOGICA</td>\n",
       "    </tr>\n",
       "    <tr>\n",
       "      <th>4</th>\n",
       "      <td>A0011137E1</td>\n",
       "      <td>21131.90</td>\n",
       "      <td>BASSA</td>\n",
       "      <td>NaN</td>\n",
       "      <td>NaN</td>\n",
       "      <td>NaN</td>\n",
       "      <td>NaN</td>\n",
       "      <td>2023-08-02</td>\n",
       "      <td>NaN</td>\n",
       "      <td>NaN</td>\n",
       "      <td>...</td>\n",
       "      <td>2021-11-29</td>\n",
       "      <td>29500000.00</td>\n",
       "      <td>29500000.00</td>\n",
       "      <td>Attivo</td>\n",
       "      <td>Progetto Normale</td>\n",
       "      <td>M2C4</td>\n",
       "      <td>M2</td>\n",
       "      <td>Tutela del territorio e della risorsa idrica</td>\n",
       "      <td>I4.1:Investimenti in infrastrutture idriche pr...</td>\n",
       "      <td>RIVOLUZIONE VERDE E TRANSIZIONE ECOLOGICA</td>\n",
       "    </tr>\n",
       "    <tr>\n",
       "      <th>5</th>\n",
       "      <td>A0011137E1</td>\n",
       "      <td>21131.90</td>\n",
       "      <td>BASSA</td>\n",
       "      <td>NaN</td>\n",
       "      <td>NaN</td>\n",
       "      <td>NaN</td>\n",
       "      <td>NaN</td>\n",
       "      <td>2023-08-02</td>\n",
       "      <td>NaN</td>\n",
       "      <td>NaN</td>\n",
       "      <td>...</td>\n",
       "      <td>2021-11-29</td>\n",
       "      <td>29500000.00</td>\n",
       "      <td>29500000.00</td>\n",
       "      <td>Attivo</td>\n",
       "      <td>Progetto Normale</td>\n",
       "      <td>M2C4</td>\n",
       "      <td>M2</td>\n",
       "      <td>Tutela del territorio e della risorsa idrica</td>\n",
       "      <td>I4.1:Investimenti in infrastrutture idriche pr...</td>\n",
       "      <td>RIVOLUZIONE VERDE E TRANSIZIONE ECOLOGICA</td>\n",
       "    </tr>\n",
       "  </tbody>\n",
       "</table>\n",
       "<p>6 rows × 56 columns</p>\n",
       "</div>"
      ],
      "text/plain": [
       "          CIG  importo_complessivo_gara CLASSE_IMPORTO  luogo_istat provincia  \\\n",
       "0  A0011137E1                  21131.90          BASSA          NaN       NaN   \n",
       "1  A0011137E1                  21131.90          BASSA          NaN       NaN   \n",
       "2  A0011137E1                  21131.90          BASSA          NaN       NaN   \n",
       "3  A0011137E1                  21131.90          BASSA          NaN       NaN   \n",
       "4  A0011137E1                  21131.90          BASSA          NaN       NaN   \n",
       "5  A0011137E1                  21131.90          BASSA          NaN       NaN   \n",
       "\n",
       "  Denominazione sovracomunale Regione data_pubblicazione  cod_mis_premiale  \\\n",
       "0                         NaN     NaN         2023-08-02               NaN   \n",
       "1                         NaN     NaN         2023-08-02               NaN   \n",
       "2                         NaN     NaN         2023-08-02               NaN   \n",
       "3                         NaN     NaN         2023-08-02               NaN   \n",
       "4                         NaN     NaN         2023-08-02               NaN   \n",
       "5                         NaN     NaN         2023-08-02               NaN   \n",
       "\n",
       "  misura_premiale  ... DATA_GENERAZIONE_COMPLETO COSTO_PROGETTO  \\\n",
       "0             NaN  ...                2021-11-29    29500000.00   \n",
       "1             NaN  ...                2021-11-29    29500000.00   \n",
       "2             NaN  ...                2021-11-29    29500000.00   \n",
       "3             NaN  ...                2021-11-29    29500000.00   \n",
       "4             NaN  ...                2021-11-29    29500000.00   \n",
       "5             NaN  ...                2021-11-29    29500000.00   \n",
       "\n",
       "   IMPORTO_FINANZIAMENTO  STATO_PROGETTO     TIPO_PROGETTO CODICE_COMPONENTE  \\\n",
       "0            29500000.00          Attivo  Progetto Normale              M2C4   \n",
       "1            29500000.00          Attivo  Progetto Normale              M2C4   \n",
       "2            29500000.00          Attivo  Progetto Normale              M2C4   \n",
       "3            29500000.00          Attivo  Progetto Normale              M2C4   \n",
       "4            29500000.00          Attivo  Progetto Normale              M2C4   \n",
       "5            29500000.00          Attivo  Progetto Normale              M2C4   \n",
       "\n",
       "  CODICE_MISSIONE                                    COMPONENTE  \\\n",
       "0              M2  Tutela del territorio e della risorsa idrica   \n",
       "1              M2  Tutela del territorio e della risorsa idrica   \n",
       "2              M2  Tutela del territorio e della risorsa idrica   \n",
       "3              M2  Tutela del territorio e della risorsa idrica   \n",
       "4              M2  Tutela del territorio e della risorsa idrica   \n",
       "5              M2  Tutela del territorio e della risorsa idrica   \n",
       "\n",
       "                                        INVESTIMENTO  \\\n",
       "0  I4.1:Investimenti in infrastrutture idriche pr...   \n",
       "1  I4.1:Investimenti in infrastrutture idriche pr...   \n",
       "2  I4.1:Investimenti in infrastrutture idriche pr...   \n",
       "3  I4.1:Investimenti in infrastrutture idriche pr...   \n",
       "4  I4.1:Investimenti in infrastrutture idriche pr...   \n",
       "5  I4.1:Investimenti in infrastrutture idriche pr...   \n",
       "\n",
       "                                    MISSIONE  \n",
       "0  RIVOLUZIONE VERDE E TRANSIZIONE ECOLOGICA  \n",
       "1  RIVOLUZIONE VERDE E TRANSIZIONE ECOLOGICA  \n",
       "2  RIVOLUZIONE VERDE E TRANSIZIONE ECOLOGICA  \n",
       "3  RIVOLUZIONE VERDE E TRANSIZIONE ECOLOGICA  \n",
       "4  RIVOLUZIONE VERDE E TRANSIZIONE ECOLOGICA  \n",
       "5  RIVOLUZIONE VERDE E TRANSIZIONE ECOLOGICA  \n",
       "\n",
       "[6 rows x 56 columns]"
      ]
     },
     "execution_count": 101,
     "metadata": {},
     "output_type": "execute_result"
    }
   ],
   "source": [
    "# è un problema di match coi comuni?\n",
    "p07_rid[p07_rid['CIG']==\"A0011137E1\"]"
   ]
  },
  {
   "cell_type": "code",
   "execution_count": 103,
   "metadata": {},
   "outputs": [],
   "source": [
    "p07_base.to_csv(\"tmp_finale_base.csv\", index = False, sep=';')\n",
    "p07_rid.to_csv(\"tmp_finale_ridotto.csv\", index = False, sep=';')\n",
    "p07.to_csv(\"tmp_finale.csv\", index = False, sep=';')"
   ]
  }
 ],
 "metadata": {
  "kernelspec": {
   "display_name": "Python 3",
   "language": "python",
   "name": "python3"
  },
  "language_info": {
   "codemirror_mode": {
    "name": "ipython",
    "version": 3
   },
   "file_extension": ".py",
   "mimetype": "text/x-python",
   "name": "python",
   "nbconvert_exporter": "python",
   "pygments_lexer": "ipython3",
   "version": "3.9.13"
  }
 },
 "nbformat": 4,
 "nbformat_minor": 2
}
