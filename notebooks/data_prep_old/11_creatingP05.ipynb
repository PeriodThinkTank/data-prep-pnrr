{
 "cells": [
  {
   "cell_type": "markdown",
   "metadata": {},
   "source": [
    "Script per la creazione del dataset P05 (Anagrafica CIG PNRR/PNC 2023)"
   ]
  },
  {
   "cell_type": "code",
   "execution_count": 1,
   "metadata": {},
   "outputs": [],
   "source": [
    "import pandas as pd\n",
    "import numpy as np "
   ]
  },
  {
   "cell_type": "markdown",
   "metadata": {},
   "source": [
    "Descrizione processo Borruso\n",
    "- Scarica tutti i csv zippati con i delta aggiornamenti di CIG bandi gara (ANAC, 23, dicembre compreso)\n",
    "- Decomprime e converte in gzip così sono accessibili in stream\n",
    "- Tra tutti i file scaricati, filtra soltanto quelli con flag PNRR uguale a 1\n",
    "- Per CIG duplicati, preso il più recente\n",
    "- Merge di tutti i file in uno solo"
   ]
  },
  {
   "cell_type": "markdown",
   "metadata": {},
   "source": [
    "Descrizione processo ricreato\n",
    "- Scarica tutti i csv zippati con i CIG bandi gara mensili (ANAC, 2023, dicembre compreso)\n",
    "- Unzip i csv, trasforma in pandas dataframe e concatena i dataset mensili in un unico dataset annuale\n",
    "- Filtra solo le righe con FLAG_PNRR==1"
   ]
  },
  {
   "cell_type": "code",
   "execution_count": 2,
   "metadata": {},
   "outputs": [],
   "source": [
    "import urllib.request\n",
    "import zipfile"
   ]
  },
  {
   "cell_type": "code",
   "execution_count": 6,
   "metadata": {},
   "outputs": [
    {
     "name": "stdout",
     "output_type": "stream",
     "text": [
      "Collecting bs4\n",
      "  Downloading bs4-0.0.2-py2.py3-none-any.whl.metadata (411 bytes)\n",
      "Collecting beautifulsoup4 (from bs4)\n",
      "  Downloading beautifulsoup4-4.12.3-py3-none-any.whl.metadata (3.8 kB)\n",
      "Collecting soupsieve>1.2 (from beautifulsoup4->bs4)\n",
      "  Downloading soupsieve-2.5-py3-none-any.whl.metadata (4.7 kB)\n",
      "Downloading bs4-0.0.2-py2.py3-none-any.whl (1.2 kB)\n",
      "Downloading beautifulsoup4-4.12.3-py3-none-any.whl (147 kB)\n",
      "   ---------------------------------------- 0.0/147.9 kB ? eta -:--:--\n",
      "   ---------------------------------------- 147.9/147.9 kB 4.4 MB/s eta 0:00:00\n",
      "Downloading soupsieve-2.5-py3-none-any.whl (36 kB)\n",
      "Installing collected packages: soupsieve, beautifulsoup4, bs4\n",
      "Successfully installed beautifulsoup4-4.12.3 bs4-0.0.2 soupsieve-2.5\n",
      "Note: you may need to restart the kernel to use updated packages.\n"
     ]
    }
   ],
   "source": [
    "%pip install -U bs4"
   ]
  },
  {
   "cell_type": "code",
   "execution_count": 42,
   "metadata": {},
   "outputs": [],
   "source": [
    "from bs4 import BeautifulSoup\n",
    "import requests\n",
    "import re\n",
    "from io import BytesIO\n",
    "from zipfile import ZipFile\n",
    "from urllib.request import urlopen\n",
    "\n",
    "html_page = requests.get('https://dati.anticorruzione.it/opendata/dataset/cig-2023')\n",
    "soup = BeautifulSoup(html_page.content, 'html.parser')\n",
    "\n",
    "# find all a href links available on this page\n",
    "file_urls = soup.findAll('a', class_=\"heading\",title=re.compile(\"^cig_csv\"))\n",
    "links = [link.get('href') for link in file_urls]"
   ]
  },
  {
   "cell_type": "code",
   "execution_count": 43,
   "metadata": {},
   "outputs": [
    {
     "data": {
      "text/plain": [
       "['/opendata/dataset/cig-2023/resource/009c2db6-1a81-49ca-b79d-d0c1d54f4d9d',\n",
       " '/opendata/dataset/cig-2023/resource/368e6321-f985-4979-a7ce-2b14c46021af',\n",
       " '/opendata/dataset/cig-2023/resource/ef14b555-67fc-4c9b-8b66-949c0413aeee',\n",
       " '/opendata/dataset/cig-2023/resource/ab62f96d-eba2-4e28-9a3b-49fea6641aa0',\n",
       " '/opendata/dataset/cig-2023/resource/5491aec8-c7c4-4a36-a18a-423bcee3bd20',\n",
       " '/opendata/dataset/cig-2023/resource/eefc7fd8-ef47-4e65-8a93-289be78b38a3',\n",
       " '/opendata/dataset/cig-2023/resource/489dc99b-25ed-4efb-b7f8-3dc68f524cdd',\n",
       " '/opendata/dataset/cig-2023/resource/55bb5537-30c7-474f-a575-f51845d79f28',\n",
       " '/opendata/dataset/cig-2023/resource/bb9dc902-0112-4688-ab2e-c68bf1ff0c0d',\n",
       " '/opendata/dataset/cig-2023/resource/8ff4d215-8c35-4b2b-aaad-c6bb486a07b3',\n",
       " '/opendata/dataset/cig-2023/resource/504c5a2e-8f5a-4ad2-a621-0ed871bc9a96',\n",
       " '/opendata/dataset/cig-2023/resource/bf300c34-38fb-42c6-a792-9bb84fa7af0f']"
      ]
     },
     "execution_count": 43,
     "metadata": {},
     "output_type": "execute_result"
    }
   ],
   "source": [
    "links"
   ]
  },
  {
   "cell_type": "code",
   "execution_count": 44,
   "metadata": {},
   "outputs": [],
   "source": [
    "d = []\n",
    "for link in links:\n",
    "    l = 'https://dati.anticorruzione.it'+link\n",
    "    html_page = requests.get(l)\n",
    "    soup = BeautifulSoup(html_page.content, 'html.parser')\n",
    "    file_urls = soup.findAll('a',class_=\"btn btn-primary resource-url-analytics resource-type-None\")\n",
    "    d.append(file_urls[0].get('href'))"
   ]
  },
  {
   "cell_type": "code",
   "execution_count": 47,
   "metadata": {},
   "outputs": [
    {
     "data": {
      "text/plain": [
       "['https://dati.anticorruzione.it/opendata/download/dataset/cig-2023/filesystem/cig_csv_2023_01.zip',\n",
       " 'https://dati.anticorruzione.it/opendata/download/dataset/cig-2023/filesystem/cig_csv_2023_02.zip',\n",
       " 'https://dati.anticorruzione.it/opendata/download/dataset/cig-2023/filesystem/cig_csv_2023_03.zip',\n",
       " 'https://dati.anticorruzione.it/opendata/download/dataset/cig-2023/filesystem/cig_csv_2023_04.zip',\n",
       " 'https://dati.anticorruzione.it/opendata/download/dataset/cig-2023/filesystem/cig_csv_2023_05.zip',\n",
       " 'https://dati.anticorruzione.it/opendata/download/dataset/cig-2023/filesystem/cig_csv_2023_06.zip',\n",
       " 'https://dati.anticorruzione.it/opendata/download/dataset/cig-2023/filesystem/cig_csv_2023_07.zip',\n",
       " 'https://dati.anticorruzione.it/opendata/download/dataset/cig-2023/filesystem/cig_csv_2023_08.zip',\n",
       " 'https://dati.anticorruzione.it/opendata/download/dataset/cig-2023/filesystem/cig_csv_2023_09.zip',\n",
       " 'https://dati.anticorruzione.it/opendata/download/dataset/cig-2023/filesystem/cig_csv_2023_10.zip',\n",
       " 'https://dati.anticorruzione.it/opendata/download/dataset/cig-2023/filesystem/cig_csv_2023_11.zip',\n",
       " 'https://dati.anticorruzione.it/opendata/download/dataset/cig-2023/filesystem/cig_csv_2023_12.zip']"
      ]
     },
     "execution_count": 47,
     "metadata": {},
     "output_type": "execute_result"
    }
   ],
   "source": [
    "d\n",
    "#d[8:]"
   ]
  },
  {
   "cell_type": "code",
   "execution_count": 69,
   "metadata": {},
   "outputs": [
    {
     "name": "stdout",
     "output_type": "stream",
     "text": [
      "cig_csv_2023_01.csv Completed\n",
      "cig_csv_2023_02.csv Completed\n",
      "cig_csv_2023_03.csv Completed\n",
      "cig_csv_2023_04.csv Completed\n",
      "cig_csv_2023_05.csv Completed\n",
      "cig_csv_2023_06.csv Completed\n",
      "cig_csv_2023_07.csv Completed\n",
      "cig_csv_2023_08.csv Completed\n",
      "cig_csv_2023_09.csv Completed\n",
      "cig_csv_2023_10.csv Completed\n",
      "cig_csv_2023_11.csv Completed\n",
      "cig_csv_2023_12.csv Completed\n"
     ]
    }
   ],
   "source": [
    "# initiating a dataframe\n",
    "full_df = pd.DataFrame()\n",
    "\n",
    "for link in d:\n",
    "    # open url\n",
    "    resp = urlopen(link)\n",
    "    # read zipfile\n",
    "    zipfile = ZipFile(BytesIO(resp.read()))\n",
    "    # get the csv file name\n",
    "    fname = zipfile.namelist()[0]\n",
    "    # convert to pandas dateframe\n",
    "    df = pd.read_csv(zipfile.open(fname), dtype=object, delimiter=';')\n",
    "    # close zipfile we don't need\n",
    "    zipfile.close()\n",
    "    \n",
    "    # concatenate dataframes\n",
    "    full_df = pd.concat([full_df, df], ignore_index=True, sort=False)\n",
    "    \n",
    "    # let me know how much it is completed.\n",
    "    print(f'{fname} Completed')"
   ]
  },
  {
   "cell_type": "code",
   "execution_count": 70,
   "metadata": {},
   "outputs": [
    {
     "name": "stdout",
     "output_type": "stream",
     "text": [
      "cig_csv_2023_09.csv Completed\n",
      "cig_csv_2023_10.csv Completed\n",
      "cig_csv_2023_11.csv Completed\n",
      "cig_csv_2023_12.csv Completed\n"
     ]
    }
   ],
   "source": [
    "# initiating a dataframe\n",
    "full_df1 = pd.DataFrame()\n",
    "\n",
    "for link in d[8:]:\n",
    "    # open url\n",
    "    resp = urlopen(link)\n",
    "    # read zipfile\n",
    "    zipfile = ZipFile(BytesIO(resp.read()))\n",
    "    # get the csv file name\n",
    "    fname = zipfile.namelist()[0]\n",
    "    # convert to pandas dateframe\n",
    "    df = pd.read_csv(zipfile.open(fname), dtype=object, delimiter=';')\n",
    "    # close zipfile we don't need\n",
    "    zipfile.close()\n",
    "    \n",
    "    # concatenate dataframes\n",
    "    full_df1 = pd.concat([full_df1, df], ignore_index=True, sort=False)\n",
    "    \n",
    "    # let me know how much it is completed.\n",
    "    print(f'{fname} Completed')"
   ]
  },
  {
   "cell_type": "code",
   "execution_count": 71,
   "metadata": {},
   "outputs": [
    {
     "name": "stdout",
     "output_type": "stream",
     "text": [
      "583920\n"
     ]
    },
    {
     "data": {
      "text/plain": [
       "188933"
      ]
     },
     "execution_count": 71,
     "metadata": {},
     "output_type": "execute_result"
    }
   ],
   "source": [
    "print(full_df['cig'].nunique())\n",
    "full_df1['cig'].nunique()"
   ]
  },
  {
   "cell_type": "code",
   "execution_count": 72,
   "metadata": {},
   "outputs": [],
   "source": [
    "p5_prova = full_df[full_df['FLAG_PNRR_PNC']=='1']\n",
    "p5_prova1 = full_df1[full_df1['FLAG_PNRR_PNC']=='1']"
   ]
  },
  {
   "cell_type": "code",
   "execution_count": 73,
   "metadata": {},
   "outputs": [
    {
     "name": "stdout",
     "output_type": "stream",
     "text": [
      "(170481, 61)\n",
      "(58600, 61)\n",
      "170481\n",
      "58600\n"
     ]
    }
   ],
   "source": [
    "print(p5_prova.shape)\n",
    "print(p5_prova1.shape)\n",
    "print(p5_prova['cig'].nunique())\n",
    "print(p5_prova1['cig'].nunique())"
   ]
  },
  {
   "cell_type": "markdown",
   "metadata": {},
   "source": [
    "Perché i CIG unici PNRR sono meno di prima? "
   ]
  },
  {
   "cell_type": "code",
   "execution_count": 14,
   "metadata": {},
   "outputs": [],
   "source": [
    "p5_prova.to_csv(\"p5_prova.csv\", index = False, sep=';')"
   ]
  },
  {
   "cell_type": "code",
   "execution_count": 3,
   "metadata": {},
   "outputs": [
    {
     "name": "stderr",
     "output_type": "stream",
     "text": [
      "C:\\Users\\Alessandra\\AppData\\Local\\Temp\\ipykernel_26392\\4076170598.py:1: DtypeWarning: Columns (51) have mixed types. Specify dtype option on import or set low_memory=False.\n",
      "  p5_prova = pd.read_csv(\"p5_prova.csv\", sep=';')\n"
     ]
    }
   ],
   "source": [
    "p5_prova = pd.read_csv(\"p5_prova.csv\", sep=';')"
   ]
  },
  {
   "cell_type": "code",
   "execution_count": 74,
   "metadata": {},
   "outputs": [
    {
     "data": {
      "text/plain": [
       "cig                         58600\n",
       "cig_accordo_quadro            894\n",
       "numero_gara                 56718\n",
       "oggetto_gara                52687\n",
       "importo_complessivo_gara    34245\n",
       "                            ...  \n",
       "CIG_COLLEGAMENTO              370\n",
       "COD_ESITO                       6\n",
       "ESITO                           6\n",
       "DATA_COMUNICAZIONE_ESITO      124\n",
       "FLAG_PNRR_PNC                   1\n",
       "Length: 61, dtype: int64"
      ]
     },
     "execution_count": 74,
     "metadata": {},
     "output_type": "execute_result"
    }
   ],
   "source": [
    "p5_prova1.nunique()"
   ]
  },
  {
   "cell_type": "code",
   "execution_count": 3,
   "metadata": {},
   "outputs": [
    {
     "name": "stderr",
     "output_type": "stream",
     "text": [
      "C:\\Users\\Alessandra\\AppData\\Local\\Temp\\ipykernel_1268\\3974010981.py:1: DtypeWarning: Columns (51) have mixed types. Specify dtype option on import or set low_memory=False.\n",
      "  pnew = pd.read_csv(\"./datasets/pnrr.csv\",delimiter=',',encoding = \"UTF-8\")\n"
     ]
    }
   ],
   "source": [
    "pnew = pd.read_csv(\"./datasets/pnrr.csv\",delimiter=',',encoding = \"UTF-8\")"
   ]
  },
  {
   "cell_type": "code",
   "execution_count": 21,
   "metadata": {},
   "outputs": [
    {
     "data": {
      "text/plain": [
       "array(['2022-11-24', '2023-03-17', '2023-01-02', ..., '2021-10-21',\n",
       "       '2007-03-19', '2021-12-19'], dtype=object)"
      ]
     },
     "execution_count": 21,
     "metadata": {},
     "output_type": "execute_result"
    }
   ],
   "source": [
    "pnew[\"data_pubblicazione\"].unique()"
   ]
  },
  {
   "cell_type": "code",
   "execution_count": 22,
   "metadata": {},
   "outputs": [
    {
     "data": {
      "text/plain": [
       "array([1], dtype=int64)"
      ]
     },
     "execution_count": 22,
     "metadata": {},
     "output_type": "execute_result"
    }
   ],
   "source": [
    "pnew['FLAG_PNRR_PNC'].unique()"
   ]
  },
  {
   "cell_type": "code",
   "execution_count": 29,
   "metadata": {},
   "outputs": [],
   "source": [
    "import re"
   ]
  },
  {
   "cell_type": "code",
   "execution_count": 38,
   "metadata": {},
   "outputs": [
    {
     "data": {
      "text/plain": [
       "array(['20231101-cig_csv.gz', '20231001-cig_csv.gz'], dtype=object)"
      ]
     },
     "execution_count": 38,
     "metadata": {},
     "output_type": "execute_result"
    }
   ],
   "source": [
    "pnew['file'].unique()"
   ]
  },
  {
   "cell_type": "code",
   "execution_count": 91,
   "metadata": {},
   "outputs": [
    {
     "name": "stdout",
     "output_type": "stream",
     "text": [
      "Bandi pubblicati nel 2019: 35\n",
      "Bandi pubblicati nel 2020: 154\n",
      "Bandi pubblicati nel 2021: 576\n",
      "Bandi pubblicati nel 2022: 38515\n",
      "Bandi pubblicati nel 2023: 137974\n"
     ]
    }
   ],
   "source": [
    "print(\"Bandi pubblicati nel 2019:\",pnew[pnew['data_pubblicazione'].str.match('2019')].shape[0])\n",
    "print(\"Bandi pubblicati nel 2020:\",pnew[pnew['data_pubblicazione'].str.match('2020')].shape[0])\n",
    "print(\"Bandi pubblicati nel 2021:\",pnew[pnew['data_pubblicazione'].str.match('2021')].shape[0])\n",
    "print(\"Bandi pubblicati nel 2022:\",pnew[pnew['data_pubblicazione'].str.match('2022')].shape[0])\n",
    "print(\"Bandi pubblicati nel 2023:\",pnew[pnew['data_pubblicazione'].str.match('2023')].shape[0])"
   ]
  },
  {
   "cell_type": "code",
   "execution_count": 92,
   "metadata": {},
   "outputs": [
    {
     "name": "stdout",
     "output_type": "stream",
     "text": [
      "Bandi pubblicati nel 2019: 0\n",
      "Bandi pubblicati nel 2020: 0\n",
      "Bandi pubblicati nel 2021: 0\n",
      "Bandi pubblicati nel 2022: 0\n",
      "Bandi pubblicati nel 2023: 170481\n"
     ]
    }
   ],
   "source": [
    "# quanti bandi pubblicati nel 2020, 2021, 2022, 2023\n",
    "print(\"Bandi pubblicati nel 2019:\",p5_prova[p5_prova['data_pubblicazione'].str.match('2019')]['data_pubblicazione'].shape[0])\n",
    "print(\"Bandi pubblicati nel 2020:\",p5_prova[p5_prova['data_pubblicazione'].str.match('2020')]['data_pubblicazione'].shape[0])\n",
    "print(\"Bandi pubblicati nel 2021:\",p5_prova[p5_prova['data_pubblicazione'].str.match('2021')]['data_pubblicazione'].shape[0])\n",
    "print(\"Bandi pubblicati nel 2022:\",p5_prova[p5_prova['data_pubblicazione'].str.match('2022')]['data_pubblicazione'].shape[0])\n",
    "print(\"Bandi pubblicati nel 2023:\",p5_prova[p5_prova['data_pubblicazione'].str.match('2023')]['data_pubblicazione'].shape[0])"
   ]
  },
  {
   "cell_type": "markdown",
   "metadata": {},
   "source": [
    "Dataset con CIG pubblicati nel 2022"
   ]
  },
  {
   "cell_type": "code",
   "execution_count": 79,
   "metadata": {},
   "outputs": [],
   "source": [
    "from bs4 import BeautifulSoup\n",
    "import requests\n",
    "import re\n",
    "from io import BytesIO\n",
    "from zipfile import ZipFile\n",
    "from urllib.request import urlopen\n",
    "\n",
    "html_page = requests.get('https://dati.anticorruzione.it/opendata/dataset/cig-2022')\n",
    "soup = BeautifulSoup(html_page.content, 'html.parser')\n",
    "\n",
    "\n",
    "# find all a href links available on this page\n",
    "file_urls = soup.findAll('a', class_=\"heading\",title=re.compile(\"^cig_csv\"))\n",
    "links = [link.get('href') for link in file_urls]\n",
    "\n",
    "d = []\n",
    "for link in links:\n",
    "    l = 'https://dati.anticorruzione.it'+link\n",
    "    html_page = requests.get(l)\n",
    "    soup = BeautifulSoup(html_page.content, 'html.parser')\n",
    "    file_urls = soup.findAll('a',class_=\"btn btn-primary resource-url-analytics resource-type-None\")\n",
    "    d.append(file_urls[0].get('href'))"
   ]
  },
  {
   "cell_type": "code",
   "execution_count": 80,
   "metadata": {},
   "outputs": [
    {
     "name": "stdout",
     "output_type": "stream",
     "text": [
      "cig_csv_2022_01.csv Completed\n",
      "cig_csv_2022_02.csv Completed\n",
      "cig_csv_2022_03.csv Completed\n",
      "cig_csv_2022_04.csv Completed\n",
      "cig_csv_2022_05.csv Completed\n",
      "cig_csv_2022_06.csv Completed\n",
      "cig_csv_2022_07.csv Completed\n",
      "cig_csv_2022_08.csv Completed\n",
      "cig_csv_2022_09.csv Completed\n",
      "cig_csv_2022_10.csv Completed\n",
      "cig_csv_2022_11.csv Completed\n",
      "cig_csv_2022_12.csv Completed\n"
     ]
    }
   ],
   "source": [
    "# initiating a dataframe\n",
    "full_df2 = pd.DataFrame()\n",
    "\n",
    "for link in d:\n",
    "    # open url\n",
    "    resp = urlopen(link)\n",
    "    # read zipfile\n",
    "    zipfile = ZipFile(BytesIO(resp.read()))\n",
    "    # get the csv file name\n",
    "    fname = zipfile.namelist()[0]\n",
    "    # convert to pandas dateframe\n",
    "    df = pd.read_csv(zipfile.open(fname), dtype=object, delimiter=';')\n",
    "    # close zipfile we don't need\n",
    "    zipfile.close()\n",
    "    \n",
    "    # concatenate dataframes\n",
    "    full_df2 = pd.concat([full_df2, df], ignore_index=True, sort=False)\n",
    "    \n",
    "    # let me know how much it is completed.\n",
    "    print(f'{fname} Completed')"
   ]
  },
  {
   "cell_type": "code",
   "execution_count": 81,
   "metadata": {},
   "outputs": [],
   "source": [
    "p5_prova2 = full_df2[full_df2['FLAG_PNRR_PNC']=='1']"
   ]
  },
  {
   "cell_type": "code",
   "execution_count": 93,
   "metadata": {},
   "outputs": [
    {
     "name": "stdout",
     "output_type": "stream",
     "text": [
      "38939\n",
      "[1]\n",
      "Bandi pubblicati nel 2019: 0\n",
      "Bandi pubblicati nel 2020: 0\n",
      "Bandi pubblicati nel 2021: 0\n",
      "Bandi pubblicati nel 2022: 38939\n",
      "Bandi pubblicati nel 2023: 0\n"
     ]
    }
   ],
   "source": [
    "print(p5_prova2['cig'].nunique())\n",
    "print(pnew['FLAG_PNRR_PNC'].unique())\n",
    "# quanti bandi pubblicati nel 2020, 2021, 2022, 2023\n",
    "print(\"Bandi pubblicati nel 2019:\",p5_prova2[p5_prova2['data_pubblicazione'].str.match('2019')]['data_pubblicazione'].shape[0])\n",
    "print(\"Bandi pubblicati nel 2020:\",p5_prova2[p5_prova2['data_pubblicazione'].str.match('2020')]['data_pubblicazione'].shape[0])\n",
    "print(\"Bandi pubblicati nel 2021:\",p5_prova2[p5_prova2['data_pubblicazione'].str.match('2021')]['data_pubblicazione'].shape[0])\n",
    "print(\"Bandi pubblicati nel 2022:\",p5_prova2[p5_prova2['data_pubblicazione'].str.match('2022')]['data_pubblicazione'].shape[0])\n",
    "print(\"Bandi pubblicati nel 2023:\",p5_prova2[p5_prova2['data_pubblicazione'].str.match('2023')]['data_pubblicazione'].shape[0])"
   ]
  },
  {
   "cell_type": "code",
   "execution_count": 94,
   "metadata": {},
   "outputs": [],
   "source": [
    "p5 = pd.concat([p5_prova, p5_prova2], ignore_index=True, sort=False)"
   ]
  },
  {
   "cell_type": "code",
   "execution_count": 100,
   "metadata": {},
   "outputs": [
    {
     "name": "stdout",
     "output_type": "stream",
     "text": [
      "209420\n",
      "209420\n"
     ]
    }
   ],
   "source": [
    "print(p5.shape[0])\n",
    "print(p5['cig'].nunique())"
   ]
  },
  {
   "cell_type": "code",
   "execution_count": 101,
   "metadata": {},
   "outputs": [],
   "source": [
    "p5 = p5.drop_duplicates()"
   ]
  },
  {
   "cell_type": "code",
   "execution_count": 104,
   "metadata": {},
   "outputs": [
    {
     "name": "stdout",
     "output_type": "stream",
     "text": [
      "209420\n",
      "['1']\n",
      "Bandi pubblicati nel 2019: 0\n",
      "Bandi pubblicati nel 2020: 0\n",
      "Bandi pubblicati nel 2021: 0\n",
      "Bandi pubblicati nel 2022: 38939\n",
      "Bandi pubblicati nel 2023: 170481\n"
     ]
    }
   ],
   "source": [
    "print(p5['cig'].nunique())\n",
    "print(p5['FLAG_PNRR_PNC'].unique())\n",
    "# quanti bandi pubblicati nel 2020, 2021, 2022, 2023\n",
    "print(\"Bandi pubblicati nel 2019:\",p5[p5['data_pubblicazione'].str.match('2019')]['data_pubblicazione'].shape[0])\n",
    "print(\"Bandi pubblicati nel 2020:\",p5[p5['data_pubblicazione'].str.match('2020')]['data_pubblicazione'].shape[0])\n",
    "print(\"Bandi pubblicati nel 2021:\",p5[p5['data_pubblicazione'].str.match('2021')]['data_pubblicazione'].shape[0])\n",
    "print(\"Bandi pubblicati nel 2022:\",p5[p5['data_pubblicazione'].str.match('2022')]['data_pubblicazione'].shape[0])\n",
    "print(\"Bandi pubblicati nel 2023:\",p5[p5['data_pubblicazione'].str.match('2023')]['data_pubblicazione'].shape[0])"
   ]
  },
  {
   "cell_type": "code",
   "execution_count": 109,
   "metadata": {},
   "outputs": [],
   "source": [
    "p5.to_csv(\"p5.csv\", index = False, sep=';')"
   ]
  },
  {
   "cell_type": "markdown",
   "metadata": {},
   "source": [
    "2021"
   ]
  },
  {
   "cell_type": "code",
   "execution_count": 105,
   "metadata": {},
   "outputs": [
    {
     "name": "stdout",
     "output_type": "stream",
     "text": [
      "cig_csv_2021_01.csv Completed\n",
      "cig_csv_2021_02.csv Completed\n",
      "cig_csv_2021_03.csv Completed\n",
      "cig_csv_2021_04.csv Completed\n",
      "cig_csv_2021_05.csv Completed\n",
      "cig_csv_2021_06.csv Completed\n",
      "cig_csv_2021_07.csv Completed\n",
      "cig_csv_2021_08.csv Completed\n",
      "cig_csv_2021_09.csv Completed\n",
      "cig_csv_2021_10.csv Completed\n",
      "cig_csv_2021_11.csv Completed\n",
      "cig_csv_2021_12.csv Completed\n"
     ]
    },
    {
     "data": {
      "text/html": [
       "<div>\n",
       "<style scoped>\n",
       "    .dataframe tbody tr th:only-of-type {\n",
       "        vertical-align: middle;\n",
       "    }\n",
       "\n",
       "    .dataframe tbody tr th {\n",
       "        vertical-align: top;\n",
       "    }\n",
       "\n",
       "    .dataframe thead th {\n",
       "        text-align: right;\n",
       "    }\n",
       "</style>\n",
       "<table border=\"1\" class=\"dataframe\">\n",
       "  <thead>\n",
       "    <tr style=\"text-align: right;\">\n",
       "      <th></th>\n",
       "      <th>cig</th>\n",
       "      <th>cig_accordo_quadro</th>\n",
       "      <th>numero_gara</th>\n",
       "      <th>oggetto_gara</th>\n",
       "      <th>importo_complessivo_gara</th>\n",
       "      <th>n_lotti_componenti</th>\n",
       "      <th>oggetto_lotto</th>\n",
       "      <th>importo_lotto</th>\n",
       "      <th>oggetto_principale_contratto</th>\n",
       "      <th>stato</th>\n",
       "      <th>...</th>\n",
       "      <th>TIPO_APPALTO_RISERVATO</th>\n",
       "      <th>CUI_PROGRAMMA</th>\n",
       "      <th>FLAG_PREV_RIPETIZIONI</th>\n",
       "      <th>COD_IPOTESI_COLLEGAMENTO</th>\n",
       "      <th>IPOTESI_COLLEGAMENTO</th>\n",
       "      <th>CIG_COLLEGAMENTO</th>\n",
       "      <th>COD_ESITO</th>\n",
       "      <th>ESITO</th>\n",
       "      <th>DATA_COMUNICAZIONE_ESITO</th>\n",
       "      <th>FLAG_PNRR_PNC</th>\n",
       "    </tr>\n",
       "  </thead>\n",
       "  <tbody>\n",
       "    <tr>\n",
       "      <th>0</th>\n",
       "      <td>8758994681</td>\n",
       "      <td>NaN</td>\n",
       "      <td>8156101</td>\n",
       "      <td>DISPOSITIVO PER TERMOREGOLAZIONE DEI CAMPIONI ...</td>\n",
       "      <td>72000.0</td>\n",
       "      <td>1</td>\n",
       "      <td>DISPOSITIVO PER TERMOREGOLAZIONE DEI CAMPIONI ...</td>\n",
       "      <td>72000.0</td>\n",
       "      <td>FORNITURE</td>\n",
       "      <td>ATTIVO</td>\n",
       "      <td>...</td>\n",
       "      <td>NaN</td>\n",
       "      <td>NaN</td>\n",
       "      <td>0</td>\n",
       "      <td>NaN</td>\n",
       "      <td>NaN</td>\n",
       "      <td>NaN</td>\n",
       "      <td>1.0</td>\n",
       "      <td>AGGIUDICATA</td>\n",
       "      <td>2023-07-07</td>\n",
       "      <td>NaN</td>\n",
       "    </tr>\n",
       "    <tr>\n",
       "      <th>1</th>\n",
       "      <td>85934291F3</td>\n",
       "      <td>NaN</td>\n",
       "      <td>8016852</td>\n",
       "      <td>Oggetto non pubblicabile a causa della potenzi...</td>\n",
       "      <td>5995380.52</td>\n",
       "      <td>2</td>\n",
       "      <td>Oggetto non pubblicabile a causa della potenzi...</td>\n",
       "      <td>5582255.8</td>\n",
       "      <td>SERVIZI</td>\n",
       "      <td>ATTIVO</td>\n",
       "      <td>...</td>\n",
       "      <td>NaN</td>\n",
       "      <td>S01199250158201900070</td>\n",
       "      <td>1</td>\n",
       "      <td>NaN</td>\n",
       "      <td>NaN</td>\n",
       "      <td>NaN</td>\n",
       "      <td>1.0</td>\n",
       "      <td>AGGIUDICATA</td>\n",
       "      <td>2021-10-29</td>\n",
       "      <td>NaN</td>\n",
       "    </tr>\n",
       "    <tr>\n",
       "      <th>2</th>\n",
       "      <td>9002772A78</td>\n",
       "      <td>NaN</td>\n",
       "      <td>8369725</td>\n",
       "      <td>LAVORI DI SOSTITUZIONE RETE ACQUEDOTTO VIA ROS...</td>\n",
       "      <td>146828.93</td>\n",
       "      <td>1</td>\n",
       "      <td>LAVORI DI SOSTITUZIONE RETE ACQUEDOTTO VIA ROS...</td>\n",
       "      <td>146828.93</td>\n",
       "      <td>LAVORI</td>\n",
       "      <td>ATTIVO</td>\n",
       "      <td>...</td>\n",
       "      <td>NaN</td>\n",
       "      <td>NaN</td>\n",
       "      <td>0</td>\n",
       "      <td>NaN</td>\n",
       "      <td>NaN</td>\n",
       "      <td>NaN</td>\n",
       "      <td>1.0</td>\n",
       "      <td>AGGIUDICATA</td>\n",
       "      <td>2021-12-03</td>\n",
       "      <td>NaN</td>\n",
       "    </tr>\n",
       "    <tr>\n",
       "      <th>3</th>\n",
       "      <td>87222937E1</td>\n",
       "      <td>NaN</td>\n",
       "      <td>8122762</td>\n",
       "      <td>SISMA 2016 2017: RIPARAZIONE CON MIGLIORAMENTO...</td>\n",
       "      <td>377202.0</td>\n",
       "      <td>1</td>\n",
       "      <td>SISMA 2016 2017: RIPARAZIONE CON MIGLIORAMENTO...</td>\n",
       "      <td>377202.0</td>\n",
       "      <td>LAVORI</td>\n",
       "      <td>ATTIVO</td>\n",
       "      <td>...</td>\n",
       "      <td>NaN</td>\n",
       "      <td>NaN</td>\n",
       "      <td>0</td>\n",
       "      <td>NaN</td>\n",
       "      <td>NaN</td>\n",
       "      <td>NaN</td>\n",
       "      <td>NaN</td>\n",
       "      <td>NaN</td>\n",
       "      <td>NaN</td>\n",
       "      <td>NaN</td>\n",
       "    </tr>\n",
       "    <tr>\n",
       "      <th>4</th>\n",
       "      <td>8737258564</td>\n",
       "      <td>8347965EA2</td>\n",
       "      <td>8136009</td>\n",
       "      <td>FORNITURA VACCINO ANTIMENIGOCOCCICO B MULTICOM...</td>\n",
       "      <td>479000.0</td>\n",
       "      <td>1</td>\n",
       "      <td>FORNITURA VACCINO ANTIMENIGOCOCCICO B MULTICOM...</td>\n",
       "      <td>479000.0</td>\n",
       "      <td>FORNITURE</td>\n",
       "      <td>ATTIVO</td>\n",
       "      <td>...</td>\n",
       "      <td>NaN</td>\n",
       "      <td>01684950593202100001</td>\n",
       "      <td>0</td>\n",
       "      <td>NaN</td>\n",
       "      <td>NaN</td>\n",
       "      <td>NaN</td>\n",
       "      <td>1.0</td>\n",
       "      <td>AGGIUDICATA</td>\n",
       "      <td>2021-05-18</td>\n",
       "      <td>NaN</td>\n",
       "    </tr>\n",
       "    <tr>\n",
       "      <th>...</th>\n",
       "      <td>...</td>\n",
       "      <td>...</td>\n",
       "      <td>...</td>\n",
       "      <td>...</td>\n",
       "      <td>...</td>\n",
       "      <td>...</td>\n",
       "      <td>...</td>\n",
       "      <td>...</td>\n",
       "      <td>...</td>\n",
       "      <td>...</td>\n",
       "      <td>...</td>\n",
       "      <td>...</td>\n",
       "      <td>...</td>\n",
       "      <td>...</td>\n",
       "      <td>...</td>\n",
       "      <td>...</td>\n",
       "      <td>...</td>\n",
       "      <td>...</td>\n",
       "      <td>...</td>\n",
       "      <td>...</td>\n",
       "      <td>...</td>\n",
       "    </tr>\n",
       "    <tr>\n",
       "      <th>428751</th>\n",
       "      <td>9066194BF5</td>\n",
       "      <td>NaN</td>\n",
       "      <td>8422098</td>\n",
       "      <td>LAVORI IN SOMMA URGENZA PER DANNI ALLUVIONALI ...</td>\n",
       "      <td>89046.0</td>\n",
       "      <td>1</td>\n",
       "      <td>LAVORI IN SOMMA URGENZA PER DANNI ALLUVIONALI ...</td>\n",
       "      <td>89046.0</td>\n",
       "      <td>LAVORI</td>\n",
       "      <td>ATTIVO</td>\n",
       "      <td>...</td>\n",
       "      <td>NaN</td>\n",
       "      <td>NaN</td>\n",
       "      <td>0</td>\n",
       "      <td>NaN</td>\n",
       "      <td>NaN</td>\n",
       "      <td>NaN</td>\n",
       "      <td>1.0</td>\n",
       "      <td>AGGIUDICATA</td>\n",
       "      <td>2022-02-16</td>\n",
       "      <td>NaN</td>\n",
       "    </tr>\n",
       "    <tr>\n",
       "      <th>428752</th>\n",
       "      <td>9067614FC6</td>\n",
       "      <td>8976958417</td>\n",
       "      <td>8423461</td>\n",
       "      <td>ID13SER011 SERVIZIO DI TRASPORTO DELLE PERSONE...</td>\n",
       "      <td>200000.0</td>\n",
       "      <td>1</td>\n",
       "      <td>ID13SER011 SERVIZIO DI TRASPORTO DELLE PERSONE...</td>\n",
       "      <td>200000.0</td>\n",
       "      <td>SERVIZI</td>\n",
       "      <td>ATTIVO</td>\n",
       "      <td>...</td>\n",
       "      <td>NaN</td>\n",
       "      <td>NaN</td>\n",
       "      <td>0</td>\n",
       "      <td>NaN</td>\n",
       "      <td>NaN</td>\n",
       "      <td>NaN</td>\n",
       "      <td>1.0</td>\n",
       "      <td>AGGIUDICATA</td>\n",
       "      <td>2023-01-24</td>\n",
       "      <td>NaN</td>\n",
       "    </tr>\n",
       "    <tr>\n",
       "      <th>428753</th>\n",
       "      <td>9085582B71</td>\n",
       "      <td>NaN</td>\n",
       "      <td>8437926</td>\n",
       "      <td>CONTRATTO PONTE DELIBERA N. 1663 DEL 30/12/202...</td>\n",
       "      <td>45000.0</td>\n",
       "      <td>1</td>\n",
       "      <td>CONTRATTO PONTE DELIBERA N. 1663 DEL 30/12/202...</td>\n",
       "      <td>45000.0</td>\n",
       "      <td>FORNITURE</td>\n",
       "      <td>ATTIVO</td>\n",
       "      <td>...</td>\n",
       "      <td>NaN</td>\n",
       "      <td>NaN</td>\n",
       "      <td>0</td>\n",
       "      <td>NaN</td>\n",
       "      <td>NaN</td>\n",
       "      <td>NaN</td>\n",
       "      <td>NaN</td>\n",
       "      <td>NaN</td>\n",
       "      <td>NaN</td>\n",
       "      <td>NaN</td>\n",
       "    </tr>\n",
       "    <tr>\n",
       "      <th>428754</th>\n",
       "      <td>90633565F9</td>\n",
       "      <td>NaN</td>\n",
       "      <td>8419407</td>\n",
       "      <td>ACQUISTO CARBURANTE PER AUTOTRAZIONE TRAMITE MEPA</td>\n",
       "      <td>1320000.0</td>\n",
       "      <td>1</td>\n",
       "      <td>ACQUISTO CARBURANTE PER AUTOTRAZIONE TRAMITE MEPA</td>\n",
       "      <td>1320000.0</td>\n",
       "      <td>FORNITURE</td>\n",
       "      <td>ATTIVO</td>\n",
       "      <td>...</td>\n",
       "      <td>NaN</td>\n",
       "      <td>NaN</td>\n",
       "      <td>0</td>\n",
       "      <td>NaN</td>\n",
       "      <td>NaN</td>\n",
       "      <td>NaN</td>\n",
       "      <td>NaN</td>\n",
       "      <td>NaN</td>\n",
       "      <td>NaN</td>\n",
       "      <td>NaN</td>\n",
       "    </tr>\n",
       "    <tr>\n",
       "      <th>428755</th>\n",
       "      <td>9053808EB4</td>\n",
       "      <td>NaN</td>\n",
       "      <td>8411543</td>\n",
       "      <td>ACQUISTO DI MATERIALI IN ACCIAIO PER IMPIANTI ...</td>\n",
       "      <td>49022.0</td>\n",
       "      <td>1</td>\n",
       "      <td>ACQUISTO DI MATERIALI IN ACCIAIO PER IMPIANTI ...</td>\n",
       "      <td>49022.0</td>\n",
       "      <td>FORNITURE</td>\n",
       "      <td>ATTIVO</td>\n",
       "      <td>...</td>\n",
       "      <td>NaN</td>\n",
       "      <td>NaN</td>\n",
       "      <td>0</td>\n",
       "      <td>NaN</td>\n",
       "      <td>NaN</td>\n",
       "      <td>NaN</td>\n",
       "      <td>1.0</td>\n",
       "      <td>AGGIUDICATA</td>\n",
       "      <td>2022-01-19</td>\n",
       "      <td>NaN</td>\n",
       "    </tr>\n",
       "  </tbody>\n",
       "</table>\n",
       "<p>428756 rows × 61 columns</p>\n",
       "</div>"
      ],
      "text/plain": [
       "               cig cig_accordo_quadro numero_gara  \\\n",
       "0       8758994681                NaN     8156101   \n",
       "1       85934291F3                NaN     8016852   \n",
       "2       9002772A78                NaN     8369725   \n",
       "3       87222937E1                NaN     8122762   \n",
       "4       8737258564         8347965EA2     8136009   \n",
       "...            ...                ...         ...   \n",
       "428751  9066194BF5                NaN     8422098   \n",
       "428752  9067614FC6         8976958417     8423461   \n",
       "428753  9085582B71                NaN     8437926   \n",
       "428754  90633565F9                NaN     8419407   \n",
       "428755  9053808EB4                NaN     8411543   \n",
       "\n",
       "                                             oggetto_gara  \\\n",
       "0       DISPOSITIVO PER TERMOREGOLAZIONE DEI CAMPIONI ...   \n",
       "1       Oggetto non pubblicabile a causa della potenzi...   \n",
       "2       LAVORI DI SOSTITUZIONE RETE ACQUEDOTTO VIA ROS...   \n",
       "3       SISMA 2016 2017: RIPARAZIONE CON MIGLIORAMENTO...   \n",
       "4       FORNITURA VACCINO ANTIMENIGOCOCCICO B MULTICOM...   \n",
       "...                                                   ...   \n",
       "428751  LAVORI IN SOMMA URGENZA PER DANNI ALLUVIONALI ...   \n",
       "428752  ID13SER011 SERVIZIO DI TRASPORTO DELLE PERSONE...   \n",
       "428753  CONTRATTO PONTE DELIBERA N. 1663 DEL 30/12/202...   \n",
       "428754  ACQUISTO CARBURANTE PER AUTOTRAZIONE TRAMITE MEPA   \n",
       "428755  ACQUISTO DI MATERIALI IN ACCIAIO PER IMPIANTI ...   \n",
       "\n",
       "       importo_complessivo_gara n_lotti_componenti  \\\n",
       "0                       72000.0                  1   \n",
       "1                    5995380.52                  2   \n",
       "2                     146828.93                  1   \n",
       "3                      377202.0                  1   \n",
       "4                      479000.0                  1   \n",
       "...                         ...                ...   \n",
       "428751                  89046.0                  1   \n",
       "428752                 200000.0                  1   \n",
       "428753                  45000.0                  1   \n",
       "428754                1320000.0                  1   \n",
       "428755                  49022.0                  1   \n",
       "\n",
       "                                            oggetto_lotto importo_lotto  \\\n",
       "0       DISPOSITIVO PER TERMOREGOLAZIONE DEI CAMPIONI ...       72000.0   \n",
       "1       Oggetto non pubblicabile a causa della potenzi...     5582255.8   \n",
       "2       LAVORI DI SOSTITUZIONE RETE ACQUEDOTTO VIA ROS...     146828.93   \n",
       "3       SISMA 2016 2017: RIPARAZIONE CON MIGLIORAMENTO...      377202.0   \n",
       "4       FORNITURA VACCINO ANTIMENIGOCOCCICO B MULTICOM...      479000.0   \n",
       "...                                                   ...           ...   \n",
       "428751  LAVORI IN SOMMA URGENZA PER DANNI ALLUVIONALI ...       89046.0   \n",
       "428752  ID13SER011 SERVIZIO DI TRASPORTO DELLE PERSONE...      200000.0   \n",
       "428753  CONTRATTO PONTE DELIBERA N. 1663 DEL 30/12/202...       45000.0   \n",
       "428754  ACQUISTO CARBURANTE PER AUTOTRAZIONE TRAMITE MEPA     1320000.0   \n",
       "428755  ACQUISTO DI MATERIALI IN ACCIAIO PER IMPIANTI ...       49022.0   \n",
       "\n",
       "       oggetto_principale_contratto   stato  ... TIPO_APPALTO_RISERVATO  \\\n",
       "0                         FORNITURE  ATTIVO  ...                    NaN   \n",
       "1                           SERVIZI  ATTIVO  ...                    NaN   \n",
       "2                            LAVORI  ATTIVO  ...                    NaN   \n",
       "3                            LAVORI  ATTIVO  ...                    NaN   \n",
       "4                         FORNITURE  ATTIVO  ...                    NaN   \n",
       "...                             ...     ...  ...                    ...   \n",
       "428751                       LAVORI  ATTIVO  ...                    NaN   \n",
       "428752                      SERVIZI  ATTIVO  ...                    NaN   \n",
       "428753                    FORNITURE  ATTIVO  ...                    NaN   \n",
       "428754                    FORNITURE  ATTIVO  ...                    NaN   \n",
       "428755                    FORNITURE  ATTIVO  ...                    NaN   \n",
       "\n",
       "                CUI_PROGRAMMA FLAG_PREV_RIPETIZIONI COD_IPOTESI_COLLEGAMENTO  \\\n",
       "0                         NaN                     0                      NaN   \n",
       "1       S01199250158201900070                     1                      NaN   \n",
       "2                         NaN                     0                      NaN   \n",
       "3                         NaN                     0                      NaN   \n",
       "4        01684950593202100001                     0                      NaN   \n",
       "...                       ...                   ...                      ...   \n",
       "428751                    NaN                     0                      NaN   \n",
       "428752                    NaN                     0                      NaN   \n",
       "428753                    NaN                     0                      NaN   \n",
       "428754                    NaN                     0                      NaN   \n",
       "428755                    NaN                     0                      NaN   \n",
       "\n",
       "       IPOTESI_COLLEGAMENTO CIG_COLLEGAMENTO COD_ESITO        ESITO  \\\n",
       "0                       NaN              NaN       1.0  AGGIUDICATA   \n",
       "1                       NaN              NaN       1.0  AGGIUDICATA   \n",
       "2                       NaN              NaN       1.0  AGGIUDICATA   \n",
       "3                       NaN              NaN       NaN          NaN   \n",
       "4                       NaN              NaN       1.0  AGGIUDICATA   \n",
       "...                     ...              ...       ...          ...   \n",
       "428751                  NaN              NaN       1.0  AGGIUDICATA   \n",
       "428752                  NaN              NaN       1.0  AGGIUDICATA   \n",
       "428753                  NaN              NaN       NaN          NaN   \n",
       "428754                  NaN              NaN       NaN          NaN   \n",
       "428755                  NaN              NaN       1.0  AGGIUDICATA   \n",
       "\n",
       "       DATA_COMUNICAZIONE_ESITO FLAG_PNRR_PNC  \n",
       "0                    2023-07-07           NaN  \n",
       "1                    2021-10-29           NaN  \n",
       "2                    2021-12-03           NaN  \n",
       "3                           NaN           NaN  \n",
       "4                    2021-05-18           NaN  \n",
       "...                         ...           ...  \n",
       "428751               2022-02-16           NaN  \n",
       "428752               2023-01-24           NaN  \n",
       "428753                      NaN           NaN  \n",
       "428754                      NaN           NaN  \n",
       "428755               2022-01-19           NaN  \n",
       "\n",
       "[428756 rows x 61 columns]"
      ]
     },
     "execution_count": 105,
     "metadata": {},
     "output_type": "execute_result"
    }
   ],
   "source": [
    "html_page = requests.get('https://dati.anticorruzione.it/opendata/dataset/cig-2021')\n",
    "soup = BeautifulSoup(html_page.content, 'html.parser')\n",
    "\n",
    "\n",
    "# find all a href links available on this page\n",
    "file_urls = soup.findAll('a', class_=\"heading\",title=re.compile(\"^cig_csv\"))\n",
    "links = [link.get('href') for link in file_urls]\n",
    "\n",
    "d = []\n",
    "for link in links:\n",
    "    l = 'https://dati.anticorruzione.it'+link\n",
    "    html_page = requests.get(l)\n",
    "    soup = BeautifulSoup(html_page.content, 'html.parser')\n",
    "    file_urls = soup.findAll('a',class_=\"btn btn-primary resource-url-analytics resource-type-None\")\n",
    "    d.append(file_urls[0].get('href'))\n",
    "\n",
    "# initiating a dataframe\n",
    "full_df3 = pd.DataFrame()\n",
    "\n",
    "for link in d:\n",
    "    # open url\n",
    "    resp = urlopen(link)\n",
    "    # read zipfile\n",
    "    zipfile = ZipFile(BytesIO(resp.read()))\n",
    "    # get the csv file name\n",
    "    fname = zipfile.namelist()[0]\n",
    "    # convert to pandas dateframe\n",
    "    df = pd.read_csv(zipfile.open(fname), dtype=object, delimiter=';')\n",
    "    # close zipfile we don't need\n",
    "    zipfile.close()\n",
    "    \n",
    "    # concatenate dataframes\n",
    "    full_df3 = pd.concat([full_df3, df], ignore_index=True, sort=False)\n",
    "    \n",
    "    # let me know how much it is completed.\n",
    "    print(f'{fname} Completed')\n",
    "full_df3"
   ]
  },
  {
   "cell_type": "code",
   "execution_count": 106,
   "metadata": {},
   "outputs": [],
   "source": [
    "p5_prova3 = full_df3[full_df3['FLAG_PNRR_PNC']=='1']"
   ]
  },
  {
   "cell_type": "code",
   "execution_count": 107,
   "metadata": {},
   "outputs": [
    {
     "name": "stdout",
     "output_type": "stream",
     "text": [
      "660\n",
      "['1']\n",
      "Bandi pubblicati nel 2019: 0\n",
      "Bandi pubblicati nel 2020: 0\n",
      "Bandi pubblicati nel 2021: 660\n",
      "Bandi pubblicati nel 2022: 0\n",
      "Bandi pubblicati nel 2023: 0\n"
     ]
    }
   ],
   "source": [
    "print(p5_prova3['cig'].nunique())\n",
    "print(p5_prova3['FLAG_PNRR_PNC'].unique())\n",
    "# quanti bandi pubblicati nel 2020, 2021, 2022, 2023\n",
    "print(\"Bandi pubblicati nel 2019:\",p5_prova3[p5_prova3['data_pubblicazione'].str.match('2019')]['data_pubblicazione'].shape[0])\n",
    "print(\"Bandi pubblicati nel 2020:\",p5_prova3[p5_prova3['data_pubblicazione'].str.match('2020')]['data_pubblicazione'].shape[0])\n",
    "print(\"Bandi pubblicati nel 2021:\",p5_prova3[p5_prova3['data_pubblicazione'].str.match('2021')]['data_pubblicazione'].shape[0])\n",
    "print(\"Bandi pubblicati nel 2022:\",p5_prova3[p5_prova3['data_pubblicazione'].str.match('2022')]['data_pubblicazione'].shape[0])\n",
    "print(\"Bandi pubblicati nel 2023:\",p5_prova3[p5_prova3['data_pubblicazione'].str.match('2023')]['data_pubblicazione'].shape[0])"
   ]
  },
  {
   "cell_type": "markdown",
   "metadata": {},
   "source": [
    "2020"
   ]
  },
  {
   "cell_type": "code",
   "execution_count": 110,
   "metadata": {},
   "outputs": [
    {
     "name": "stdout",
     "output_type": "stream",
     "text": [
      "cig_csv_2020_01.csv Completed\n",
      "cig_csv_2020_02.csv Completed\n",
      "cig_csv_2020_03.csv Completed\n",
      "cig_csv_2020_04.csv Completed\n",
      "cig_csv_2020_05.csv Completed\n",
      "cig_csv_2020_06.csv Completed\n",
      "cig_csv_2020_07.csv Completed\n",
      "cig_csv_2020_08.csv Completed\n",
      "cig_csv_2020_09.csv Completed\n",
      "cig_csv_2020_10.csv Completed\n",
      "cig_csv_2020_11.csv Completed\n",
      "cig_csv_2020_12.csv Completed\n",
      "184\n",
      "['1']\n",
      "Bandi pubblicati nel 2019: 0\n",
      "Bandi pubblicati nel 2020: 184\n",
      "Bandi pubblicati nel 2021: 0\n",
      "Bandi pubblicati nel 2022: 0\n",
      "Bandi pubblicati nel 2023: 0\n"
     ]
    }
   ],
   "source": [
    "html_page = requests.get('https://dati.anticorruzione.it/opendata/dataset/cig-2020')\n",
    "soup = BeautifulSoup(html_page.content, 'html.parser')\n",
    "\n",
    "\n",
    "# find all a href links available on this page\n",
    "file_urls = soup.findAll('a', class_=\"heading\",title=re.compile(\"^cig_csv\"))\n",
    "links = [link.get('href') for link in file_urls]\n",
    "\n",
    "d = []\n",
    "for link in links:\n",
    "    l = 'https://dati.anticorruzione.it'+link\n",
    "    html_page = requests.get(l)\n",
    "    soup = BeautifulSoup(html_page.content, 'html.parser')\n",
    "    file_urls = soup.findAll('a',class_=\"btn btn-primary resource-url-analytics resource-type-None\")\n",
    "    d.append(file_urls[0].get('href'))\n",
    "\n",
    "# initiating a dataframe\n",
    "full_df4 = pd.DataFrame()\n",
    "\n",
    "for link in d:\n",
    "    # open url\n",
    "    resp = urlopen(link)\n",
    "    # read zipfile\n",
    "    zipfile = ZipFile(BytesIO(resp.read()))\n",
    "    # get the csv file name\n",
    "    fname = zipfile.namelist()[0]\n",
    "    # convert to pandas dateframe\n",
    "    df = pd.read_csv(zipfile.open(fname), dtype=object, delimiter=';')\n",
    "    # close zipfile we don't need\n",
    "    zipfile.close()\n",
    "    \n",
    "    # concatenate dataframes\n",
    "    full_df4 = pd.concat([full_df4, df], ignore_index=True, sort=False)\n",
    "    \n",
    "    # let me know how much it is completed.\n",
    "    print(f'{fname} Completed')\n",
    "\n",
    "p5_prova4 = full_df4[full_df4['FLAG_PNRR_PNC']=='1']\n",
    "\n",
    "print(p5_prova4['cig'].nunique())\n",
    "print(p5_prova4['FLAG_PNRR_PNC'].unique())\n",
    "# quanti bandi pubblicati nel 2020, 2021, 2022, 2023\n",
    "print(\"Bandi pubblicati nel 2019:\",p5_prova4[p5_prova4['data_pubblicazione'].str.match('2019')]['data_pubblicazione'].shape[0])\n",
    "print(\"Bandi pubblicati nel 2020:\",p5_prova4[p5_prova4['data_pubblicazione'].str.match('2020')]['data_pubblicazione'].shape[0])\n",
    "print(\"Bandi pubblicati nel 2021:\",p5_prova4[p5_prova4['data_pubblicazione'].str.match('2021')]['data_pubblicazione'].shape[0])\n",
    "print(\"Bandi pubblicati nel 2022:\",p5_prova4[p5_prova4['data_pubblicazione'].str.match('2022')]['data_pubblicazione'].shape[0])\n",
    "print(\"Bandi pubblicati nel 2023:\",p5_prova4[p5_prova4['data_pubblicazione'].str.match('2023')]['data_pubblicazione'].shape[0])"
   ]
  },
  {
   "cell_type": "code",
   "execution_count": 111,
   "metadata": {},
   "outputs": [],
   "source": [
    "p5tot = pd.concat([p5, p5_prova3], ignore_index=True, sort=False)\n",
    "p5tot = pd.concat([p5tot, p5_prova4], ignore_index=True, sort=False)"
   ]
  },
  {
   "cell_type": "code",
   "execution_count": 114,
   "metadata": {},
   "outputs": [
    {
     "name": "stdout",
     "output_type": "stream",
     "text": [
      "210264\n",
      "['1']\n",
      "Bandi pubblicati nel 2019: 0\n",
      "Bandi pubblicati nel 2020: 184\n",
      "Bandi pubblicati nel 2021: 660\n",
      "Bandi pubblicati nel 2022: 38939\n",
      "Bandi pubblicati nel 2023: 170481\n"
     ]
    }
   ],
   "source": [
    "p5tot.drop_duplicates()\n",
    "print(p5tot['cig'].nunique())\n",
    "print(p5tot['FLAG_PNRR_PNC'].unique())\n",
    "# quanti bandi pubblicati nel 2020, 2021, 2022, 2023\n",
    "print(\"Bandi pubblicati nel 2019:\",p5tot[p5tot['data_pubblicazione'].str.match('2019')]['data_pubblicazione'].shape[0])\n",
    "print(\"Bandi pubblicati nel 2020:\",p5tot[p5tot['data_pubblicazione'].str.match('2020')]['data_pubblicazione'].shape[0])\n",
    "print(\"Bandi pubblicati nel 2021:\",p5tot[p5tot['data_pubblicazione'].str.match('2021')]['data_pubblicazione'].shape[0])\n",
    "print(\"Bandi pubblicati nel 2022:\",p5tot[p5tot['data_pubblicazione'].str.match('2022')]['data_pubblicazione'].shape[0])\n",
    "print(\"Bandi pubblicati nel 2023:\",p5tot[p5tot['data_pubblicazione'].str.match('2023')]['data_pubblicazione'].shape[0])"
   ]
  },
  {
   "cell_type": "code",
   "execution_count": 115,
   "metadata": {},
   "outputs": [],
   "source": [
    "p5tot.to_csv(\"p5tot.csv\", index = False, sep=';')"
   ]
  }
 ],
 "metadata": {
  "kernelspec": {
   "display_name": "Python 3",
   "language": "python",
   "name": "python3"
  },
  "language_info": {
   "codemirror_mode": {
    "name": "ipython",
    "version": 3
   },
   "file_extension": ".py",
   "mimetype": "text/x-python",
   "name": "python",
   "nbconvert_exporter": "python",
   "pygments_lexer": "ipython3",
   "version": "3.9.13"
  }
 },
 "nbformat": 4,
 "nbformat_minor": 2
}
