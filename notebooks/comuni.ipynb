{
 "cells": [
  {
   "cell_type": "code",
   "execution_count": 1,
   "metadata": {},
   "outputs": [],
   "source": [
    "import pandas as pd\n",
    "from src.sources import PATH_COMUNI\n",
    "import chardet"
   ]
  },
  {
   "cell_type": "code",
   "execution_count": 2,
   "metadata": {},
   "outputs": [
    {
     "name": "stdout",
     "output_type": "stream",
     "text": [
      "Detected encoding: utf-8\n"
     ]
    }
   ],
   "source": [
    "with open(PATH_COMUNI, 'rb') as f:\n",
    "    result = chardet.detect(f.read())\n",
    "detected_encoding = result['encoding']\n",
    "print(f\"Detected encoding: {detected_encoding}\")"
   ]
  },
  {
   "cell_type": "code",
   "execution_count": 3,
   "metadata": {},
   "outputs": [
    {
     "data": {
      "text/plain": [
       "Index(['Codice Regione',\n",
       "       'Codice dell'Unit� territoriale sovracomunale \\r\\n(valida a fini statistici)',\n",
       "       'Codice Provincia (Storico)(1)', 'Progressivo del Comune (2)',\n",
       "       'Codice Comune formato alfanumerico',\n",
       "       'Denominazione (Italiana e straniera)', 'Denominazione in italiano',\n",
       "       'Denominazione altra lingua', 'Codice Ripartizione Geografica',\n",
       "       'Ripartizione geografica', 'Denominazione Regione',\n",
       "       'Denominazione dell'Unit� territoriale sovracomunale \\r\\n(valida a fini statistici)',\n",
       "       'Tipologia di Unit� territoriale sovracomunale ',\n",
       "       'Flag Comune capoluogo di provincia/citt� metropolitana/libero consorzio',\n",
       "       'Sigla automobilistica', 'Codice Comune formato numerico',\n",
       "       'Codice Comune numerico con 110 province (dal 2010 al 2016)',\n",
       "       'Codice Comune numerico con 107 province (dal 2006 al 2009)',\n",
       "       'Codice Comune numerico con 103 province (dal 1995 al 2005)',\n",
       "       'Codice Catastale del comune', 'Codice NUTS1 2010',\n",
       "       'Codice NUTS2 2010 (3) ', 'Codice NUTS3 2010', 'Codice NUTS1 2021',\n",
       "       'Codice NUTS2 2021 (3) ', 'Codice NUTS3 2021'],\n",
       "      dtype='object')"
      ]
     },
     "execution_count": 3,
     "metadata": {},
     "output_type": "execute_result"
    }
   ],
   "source": [
    "comuni = pd.read_csv(PATH_COMUNI, delimiter=';')\n",
    "comuni.columns"
   ]
  },
  {
   "cell_type": "code",
   "execution_count": 4,
   "metadata": {},
   "outputs": [
    {
     "data": {
      "text/plain": [
       "Index(['Codice Regione',\n",
       "       'Codice dell'Unità territoriale sovracomunale  (valida a fini statistici)',\n",
       "       'Codice Provincia (Storico)(1)', 'Progressivo del Comune (2)',\n",
       "       'Codice Comune formato alfanumerico',\n",
       "       'Denominazione (Italiana e straniera)', 'Denominazione in italiano',\n",
       "       'Denominazione altra lingua', 'Codice Ripartizione Geografica',\n",
       "       'Ripartizione geografica', 'Denominazione Regione',\n",
       "       'Denominazione dell'Unità territoriale sovracomunale  (valida a fini statistici)',\n",
       "       'Tipologia di Unità territoriale sovracomunale',\n",
       "       'Flag Comune capoluogo di provincia/città metropolitana/libero consorzio',\n",
       "       'Sigla automobilistica', 'Codice Comune formato numerico',\n",
       "       'Codice Comune numerico con 110 province (dal 2010 al 2016)',\n",
       "       'Codice Comune numerico con 107 province (dal 2006 al 2009)',\n",
       "       'Codice Comune numerico con 103 province (dal 1995 al 2005)',\n",
       "       'Codice Catastale del comune', 'Codice NUTS1 2010',\n",
       "       'Codice NUTS2 2010 (3)', 'Codice NUTS3 2010', 'Codice NUTS1 2021',\n",
       "       'Codice NUTS2 2021 (3)', 'Codice NUTS3 2021'],\n",
       "      dtype='object')"
      ]
     },
     "execution_count": 4,
     "metadata": {},
     "output_type": "execute_result"
    }
   ],
   "source": [
    "comuni.columns = comuni.columns.str.replace('�', 'à')\n",
    "comuni.columns = comuni.columns.str.strip().str.replace('\\r\\n', ' ', regex=False)\n",
    "comuni.columns"
   ]
  },
  {
   "cell_type": "code",
   "execution_count": 5,
   "metadata": {},
   "outputs": [],
   "source": [
    "comuni = comuni[\n",
    "    [\n",
    "        'Denominazione Regione', \n",
    "        'Denominazione dell\\'Unità territoriale sovracomunale  (valida a fini statistici)', \n",
    "        'Denominazione in italiano', \n",
    "        'Codice Comune formato alfanumerico',\n",
    "        'Codice Comune formato numerico'\n",
    "    ]\n",
    "]"
   ]
  },
  {
   "cell_type": "code",
   "execution_count": 6,
   "metadata": {},
   "outputs": [],
   "source": [
    "\n",
    "comuni = comuni.rename(\n",
    "    columns=\n",
    "    {\n",
    "        'Denominazione in italiano': 'Comune', \n",
    "        'Codice Comune formato alfanumerico': 'Codice Comune Alfanumerico',\n",
    "        'Codice Comune formato numerico': 'Codice Comune Numerico',\n",
    "        'Denominazione dell\\'Unità territoriale sovracomunale  (valida a fini statistici)':'Denominazione sovracomunale',\n",
    "        'Denominazione Regione':'Regione'\n",
    "    }\n",
    ")\n",
    "comuni['Codice Comune Alfanumerico']= comuni['Codice Comune Alfanumerico'].astype(str)\n",
    "comuni['Denominazione sovracomunale']=comuni['Denominazione sovracomunale'].replace(to_replace=r\"Valle d'Aosta/Vallée d'Aoste\", value='Aosta', regex=False)\n",
    "comuni['Denominazione sovracomunale']=comuni['Denominazione sovracomunale'].replace(to_replace=r\"Bolzano/Bozen\", value='Bolzano',regex=False)\n",
    "comuni['Denominazione sovracomunale']=comuni['Denominazione sovracomunale'].str.upper()\n",
    "comuni=comuni.drop_duplicates()"
   ]
  },
  {
   "cell_type": "code",
   "execution_count": 7,
   "metadata": {},
   "outputs": [
    {
     "data": {
      "text/plain": [
       "0         1001\n",
       "1         1002\n",
       "2         1003\n",
       "3         1004\n",
       "4         1006\n",
       "         ...  \n",
       "7891    111103\n",
       "7892    111104\n",
       "7893    111105\n",
       "7894    111106\n",
       "7895    111107\n",
       "Name: Codice Comune Alfanumerico, Length: 7896, dtype: object"
      ]
     },
     "execution_count": 7,
     "metadata": {},
     "output_type": "execute_result"
    }
   ],
   "source": [
    "comuni['Codice Comune Alfanumerico']"
   ]
  },
  {
   "cell_type": "code",
   "execution_count": 8,
   "metadata": {},
   "outputs": [
    {
     "data": {
      "text/plain": [
       "0         1001\n",
       "1         1002\n",
       "2         1003\n",
       "3         1004\n",
       "4         1006\n",
       "         ...  \n",
       "7891    111103\n",
       "7892    111104\n",
       "7893    111105\n",
       "7894    111106\n",
       "7895    111107\n",
       "Name: Codice Comune Numerico, Length: 7896, dtype: int64"
      ]
     },
     "execution_count": 8,
     "metadata": {},
     "output_type": "execute_result"
    }
   ],
   "source": [
    "comuni['Codice Comune Numerico']"
   ]
  },
  {
   "cell_type": "code",
   "execution_count": 10,
   "metadata": {},
   "outputs": [
    {
     "data": {
      "text/html": [
       "<div>\n",
       "<style scoped>\n",
       "    .dataframe tbody tr th:only-of-type {\n",
       "        vertical-align: middle;\n",
       "    }\n",
       "\n",
       "    .dataframe tbody tr th {\n",
       "        vertical-align: top;\n",
       "    }\n",
       "\n",
       "    .dataframe thead th {\n",
       "        text-align: right;\n",
       "    }\n",
       "</style>\n",
       "<table border=\"1\" class=\"dataframe\">\n",
       "  <thead>\n",
       "    <tr style=\"text-align: right;\">\n",
       "      <th></th>\n",
       "      <th>Regione</th>\n",
       "      <th>Denominazione sovracomunale</th>\n",
       "      <th>Comune</th>\n",
       "      <th>Codice Comune Alfanumerico</th>\n",
       "    </tr>\n",
       "  </thead>\n",
       "  <tbody>\n",
       "    <tr>\n",
       "      <th>0</th>\n",
       "      <td>Piemonte</td>\n",
       "      <td>TORINO</td>\n",
       "      <td>Agli�</td>\n",
       "      <td>1001</td>\n",
       "    </tr>\n",
       "    <tr>\n",
       "      <th>1</th>\n",
       "      <td>Piemonte</td>\n",
       "      <td>TORINO</td>\n",
       "      <td>Airasca</td>\n",
       "      <td>1002</td>\n",
       "    </tr>\n",
       "    <tr>\n",
       "      <th>2</th>\n",
       "      <td>Piemonte</td>\n",
       "      <td>TORINO</td>\n",
       "      <td>Ala di Stura</td>\n",
       "      <td>1003</td>\n",
       "    </tr>\n",
       "    <tr>\n",
       "      <th>3</th>\n",
       "      <td>Piemonte</td>\n",
       "      <td>TORINO</td>\n",
       "      <td>Albiano d'Ivrea</td>\n",
       "      <td>1004</td>\n",
       "    </tr>\n",
       "    <tr>\n",
       "      <th>4</th>\n",
       "      <td>Piemonte</td>\n",
       "      <td>TORINO</td>\n",
       "      <td>Almese</td>\n",
       "      <td>1006</td>\n",
       "    </tr>\n",
       "  </tbody>\n",
       "</table>\n",
       "</div>"
      ],
      "text/plain": [
       "    Regione Denominazione sovracomunale           Comune  \\\n",
       "0  Piemonte                      TORINO            Agli�   \n",
       "1  Piemonte                      TORINO          Airasca   \n",
       "2  Piemonte                      TORINO     Ala di Stura   \n",
       "3  Piemonte                      TORINO  Albiano d'Ivrea   \n",
       "4  Piemonte                      TORINO           Almese   \n",
       "\n",
       "  Codice Comune Alfanumerico  \n",
       "0                       1001  \n",
       "1                       1002  \n",
       "2                       1003  \n",
       "3                       1004  \n",
       "4                       1006  "
      ]
     },
     "execution_count": 10,
     "metadata": {},
     "output_type": "execute_result"
    }
   ],
   "source": [
    "comuni.head()"
   ]
  }
 ],
 "metadata": {
  "kernelspec": {
   "display_name": "period2",
   "language": "python",
   "name": "python3"
  },
  "language_info": {
   "codemirror_mode": {
    "name": "ipython",
    "version": 3
   },
   "file_extension": ".py",
   "mimetype": "text/x-python",
   "name": "python",
   "nbconvert_exporter": "python",
   "pygments_lexer": "ipython3",
   "version": "3.9.16"
  }
 },
 "nbformat": 4,
 "nbformat_minor": 2
}
