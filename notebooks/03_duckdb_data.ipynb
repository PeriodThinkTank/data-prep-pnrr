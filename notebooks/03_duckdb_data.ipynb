{
 "cells": [
  {
   "cell_type": "code",
   "execution_count": 2,
   "id": "ea199599",
   "metadata": {},
   "outputs": [],
   "source": [
    "import duckdb\n",
    "import pandas as pd"
   ]
  },
  {
   "cell_type": "markdown",
   "id": "259218ca",
   "metadata": {},
   "source": [
    "## Database Views \n",
    "Per ottenere il DB con le varie viste dei dati PNRR, seguire [questo](https://aborruso.github.io/posts/tutto-il-pnrr-in-500k/) link. Posizionare il DB scaricato nella cartella principale per eseguire query direttamente con DuckDB\n"
   ]
  },
  {
   "cell_type": "code",
   "execution_count": null,
   "id": "93d43b7e",
   "metadata": {},
   "outputs": [
    {
     "name": "stdout",
     "output_type": "stream",
     "text": [
      "Tables in the database:\n",
      "                                           name\n",
      "0              AmmTitolari_interoperabilitaBDAP\n",
      "1                             Indicatori_Comuni\n",
      "2                    OpenData_PNC_Aggiudicatari\n",
      "3             OpenData_PNC_DescrizioneProgrammi\n",
      "4                             OpenData_PNC_Gare\n",
      "5         OpenData_PNC_LocalizzazioneGeografica\n",
      "6                        OpenData_PNC_Obiettivi\n",
      "7                         OpenData_PNC_Progetti\n",
      "8                OpenData_PNC_QuadroFinanziario\n",
      "9                   OpenData_PNC_Subappaltatori\n",
      "10        OpenData_PNRR_QuadroFinProgrammazione\n",
      "11  OpenData_PNRR_avanzamento_indicatori_comuni\n",
      "12          OpenData_PNRR_map_indicatori_comuni\n",
      "13                      PNRR_Aggiudicatari_Gare\n",
      "14                                     PNRR_CSR\n",
      "15                                    PNRR_Gare\n",
      "16                       PNRR_Indicatori_Target\n",
      "17                        PNRR_Iter_di_progetto\n",
      "18                            PNRR_Lista_Reg_UE\n",
      "19                          PNRR_Localizzazione\n",
      "20                   PNRR_Map_Indicatori_Target\n",
      "21                    PNRR_MeT_OAprogrammazione\n",
      "22                                   PNRR_PRATT\n",
      "23                   PNRR_Pagamenti_di_Progetto\n",
      "24                                PNRR_Progetti\n",
      "25                                PNRR_Soggetti\n",
      "26                   PNRR_Spesa_per_misura_PNRR\n",
      "27                                   info_viste\n"
     ]
    }
   ],
   "source": [
    "db_path = 'pnrr.db' \n",
    "\n",
    "con = duckdb.connect(database=db_path, read_only=True)\n",
    "\n",
    "\n",
    "# List tables in the database (optional, for exploration)\n",
    "print(\"Tables in the database:\")\n",
    "print(con.execute(\"SHOW TABLES;\").fetchdf())"
   ]
  },
  {
   "cell_type": "code",
   "execution_count": 4,
   "id": "4dbcdbab",
   "metadata": {},
   "outputs": [
    {
     "data": {
      "text/plain": [
       "(24, 6)"
      ]
     },
     "execution_count": 4,
     "metadata": {},
     "output_type": "execute_result"
    }
   ],
   "source": [
    "df = con.execute(f\"SELECT * FROM {'info_viste'};\").fetchdf()\n",
    "\n",
    "df.shape"
   ]
  },
  {
   "cell_type": "code",
   "execution_count": 5,
   "id": "a40f4f8b",
   "metadata": {},
   "outputs": [
    {
     "data": {
      "text/plain": [
       "Index(['view', 'title', 'page_url', 'view_source', 'description',\n",
       "       'data_osservazione'],\n",
       "      dtype='object')"
      ]
     },
     "execution_count": 5,
     "metadata": {},
     "output_type": "execute_result"
    }
   ],
   "source": [
    "df.columns"
   ]
  },
  {
   "cell_type": "code",
   "execution_count": 10,
   "id": "4ac2aba7",
   "metadata": {},
   "outputs": [
    {
     "name": "stdout",
     "output_type": "stream",
     "text": [
      "View: AmmTitolari_interoperabilitaBDAP\n",
      "Title: Interoperabilità - Amministrazioni Titolari\n",
      "URL: https://www.italiadomani.gov.it/content/sogei-ng/it/it/catalogo-open-data/amministrazioni-titolari-interoperabilita.html \n",
      "\n",
      "\n",
      "View: Indicatori_Comuni\n",
      "Title: Indicatori comuni europei per progetto del PNRR\n",
      "URL: https://www.italiadomani.gov.it/content/sogei-ng/it/it/catalogo-open-data/indicatori-comuni-europei-per-progetto-del-pnrr.html \n",
      "\n",
      "\n",
      "View: OpenData_PNC_Aggiudicatari\n",
      "Title: Aggiudicatari Gare del PNC\n",
      "URL: https://www.italiadomani.gov.it/content/sogei-ng/it/it/catalogo-open-data/aggiudicatari-gare-del-pnc.html \n",
      "\n",
      "\n",
      "View: OpenData_PNC_Gare\n",
      "Title: Gare PNC\n",
      "URL: https://www.italiadomani.gov.it/content/sogei-ng/it/it/catalogo-open-data/gare-pnc.html \n",
      "\n",
      "\n",
      "View: OpenData_PNC_LocalizzazioneGeografica\n",
      "Title: Localizzazione geografica PNC\n",
      "URL: https://www.italiadomani.gov.it/content/sogei-ng/it/it/catalogo-open-data/localizzazione-geografica-pnc.html \n",
      "\n",
      "\n",
      "View: OpenData_PNC_Progetti\n",
      "Title: Progetti PNC\n",
      "URL: https://www.italiadomani.gov.it/content/sogei-ng/it/it/catalogo-open-data/progetti-pnc.html \n",
      "\n",
      "\n",
      "View: OpenData_PNC_Subappaltatori\n",
      "Title: Gare Subappaltatori PNC\n",
      "URL: https://www.italiadomani.gov.it/content/sogei-ng/it/it/catalogo-open-data/gare-subappaltatori-pnc.html \n",
      "\n",
      "\n",
      "View: OpenData_PNRR_QuadroFinProgrammazione\n",
      "Title: Quadro finanziario del PNRR\n",
      "URL: https://www.italiadomani.gov.it/content/sogei-ng/it/it/catalogo-open-data/quadro-finanziario-pnrr.html \n",
      "\n",
      "\n",
      "View: OpenData_PNRR_avanzamento_indicatori_comuni\n",
      "Title: Avanzamento degli indicatori comuni europei per misura del PNRR\n",
      "URL: https://www.italiadomani.gov.it/content/sogei-ng/it/it/catalogo-open-data/avanzamento-degli-indicatori-comuni-europei-per-misura-del-pnrr.html \n",
      "\n",
      "\n",
      "View: OpenData_PNRR_map_indicatori_comuni\n",
      "Title: Mappatura degli indicatori comuni europei per misura del PNRR\n",
      "URL: https://www.italiadomani.gov.it/content/sogei-ng/it/it/catalogo-open-data/mappatura-degli-indicatori-comuni-europei-per-misura-del-pnrr.html \n",
      "\n",
      "\n",
      "View: PNRR_Aggiudicatari_Gare\n",
      "Title: Aggiudicatari Gare dei progetti del PNRR\n",
      "URL: https://www.italiadomani.gov.it/content/sogei-ng/it/it/catalogo-open-data/aggiudicatari-gare-dei-progetti-del-pnrr.html \n",
      "\n",
      "\n",
      "View: PNRR_CSR\n",
      "Title: Raccomandazioni del Consiglio EU (CSR) all'Italia per misura del PNRR\n",
      "URL: https://www.italiadomani.gov.it/content/sogei-ng/it/it/catalogo-open-data/raccomandazioni-del-consiglio-eu--csr--all-italia-per-misura-del.html \n",
      "\n",
      "\n",
      "View: PNRR_Gare\n",
      "Title: Gare dei progetti del PNRR\n",
      "URL: https://www.italiadomani.gov.it/content/sogei-ng/it/it/catalogo-open-data/gare-dei-progetti-del-pnrr.html \n",
      "\n",
      "\n",
      "View: PNRR_Indicatori_Target\n",
      "Title: Indicatori target dei progetti del PNRR\n",
      "URL: https://www.italiadomani.gov.it/content/sogei-ng/it/it/catalogo-open-data/indicatori-target-dei-progetti-del-pnrr.html \n",
      "\n",
      "\n",
      "View: PNRR_Iter_di_progetto\n",
      "Title: Iter di Progetto\n",
      "URL: https://www.italiadomani.gov.it/content/sogei-ng/it/it/catalogo-open-data/iter-di-progetto.html \n",
      "\n",
      "\n",
      "View: PNRR_Lista_Reg_UE\n",
      "Title: Lista Regolamento (UE) 2023/435\n",
      "URL: https://www.italiadomani.gov.it/content/sogei-ng/it/it/catalogo-open-data/lista-regolamento--ue--2023-435.html \n",
      "\n",
      "\n",
      "View: PNRR_Localizzazione\n",
      "Title: Localizzazione dei progetti del PNRR\n",
      "URL: https://www.italiadomani.gov.it/content/sogei-ng/it/it/catalogo-open-data/localizzazione-dei-progetti-del-pnrr.html \n",
      "\n",
      "\n",
      "View: PNRR_Map_Indicatori_Target\n",
      "Title: Mappatura Indicatori target per obiettivo del PNRR\n",
      "URL: https://www.italiadomani.gov.it/content/sogei-ng/it/it/catalogo-open-data/mappatura-indicatori-target-per-obiettivo-del-pnrr.html \n",
      "\n",
      "\n",
      "View: PNRR_MeT_OAprogrammazione\n",
      "Title: Milestone e Target programmazione del PNRR\n",
      "URL: https://www.italiadomani.gov.it/content/sogei-ng/it/it/catalogo-open-data/milestone-e-target-programmazione-del-pnrr.html \n",
      "\n",
      "\n",
      "View: PNRR_PRATT\n",
      "Title: Procedure di Attivazione per misura del PNRR\n",
      "URL: https://www.italiadomani.gov.it/content/sogei-ng/it/it/catalogo-open-data/procedure-di-attivazione-per-misura-del-pnrr.html \n",
      "\n",
      "\n",
      "View: PNRR_Pagamenti_di_Progetto\n",
      "Title: Pagamenti dei progetti del PNRR\n",
      "URL: https://www.italiadomani.gov.it/content/sogei-ng/it/it/catalogo-open-data/pagamenti-dei-progetti-del-pnrr.html \n",
      "\n",
      "\n",
      "View: PNRR_Progetti\n",
      "Title: Progetti del PNRR\n",
      "URL: https://www.italiadomani.gov.it/content/sogei-ng/it/it/catalogo-open-data/Progetti_del_PNRR.html \n",
      "\n",
      "\n",
      "View: PNRR_Soggetti\n",
      "Title: Soggetti dei progetti del PNRR\n",
      "URL: https://www.italiadomani.gov.it/content/sogei-ng/it/it/catalogo-open-data/soggetti-dei-progetti-del-pnrr.html \n",
      "\n",
      "\n",
      "View: PNRR_Spesa_per_misura_PNRR\n",
      "Title: Spesa per misura del PNRR\n",
      "URL: https://www.italiadomani.gov.it/content/sogei-ng/it/it/catalogo-open-data/spesa-per-misura-del-PNRR.html \n",
      "\n",
      "\n"
     ]
    }
   ],
   "source": [
    "for _, row in df.iterrows():\n",
    "    print(f\"View: {row[\"view\"]}\")\n",
    "    print(f\"Title: {row['title']}\")\n",
    "    print(f\"URL: {row['page_url']} \\n\\n\")\n"
   ]
  }
 ],
 "metadata": {
  "kernelspec": {
   "display_name": "data-prep-pnrr (3.12.11)",
   "language": "python",
   "name": "python3"
  },
  "language_info": {
   "codemirror_mode": {
    "name": "ipython",
    "version": 3
   },
   "file_extension": ".py",
   "mimetype": "text/x-python",
   "name": "python",
   "nbconvert_exporter": "python",
   "pygments_lexer": "ipython3",
   "version": "3.12.11"
  }
 },
 "nbformat": 4,
 "nbformat_minor": 5
}
