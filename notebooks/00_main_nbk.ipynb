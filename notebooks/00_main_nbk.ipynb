{
 "cells": [
  {
   "cell_type": "markdown",
   "metadata": {},
   "source": [
    "## Collecting all datasets\n",
    "\n",
    "This notebook is used to fetch all the datasets in the sources"
   ]
  },
  {
   "cell_type": "code",
   "execution_count": 1,
   "metadata": {},
   "outputs": [],
   "source": [
    "import pandas as pd\n",
    "from logging import getLogger\n",
    "\n",
    "from src.data_collection.comuni import fetch_dataset_comuni\n",
    "from src.data_collection.indicators import get_indicators\n",
    "from src.data_collection.indicators_sdg import get_indicators_and_sdg \n",
    "from src.data_collection.missioni import fetch_pnrr_missions\n",
    "from src.data_collection.p01 import get_p01\n",
    "from src.data_collection.p02 import get_p02\n",
    "from src.data_collection.p03 import get_p03\n",
    "from src.data_collection.p04 import get_p04\n",
    "from src.data_collection.p05 import get_p05\n",
    "from src.data_collection.targets import get_targets\n",
    "from src.data_collection.localizzazioni import get_localizzazioni\n",
    "from src.data_collection.regis import get_regis_indicators"
   ]
  },
  {
   "cell_type": "code",
   "execution_count": 2,
   "metadata": {},
   "outputs": [
    {
     "name": "stdout",
     "output_type": "stream",
     "text": [
      "(6500939, 2)\n",
      "Index(['CIG', 'CUP'], dtype='object')\n"
     ]
    },
    {
     "data": {
      "text/html": [
       "<div>\n",
       "<style scoped>\n",
       "    .dataframe tbody tr th:only-of-type {\n",
       "        vertical-align: middle;\n",
       "    }\n",
       "\n",
       "    .dataframe tbody tr th {\n",
       "        vertical-align: top;\n",
       "    }\n",
       "\n",
       "    .dataframe thead th {\n",
       "        text-align: right;\n",
       "    }\n",
       "</style>\n",
       "<table border=\"1\" class=\"dataframe\">\n",
       "  <thead>\n",
       "    <tr style=\"text-align: right;\">\n",
       "      <th></th>\n",
       "      <th>CIG</th>\n",
       "      <th>CUP</th>\n",
       "    </tr>\n",
       "  </thead>\n",
       "  <tbody>\n",
       "    <tr>\n",
       "      <th>0</th>\n",
       "      <td>92890720B7</td>\n",
       "      <td>G77H22001830001</td>\n",
       "    </tr>\n",
       "    <tr>\n",
       "      <th>1</th>\n",
       "      <td>B07DAC47BB</td>\n",
       "      <td>G84D22006450006</td>\n",
       "    </tr>\n",
       "    <tr>\n",
       "      <th>2</th>\n",
       "      <td>8437503FBA</td>\n",
       "      <td>I61H20000020009</td>\n",
       "    </tr>\n",
       "    <tr>\n",
       "      <th>3</th>\n",
       "      <td>B237A5C1AA</td>\n",
       "      <td>E89G24001110002</td>\n",
       "    </tr>\n",
       "    <tr>\n",
       "      <th>4</th>\n",
       "      <td>894210065B</td>\n",
       "      <td>I44H20000740009</td>\n",
       "    </tr>\n",
       "  </tbody>\n",
       "</table>\n",
       "</div>"
      ],
      "text/plain": [
       "          CIG              CUP\n",
       "0  92890720B7  G77H22001830001\n",
       "1  B07DAC47BB  G84D22006450006\n",
       "2  8437503FBA  I61H20000020009\n",
       "3  B237A5C1AA  E89G24001110002\n",
       "4  894210065B  I44H20000740009"
      ]
     },
     "execution_count": 2,
     "metadata": {},
     "output_type": "execute_result"
    }
   ],
   "source": [
    "p01 = get_p01()\n",
    "\n",
    "print(p01.shape)\n",
    "print(p01.columns)\n",
    "p01.head()"
   ]
  },
  {
   "cell_type": "code",
   "execution_count": null,
   "metadata": {},
   "outputs": [],
   "source": [
    "# p01.to_parquet(\"data/updated/p01.parquet\")"
   ]
  },
  {
   "cell_type": "code",
   "execution_count": null,
   "metadata": {},
   "outputs": [
    {
     "name": "stderr",
     "output_type": "stream",
     "text": [
      "Error fetching webpage or CSV data: 403 Client Error: Forbidden for url: https://www.italiadomani.gov.it/content/sogei-ng/it/it/catalogo-open-data/Progetti_del_PNRR_Universo_ReGiS.html\n",
      "Error fetching P02 Dataset: 'NoneType' object is not subscriptable\n"
     ]
    },
    {
     "ename": "AttributeError",
     "evalue": "'NoneType' object has no attribute 'shape'",
     "output_type": "error",
     "traceback": [
      "\u001b[31m---------------------------------------------------------------------------\u001b[39m",
      "\u001b[31mAttributeError\u001b[39m                            Traceback (most recent call last)",
      "\u001b[36mCell\u001b[39m\u001b[36m \u001b[39m\u001b[32mIn[3]\u001b[39m\u001b[32m, line 3\u001b[39m\n\u001b[32m      1\u001b[39m p02 = get_p02()\n\u001b[32m----> \u001b[39m\u001b[32m3\u001b[39m \u001b[38;5;28mprint\u001b[39m(\u001b[43mp02\u001b[49m\u001b[43m.\u001b[49m\u001b[43mshape\u001b[49m)\n\u001b[32m      4\u001b[39m \u001b[38;5;28mprint\u001b[39m(p02.columns)\n\u001b[32m      5\u001b[39m p02.head()\n",
      "\u001b[31mAttributeError\u001b[39m: 'NoneType' object has no attribute 'shape'"
     ]
    }
   ],
   "source": [
    "p02 = get_p02() # NOTE -> corretto che non esista più (fonte A.Borruso)\n",
    "\n",
    "print(p02.shape)\n",
    "print(p02.columns)\n",
    "p02.head()"
   ]
  },
  {
   "cell_type": "code",
   "execution_count": null,
   "metadata": {},
   "outputs": [],
   "source": [
    "# p02.to_parquet(\"data/updated/p02.parquet\")"
   ]
  },
  {
   "cell_type": "code",
   "execution_count": 4,
   "metadata": {},
   "outputs": [
    {
     "name": "stdout",
     "output_type": "stream",
     "text": [
      "(8099, 3)\n",
      "Index(['cig', 'cod_mis_premiale', 'misura_premiale'], dtype='object')\n"
     ]
    },
    {
     "data": {
      "text/html": [
       "<div>\n",
       "<style scoped>\n",
       "    .dataframe tbody tr th:only-of-type {\n",
       "        vertical-align: middle;\n",
       "    }\n",
       "\n",
       "    .dataframe tbody tr th {\n",
       "        vertical-align: top;\n",
       "    }\n",
       "\n",
       "    .dataframe thead th {\n",
       "        text-align: right;\n",
       "    }\n",
       "</style>\n",
       "<table border=\"1\" class=\"dataframe\">\n",
       "  <thead>\n",
       "    <tr style=\"text-align: right;\">\n",
       "      <th></th>\n",
       "      <th>cig</th>\n",
       "      <th>cod_mis_premiale</th>\n",
       "      <th>misura_premiale</th>\n",
       "    </tr>\n",
       "  </thead>\n",
       "  <tbody>\n",
       "    <tr>\n",
       "      <th>0</th>\n",
       "      <td>9975476735</td>\n",
       "      <td>10</td>\n",
       "      <td>ALTRO CRITERIO DI RESPONSABILITÀ SOCIALE NEI C...</td>\n",
       "    </tr>\n",
       "    <tr>\n",
       "      <th>1</th>\n",
       "      <td>9975476735</td>\n",
       "      <td>12</td>\n",
       "      <td>ALTRO CRITERIO PER LU2019INCLUSIONE DEI LAVORA...</td>\n",
       "    </tr>\n",
       "    <tr>\n",
       "      <th>2</th>\n",
       "      <td>9496255D85</td>\n",
       "      <td>2</td>\n",
       "      <td>UTILIZZI O SI IMPEGNI A UTILIZZARE SPECIFICI S...</td>\n",
       "    </tr>\n",
       "    <tr>\n",
       "      <th>3</th>\n",
       "      <td>9496255D85</td>\n",
       "      <td>5</td>\n",
       "      <td>SI IMPEGNI AD ASSUMERE, OLTRE ALLA SOGLIA MINI...</td>\n",
       "    </tr>\n",
       "    <tr>\n",
       "      <th>4</th>\n",
       "      <td>A0233237E3</td>\n",
       "      <td>3</td>\n",
       "      <td>SI IMPEGNI AD ASSUMERE, OLTRE ALLA SOGLIA MINI...</td>\n",
       "    </tr>\n",
       "  </tbody>\n",
       "</table>\n",
       "</div>"
      ],
      "text/plain": [
       "          cig  cod_mis_premiale  \\\n",
       "0  9975476735                10   \n",
       "1  9975476735                12   \n",
       "2  9496255D85                 2   \n",
       "3  9496255D85                 5   \n",
       "4  A0233237E3                 3   \n",
       "\n",
       "                                     misura_premiale  \n",
       "0  ALTRO CRITERIO DI RESPONSABILITÀ SOCIALE NEI C...  \n",
       "1  ALTRO CRITERIO PER LU2019INCLUSIONE DEI LAVORA...  \n",
       "2  UTILIZZI O SI IMPEGNI A UTILIZZARE SPECIFICI S...  \n",
       "3  SI IMPEGNI AD ASSUMERE, OLTRE ALLA SOGLIA MINI...  \n",
       "4  SI IMPEGNI AD ASSUMERE, OLTRE ALLA SOGLIA MINI...  "
      ]
     },
     "execution_count": 4,
     "metadata": {},
     "output_type": "execute_result"
    }
   ],
   "source": [
    "p03 = get_p03()\n",
    "print(p03.shape)\n",
    "print(p03.columns)\n",
    "p03.head()"
   ]
  },
  {
   "cell_type": "code",
   "execution_count": null,
   "metadata": {},
   "outputs": [],
   "source": [
    "# p03.to_parquet(\"data/updated/p03.parquet\") "
   ]
  },
  {
   "cell_type": "code",
   "execution_count": 5,
   "metadata": {},
   "outputs": [
    {
     "name": "stdout",
     "output_type": "stream",
     "text": [
      "(322750, 6)\n",
      "Index(['cig', 'flag_quote', 'quota_femminile', 'quota_giovanile',\n",
      "       'cod_mot_deroga', 'mot_deroga'],\n",
      "      dtype='object')\n"
     ]
    },
    {
     "data": {
      "text/html": [
       "<div>\n",
       "<style scoped>\n",
       "    .dataframe tbody tr th:only-of-type {\n",
       "        vertical-align: middle;\n",
       "    }\n",
       "\n",
       "    .dataframe tbody tr th {\n",
       "        vertical-align: top;\n",
       "    }\n",
       "\n",
       "    .dataframe thead th {\n",
       "        text-align: right;\n",
       "    }\n",
       "</style>\n",
       "<table border=\"1\" class=\"dataframe\">\n",
       "  <thead>\n",
       "    <tr style=\"text-align: right;\">\n",
       "      <th></th>\n",
       "      <th>cig</th>\n",
       "      <th>flag_quote</th>\n",
       "      <th>quota_femminile</th>\n",
       "      <th>quota_giovanile</th>\n",
       "      <th>cod_mot_deroga</th>\n",
       "      <th>mot_deroga</th>\n",
       "    </tr>\n",
       "  </thead>\n",
       "  <tbody>\n",
       "    <tr>\n",
       "      <th>0</th>\n",
       "      <td>93982999AD</td>\n",
       "      <td>N</td>\n",
       "      <td>NaN</td>\n",
       "      <td>NaN</td>\n",
       "      <td>1.0</td>\n",
       "      <td>IMPORTO RIDOTTO DEL CONTRATTO</td>\n",
       "    </tr>\n",
       "    <tr>\n",
       "      <th>1</th>\n",
       "      <td>94032374A6</td>\n",
       "      <td>N</td>\n",
       "      <td>NaN</td>\n",
       "      <td>NaN</td>\n",
       "      <td>8.0</td>\n",
       "      <td>ALTRO</td>\n",
       "    </tr>\n",
       "    <tr>\n",
       "      <th>2</th>\n",
       "      <td>95998162C6</td>\n",
       "      <td>N</td>\n",
       "      <td>NaN</td>\n",
       "      <td>NaN</td>\n",
       "      <td>1.0</td>\n",
       "      <td>IMPORTO RIDOTTO DEL CONTRATTO</td>\n",
       "    </tr>\n",
       "    <tr>\n",
       "      <th>3</th>\n",
       "      <td>975680957E</td>\n",
       "      <td>N</td>\n",
       "      <td>NaN</td>\n",
       "      <td>NaN</td>\n",
       "      <td>1.0</td>\n",
       "      <td>IMPORTO RIDOTTO DEL CONTRATTO</td>\n",
       "    </tr>\n",
       "    <tr>\n",
       "      <th>4</th>\n",
       "      <td>977828935A</td>\n",
       "      <td>N</td>\n",
       "      <td>NaN</td>\n",
       "      <td>NaN</td>\n",
       "      <td>8.0</td>\n",
       "      <td>ALTRO</td>\n",
       "    </tr>\n",
       "  </tbody>\n",
       "</table>\n",
       "</div>"
      ],
      "text/plain": [
       "          cig flag_quote  quota_femminile  quota_giovanile  cod_mot_deroga  \\\n",
       "0  93982999AD          N              NaN              NaN             1.0   \n",
       "1  94032374A6          N              NaN              NaN             8.0   \n",
       "2  95998162C6          N              NaN              NaN             1.0   \n",
       "3  975680957E          N              NaN              NaN             1.0   \n",
       "4  977828935A          N              NaN              NaN             8.0   \n",
       "\n",
       "                      mot_deroga  \n",
       "0  IMPORTO RIDOTTO DEL CONTRATTO  \n",
       "1                          ALTRO  \n",
       "2  IMPORTO RIDOTTO DEL CONTRATTO  \n",
       "3  IMPORTO RIDOTTO DEL CONTRATTO  \n",
       "4                          ALTRO  "
      ]
     },
     "execution_count": 5,
     "metadata": {},
     "output_type": "execute_result"
    }
   ],
   "source": [
    "p04 = get_p04()\n",
    "print(p04.shape)\n",
    "print(p04.columns)\n",
    "p04.head()"
   ]
  },
  {
   "cell_type": "code",
   "execution_count": null,
   "metadata": {},
   "outputs": [],
   "source": [
    "# p04.to_parquet(\"data/updated/p04.parquet\")"
   ]
  },
  {
   "cell_type": "code",
   "execution_count": 2,
   "metadata": {},
   "outputs": [
    {
     "ename": "KeyboardInterrupt",
     "evalue": "",
     "output_type": "error",
     "traceback": [
      "\u001b[31m---------------------------------------------------------------------------\u001b[39m",
      "\u001b[31mKeyboardInterrupt\u001b[39m                         Traceback (most recent call last)",
      "\u001b[36mCell\u001b[39m\u001b[36m \u001b[39m\u001b[32mIn[2]\u001b[39m\u001b[32m, line 1\u001b[39m\n\u001b[32m----> \u001b[39m\u001b[32m1\u001b[39m p05 = \u001b[43mget_p05\u001b[49m\u001b[43m(\u001b[49m\u001b[43m)\u001b[49m\n\u001b[32m      2\u001b[39m \u001b[38;5;28mprint\u001b[39m(p05.shape)\n\u001b[32m      3\u001b[39m \u001b[38;5;28mprint\u001b[39m(p05.columns)\n",
      "\u001b[36mFile \u001b[39m\u001b[32m~/Desktop/Projects/Period/data-prep-pnrr/src/data_collection/p05.py:27\u001b[39m, in \u001b[36mget_p05\u001b[39m\u001b[34m()\u001b[39m\n\u001b[32m     25\u001b[39m \u001b[38;5;28;01mfor\u001b[39;00m year, url \u001b[38;5;129;01min\u001b[39;00m P05_URLs.items():\n\u001b[32m     26\u001b[39m     \u001b[38;5;28;01mtry\u001b[39;00m:\n\u001b[32m---> \u001b[39m\u001b[32m27\u001b[39m         year_df = \u001b[43mfetch_csvs_from_url\u001b[49m\u001b[43m(\u001b[49m\n\u001b[32m     28\u001b[39m \u001b[43m            \u001b[49m\u001b[43murl\u001b[49m\u001b[43m=\u001b[49m\u001b[43murl\u001b[49m\u001b[43m,\u001b[49m\n\u001b[32m     29\u001b[39m \u001b[43m            \u001b[49m\u001b[43mfiles_title\u001b[49m\u001b[43m=\u001b[49m\u001b[33;43m\"\u001b[39;49m\u001b[33;43mcig_csv\u001b[39;49m\u001b[33;43m\"\u001b[39;49m\u001b[43m,\u001b[49m\n\u001b[32m     30\u001b[39m \u001b[43m            \u001b[49m\u001b[43mseparator\u001b[49m\u001b[43m=\u001b[49m\u001b[33;43m\"\u001b[39;49m\u001b[33;43m;\u001b[39;49m\u001b[33;43m\"\u001b[39;49m\u001b[43m,\u001b[49m\n\u001b[32m     31\u001b[39m \u001b[43m        \u001b[49m\u001b[43m)\u001b[49m\n\u001b[32m     33\u001b[39m         year_df = year_df[year_df[\u001b[33m'\u001b[39m\u001b[33mFLAG_PNRR_PNC\u001b[39m\u001b[33m'\u001b[39m]==\u001b[33m'\u001b[39m\u001b[33m1\u001b[39m\u001b[33m'\u001b[39m]\n\u001b[32m     35\u001b[39m         p05 = pd.concat([p05, year_df], ignore_index=\u001b[38;5;28;01mTrue\u001b[39;00m, sort=\u001b[38;5;28;01mFalse\u001b[39;00m)\n",
      "\u001b[36mFile \u001b[39m\u001b[32m~/Desktop/Projects/Period/data-prep-pnrr/src/utils.py:227\u001b[39m, in \u001b[36mfetch_csvs_from_url\u001b[39m\u001b[34m(url, files_title, separator)\u001b[39m\n\u001b[32m    225\u001b[39m \u001b[38;5;28;01mif\u001b[39;00m link.endswith(\u001b[33m'\u001b[39m\u001b[33m.zip\u001b[39m\u001b[33m'\u001b[39m):\n\u001b[32m    226\u001b[39m     resp = urlopen(link)\n\u001b[32m--> \u001b[39m\u001b[32m227\u001b[39m     zipfile = ZipFile(BytesIO(\u001b[43mresp\u001b[49m\u001b[43m.\u001b[49m\u001b[43mread\u001b[49m\u001b[43m(\u001b[49m\u001b[43m)\u001b[49m))\n\u001b[32m    228\u001b[39m     fname = zipfile.namelist()[\u001b[32m0\u001b[39m]\n\u001b[32m    229\u001b[39m     df = pd.read_csv(zipfile.open(fname), dtype=\u001b[38;5;28mobject\u001b[39m, delimiter=\u001b[33m'\u001b[39m\u001b[33m;\u001b[39m\u001b[33m'\u001b[39m)\n",
      "\u001b[36mFile \u001b[39m\u001b[32m~/.local/share/uv/python/cpython-3.12.11-macos-aarch64-none/lib/python3.12/http/client.py:495\u001b[39m, in \u001b[36mHTTPResponse.read\u001b[39m\u001b[34m(self, amt)\u001b[39m\n\u001b[32m    493\u001b[39m \u001b[38;5;28;01melse\u001b[39;00m:\n\u001b[32m    494\u001b[39m     \u001b[38;5;28;01mtry\u001b[39;00m:\n\u001b[32m--> \u001b[39m\u001b[32m495\u001b[39m         s = \u001b[38;5;28;43mself\u001b[39;49m\u001b[43m.\u001b[49m\u001b[43m_safe_read\u001b[49m\u001b[43m(\u001b[49m\u001b[38;5;28;43mself\u001b[39;49m\u001b[43m.\u001b[49m\u001b[43mlength\u001b[49m\u001b[43m)\u001b[49m\n\u001b[32m    496\u001b[39m     \u001b[38;5;28;01mexcept\u001b[39;00m IncompleteRead:\n\u001b[32m    497\u001b[39m         \u001b[38;5;28mself\u001b[39m._close_conn()\n",
      "\u001b[36mFile \u001b[39m\u001b[32m~/.local/share/uv/python/cpython-3.12.11-macos-aarch64-none/lib/python3.12/http/client.py:642\u001b[39m, in \u001b[36mHTTPResponse._safe_read\u001b[39m\u001b[34m(self, amt)\u001b[39m\n\u001b[32m    635\u001b[39m \u001b[38;5;28;01mdef\u001b[39;00m\u001b[38;5;250m \u001b[39m\u001b[34m_safe_read\u001b[39m(\u001b[38;5;28mself\u001b[39m, amt):\n\u001b[32m    636\u001b[39m \u001b[38;5;250m    \u001b[39m\u001b[33;03m\"\"\"Read the number of bytes requested.\u001b[39;00m\n\u001b[32m    637\u001b[39m \n\u001b[32m    638\u001b[39m \u001b[33;03m    This function should be used when <amt> bytes \"should\" be present for\u001b[39;00m\n\u001b[32m    639\u001b[39m \u001b[33;03m    reading. If the bytes are truly not available (due to EOF), then the\u001b[39;00m\n\u001b[32m    640\u001b[39m \u001b[33;03m    IncompleteRead exception can be used to detect the problem.\u001b[39;00m\n\u001b[32m    641\u001b[39m \u001b[33;03m    \"\"\"\u001b[39;00m\n\u001b[32m--> \u001b[39m\u001b[32m642\u001b[39m     data = \u001b[38;5;28;43mself\u001b[39;49m\u001b[43m.\u001b[49m\u001b[43mfp\u001b[49m\u001b[43m.\u001b[49m\u001b[43mread\u001b[49m\u001b[43m(\u001b[49m\u001b[43mamt\u001b[49m\u001b[43m)\u001b[49m\n\u001b[32m    643\u001b[39m     \u001b[38;5;28;01mif\u001b[39;00m \u001b[38;5;28mlen\u001b[39m(data) < amt:\n\u001b[32m    644\u001b[39m         \u001b[38;5;28;01mraise\u001b[39;00m IncompleteRead(data, amt-\u001b[38;5;28mlen\u001b[39m(data))\n",
      "\u001b[36mFile \u001b[39m\u001b[32m~/.local/share/uv/python/cpython-3.12.11-macos-aarch64-none/lib/python3.12/socket.py:720\u001b[39m, in \u001b[36mSocketIO.readinto\u001b[39m\u001b[34m(self, b)\u001b[39m\n\u001b[32m    718\u001b[39m \u001b[38;5;28;01mwhile\u001b[39;00m \u001b[38;5;28;01mTrue\u001b[39;00m:\n\u001b[32m    719\u001b[39m     \u001b[38;5;28;01mtry\u001b[39;00m:\n\u001b[32m--> \u001b[39m\u001b[32m720\u001b[39m         \u001b[38;5;28;01mreturn\u001b[39;00m \u001b[38;5;28;43mself\u001b[39;49m\u001b[43m.\u001b[49m\u001b[43m_sock\u001b[49m\u001b[43m.\u001b[49m\u001b[43mrecv_into\u001b[49m\u001b[43m(\u001b[49m\u001b[43mb\u001b[49m\u001b[43m)\u001b[49m\n\u001b[32m    721\u001b[39m     \u001b[38;5;28;01mexcept\u001b[39;00m timeout:\n\u001b[32m    722\u001b[39m         \u001b[38;5;28mself\u001b[39m._timeout_occurred = \u001b[38;5;28;01mTrue\u001b[39;00m\n",
      "\u001b[36mFile \u001b[39m\u001b[32m~/.local/share/uv/python/cpython-3.12.11-macos-aarch64-none/lib/python3.12/ssl.py:1251\u001b[39m, in \u001b[36mSSLSocket.recv_into\u001b[39m\u001b[34m(self, buffer, nbytes, flags)\u001b[39m\n\u001b[32m   1247\u001b[39m     \u001b[38;5;28;01mif\u001b[39;00m flags != \u001b[32m0\u001b[39m:\n\u001b[32m   1248\u001b[39m         \u001b[38;5;28;01mraise\u001b[39;00m \u001b[38;5;167;01mValueError\u001b[39;00m(\n\u001b[32m   1249\u001b[39m           \u001b[33m\"\u001b[39m\u001b[33mnon-zero flags not allowed in calls to recv_into() on \u001b[39m\u001b[38;5;132;01m%s\u001b[39;00m\u001b[33m\"\u001b[39m %\n\u001b[32m   1250\u001b[39m           \u001b[38;5;28mself\u001b[39m.\u001b[34m__class__\u001b[39m)\n\u001b[32m-> \u001b[39m\u001b[32m1251\u001b[39m     \u001b[38;5;28;01mreturn\u001b[39;00m \u001b[38;5;28;43mself\u001b[39;49m\u001b[43m.\u001b[49m\u001b[43mread\u001b[49m\u001b[43m(\u001b[49m\u001b[43mnbytes\u001b[49m\u001b[43m,\u001b[49m\u001b[43m \u001b[49m\u001b[43mbuffer\u001b[49m\u001b[43m)\u001b[49m\n\u001b[32m   1252\u001b[39m \u001b[38;5;28;01melse\u001b[39;00m:\n\u001b[32m   1253\u001b[39m     \u001b[38;5;28;01mreturn\u001b[39;00m \u001b[38;5;28msuper\u001b[39m().recv_into(buffer, nbytes, flags)\n",
      "\u001b[36mFile \u001b[39m\u001b[32m~/.local/share/uv/python/cpython-3.12.11-macos-aarch64-none/lib/python3.12/ssl.py:1103\u001b[39m, in \u001b[36mSSLSocket.read\u001b[39m\u001b[34m(self, len, buffer)\u001b[39m\n\u001b[32m   1101\u001b[39m \u001b[38;5;28;01mtry\u001b[39;00m:\n\u001b[32m   1102\u001b[39m     \u001b[38;5;28;01mif\u001b[39;00m buffer \u001b[38;5;129;01mis\u001b[39;00m \u001b[38;5;129;01mnot\u001b[39;00m \u001b[38;5;28;01mNone\u001b[39;00m:\n\u001b[32m-> \u001b[39m\u001b[32m1103\u001b[39m         \u001b[38;5;28;01mreturn\u001b[39;00m \u001b[38;5;28;43mself\u001b[39;49m\u001b[43m.\u001b[49m\u001b[43m_sslobj\u001b[49m\u001b[43m.\u001b[49m\u001b[43mread\u001b[49m\u001b[43m(\u001b[49m\u001b[38;5;28;43mlen\u001b[39;49m\u001b[43m,\u001b[49m\u001b[43m \u001b[49m\u001b[43mbuffer\u001b[49m\u001b[43m)\u001b[49m\n\u001b[32m   1104\u001b[39m     \u001b[38;5;28;01melse\u001b[39;00m:\n\u001b[32m   1105\u001b[39m         \u001b[38;5;28;01mreturn\u001b[39;00m \u001b[38;5;28mself\u001b[39m._sslobj.read(\u001b[38;5;28mlen\u001b[39m)\n",
      "\u001b[31mKeyboardInterrupt\u001b[39m: "
     ]
    }
   ],
   "source": [
    "p05 = get_p05()\n",
    "print(p05.shape)\n",
    "print(p05.columns)\n",
    "p05.head()"
   ]
  },
  {
   "cell_type": "code",
   "execution_count": null,
   "metadata": {},
   "outputs": [],
   "source": [
    "# p05.to_parquet(\"data/updated/p05.parquet\")"
   ]
  },
  {
   "cell_type": "code",
   "execution_count": 7,
   "metadata": {},
   "outputs": [
    {
     "name": "stdout",
     "output_type": "stream",
     "text": [
      "(7896, 4)\n",
      "Index(['Regione', 'Denominazione sovracomunale', 'Comune',\n",
      "       'Codice Comune Alfanumerico'],\n",
      "      dtype='object')\n"
     ]
    },
    {
     "data": {
      "text/html": [
       "<div>\n",
       "<style scoped>\n",
       "    .dataframe tbody tr th:only-of-type {\n",
       "        vertical-align: middle;\n",
       "    }\n",
       "\n",
       "    .dataframe tbody tr th {\n",
       "        vertical-align: top;\n",
       "    }\n",
       "\n",
       "    .dataframe thead th {\n",
       "        text-align: right;\n",
       "    }\n",
       "</style>\n",
       "<table border=\"1\" class=\"dataframe\">\n",
       "  <thead>\n",
       "    <tr style=\"text-align: right;\">\n",
       "      <th></th>\n",
       "      <th>Regione</th>\n",
       "      <th>Denominazione sovracomunale</th>\n",
       "      <th>Comune</th>\n",
       "      <th>Codice Comune Alfanumerico</th>\n",
       "    </tr>\n",
       "  </thead>\n",
       "  <tbody>\n",
       "    <tr>\n",
       "      <th>0</th>\n",
       "      <td>Piemonte</td>\n",
       "      <td>TORINO</td>\n",
       "      <td>Agli�</td>\n",
       "      <td>001001</td>\n",
       "    </tr>\n",
       "    <tr>\n",
       "      <th>1</th>\n",
       "      <td>Piemonte</td>\n",
       "      <td>TORINO</td>\n",
       "      <td>Airasca</td>\n",
       "      <td>001002</td>\n",
       "    </tr>\n",
       "    <tr>\n",
       "      <th>2</th>\n",
       "      <td>Piemonte</td>\n",
       "      <td>TORINO</td>\n",
       "      <td>Ala di Stura</td>\n",
       "      <td>001003</td>\n",
       "    </tr>\n",
       "    <tr>\n",
       "      <th>3</th>\n",
       "      <td>Piemonte</td>\n",
       "      <td>TORINO</td>\n",
       "      <td>Albiano d'Ivrea</td>\n",
       "      <td>001004</td>\n",
       "    </tr>\n",
       "    <tr>\n",
       "      <th>4</th>\n",
       "      <td>Piemonte</td>\n",
       "      <td>TORINO</td>\n",
       "      <td>Almese</td>\n",
       "      <td>001006</td>\n",
       "    </tr>\n",
       "  </tbody>\n",
       "</table>\n",
       "</div>"
      ],
      "text/plain": [
       "    Regione Denominazione sovracomunale           Comune  \\\n",
       "0  Piemonte                      TORINO            Agli�   \n",
       "1  Piemonte                      TORINO          Airasca   \n",
       "2  Piemonte                      TORINO     Ala di Stura   \n",
       "3  Piemonte                      TORINO  Albiano d'Ivrea   \n",
       "4  Piemonte                      TORINO           Almese   \n",
       "\n",
       "  Codice Comune Alfanumerico  \n",
       "0                     001001  \n",
       "1                     001002  \n",
       "2                     001003  \n",
       "3                     001004  \n",
       "4                     001006  "
      ]
     },
     "execution_count": 7,
     "metadata": {},
     "output_type": "execute_result"
    }
   ],
   "source": [
    "comuni = fetch_dataset_comuni()\n",
    "print(comuni.shape)\n",
    "print(comuni.columns)\n",
    "comuni.head()"
   ]
  },
  {
   "cell_type": "code",
   "execution_count": null,
   "metadata": {},
   "outputs": [],
   "source": [
    "# comuni.to_parquet(\"data/updated/comuni.parquet\")"
   ]
  },
  {
   "cell_type": "code",
   "execution_count": 8,
   "metadata": {},
   "outputs": [
    {
     "name": "stdout",
     "output_type": "stream",
     "text": [
      "(6, 1)\n",
      "Index(['MISSIONE'], dtype='object')\n"
     ]
    },
    {
     "data": {
      "text/html": [
       "<div>\n",
       "<style scoped>\n",
       "    .dataframe tbody tr th:only-of-type {\n",
       "        vertical-align: middle;\n",
       "    }\n",
       "\n",
       "    .dataframe tbody tr th {\n",
       "        vertical-align: top;\n",
       "    }\n",
       "\n",
       "    .dataframe thead th {\n",
       "        text-align: right;\n",
       "    }\n",
       "</style>\n",
       "<table border=\"1\" class=\"dataframe\">\n",
       "  <thead>\n",
       "    <tr style=\"text-align: right;\">\n",
       "      <th></th>\n",
       "      <th>MISSIONE</th>\n",
       "    </tr>\n",
       "  </thead>\n",
       "  <tbody>\n",
       "    <tr>\n",
       "      <th>M1</th>\n",
       "      <td>DIGITALIZZAZIONE, INNOVAZIONE, COMPETITIVITÀ, ...</td>\n",
       "    </tr>\n",
       "    <tr>\n",
       "      <th>M2</th>\n",
       "      <td>RIVOLUZIONE VERDE E TRANSIZIONE ECOLOGICA</td>\n",
       "    </tr>\n",
       "    <tr>\n",
       "      <th>M3</th>\n",
       "      <td>INFRASTRUTTURE PER UNA MOBILITÀ SOSTENIBILE</td>\n",
       "    </tr>\n",
       "    <tr>\n",
       "      <th>M4</th>\n",
       "      <td>ISTRUZIONE E RICERCA</td>\n",
       "    </tr>\n",
       "    <tr>\n",
       "      <th>M5</th>\n",
       "      <td>INCLUSIONE E COESIONE</td>\n",
       "    </tr>\n",
       "  </tbody>\n",
       "</table>\n",
       "</div>"
      ],
      "text/plain": [
       "                                             MISSIONE\n",
       "M1  DIGITALIZZAZIONE, INNOVAZIONE, COMPETITIVITÀ, ...\n",
       "M2          RIVOLUZIONE VERDE E TRANSIZIONE ECOLOGICA\n",
       "M3        INFRASTRUTTURE PER UNA MOBILITÀ SOSTENIBILE\n",
       "M4                               ISTRUZIONE E RICERCA\n",
       "M5                              INCLUSIONE E COESIONE"
      ]
     },
     "execution_count": 8,
     "metadata": {},
     "output_type": "execute_result"
    }
   ],
   "source": [
    "missions, components = fetch_pnrr_missions()\n",
    "print(missions.shape)\n",
    "print(missions.columns)\n",
    "missions.head()"
   ]
  },
  {
   "cell_type": "code",
   "execution_count": null,
   "metadata": {},
   "outputs": [],
   "source": [
    "# missions.to_parquet(\"data/updated/missions.parquet\")"
   ]
  },
  {
   "cell_type": "code",
   "execution_count": 9,
   "metadata": {},
   "outputs": [
    {
     "name": "stdout",
     "output_type": "stream",
     "text": [
      "(16, 1)\n",
      "Index(['COMPONENTE'], dtype='object')\n"
     ]
    },
    {
     "data": {
      "text/html": [
       "<div>\n",
       "<style scoped>\n",
       "    .dataframe tbody tr th:only-of-type {\n",
       "        vertical-align: middle;\n",
       "    }\n",
       "\n",
       "    .dataframe tbody tr th {\n",
       "        vertical-align: top;\n",
       "    }\n",
       "\n",
       "    .dataframe thead th {\n",
       "        text-align: right;\n",
       "    }\n",
       "</style>\n",
       "<table border=\"1\" class=\"dataframe\">\n",
       "  <thead>\n",
       "    <tr style=\"text-align: right;\">\n",
       "      <th></th>\n",
       "      <th>COMPONENTE</th>\n",
       "    </tr>\n",
       "  </thead>\n",
       "  <tbody>\n",
       "    <tr>\n",
       "      <th>M1C1</th>\n",
       "      <td>DIGITALIZZAZIONE, INNOVAZIONE E SICUREZZA NELL...</td>\n",
       "    </tr>\n",
       "    <tr>\n",
       "      <th>M1C2</th>\n",
       "      <td>DIGITALIZZAZIONE, INNOVAZIONE E COMPETITIVITÀ ...</td>\n",
       "    </tr>\n",
       "    <tr>\n",
       "      <th>M1C3</th>\n",
       "      <td>TURISMO E CULTURA 4.0</td>\n",
       "    </tr>\n",
       "    <tr>\n",
       "      <th>M2C1</th>\n",
       "      <td>AGRICOLTURA SOSTENIBILE ED ECONOMIA CIRCOLARE</td>\n",
       "    </tr>\n",
       "    <tr>\n",
       "      <th>M2C2</th>\n",
       "      <td>TRANSIZIONE ENERGETICA E MOBILITÀ SOSTENIBILE</td>\n",
       "    </tr>\n",
       "  </tbody>\n",
       "</table>\n",
       "</div>"
      ],
      "text/plain": [
       "                                             COMPONENTE\n",
       "M1C1  DIGITALIZZAZIONE, INNOVAZIONE E SICUREZZA NELL...\n",
       "M1C2  DIGITALIZZAZIONE, INNOVAZIONE E COMPETITIVITÀ ...\n",
       "M1C3                              TURISMO E CULTURA 4.0\n",
       "M2C1      AGRICOLTURA SOSTENIBILE ED ECONOMIA CIRCOLARE\n",
       "M2C2      TRANSIZIONE ENERGETICA E MOBILITÀ SOSTENIBILE"
      ]
     },
     "execution_count": 9,
     "metadata": {},
     "output_type": "execute_result"
    }
   ],
   "source": [
    "print(components.shape)\n",
    "print(components.columns)\n",
    "components.head()"
   ]
  },
  {
   "cell_type": "code",
   "execution_count": null,
   "metadata": {},
   "outputs": [],
   "source": [
    "# components.to_parquet(\"data/updated/components.parquet\")"
   ]
  },
  {
   "cell_type": "code",
   "execution_count": 10,
   "metadata": {},
   "outputs": [
    {
     "name": "stderr",
     "output_type": "stream",
     "text": [
      "Error fetching webpage or CSV data: 403 Client Error: Forbidden for url: https://www.italiadomani.gov.it/content/sogei-ng/it/it/catalogo-open-data/mappatura-indicatori-comuni.html/content/dam/sogei-ng/opendata-aprile2024/OpenData_PNRR_map_indicatori_comuni_v6.csv\n"
     ]
    },
    {
     "ename": "AttributeError",
     "evalue": "'NoneType' object has no attribute 'shape'",
     "output_type": "error",
     "traceback": [
      "\u001b[31m---------------------------------------------------------------------------\u001b[39m",
      "\u001b[31mAttributeError\u001b[39m                            Traceback (most recent call last)",
      "\u001b[36mCell\u001b[39m\u001b[36m \u001b[39m\u001b[32mIn[10]\u001b[39m\u001b[32m, line 2\u001b[39m\n\u001b[32m      1\u001b[39m indicators = get_indicators()\n\u001b[32m----> \u001b[39m\u001b[32m2\u001b[39m \u001b[38;5;28mprint\u001b[39m(\u001b[43mindicators\u001b[49m\u001b[43m.\u001b[49m\u001b[43mshape\u001b[49m)\n\u001b[32m      3\u001b[39m \u001b[38;5;28mprint\u001b[39m(indicators.columns)\n\u001b[32m      4\u001b[39m indicators.head()\n",
      "\u001b[31mAttributeError\u001b[39m: 'NoneType' object has no attribute 'shape'"
     ]
    }
   ],
   "source": [
    "indicators = get_indicators()\n",
    "print(indicators.shape)\n",
    "print(indicators.columns)\n",
    "indicators.head()"
   ]
  },
  {
   "cell_type": "code",
   "execution_count": null,
   "metadata": {},
   "outputs": [],
   "source": [
    "# indicators.to_parquet(\"data/updated/indicators.parquet\")"
   ]
  },
  {
   "cell_type": "code",
   "execution_count": 11,
   "metadata": {},
   "outputs": [
    {
     "name": "stderr",
     "output_type": "stream",
     "text": [
      "Error fetching webpage or CSV data: 403 Client Error: Forbidden for url: https://www.italiadomani.gov.it/content/sogei-ng/it/it/catalogo-open-data/monitoraggio-delle-misure-del-pnrr-attraverso-gli-indicatori-di-.html\n"
     ]
    },
    {
     "ename": "AttributeError",
     "evalue": "'NoneType' object has no attribute 'shape'",
     "output_type": "error",
     "traceback": [
      "\u001b[31m---------------------------------------------------------------------------\u001b[39m",
      "\u001b[31mAttributeError\u001b[39m                            Traceback (most recent call last)",
      "\u001b[36mCell\u001b[39m\u001b[36m \u001b[39m\u001b[32mIn[11]\u001b[39m\u001b[32m, line 2\u001b[39m\n\u001b[32m      1\u001b[39m indicators_sdg = get_indicators_and_sdg()\n\u001b[32m----> \u001b[39m\u001b[32m2\u001b[39m \u001b[38;5;28mprint\u001b[39m(\u001b[43mindicators_sdg\u001b[49m\u001b[43m.\u001b[49m\u001b[43mshape\u001b[49m)\n\u001b[32m      3\u001b[39m \u001b[38;5;28mprint\u001b[39m(indicators_sdg.columns)\n\u001b[32m      4\u001b[39m indicators_sdg.head()\n",
      "\u001b[31mAttributeError\u001b[39m: 'NoneType' object has no attribute 'shape'"
     ]
    }
   ],
   "source": [
    "indicators_sdg = get_indicators_and_sdg()\n",
    "print(indicators_sdg.shape)\n",
    "print(indicators_sdg.columns)\n",
    "indicators_sdg.head()"
   ]
  },
  {
   "cell_type": "code",
   "execution_count": null,
   "metadata": {},
   "outputs": [],
   "source": [
    "# indicators_sdg.to_parquet(\"data/updated/indicators_sdg.parquet\")"
   ]
  },
  {
   "cell_type": "code",
   "execution_count": 12,
   "metadata": {},
   "outputs": [
    {
     "name": "stderr",
     "output_type": "stream",
     "text": [
      "Error fetching webpage or CSV data: 403 Client Error: Forbidden for url: https://www.italiadomani.gov.it/content/sogei-ng/it/it/catalogo-open-data/indicatori-target-del-pnrr--dati-validati-.html\n"
     ]
    },
    {
     "ename": "AttributeError",
     "evalue": "'NoneType' object has no attribute 'shape'",
     "output_type": "error",
     "traceback": [
      "\u001b[31m---------------------------------------------------------------------------\u001b[39m",
      "\u001b[31mAttributeError\u001b[39m                            Traceback (most recent call last)",
      "\u001b[36mCell\u001b[39m\u001b[36m \u001b[39m\u001b[32mIn[12]\u001b[39m\u001b[32m, line 2\u001b[39m\n\u001b[32m      1\u001b[39m targets = get_targets()\n\u001b[32m----> \u001b[39m\u001b[32m2\u001b[39m \u001b[38;5;28mprint\u001b[39m(\u001b[43mtargets\u001b[49m\u001b[43m.\u001b[49m\u001b[43mshape\u001b[49m)\n\u001b[32m      3\u001b[39m \u001b[38;5;28mprint\u001b[39m(targets.columns)\n\u001b[32m      4\u001b[39m targets.head()\n",
      "\u001b[31mAttributeError\u001b[39m: 'NoneType' object has no attribute 'shape'"
     ]
    }
   ],
   "source": [
    "targets = get_targets()\n",
    "print(targets.shape)\n",
    "print(targets.columns)\n",
    "targets.head()"
   ]
  },
  {
   "cell_type": "code",
   "execution_count": null,
   "metadata": {},
   "outputs": [],
   "source": [
    "# targets.to_parquet(\"data/updated/targets.parquet\")"
   ]
  },
  {
   "cell_type": "code",
   "execution_count": 13,
   "metadata": {},
   "outputs": [
    {
     "name": "stderr",
     "output_type": "stream",
     "text": [
      "Error fetching webpage or CSV data: 403 Client Error: Forbidden for url: https://www.italiadomani.gov.it/content/sogei-ng/it/it/catalogo-open-data/indicatori-comuni-europei-del-pnrr---universo-regis.html\n"
     ]
    },
    {
     "ename": "AttributeError",
     "evalue": "'NoneType' object has no attribute 'apply'",
     "output_type": "error",
     "traceback": [
      "\u001b[31m---------------------------------------------------------------------------\u001b[39m",
      "\u001b[31mAttributeError\u001b[39m                            Traceback (most recent call last)",
      "\u001b[36mCell\u001b[39m\u001b[36m \u001b[39m\u001b[32mIn[13]\u001b[39m\u001b[32m, line 1\u001b[39m\n\u001b[32m----> \u001b[39m\u001b[32m1\u001b[39m regis_comm_ind = \u001b[43mget_regis_indicators\u001b[49m\u001b[43m(\u001b[49m\u001b[43m)\u001b[49m\n\u001b[32m      2\u001b[39m \u001b[38;5;28mprint\u001b[39m(regis_comm_ind.shape)\n\u001b[32m      3\u001b[39m \u001b[38;5;28mprint\u001b[39m(regis_comm_ind.columns)\n",
      "\u001b[36mFile \u001b[39m\u001b[32m~/Desktop/Projects/Period/data-prep-pnrr/src/data_collection/regis.py:38\u001b[39m, in \u001b[36mget_regis_indicators\u001b[39m\u001b[34m()\u001b[39m\n\u001b[32m     13\u001b[39m \u001b[38;5;250m\u001b[39m\u001b[33;03m\"\"\"\u001b[39;00m\n\u001b[32m     14\u001b[39m \u001b[33;03mFetches the Common European PNRR Indicators (Regis Universe) Dataset: \u001b[39;00m\n\u001b[32m     15\u001b[39m \n\u001b[32m   (...)\u001b[39m\u001b[32m     29\u001b[39m \u001b[33;03mcarried out by the Administrations.\u001b[39;00m\n\u001b[32m     30\u001b[39m \u001b[33;03m\"\"\"\u001b[39;00m\n\u001b[32m     32\u001b[39m regis_comm_ind = fetch_csv_from_html(\n\u001b[32m     33\u001b[39m     INDICATORI_UNIVERSO_REGIS_URL, \n\u001b[32m     34\u001b[39m     ITALIA_DOMANI_BASE_URL, \n\u001b[32m     35\u001b[39m     INDICATORI_UNIVERSO_REGIS_FILENAME\n\u001b[32m     36\u001b[39m )\n\u001b[32m---> \u001b[39m\u001b[32m38\u001b[39m regis_comm_ind[\u001b[33m'\u001b[39m\u001b[33mFLG_INDICATORI_PERSONE\u001b[39m\u001b[33m'\u001b[39m] = \u001b[43mregis_comm_ind\u001b[49m\u001b[43m.\u001b[49m\u001b[43mapply\u001b[49m(\n\u001b[32m     39\u001b[39m     conditions_individuals, axis=\u001b[32m1\u001b[39m\n\u001b[32m     40\u001b[39m )\n\u001b[32m     42\u001b[39m regis_comm_ind[\u001b[33m'\u001b[39m\u001b[33mFLG_INDICATORI_GENERE\u001b[39m\u001b[33m'\u001b[39m] = regis_comm_ind.apply(\n\u001b[32m     43\u001b[39m     conditions_gender, axis=\u001b[32m1\u001b[39m\n\u001b[32m     44\u001b[39m )\n\u001b[32m     46\u001b[39m \u001b[38;5;28;01mreturn\u001b[39;00m regis_comm_ind\n",
      "\u001b[31mAttributeError\u001b[39m: 'NoneType' object has no attribute 'apply'"
     ]
    }
   ],
   "source": [
    "regis_comm_ind = get_regis_indicators()\n",
    "print(regis_comm_ind.shape)\n",
    "print(regis_comm_ind.columns)\n",
    "regis_comm_ind.head()"
   ]
  },
  {
   "cell_type": "code",
   "execution_count": null,
   "metadata": {},
   "outputs": [],
   "source": [
    "# regis_comm_ind.to_parquet(\"data/updated/universo_regis.parquet\")"
   ]
  }
 ],
 "metadata": {
  "kernelspec": {
   "display_name": "data-prep-pnrr (3.12.11)",
   "language": "python",
   "name": "python3"
  },
  "language_info": {
   "codemirror_mode": {
    "name": "ipython",
    "version": 3
   },
   "file_extension": ".py",
   "mimetype": "text/x-python",
   "name": "python",
   "nbconvert_exporter": "python",
   "pygments_lexer": "ipython3",
   "version": "3.12.11"
  }
 },
 "nbformat": 4,
 "nbformat_minor": 2
}
