{
 "cells": [
  {
   "cell_type": "code",
   "execution_count": null,
   "metadata": {},
   "outputs": [],
   "source": [
    "import pandas as pd\n",
    "\n",
    "from src.data_processing.wrangling import cat_conditions, map_comp, map_investimento, map_importo"
   ]
  },
  {
   "cell_type": "code",
   "execution_count": null,
   "metadata": {},
   "outputs": [],
   "source": [
    "p01 = pd.read_parquet(\"data/updated/p01.parquet\")\n",
    "p02 = pd.read_parquet(\"data/updated/p02.parquet\")\n",
    "p03 = pd.read_parquet(\"data/updated/p03.parquet\")\n",
    "p04 = pd.read_parquet(\"data/updated/p04.parquet\")\n",
    "p05 = pd.read_parquet(\"data/updated/p05.parquet\")\n",
    "\n",
    "componenti = pd.read_parquet(\"data/updated/components.parquet\")\n",
    "missions = pd.read_parquet(\"data/updated/missions.parquet\")\n",
    "comuni = pd.read_parquet(\"data/updated/comuni.parquet\")"
   ]
  },
  {
   "cell_type": "markdown",
   "metadata": {},
   "source": [
    "## Data preprocessing"
   ]
  },
  {
   "cell_type": "code",
   "execution_count": null,
   "metadata": {},
   "outputs": [],
   "source": [
    "p01.shape"
   ]
  },
  {
   "cell_type": "code",
   "execution_count": null,
   "metadata": {},
   "outputs": [],
   "source": [
    "p01.columns"
   ]
  },
  {
   "cell_type": "code",
   "execution_count": null,
   "metadata": {},
   "outputs": [],
   "source": [
    "p02.columns"
   ]
  },
  {
   "cell_type": "code",
   "execution_count": null,
   "metadata": {},
   "outputs": [],
   "source": [
    "p02.shape"
   ]
  },
  {
   "cell_type": "code",
   "execution_count": null,
   "metadata": {},
   "outputs": [],
   "source": [
    "p02.head()"
   ]
  },
  {
   "cell_type": "code",
   "execution_count": null,
   "metadata": {},
   "outputs": [],
   "source": [
    "p03 = p03.rename(columns={'cig':'CIG'})\n",
    "p03['CATEGORIA'] = p03.apply(cat_conditions,axis=1)"
   ]
  },
  {
   "cell_type": "code",
   "execution_count": null,
   "metadata": {},
   "outputs": [],
   "source": [
    "print(p03.shape)\n",
    "print(p03.columns)\n",
    "p03.head()"
   ]
  },
  {
   "cell_type": "code",
   "execution_count": null,
   "metadata": {},
   "outputs": [],
   "source": [
    "p04 = p04.rename(columns={'cig':'CIG'})\n",
    "print(p04.shape)\n",
    "print(p04.columns)\n",
    "p04.head()"
   ]
  },
  {
   "cell_type": "code",
   "execution_count": null,
   "metadata": {},
   "outputs": [],
   "source": [
    "p05['importo_complessivo_gara'].unique()"
   ]
  },
  {
   "cell_type": "code",
   "execution_count": null,
   "metadata": {},
   "outputs": [],
   "source": [
    "p05 = p05.rename(columns={'cig':'CIG'})\n",
    "p05['importo_complessivo_gara'] = p05['importo_complessivo_gara'].astype(float)\n",
    "p05['CLASSE_IMPORTO'] = p05['importo_complessivo_gara'].apply(map_importo)"
   ]
  },
  {
   "cell_type": "code",
   "execution_count": null,
   "metadata": {},
   "outputs": [],
   "source": [
    "print(p05.shape)\n",
    "print(p05.columns)\n",
    "p05.head()"
   ]
  },
  {
   "cell_type": "markdown",
   "metadata": {},
   "source": [
    "## Merge dei Dataset \"P0\""
   ]
  },
  {
   "cell_type": "code",
   "execution_count": null,
   "metadata": {},
   "outputs": [],
   "source": [
    "# missioni e componenti, left join da p02\n",
    "p02 = p02.merge(missions,left_on=\"Missione\", right_on=missions.index, how='inner')\n",
    "p02 = p02.drop_duplicates()\n",
    "p02 = p02.merge(componenti,left_on=\"Componente\", right_on=componenti.index, how='inner')\n",
    "p02 = p02.drop_duplicates()"
   ]
  },
  {
   "cell_type": "code",
   "execution_count": null,
   "metadata": {},
   "outputs": [],
   "source": [
    "comuni.columns"
   ]
  },
  {
   "cell_type": "code",
   "execution_count": null,
   "metadata": {},
   "outputs": [],
   "source": [
    "p05.columns"
   ]
  },
  {
   "cell_type": "code",
   "execution_count": null,
   "metadata": {},
   "outputs": [],
   "source": [
    "p05['luogo_istat']"
   ]
  },
  {
   "cell_type": "code",
   "execution_count": null,
   "metadata": {},
   "outputs": [],
   "source": [
    "comuni['Codice Comune Alfanumerico'] = comuni['Codice Comune Alfanumerico'].astype(str)\n",
    "comuni['Codice Comune Alfanumerico']"
   ]
  },
  {
   "cell_type": "code",
   "execution_count": null,
   "metadata": {},
   "outputs": [],
   "source": [
    "# left join p05 con i dati su comuni e denominazioni \n",
    "p05=p05.merge(\n",
    "    comuni,\n",
    "    left_on='luogo_istat', \n",
    "    right_on='Codice Comune Alfanumerico',\n",
    "    how='left'\n",
    ")\n",
    "p05=p05.drop_duplicates()"
   ]
  },
  {
   "cell_type": "code",
   "execution_count": null,
   "metadata": {},
   "outputs": [],
   "source": [
    "# left join p5 e p3\n",
    "leftnew_3 = p05.merge(p03, on='CIG', how='left')\n",
    "leftnew_3 = leftnew_3.drop_duplicates()\n",
    "print(leftnew_3.shape)"
   ]
  },
  {
   "cell_type": "code",
   "execution_count": null,
   "metadata": {},
   "outputs": [],
   "source": [
    "# left join il risultato con p4\n",
    "leftnew_34 = leftnew_3.merge(p04, on='CIG', how='left')\n",
    "leftnew_34 = leftnew_34.drop_duplicates()\n",
    "print(leftnew_34.shape)"
   ]
  },
  {
   "cell_type": "code",
   "execution_count": null,
   "metadata": {},
   "outputs": [],
   "source": [
    "# left join il risultato con p1\n",
    "leftnew_341 = leftnew_34.merge(p01, on='CIG', how='left')\n",
    "leftnew_341 = leftnew_341.drop_duplicates()\n",
    "print(leftnew_341.shape)"
   ]
  },
  {
   "cell_type": "code",
   "execution_count": null,
   "metadata": {},
   "outputs": [],
   "source": [
    "# left join il risultato con p2\n",
    "leftnew_3412 = leftnew_341.merge(p02,how='left',left_on='CUP',right_on='CUP')\n",
    "leftnew_3412 = leftnew_3412.drop_duplicates()\n",
    "print(leftnew_3412.shape)"
   ]
  },
  {
   "cell_type": "markdown",
   "metadata": {},
   "source": [
    "## Colonne da selezionare per Master Table"
   ]
  },
  {
   "cell_type": "code",
   "execution_count": null,
   "metadata": {},
   "outputs": [],
   "source": [
    "p02.columns"
   ]
  },
  {
   "cell_type": "code",
   "execution_count": null,
   "metadata": {},
   "outputs": [],
   "source": [
    "colonne_da_selezionare = [\n",
    "    'CIG', \n",
    "    'CUP',  \n",
    "    'Regione', \n",
    "    'provincia',  \n",
    "    'Comune', \n",
    "    'importo_complessivo_gara', \n",
    "    'CLASSE_IMPORTO', \n",
    "    'Missione', \n",
    "    'Descrizione Missione',\n",
    "    'Componente',  \n",
    "    'Descrizione Componente',\n",
    "    'ID Misura', \n",
    "    'Codice Univoco Misura',\n",
    "    'Descrizione Misura', \n",
    "    'ID Submisura', \n",
    "    'Codice Univoco Submisura', \n",
    "    'Descrizione Submisura',\n",
    "    'cod_mis_premiale', \n",
    "    'misura_premiale', \n",
    "    'CATEGORIA', \n",
    "    'flag_quote', \n",
    "    'quota_femminile', \n",
    "    'quota_giovanile', \n",
    "    'cod_mot_deroga', \n",
    "    'mot_deroga', \n",
    "    'data_pubblicazione', \n",
    "    'anno_pubblicazione', \n",
    "    'FLAG_URGENZA', \n",
    "    'MOTIVO_URGENZA', \n",
    "    'ESITO',\n",
    "]"
   ]
  },
  {
   "cell_type": "code",
   "execution_count": null,
   "metadata": {},
   "outputs": [],
   "source": [
    "master_table = leftnew_3412[colonne_da_selezionare]"
   ]
  },
  {
   "cell_type": "code",
   "execution_count": null,
   "metadata": {},
   "outputs": [],
   "source": [
    "master_table['Comune'].nunique()"
   ]
  },
  {
   "cell_type": "code",
   "execution_count": null,
   "metadata": {},
   "outputs": [],
   "source": [
    "master_table.shape"
   ]
  },
  {
   "cell_type": "code",
   "execution_count": null,
   "metadata": {},
   "outputs": [],
   "source": [
    "master_table.head(5)"
   ]
  },
  {
   "cell_type": "code",
   "execution_count": null,
   "metadata": {},
   "outputs": [],
   "source": [
    "master_table['Regione'].isna().sum()"
   ]
  },
  {
   "cell_type": "code",
   "execution_count": null,
   "metadata": {},
   "outputs": [],
   "source": [
    "master_table['Regione'].unique()"
   ]
  },
  {
   "cell_type": "code",
   "execution_count": null,
   "metadata": {},
   "outputs": [],
   "source": [
    "master_table.to_csv(\"data/updated/master_table_base.csv\", sep=\";\")"
   ]
  }
 ],
 "metadata": {
  "kernelspec": {
   "display_name": "period2",
   "language": "python",
   "name": "python3"
  },
  "language_info": {
   "codemirror_mode": {
    "name": "ipython",
    "version": 3
   },
   "file_extension": ".py",
   "mimetype": "text/x-python",
   "name": "python",
   "nbconvert_exporter": "python",
   "pygments_lexer": "ipython3",
   "version": "3.9.16"
  }
 },
 "nbformat": 4,
 "nbformat_minor": 2
}
