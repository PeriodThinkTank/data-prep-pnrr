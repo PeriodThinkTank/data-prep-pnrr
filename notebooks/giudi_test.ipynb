{
 "cells": [
  {
   "cell_type": "code",
   "execution_count": null,
   "metadata": {},
   "outputs": [],
   "source": [
    "p01 = pd.read_parquet(\"data/updated/p01.parquet\")\n",
    "p02 = pd.read_parquet(\"data/updated/p02.parquet\")\n",
    "p03 = pd.read_parquet(\"data/updated/p03.parquet\")\n",
    "p04 = pd.read_parquet(\"data/updated/p04.parquet\")\n",
    "p05 = pd.read_parquet(\"data/updated/p05.parquet\")\n",
    "\n",
    "componenti = pd.read_parquet(\"data/updated/components.parquet\")\n",
    "missions = pd.read_parquet(\"data/updated/missions.parquet\")\n",
    "comuni = pd.read_parquet(\"data/updated/comuni.parquet\")\n",
    "\n",
    "indicatori_sdg = pd.read_parquet(\"data/updated/indicators_sdg.parquet\")\n"
   ]
  }
 ],
 "metadata": {
  "language_info": {
   "name": "python"
  }
 },
 "nbformat": 4,
 "nbformat_minor": 2
}
