{
 "cells": [
  {
   "cell_type": "markdown",
   "metadata": {},
   "source": [
    "## Collecting all datasets\n",
    "\n",
    "This notebook is used to fetch all the datasets in the sources"
   ]
  },
  {
   "cell_type": "code",
   "execution_count": 1,
   "metadata": {},
   "outputs": [],
   "source": [
    "import pandas as pd\n",
    "from logging import getLogger\n",
    "\n",
    "from src.data_collection.comuni import fetch_dataset_comuni\n",
    "from src.data_collection.indicators import get_indicators\n",
    "from src.data_collection.indicators_sdg import get_indicators_and_sdg \n",
    "from src.data_collection.missioni import fetch_pnrr_missions\n",
    "from src.data_collection.p01 import get_p01\n",
    "from src.data_collection.p02 import get_p02\n",
    "from src.data_collection.p03 import get_p03\n",
    "from src.data_collection.p04 import get_p04\n",
    "from src.data_collection.p05 import get_p05\n",
    "from src.data_collection.targets import get_targets\n",
    "from src.data_collection.localizzazioni import get_localizzazioni"
   ]
  },
  {
   "cell_type": "code",
   "execution_count": null,
   "metadata": {},
   "outputs": [],
   "source": [
    "p01 = get_p01()\n",
    "\n",
    "print(p01.shape)\n",
    "print(p01.columns)\n",
    "p01.head()"
   ]
  },
  {
   "cell_type": "code",
   "execution_count": null,
   "metadata": {},
   "outputs": [],
   "source": [
    "p01.to_parquet(\"data/updated/p01.parquet\")"
   ]
  },
  {
   "cell_type": "code",
   "execution_count": 2,
   "metadata": {},
   "outputs": [
    {
     "name": "stderr",
     "output_type": "stream",
     "text": [
      "Error extracting progetti_PNRR_febbraio2024.xlsx from ZIP file: \"There is no item named 'progetti_PNRR_febbraio2024.xlsx' in the archive\"\n"
     ]
    },
    {
     "ename": "AttributeError",
     "evalue": "'NoneType' object has no attribute 'shape'",
     "output_type": "error",
     "traceback": [
      "\u001b[0;31m---------------------------------------------------------------------------\u001b[0m",
      "\u001b[0;31mAttributeError\u001b[0m                            Traceback (most recent call last)",
      "Cell \u001b[0;32mIn[2], line 3\u001b[0m\n\u001b[1;32m      1\u001b[0m p02 \u001b[38;5;241m=\u001b[39m get_p02()\n\u001b[0;32m----> 3\u001b[0m \u001b[38;5;28mprint\u001b[39m(\u001b[43mp02\u001b[49m\u001b[38;5;241;43m.\u001b[39;49m\u001b[43mshape\u001b[49m)\n\u001b[1;32m      4\u001b[0m \u001b[38;5;28mprint\u001b[39m(p02\u001b[38;5;241m.\u001b[39mcolumns)\n\u001b[1;32m      5\u001b[0m p02\u001b[38;5;241m.\u001b[39mhead()\n",
      "\u001b[0;31mAttributeError\u001b[0m: 'NoneType' object has no attribute 'shape'"
     ]
    }
   ],
   "source": [
    "p02 = get_p02()\n",
    "\n",
    "print(p02.shape)\n",
    "print(p02.columns)\n",
    "p02.head()"
   ]
  },
  {
   "cell_type": "code",
   "execution_count": null,
   "metadata": {},
   "outputs": [],
   "source": [
    "p02.to_parquet(\"data/updated/p02.parquet\")"
   ]
  },
  {
   "cell_type": "code",
   "execution_count": null,
   "metadata": {},
   "outputs": [],
   "source": [
    "p03 = get_p03()\n",
    "print(p03.shape)\n",
    "print(p03.columns)\n",
    "p03.head()"
   ]
  },
  {
   "cell_type": "code",
   "execution_count": null,
   "metadata": {},
   "outputs": [],
   "source": [
    "p03.to_parquet(\"data/updated/p03.parquet\")"
   ]
  },
  {
   "cell_type": "code",
   "execution_count": null,
   "metadata": {},
   "outputs": [],
   "source": [
    "p04 = get_p04()\n",
    "print(p04.shape)\n",
    "print(p04.columns)\n",
    "p04.head()"
   ]
  },
  {
   "cell_type": "code",
   "execution_count": null,
   "metadata": {},
   "outputs": [],
   "source": [
    "p04.to_parquet(\"data/updated/p04.parquet\")"
   ]
  },
  {
   "cell_type": "code",
   "execution_count": null,
   "metadata": {},
   "outputs": [],
   "source": [
    "p05 = get_p05()\n",
    "print(p05.shape)\n",
    "print(p05.columns)\n",
    "p05.head()"
   ]
  },
  {
   "cell_type": "code",
   "execution_count": null,
   "metadata": {},
   "outputs": [],
   "source": [
    "p05.to_parquet(\"data/updated/p05.parquet\")"
   ]
  },
  {
   "cell_type": "code",
   "execution_count": null,
   "metadata": {},
   "outputs": [],
   "source": [
    "comuni = fetch_dataset_comuni()\n",
    "print(comuni.shape)\n",
    "print(comuni.columns)\n",
    "comuni.head()"
   ]
  },
  {
   "cell_type": "code",
   "execution_count": null,
   "metadata": {},
   "outputs": [],
   "source": [
    "comuni.to_parquet(\"data/updated/comuni.parquet\")"
   ]
  },
  {
   "cell_type": "code",
   "execution_count": null,
   "metadata": {},
   "outputs": [],
   "source": [
    "missions, components = fetch_pnrr_missions()\n",
    "print(missions.shape)\n",
    "print(missions.columns)\n",
    "missions.head()"
   ]
  },
  {
   "cell_type": "code",
   "execution_count": null,
   "metadata": {},
   "outputs": [],
   "source": [
    "missions.to_parquet(\"data/updated/missions.parquet\")"
   ]
  },
  {
   "cell_type": "code",
   "execution_count": null,
   "metadata": {},
   "outputs": [],
   "source": [
    "print(components.shape)\n",
    "print(components.columns)\n",
    "components.head()"
   ]
  },
  {
   "cell_type": "code",
   "execution_count": null,
   "metadata": {},
   "outputs": [],
   "source": [
    "components.to_parquet(\"data/updated/components.parquet\")"
   ]
  },
  {
   "cell_type": "code",
   "execution_count": null,
   "metadata": {},
   "outputs": [],
   "source": [
    "indicators = get_indicators()\n",
    "print(indicators.shape)\n",
    "print(indicators.columns)\n",
    "indicators.head()"
   ]
  },
  {
   "cell_type": "code",
   "execution_count": null,
   "metadata": {},
   "outputs": [],
   "source": [
    "indicators.to_parquet(\"data/updated/indicators.parquet\")"
   ]
  },
  {
   "cell_type": "code",
   "execution_count": null,
   "metadata": {},
   "outputs": [],
   "source": [
    "indicators_sdg = get_indicators_and_sdg()\n",
    "print(indicators_sdg.shape)\n",
    "print(indicators_sdg.columns)\n",
    "indicators_sdg.head()"
   ]
  },
  {
   "cell_type": "code",
   "execution_count": null,
   "metadata": {},
   "outputs": [],
   "source": [
    "indicators_sdg.to_parquet(\"data/updated/indicators_sdg.parquet\")"
   ]
  },
  {
   "cell_type": "code",
   "execution_count": null,
   "metadata": {},
   "outputs": [],
   "source": [
    "targets = get_targets()\n",
    "print(targets.shape)\n",
    "print(targets.columns)\n",
    "targets.head()"
   ]
  },
  {
   "cell_type": "code",
   "execution_count": null,
   "metadata": {},
   "outputs": [],
   "source": [
    "targets.to_parquet(\"data/updated/targets.parquet\")"
   ]
  }
 ],
 "metadata": {
  "kernelspec": {
   "display_name": "period2",
   "language": "python",
   "name": "python3"
  },
  "language_info": {
   "codemirror_mode": {
    "name": "ipython",
    "version": 3
   },
   "file_extension": ".py",
   "mimetype": "text/x-python",
   "name": "python",
   "nbconvert_exporter": "python",
   "pygments_lexer": "ipython3",
   "version": "3.9.16"
  }
 },
 "nbformat": 4,
 "nbformat_minor": 2
}
