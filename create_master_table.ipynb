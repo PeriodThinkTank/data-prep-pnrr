{
 "cells": [
  {
   "cell_type": "code",
   "execution_count": null,
   "metadata": {},
   "outputs": [],
   "source": [
    "import pandas as pd\n",
    "\n",
    "from src.data_processing.wrangling import cat_conditions, map_comp, map_investimento, map_importo"
   ]
  },
  {
   "cell_type": "code",
   "execution_count": null,
   "metadata": {},
   "outputs": [],
   "source": [
    "p01 = pd.read_parquet(\"data/updated/p01.parquet\")\n",
    "p02 = pd.read_parquet(\"data/updated/p02.parquet\")\n",
    "p03 = pd.read_parquet(\"data/updated/p03.parquet\")\n",
    "p04 = pd.read_parquet(\"data/updated/p04.parquet\")\n",
    "p05 = pd.read_parquet(\"data/updated/p05.parquet\")\n",
    "\n",
    "componenti = pd.read_parquet(\"data/updated/components.parquet\")\n",
    "missions = pd.read_parquet(\"data/updated/missions.parquet\")\n",
    "comuni = pd.read_parquet(\"data/updated/comuni.parquet\")"
   ]
  },
  {
   "cell_type": "markdown",
   "metadata": {},
   "source": [
    "## Data preprocessing"
   ]
  },
  {
   "cell_type": "code",
   "execution_count": null,
   "metadata": {},
   "outputs": [],
   "source": [
    "p01.shape"
   ]
  },
  {
   "cell_type": "code",
   "execution_count": null,
   "metadata": {},
   "outputs": [],
   "source": [
    "p01.columns"
   ]
  },
  {
   "cell_type": "code",
   "execution_count": null,
   "metadata": {},
   "outputs": [],
   "source": [
    "p02.columns"
   ]
  },
  {
   "cell_type": "code",
   "execution_count": null,
   "metadata": {},
   "outputs": [],
   "source": [
    "p02.shape"
   ]
  },
  {
   "cell_type": "code",
   "execution_count": null,
   "metadata": {},
   "outputs": [],
   "source": [
    "p02.head()"
   ]
  },
  {
   "cell_type": "code",
   "execution_count": null,
   "metadata": {},
   "outputs": [],
   "source": [
    "p03 = p03.rename(columns={'cig':'CIG'})\n",
    "p03['CATEGORIA'] = p03.apply(cat_conditions,axis=1)"
   ]
  },
  {
   "cell_type": "code",
   "execution_count": null,
   "metadata": {},
   "outputs": [],
   "source": [
    "print(p03.shape)\n",
    "print(p03.columns)\n",
    "p03.head()"
   ]
  },
  {
   "cell_type": "code",
   "execution_count": null,
   "metadata": {},
   "outputs": [],
   "source": [
    "p04 = p04.rename(columns={'cig':'CIG'})\n",
    "print(p04.shape)\n",
    "print(p04.columns)\n",
    "p04.head()"
   ]
  },
  {
   "cell_type": "code",
   "execution_count": null,
   "metadata": {},
   "outputs": [],
   "source": [
    "p05['importo_complessivo_gara'].unique()"
   ]
  },
  {
   "cell_type": "code",
   "execution_count": null,
   "metadata": {},
   "outputs": [],
   "source": [
    "p05 = p05.rename(columns={'cig':'CIG'})\n",
    "p05['importo_complessivo_gara'] = p05['importo_complessivo_gara'].astype(float)\n",
    "p05['CLASSE_IMPORTO'] = p05['importo_complessivo_gara'].apply(map_importo)"
   ]
  },
  {
   "cell_type": "code",
   "execution_count": null,
   "metadata": {},
   "outputs": [],
   "source": [
    "print(p05.shape)\n",
    "print(p05.columns)\n",
    "p05.head()"
   ]
  },
  {
   "cell_type": "markdown",
   "metadata": {},
   "source": [
    "## Merge dei Dataset \"P0\""
   ]
  },
  {
   "cell_type": "code",
   "execution_count": null,
   "metadata": {},
   "outputs": [],
   "source": [
    "# missioni e componenti, left join da p02\n",
    "p02 = p02.merge(missions,left_on=\"Missione\", right_on=missions.index, how='inner')\n",
    "p02 = p02.drop_duplicates()\n",
    "p02 = p02.merge(componenti,left_on=\"Componente\", right_on=componenti.index, how='inner')\n",
    "p02 = p02.drop_duplicates()"
   ]
  },
  {
   "cell_type": "code",
   "execution_count": null,
   "metadata": {},
   "outputs": [],
   "source": [
    "comuni.columns"
   ]
  },
  {
   "cell_type": "code",
   "execution_count": null,
   "metadata": {},
   "outputs": [],
   "source": [
    "p05.columns"
   ]
  },
  {
   "cell_type": "code",
   "execution_count": null,
   "metadata": {},
   "outputs": [],
   "source": [
    "p05['luogo_istat']"
   ]
  },
  {
   "cell_type": "code",
   "execution_count": null,
   "metadata": {},
   "outputs": [],
   "source": [
    "comuni['Codice Comune Alfanumerico'] = comuni['Codice Comune Alfanumerico'].astype(str)\n",
    "comuni['Codice Comune Alfanumerico']"
   ]
  },
  {
   "cell_type": "code",
   "execution_count": null,
   "metadata": {},
   "outputs": [],
   "source": [
    "# left join p05 con i dati su comuni e denominazioni \n",
    "p05=p05.merge(\n",
    "    comuni,\n",
    "    left_on='luogo_istat', \n",
    "    right_on='Codice Comune Alfanumerico',\n",
    "    how='left'\n",
    ")\n",
    "p05=p05.drop_duplicates()"
   ]
  },
  {
   "cell_type": "code",
   "execution_count": null,
   "metadata": {},
   "outputs": [],
   "source": [
    "# left join p5 e p3\n",
    "leftnew_3 = p05.merge(p03, on='CIG', how='left')\n",
    "leftnew_3 = leftnew_3.drop_duplicates()\n",
    "print(leftnew_3.shape)"
   ]
  },
  {
   "cell_type": "code",
   "execution_count": null,
   "metadata": {},
   "outputs": [],
   "source": [
    "# left join il risultato con p4\n",
    "leftnew_34 = leftnew_3.merge(p04, on='CIG', how='left')\n",
    "leftnew_34 = leftnew_34.drop_duplicates()\n",
    "print(leftnew_34.shape)"
   ]
  },
  {
   "cell_type": "code",
   "execution_count": null,
   "metadata": {},
   "outputs": [],
   "source": [
    "# left join il risultato con p1\n",
    "leftnew_341 = leftnew_34.merge(p01, on='CIG', how='left')\n",
    "leftnew_341 = leftnew_341.drop_duplicates()\n",
    "print(leftnew_341.shape)"
   ]
  },
  {
   "cell_type": "code",
   "execution_count": null,
   "metadata": {},
   "outputs": [],
   "source": [
    "# left join il risultato con p2\n",
    "leftnew_3412 = leftnew_341.merge(p02,how='left',left_on='CUP',right_on='CUP')\n",
    "leftnew_3412 = leftnew_3412.drop_duplicates()\n",
    "print(leftnew_3412.shape)"
   ]
  },
  {
   "cell_type": "code",
   "execution_count": null,
   "metadata": {},
   "outputs": [],
   "source": [
    "colonne_da_selezionare = [\n",
    "    'CIG', \n",
    "    'CUP',  \n",
    "    'Regione', \n",
    "    'provincia',  \n",
    "    'Comune', \n",
    "    'importo_complessivo_gara', \n",
    "    'CLASSE_IMPORTO', \n",
    "    'Descrizione Missione', \n",
    "    'Missione', \n",
    "    'Componente',  \n",
    "    'cod_mis_premiale', \n",
    "    'misura_premiale', \n",
    "    'CATEGORIA', \n",
    "    'flag_quote', \n",
    "    'quota_femminile', \n",
    "    'quota_giovanile', \n",
    "    'cod_mot_deroga', \n",
    "    'mot_deroga', \n",
    "    'data_pubblicazione', \n",
    "    'anno_pubblicazione', \n",
    "    'FLAG_URGENZA', \n",
    "    'MOTIVO_URGENZA', \n",
    "    'ESITO',\n",
    "    'Codice Univoco Submisura'\n",
    "]"
   ]
  },
  {
   "cell_type": "code",
   "execution_count": null,
   "metadata": {},
   "outputs": [],
   "source": [
    "master_table = leftnew_3412[colonne_da_selezionare]"
   ]
  },
  {
   "cell_type": "code",
   "execution_count": null,
   "metadata": {},
   "outputs": [],
   "source": [
    "master_table['Comune'].nunique()"
   ]
  },
  {
   "cell_type": "code",
   "execution_count": null,
   "metadata": {},
   "outputs": [],
   "source": [
    "master_table.shape"
   ]
  },
  {
   "cell_type": "code",
   "execution_count": null,
   "metadata": {},
   "outputs": [],
   "source": [
    "master_table.head(5)"
   ]
  },
  {
   "cell_type": "code",
   "execution_count": null,
   "metadata": {},
   "outputs": [],
   "source": [
    "# master_table.to_csv(\"data/updated/master_table_base.csv\", sep=\";\")"
   ]
  },
  {
   "cell_type": "markdown",
   "metadata": {},
   "source": [
    "# Merge Dati ItaliaDomani"
   ]
  },
  {
   "cell_type": "code",
   "execution_count": 1,
   "metadata": {},
   "outputs": [],
   "source": [
    "import pandas as pd\n",
    "master_table = pd.read_csv(\"data/updated/master_table_base.csv\", sep=\";\")\n",
    "indicatori_sdg = pd.read_parquet(\"data/updated/indicators_sdg.parquet\")\n",
    "indicators = pd.read_parquet(\"data/updated/indicators.parquet\")\n",
    "targets = pd.read_parquet(\"data/updated/targets.parquet\")\n",
    "indicatori_com_regis = pd.read_parquet(\"data/updated/universo_regis.parquet\")"
   ]
  },
  {
   "cell_type": "markdown",
   "metadata": {},
   "source": [
    "### Indicators"
   ]
  },
  {
   "cell_type": "code",
   "execution_count": 2,
   "metadata": {},
   "outputs": [
    {
     "data": {
      "text/plain": [
       "Index(['Unnamed: 0', 'CIG', 'CUP', 'Regione', 'provincia', 'Comune',\n",
       "       'importo_complessivo_gara', 'CLASSE_IMPORTO', 'Descrizione Missione',\n",
       "       'Missione', 'Componente', 'cod_mis_premiale', 'misura_premiale',\n",
       "       'CATEGORIA', 'flag_quote', 'quota_femminile', 'quota_giovanile',\n",
       "       'cod_mot_deroga', 'mot_deroga', 'data_pubblicazione',\n",
       "       'anno_pubblicazione', 'FLAG_URGENZA', 'MOTIVO_URGENZA', 'ESITO',\n",
       "       'Codice Univoco Submisura'],\n",
       "      dtype='object')"
      ]
     },
     "execution_count": 2,
     "metadata": {},
     "output_type": "execute_result"
    }
   ],
   "source": [
    "master_table.columns"
   ]
  },
  {
   "cell_type": "code",
   "execution_count": 3,
   "metadata": {},
   "outputs": [],
   "source": [
    "# for col in leftnew_3412.columns:\n",
    "#     print(col)"
   ]
  },
  {
   "cell_type": "code",
   "execution_count": 4,
   "metadata": {},
   "outputs": [
    {
     "data": {
      "text/plain": [
       "Index(['Programma', 'Missione', 'Descrizione Missione', 'Componente',\n",
       "       'Descrizione Componente', 'ID Misura', 'Codice Univoco Misura',\n",
       "       'Descrizione Misura', 'ID Submisura', 'Codice Univoco Submisura',\n",
       "       'Codice CID', 'Descrizione Submisura', 'Amministrazione Titolare',\n",
       "       'Codice Indicatore', 'Descrizione Indicatore', 'Unità di misura',\n",
       "       'Stock/Flusso'],\n",
       "      dtype='object')"
      ]
     },
     "execution_count": 4,
     "metadata": {},
     "output_type": "execute_result"
    }
   ],
   "source": [
    "# andiamo in merge su Codice Univoco Submisura\n",
    "indicators.columns "
   ]
  },
  {
   "cell_type": "code",
   "execution_count": 5,
   "metadata": {},
   "outputs": [
    {
     "data": {
      "text/plain": [
       "0"
      ]
     },
     "execution_count": 5,
     "metadata": {},
     "output_type": "execute_result"
    }
   ],
   "source": [
    "indicators['Codice Univoco Submisura'].isna().sum()"
   ]
  },
  {
   "cell_type": "code",
   "execution_count": 6,
   "metadata": {},
   "outputs": [
    {
     "data": {
      "text/html": [
       "<div>\n",
       "<style scoped>\n",
       "    .dataframe tbody tr th:only-of-type {\n",
       "        vertical-align: middle;\n",
       "    }\n",
       "\n",
       "    .dataframe tbody tr th {\n",
       "        vertical-align: top;\n",
       "    }\n",
       "\n",
       "    .dataframe thead th {\n",
       "        text-align: right;\n",
       "    }\n",
       "</style>\n",
       "<table border=\"1\" class=\"dataframe\">\n",
       "  <thead>\n",
       "    <tr style=\"text-align: right;\">\n",
       "      <th></th>\n",
       "      <th>Programma</th>\n",
       "      <th>Missione</th>\n",
       "      <th>Descrizione Missione</th>\n",
       "      <th>Componente</th>\n",
       "      <th>Descrizione Componente</th>\n",
       "      <th>ID Misura</th>\n",
       "      <th>Codice Univoco Misura</th>\n",
       "      <th>Descrizione Misura</th>\n",
       "      <th>ID Submisura</th>\n",
       "      <th>Codice Univoco Submisura</th>\n",
       "      <th>Codice CID</th>\n",
       "      <th>Descrizione Submisura</th>\n",
       "      <th>Amministrazione Titolare</th>\n",
       "      <th>Codice Indicatore</th>\n",
       "      <th>Descrizione Indicatore</th>\n",
       "      <th>Unità di misura</th>\n",
       "      <th>Stock/Flusso</th>\n",
       "    </tr>\n",
       "  </thead>\n",
       "  <tbody>\n",
       "    <tr>\n",
       "      <th>0</th>\n",
       "      <td>PNRR</td>\n",
       "      <td>M1</td>\n",
       "      <td>Digitalizzazione, innovazione, competitività e...</td>\n",
       "      <td>M1C1</td>\n",
       "      <td>Digitalizzazione, innovazione e sicurezza nell...</td>\n",
       "      <td>M1C1I1.3</td>\n",
       "      <td>M1C1I1.03</td>\n",
       "      <td>Dati e interoperabilità</td>\n",
       "      <td>M1C1I1.3.2</td>\n",
       "      <td>M1C1I1.03.02</td>\n",
       "      <td>M1C1I1.3.2</td>\n",
       "      <td>Sportello digitale unico</td>\n",
       "      <td>PCM - DIPARTIM. TRASFORMAZIONE DIGITALE</td>\n",
       "      <td>C7</td>\n",
       "      <td>UTENTI DI SERVIZI, PRODOTTI E PROCESSI DIGITAL...</td>\n",
       "      <td>Utenti / anno</td>\n",
       "      <td>Flusso</td>\n",
       "    </tr>\n",
       "    <tr>\n",
       "      <th>1</th>\n",
       "      <td>PNRR</td>\n",
       "      <td>M1</td>\n",
       "      <td>Digitalizzazione, innovazione, competitività e...</td>\n",
       "      <td>M1C1</td>\n",
       "      <td>Digitalizzazione, innovazione e sicurezza nell...</td>\n",
       "      <td>M1C1I1.4</td>\n",
       "      <td>M1C1I1.04</td>\n",
       "      <td>Servizi digitali e esperienza dei cittadini</td>\n",
       "      <td>M1C1I1.4.3</td>\n",
       "      <td>M1C1I1.04.03</td>\n",
       "      <td>M1C1I1.4.3</td>\n",
       "      <td>Rafforzamento dell'adozione dei servizi della ...</td>\n",
       "      <td>PCM - DIPARTIM. TRASFORMAZIONE DIGITALE</td>\n",
       "      <td>C7</td>\n",
       "      <td>UTENTI DI SERVIZI, PRODOTTI E PROCESSI DIGITAL...</td>\n",
       "      <td>Utenti / anno</td>\n",
       "      <td>Flusso</td>\n",
       "    </tr>\n",
       "    <tr>\n",
       "      <th>2</th>\n",
       "      <td>PNRR</td>\n",
       "      <td>M1</td>\n",
       "      <td>Digitalizzazione, innovazione, competitività e...</td>\n",
       "      <td>M1C1</td>\n",
       "      <td>Digitalizzazione, innovazione e sicurezza nell...</td>\n",
       "      <td>M1C1I1.4</td>\n",
       "      <td>M1C1I1.04</td>\n",
       "      <td>Servizi digitali e esperienza dei cittadini</td>\n",
       "      <td>M1C1I1.4.4</td>\n",
       "      <td>M1C1I1.04.04</td>\n",
       "      <td>M1C1I1.4.4</td>\n",
       "      <td>Rafforzamento dell'adozione delle piattaforme ...</td>\n",
       "      <td>PCM - DIPARTIM. TRASFORMAZIONE DIGITALE</td>\n",
       "      <td>C7</td>\n",
       "      <td>UTENTI DI SERVIZI, PRODOTTI E PROCESSI DIGITAL...</td>\n",
       "      <td>Utenti / anno</td>\n",
       "      <td>Flusso</td>\n",
       "    </tr>\n",
       "    <tr>\n",
       "      <th>3</th>\n",
       "      <td>PNRR</td>\n",
       "      <td>M1</td>\n",
       "      <td>Digitalizzazione, innovazione, competitività e...</td>\n",
       "      <td>M1C1</td>\n",
       "      <td>Digitalizzazione, innovazione e sicurezza nell...</td>\n",
       "      <td>M1C1I1.4</td>\n",
       "      <td>M1C1I1.04</td>\n",
       "      <td>Servizi digitali e esperienza dei cittadini</td>\n",
       "      <td>M1C1I1.4.5</td>\n",
       "      <td>M1C1I1.04.05</td>\n",
       "      <td>M1C1I1.4.5</td>\n",
       "      <td>Digitalizzazione degli avvisi pubblici</td>\n",
       "      <td>PCM - DIPARTIM. TRASFORMAZIONE DIGITALE</td>\n",
       "      <td>C7</td>\n",
       "      <td>UTENTI DI SERVIZI, PRODOTTI E PROCESSI DIGITAL...</td>\n",
       "      <td>Utenti / anno</td>\n",
       "      <td>Flusso</td>\n",
       "    </tr>\n",
       "    <tr>\n",
       "      <th>4</th>\n",
       "      <td>PNRR</td>\n",
       "      <td>M1</td>\n",
       "      <td>Digitalizzazione, innovazione, competitività e...</td>\n",
       "      <td>M1C1</td>\n",
       "      <td>Digitalizzazione, innovazione e sicurezza nell...</td>\n",
       "      <td>M1C1I1.4</td>\n",
       "      <td>M1C1I1.04</td>\n",
       "      <td>Servizi digitali e esperienza dei cittadini</td>\n",
       "      <td>M1C1I1.4.6</td>\n",
       "      <td>M1C1I1.04.06</td>\n",
       "      <td>M1C1I1.4.6</td>\n",
       "      <td>Mobilità come servizio per l'Italia</td>\n",
       "      <td>PCM - DIPARTIM. TRASFORMAZIONE DIGITALE</td>\n",
       "      <td>C7</td>\n",
       "      <td>UTENTI DI SERVIZI, PRODOTTI E PROCESSI DIGITAL...</td>\n",
       "      <td>Utenti / anno</td>\n",
       "      <td>Flusso</td>\n",
       "    </tr>\n",
       "  </tbody>\n",
       "</table>\n",
       "</div>"
      ],
      "text/plain": [
       "  Programma Missione                               Descrizione Missione  \\\n",
       "0      PNRR       M1  Digitalizzazione, innovazione, competitività e...   \n",
       "1      PNRR       M1  Digitalizzazione, innovazione, competitività e...   \n",
       "2      PNRR       M1  Digitalizzazione, innovazione, competitività e...   \n",
       "3      PNRR       M1  Digitalizzazione, innovazione, competitività e...   \n",
       "4      PNRR       M1  Digitalizzazione, innovazione, competitività e...   \n",
       "\n",
       "  Componente                             Descrizione Componente ID Misura  \\\n",
       "0       M1C1  Digitalizzazione, innovazione e sicurezza nell...  M1C1I1.3   \n",
       "1       M1C1  Digitalizzazione, innovazione e sicurezza nell...  M1C1I1.4   \n",
       "2       M1C1  Digitalizzazione, innovazione e sicurezza nell...  M1C1I1.4   \n",
       "3       M1C1  Digitalizzazione, innovazione e sicurezza nell...  M1C1I1.4   \n",
       "4       M1C1  Digitalizzazione, innovazione e sicurezza nell...  M1C1I1.4   \n",
       "\n",
       "  Codice Univoco Misura                           Descrizione Misura  \\\n",
       "0             M1C1I1.03                      Dati e interoperabilità   \n",
       "1             M1C1I1.04  Servizi digitali e esperienza dei cittadini   \n",
       "2             M1C1I1.04  Servizi digitali e esperienza dei cittadini   \n",
       "3             M1C1I1.04  Servizi digitali e esperienza dei cittadini   \n",
       "4             M1C1I1.04  Servizi digitali e esperienza dei cittadini   \n",
       "\n",
       "  ID Submisura Codice Univoco Submisura  Codice CID  \\\n",
       "0   M1C1I1.3.2             M1C1I1.03.02  M1C1I1.3.2   \n",
       "1   M1C1I1.4.3             M1C1I1.04.03  M1C1I1.4.3   \n",
       "2   M1C1I1.4.4             M1C1I1.04.04  M1C1I1.4.4   \n",
       "3   M1C1I1.4.5             M1C1I1.04.05  M1C1I1.4.5   \n",
       "4   M1C1I1.4.6             M1C1I1.04.06  M1C1I1.4.6   \n",
       "\n",
       "                               Descrizione Submisura  \\\n",
       "0                           Sportello digitale unico   \n",
       "1  Rafforzamento dell'adozione dei servizi della ...   \n",
       "2  Rafforzamento dell'adozione delle piattaforme ...   \n",
       "3             Digitalizzazione degli avvisi pubblici   \n",
       "4                Mobilità come servizio per l'Italia   \n",
       "\n",
       "                  Amministrazione Titolare Codice Indicatore  \\\n",
       "0  PCM - DIPARTIM. TRASFORMAZIONE DIGITALE                C7   \n",
       "1  PCM - DIPARTIM. TRASFORMAZIONE DIGITALE                C7   \n",
       "2  PCM - DIPARTIM. TRASFORMAZIONE DIGITALE                C7   \n",
       "3  PCM - DIPARTIM. TRASFORMAZIONE DIGITALE                C7   \n",
       "4  PCM - DIPARTIM. TRASFORMAZIONE DIGITALE                C7   \n",
       "\n",
       "                              Descrizione Indicatore Unità di misura  \\\n",
       "0  UTENTI DI SERVIZI, PRODOTTI E PROCESSI DIGITAL...   Utenti / anno   \n",
       "1  UTENTI DI SERVIZI, PRODOTTI E PROCESSI DIGITAL...   Utenti / anno   \n",
       "2  UTENTI DI SERVIZI, PRODOTTI E PROCESSI DIGITAL...   Utenti / anno   \n",
       "3  UTENTI DI SERVIZI, PRODOTTI E PROCESSI DIGITAL...   Utenti / anno   \n",
       "4  UTENTI DI SERVIZI, PRODOTTI E PROCESSI DIGITAL...   Utenti / anno   \n",
       "\n",
       "  Stock/Flusso  \n",
       "0       Flusso  \n",
       "1       Flusso  \n",
       "2       Flusso  \n",
       "3       Flusso  \n",
       "4       Flusso  "
      ]
     },
     "execution_count": 6,
     "metadata": {},
     "output_type": "execute_result"
    }
   ],
   "source": [
    "indicators.head()"
   ]
  },
  {
   "cell_type": "code",
   "execution_count": 7,
   "metadata": {},
   "outputs": [
    {
     "data": {
      "text/plain": [
       "63713"
      ]
     },
     "execution_count": 7,
     "metadata": {},
     "output_type": "execute_result"
    }
   ],
   "source": [
    "master_table['Codice Univoco Submisura'].isna().sum()"
   ]
  },
  {
   "cell_type": "code",
   "execution_count": 8,
   "metadata": {},
   "outputs": [
    {
     "name": "stdout",
     "output_type": "stream",
     "text": [
      "(594101, 41)\n"
     ]
    }
   ],
   "source": [
    "master_table_ID = master_table.merge(\n",
    "    indicators,\n",
    "    how='left',\n",
    "    left_on='Codice Univoco Submisura',\n",
    "    right_on='Codice Univoco Submisura'\n",
    ")\n",
    "master_table_ID = master_table_ID.drop_duplicates()\n",
    "print(master_table_ID.shape)"
   ]
  },
  {
   "cell_type": "markdown",
   "metadata": {},
   "source": [
    "## Indicatori SDG"
   ]
  },
  {
   "cell_type": "code",
   "execution_count": 9,
   "metadata": {},
   "outputs": [
    {
     "data": {
      "text/plain": [
       "(553, 26)"
      ]
     },
     "execution_count": 9,
     "metadata": {},
     "output_type": "execute_result"
    }
   ],
   "source": [
    "indicatori_sdg.shape"
   ]
  },
  {
   "cell_type": "code",
   "execution_count": 10,
   "metadata": {},
   "outputs": [
    {
     "data": {
      "text/plain": [
       "Index(['COD_MISSIONE', 'DES_MISSIONE', 'COD_COMPONENTE', 'DES_COMPONENTE',\n",
       "       'COD_MISURA', 'DES_MISURA', 'COD_SUB_MISURA', 'DES_SUB_MISURA',\n",
       "       'DES_LIVELLO', 'IMPORTO', 'DES_INVESTIMENTO', 'DES_PRESTITO',\n",
       "       'DES_AMMINISTRAZIONE', 'PREVALENTE', 'INDICATORE', 'DES_INDICATORE',\n",
       "       'DES_INDAGINE', 'NOTA', 'DES_FONTE', 'DES_UNITA', 'GOAL', 'DES_GOAL',\n",
       "       'TARGET', 'DES_TARGET', 'INDICATOR', 'DES_INDICATOR'],\n",
       "      dtype='object')"
      ]
     },
     "execution_count": 10,
     "metadata": {},
     "output_type": "execute_result"
    }
   ],
   "source": [
    "# qua andiamo in merge con COD_SUB_MISURA\n",
    "indicatori_sdg.columns "
   ]
  },
  {
   "cell_type": "code",
   "execution_count": 11,
   "metadata": {},
   "outputs": [
    {
     "data": {
      "text/plain": [
       "0"
      ]
     },
     "execution_count": 11,
     "metadata": {},
     "output_type": "execute_result"
    }
   ],
   "source": [
    "indicatori_sdg['COD_SUB_MISURA'].isna().sum()"
   ]
  },
  {
   "cell_type": "code",
   "execution_count": 12,
   "metadata": {},
   "outputs": [
    {
     "data": {
      "text/html": [
       "<div>\n",
       "<style scoped>\n",
       "    .dataframe tbody tr th:only-of-type {\n",
       "        vertical-align: middle;\n",
       "    }\n",
       "\n",
       "    .dataframe tbody tr th {\n",
       "        vertical-align: top;\n",
       "    }\n",
       "\n",
       "    .dataframe thead th {\n",
       "        text-align: right;\n",
       "    }\n",
       "</style>\n",
       "<table border=\"1\" class=\"dataframe\">\n",
       "  <thead>\n",
       "    <tr style=\"text-align: right;\">\n",
       "      <th></th>\n",
       "      <th>COD_MISSIONE</th>\n",
       "      <th>DES_MISSIONE</th>\n",
       "      <th>COD_COMPONENTE</th>\n",
       "      <th>DES_COMPONENTE</th>\n",
       "      <th>COD_MISURA</th>\n",
       "      <th>DES_MISURA</th>\n",
       "      <th>COD_SUB_MISURA</th>\n",
       "      <th>DES_SUB_MISURA</th>\n",
       "      <th>DES_LIVELLO</th>\n",
       "      <th>IMPORTO</th>\n",
       "      <th>...</th>\n",
       "      <th>DES_INDAGINE</th>\n",
       "      <th>NOTA</th>\n",
       "      <th>DES_FONTE</th>\n",
       "      <th>DES_UNITA</th>\n",
       "      <th>GOAL</th>\n",
       "      <th>DES_GOAL</th>\n",
       "      <th>TARGET</th>\n",
       "      <th>DES_TARGET</th>\n",
       "      <th>INDICATOR</th>\n",
       "      <th>DES_INDICATOR</th>\n",
       "    </tr>\n",
       "  </thead>\n",
       "  <tbody>\n",
       "    <tr>\n",
       "      <th>0</th>\n",
       "      <td>M1</td>\n",
       "      <td>Digitalizzazione, innovazione, competitività e...</td>\n",
       "      <td>M1C1</td>\n",
       "      <td>Digitalizzazione, innovazione e sicurezza nell...</td>\n",
       "      <td>M1C1I1.01</td>\n",
       "      <td>Infrastrutture digitali</td>\n",
       "      <td>M1C1I1.01.00</td>\n",
       "      <td>Infrastrutture digitali</td>\n",
       "      <td>Misura</td>\n",
       "      <td>900000000,00</td>\n",
       "      <td>...</td>\n",
       "      <td>None</td>\n",
       "      <td>None</td>\n",
       "      <td>None</td>\n",
       "      <td>None</td>\n",
       "      <td>16</td>\n",
       "      <td>Promuovere società pacifiche e inclusive per u...</td>\n",
       "      <td>None</td>\n",
       "      <td>None</td>\n",
       "      <td>None</td>\n",
       "      <td>None</td>\n",
       "    </tr>\n",
       "    <tr>\n",
       "      <th>1</th>\n",
       "      <td>M1</td>\n",
       "      <td>Digitalizzazione, innovazione, competitività e...</td>\n",
       "      <td>M1C1</td>\n",
       "      <td>Digitalizzazione, innovazione e sicurezza nell...</td>\n",
       "      <td>M1C1I1.02</td>\n",
       "      <td>Abilitazione al cloud per le PA locali</td>\n",
       "      <td>M1C1I1.02.00</td>\n",
       "      <td>Abilitazione al cloud per le PA locali</td>\n",
       "      <td>Misura</td>\n",
       "      <td>1000000000,00</td>\n",
       "      <td>...</td>\n",
       "      <td>None</td>\n",
       "      <td>None</td>\n",
       "      <td>None</td>\n",
       "      <td>None</td>\n",
       "      <td>16</td>\n",
       "      <td>Promuovere società pacifiche e inclusive per u...</td>\n",
       "      <td>None</td>\n",
       "      <td>None</td>\n",
       "      <td>None</td>\n",
       "      <td>None</td>\n",
       "    </tr>\n",
       "    <tr>\n",
       "      <th>2</th>\n",
       "      <td>M1</td>\n",
       "      <td>Digitalizzazione, innovazione, competitività e...</td>\n",
       "      <td>M1C1</td>\n",
       "      <td>Digitalizzazione, innovazione e sicurezza nell...</td>\n",
       "      <td>M1C1I1.03</td>\n",
       "      <td>Dati e interoperabilità</td>\n",
       "      <td>M1C1I1.03.01</td>\n",
       "      <td>Piattaforma Digitale Nazionale Dati</td>\n",
       "      <td>Sub-Misura</td>\n",
       "      <td>556000000,00</td>\n",
       "      <td>...</td>\n",
       "      <td>None</td>\n",
       "      <td>None</td>\n",
       "      <td>None</td>\n",
       "      <td>None</td>\n",
       "      <td>16</td>\n",
       "      <td>Promuovere società pacifiche e inclusive per u...</td>\n",
       "      <td>None</td>\n",
       "      <td>None</td>\n",
       "      <td>None</td>\n",
       "      <td>None</td>\n",
       "    </tr>\n",
       "    <tr>\n",
       "      <th>3</th>\n",
       "      <td>M1</td>\n",
       "      <td>Digitalizzazione, innovazione, competitività e...</td>\n",
       "      <td>M1C1</td>\n",
       "      <td>Digitalizzazione, innovazione e sicurezza nell...</td>\n",
       "      <td>M1C1I1.03</td>\n",
       "      <td>Dati e interoperabilità</td>\n",
       "      <td>M1C1I1.03.02</td>\n",
       "      <td>Sportello digitale unico</td>\n",
       "      <td>Sub-Misura</td>\n",
       "      <td>90000000,00</td>\n",
       "      <td>...</td>\n",
       "      <td>None</td>\n",
       "      <td>None</td>\n",
       "      <td>None</td>\n",
       "      <td>None</td>\n",
       "      <td>16</td>\n",
       "      <td>Promuovere società pacifiche e inclusive per u...</td>\n",
       "      <td>None</td>\n",
       "      <td>None</td>\n",
       "      <td>None</td>\n",
       "      <td>None</td>\n",
       "    </tr>\n",
       "    <tr>\n",
       "      <th>4</th>\n",
       "      <td>M1</td>\n",
       "      <td>Digitalizzazione, innovazione, competitività e...</td>\n",
       "      <td>M1C1</td>\n",
       "      <td>Digitalizzazione, innovazione e sicurezza nell...</td>\n",
       "      <td>M1C1I1.04</td>\n",
       "      <td>Servizi digitali e esperienza dei cittadini</td>\n",
       "      <td>M1C1I1.04.01</td>\n",
       "      <td>Esperienza dei cittadini - Miglioramento della...</td>\n",
       "      <td>Sub-Misura</td>\n",
       "      <td>613000000,00</td>\n",
       "      <td>...</td>\n",
       "      <td>None</td>\n",
       "      <td>None</td>\n",
       "      <td>None</td>\n",
       "      <td>None</td>\n",
       "      <td>16</td>\n",
       "      <td>Promuovere società pacifiche e inclusive per u...</td>\n",
       "      <td>None</td>\n",
       "      <td>None</td>\n",
       "      <td>None</td>\n",
       "      <td>None</td>\n",
       "    </tr>\n",
       "  </tbody>\n",
       "</table>\n",
       "<p>5 rows × 26 columns</p>\n",
       "</div>"
      ],
      "text/plain": [
       "  COD_MISSIONE                                       DES_MISSIONE  \\\n",
       "0           M1  Digitalizzazione, innovazione, competitività e...   \n",
       "1           M1  Digitalizzazione, innovazione, competitività e...   \n",
       "2           M1  Digitalizzazione, innovazione, competitività e...   \n",
       "3           M1  Digitalizzazione, innovazione, competitività e...   \n",
       "4           M1  Digitalizzazione, innovazione, competitività e...   \n",
       "\n",
       "  COD_COMPONENTE                                     DES_COMPONENTE  \\\n",
       "0           M1C1  Digitalizzazione, innovazione e sicurezza nell...   \n",
       "1           M1C1  Digitalizzazione, innovazione e sicurezza nell...   \n",
       "2           M1C1  Digitalizzazione, innovazione e sicurezza nell...   \n",
       "3           M1C1  Digitalizzazione, innovazione e sicurezza nell...   \n",
       "4           M1C1  Digitalizzazione, innovazione e sicurezza nell...   \n",
       "\n",
       "  COD_MISURA                                   DES_MISURA COD_SUB_MISURA  \\\n",
       "0  M1C1I1.01                      Infrastrutture digitali   M1C1I1.01.00   \n",
       "1  M1C1I1.02       Abilitazione al cloud per le PA locali   M1C1I1.02.00   \n",
       "2  M1C1I1.03                      Dati e interoperabilità   M1C1I1.03.01   \n",
       "3  M1C1I1.03                      Dati e interoperabilità   M1C1I1.03.02   \n",
       "4  M1C1I1.04  Servizi digitali e esperienza dei cittadini   M1C1I1.04.01   \n",
       "\n",
       "                                      DES_SUB_MISURA DES_LIVELLO  \\\n",
       "0                            Infrastrutture digitali      Misura   \n",
       "1             Abilitazione al cloud per le PA locali      Misura   \n",
       "2                Piattaforma Digitale Nazionale Dati  Sub-Misura   \n",
       "3                           Sportello digitale unico  Sub-Misura   \n",
       "4  Esperienza dei cittadini - Miglioramento della...  Sub-Misura   \n",
       "\n",
       "          IMPORTO  ... DES_INDAGINE  NOTA DES_FONTE DES_UNITA GOAL  \\\n",
       "0   900000000,00   ...         None  None      None      None   16   \n",
       "1  1000000000,00   ...         None  None      None      None   16   \n",
       "2   556000000,00   ...         None  None      None      None   16   \n",
       "3    90000000,00   ...         None  None      None      None   16   \n",
       "4   613000000,00   ...         None  None      None      None   16   \n",
       "\n",
       "                                            DES_GOAL TARGET DES_TARGET  \\\n",
       "0  Promuovere società pacifiche e inclusive per u...   None       None   \n",
       "1  Promuovere società pacifiche e inclusive per u...   None       None   \n",
       "2  Promuovere società pacifiche e inclusive per u...   None       None   \n",
       "3  Promuovere società pacifiche e inclusive per u...   None       None   \n",
       "4  Promuovere società pacifiche e inclusive per u...   None       None   \n",
       "\n",
       "  INDICATOR DES_INDICATOR  \n",
       "0      None          None  \n",
       "1      None          None  \n",
       "2      None          None  \n",
       "3      None          None  \n",
       "4      None          None  \n",
       "\n",
       "[5 rows x 26 columns]"
      ]
     },
     "execution_count": 12,
     "metadata": {},
     "output_type": "execute_result"
    }
   ],
   "source": [
    "indicatori_sdg.head()"
   ]
  },
  {
   "cell_type": "code",
   "execution_count": 13,
   "metadata": {},
   "outputs": [
    {
     "name": "stdout",
     "output_type": "stream",
     "text": [
      "(918923, 67)\n"
     ]
    }
   ],
   "source": [
    "master_table_ID = master_table_ID.merge(\n",
    "    indicatori_sdg,\n",
    "    how='left',\n",
    "    left_on='Codice Univoco Submisura',\n",
    "    right_on='COD_SUB_MISURA'\n",
    ")\n",
    "master_table_ID = master_table_ID.drop_duplicates()\n",
    "print(master_table_ID.shape)"
   ]
  },
  {
   "cell_type": "markdown",
   "metadata": {},
   "source": [
    "## Targets"
   ]
  },
  {
   "cell_type": "code",
   "execution_count": 14,
   "metadata": {},
   "outputs": [
    {
     "data": {
      "text/plain": [
       "(84893, 13)"
      ]
     },
     "execution_count": 14,
     "metadata": {},
     "output_type": "execute_result"
    }
   ],
   "source": [
    "targets.shape"
   ]
  },
  {
   "cell_type": "code",
   "execution_count": 15,
   "metadata": {},
   "outputs": [
    {
     "data": {
      "text/plain": [
       "Index(['Codice Univoco Submisura', 'Descrizione Submisura', 'CUP',\n",
       "       'Codice Locale Progetto', 'Codice Indicatore', 'Descrizione Indicatore',\n",
       "       'Unità di Misura', 'Descrizione Unità di Misura', 'Valore Programmato',\n",
       "       'Valore Realizzato', 'Mese', 'Anno', 'Data di Aggiornamento'],\n",
       "      dtype='object')"
      ]
     },
     "execution_count": 15,
     "metadata": {},
     "output_type": "execute_result"
    }
   ],
   "source": [
    "# scelta tra CUP e Codice Univoco Submisura. CUP Preferibile \n",
    "targets.columns"
   ]
  },
  {
   "cell_type": "code",
   "execution_count": 16,
   "metadata": {},
   "outputs": [
    {
     "data": {
      "text/plain": [
       "0"
      ]
     },
     "execution_count": 16,
     "metadata": {},
     "output_type": "execute_result"
    }
   ],
   "source": [
    "targets['Codice Univoco Submisura'].isna().sum()"
   ]
  },
  {
   "cell_type": "code",
   "execution_count": 17,
   "metadata": {},
   "outputs": [
    {
     "data": {
      "text/plain": [
       "0"
      ]
     },
     "execution_count": 17,
     "metadata": {},
     "output_type": "execute_result"
    }
   ],
   "source": [
    "targets['CUP'].isna().sum()"
   ]
  },
  {
   "cell_type": "code",
   "execution_count": 18,
   "metadata": {},
   "outputs": [
    {
     "data": {
      "text/plain": [
       "50539"
      ]
     },
     "execution_count": 18,
     "metadata": {},
     "output_type": "execute_result"
    }
   ],
   "source": [
    "targets['CUP'].nunique()"
   ]
  },
  {
   "cell_type": "code",
   "execution_count": 19,
   "metadata": {},
   "outputs": [
    {
     "data": {
      "text/plain": [
       "103"
      ]
     },
     "execution_count": 19,
     "metadata": {},
     "output_type": "execute_result"
    }
   ],
   "source": [
    "targets['Codice Univoco Submisura'].nunique()"
   ]
  },
  {
   "cell_type": "code",
   "execution_count": 20,
   "metadata": {},
   "outputs": [
    {
     "data": {
      "text/html": [
       "<div>\n",
       "<style scoped>\n",
       "    .dataframe tbody tr th:only-of-type {\n",
       "        vertical-align: middle;\n",
       "    }\n",
       "\n",
       "    .dataframe tbody tr th {\n",
       "        vertical-align: top;\n",
       "    }\n",
       "\n",
       "    .dataframe thead th {\n",
       "        text-align: right;\n",
       "    }\n",
       "</style>\n",
       "<table border=\"1\" class=\"dataframe\">\n",
       "  <thead>\n",
       "    <tr style=\"text-align: right;\">\n",
       "      <th></th>\n",
       "      <th>Codice Univoco Submisura</th>\n",
       "      <th>Descrizione Submisura</th>\n",
       "      <th>CUP</th>\n",
       "      <th>Codice Locale Progetto</th>\n",
       "      <th>Codice Indicatore</th>\n",
       "      <th>Descrizione Indicatore</th>\n",
       "      <th>Unità di Misura</th>\n",
       "      <th>Descrizione Unità di Misura</th>\n",
       "      <th>Valore Programmato</th>\n",
       "      <th>Valore Realizzato</th>\n",
       "      <th>Mese</th>\n",
       "      <th>Anno</th>\n",
       "      <th>Data di Aggiornamento</th>\n",
       "    </tr>\n",
       "  </thead>\n",
       "  <tbody>\n",
       "    <tr>\n",
       "      <th>0</th>\n",
       "      <td>M1C1I1.01.00</td>\n",
       "      <td>Infrastrutture digitali</td>\n",
       "      <td>D31C23000790006</td>\n",
       "      <td>PRJ_110ASL0323X_000100</td>\n",
       "      <td>T0081</td>\n",
       "      <td>NR. DI AMMINISTRAZIONI MIGRATE AL POLO STRATEG...</td>\n",
       "      <td>12</td>\n",
       "      <td>Numero</td>\n",
       "      <td>0,00</td>\n",
       "      <td>0,00</td>\n",
       "      <td>Settembre</td>\n",
       "      <td>2023</td>\n",
       "      <td>20/02/2024</td>\n",
       "    </tr>\n",
       "    <tr>\n",
       "      <th>1</th>\n",
       "      <td>M1C1I1.01.00</td>\n",
       "      <td>Infrastrutture digitali</td>\n",
       "      <td>F71C23000580006</td>\n",
       "      <td>PRJ_110ASL0323X_000090</td>\n",
       "      <td>T0081</td>\n",
       "      <td>NR. DI AMMINISTRAZIONI MIGRATE AL POLO STRATEG...</td>\n",
       "      <td>12</td>\n",
       "      <td>Numero</td>\n",
       "      <td>0,00</td>\n",
       "      <td>0,00</td>\n",
       "      <td>Settembre</td>\n",
       "      <td>2023</td>\n",
       "      <td>20/02/2024</td>\n",
       "    </tr>\n",
       "    <tr>\n",
       "      <th>2</th>\n",
       "      <td>M1C1I1.01.00</td>\n",
       "      <td>Infrastrutture digitali</td>\n",
       "      <td>G21C23000500006</td>\n",
       "      <td>PRJ_110ASL0323X_000146</td>\n",
       "      <td>T0081</td>\n",
       "      <td>NR. DI AMMINISTRAZIONI MIGRATE AL POLO STRATEG...</td>\n",
       "      <td>12</td>\n",
       "      <td>Numero</td>\n",
       "      <td>0,00</td>\n",
       "      <td>0,00</td>\n",
       "      <td>Settembre</td>\n",
       "      <td>2023</td>\n",
       "      <td>20/02/2024</td>\n",
       "    </tr>\n",
       "    <tr>\n",
       "      <th>3</th>\n",
       "      <td>M1C1I1.01.00</td>\n",
       "      <td>Infrastrutture digitali</td>\n",
       "      <td>F31C23000610006</td>\n",
       "      <td>PRJ_110ASL0323X_000089</td>\n",
       "      <td>T0081</td>\n",
       "      <td>NR. DI AMMINISTRAZIONI MIGRATE AL POLO STRATEG...</td>\n",
       "      <td>12</td>\n",
       "      <td>Numero</td>\n",
       "      <td>0,00</td>\n",
       "      <td>0,00</td>\n",
       "      <td>Settembre</td>\n",
       "      <td>2023</td>\n",
       "      <td>20/02/2024</td>\n",
       "    </tr>\n",
       "    <tr>\n",
       "      <th>4</th>\n",
       "      <td>M1C1I1.01.00</td>\n",
       "      <td>Infrastrutture digitali</td>\n",
       "      <td>J81C23000680006</td>\n",
       "      <td>PRJ_110ASL0323X_000118</td>\n",
       "      <td>T0081</td>\n",
       "      <td>NR. DI AMMINISTRAZIONI MIGRATE AL POLO STRATEG...</td>\n",
       "      <td>12</td>\n",
       "      <td>Numero</td>\n",
       "      <td>0,00</td>\n",
       "      <td>0,00</td>\n",
       "      <td>Settembre</td>\n",
       "      <td>2023</td>\n",
       "      <td>20/02/2024</td>\n",
       "    </tr>\n",
       "  </tbody>\n",
       "</table>\n",
       "</div>"
      ],
      "text/plain": [
       "  Codice Univoco Submisura    Descrizione Submisura              CUP  \\\n",
       "0             M1C1I1.01.00  Infrastrutture digitali  D31C23000790006   \n",
       "1             M1C1I1.01.00  Infrastrutture digitali  F71C23000580006   \n",
       "2             M1C1I1.01.00  Infrastrutture digitali  G21C23000500006   \n",
       "3             M1C1I1.01.00  Infrastrutture digitali  F31C23000610006   \n",
       "4             M1C1I1.01.00  Infrastrutture digitali  J81C23000680006   \n",
       "\n",
       "   Codice Locale Progetto Codice Indicatore  \\\n",
       "0  PRJ_110ASL0323X_000100             T0081   \n",
       "1  PRJ_110ASL0323X_000090             T0081   \n",
       "2  PRJ_110ASL0323X_000146             T0081   \n",
       "3  PRJ_110ASL0323X_000089             T0081   \n",
       "4  PRJ_110ASL0323X_000118             T0081   \n",
       "\n",
       "                              Descrizione Indicatore  Unità di Misura  \\\n",
       "0  NR. DI AMMINISTRAZIONI MIGRATE AL POLO STRATEG...               12   \n",
       "1  NR. DI AMMINISTRAZIONI MIGRATE AL POLO STRATEG...               12   \n",
       "2  NR. DI AMMINISTRAZIONI MIGRATE AL POLO STRATEG...               12   \n",
       "3  NR. DI AMMINISTRAZIONI MIGRATE AL POLO STRATEG...               12   \n",
       "4  NR. DI AMMINISTRAZIONI MIGRATE AL POLO STRATEG...               12   \n",
       "\n",
       "  Descrizione Unità di Misura Valore Programmato Valore Realizzato       Mese  \\\n",
       "0                      Numero               0,00              0,00  Settembre   \n",
       "1                      Numero               0,00              0,00  Settembre   \n",
       "2                      Numero               0,00              0,00  Settembre   \n",
       "3                      Numero               0,00              0,00  Settembre   \n",
       "4                      Numero               0,00              0,00  Settembre   \n",
       "\n",
       "   Anno Data di Aggiornamento  \n",
       "0  2023            20/02/2024  \n",
       "1  2023            20/02/2024  \n",
       "2  2023            20/02/2024  \n",
       "3  2023            20/02/2024  \n",
       "4  2023            20/02/2024  "
      ]
     },
     "execution_count": 20,
     "metadata": {},
     "output_type": "execute_result"
    },
    {
     "ename": "",
     "evalue": "",
     "output_type": "error",
     "traceback": [
      "\u001b[1;31mThe Kernel crashed while executing code in the current cell or a previous cell. \n",
      "\u001b[1;31mPlease review the code in the cell(s) to identify a possible cause of the failure. \n",
      "\u001b[1;31mClick <a href='https://aka.ms/vscodeJupyterKernelCrash'>here</a> for more info. \n",
      "\u001b[1;31mView Jupyter <a href='command:jupyter.viewOutput'>log</a> for further details."
     ]
    }
   ],
   "source": [
    "targets.head()"
   ]
  },
  {
   "cell_type": "code",
   "execution_count": 21,
   "metadata": {},
   "outputs": [],
   "source": [
    "master_table_ID = master_table_ID.merge(\n",
    "    targets,\n",
    "    how='left',\n",
    "    left_on='CUP',\n",
    "    right_on='CUP'\n",
    ")\n",
    "master_table_ID = master_table_ID.drop_duplicates()\n",
    "print(master_table_ID.shape)"
   ]
  },
  {
   "cell_type": "markdown",
   "metadata": {},
   "source": [
    "### Universo Regis"
   ]
  },
  {
   "cell_type": "code",
   "execution_count": null,
   "metadata": {},
   "outputs": [],
   "source": [
    "indicatori_com_regis.shape"
   ]
  },
  {
   "cell_type": "code",
   "execution_count": null,
   "metadata": {},
   "outputs": [],
   "source": [
    "# Scegliamo il CUO\n",
    "indicatori_com_regis.columns"
   ]
  },
  {
   "cell_type": "code",
   "execution_count": null,
   "metadata": {},
   "outputs": [],
   "source": [
    "indicatori_com_regis['CUP'].isna().sum()"
   ]
  },
  {
   "cell_type": "code",
   "execution_count": null,
   "metadata": {},
   "outputs": [],
   "source": [
    "indicatori_com_regis['Codice Univoco Submisura'].isna().sum()"
   ]
  },
  {
   "cell_type": "code",
   "execution_count": null,
   "metadata": {},
   "outputs": [],
   "source": [
    "master_table_ID = master_table_ID.merge(\n",
    "    indicatori_com_regis,\n",
    "    how='left',\n",
    "    left_on='CUP',\n",
    "    right_on='CUP'\n",
    ")\n",
    "master_table_ID = master_table_ID.drop_duplicates()\n",
    "print(master_table_ID.shape)"
   ]
  },
  {
   "cell_type": "code",
   "execution_count": null,
   "metadata": {},
   "outputs": [],
   "source": []
  },
  {
   "cell_type": "code",
   "execution_count": null,
   "metadata": {},
   "outputs": [],
   "source": [
    "# indicators\n",
    "\n",
    "# indicators sdg\n",
    "\n",
    "# targets\n",
    "\n",
    "# universo_regis"
   ]
  }
 ],
 "metadata": {
  "kernelspec": {
   "display_name": "period2",
   "language": "python",
   "name": "python3"
  },
  "language_info": {
   "codemirror_mode": {
    "name": "ipython",
    "version": 3
   },
   "file_extension": ".py",
   "mimetype": "text/x-python",
   "name": "python",
   "nbconvert_exporter": "python",
   "pygments_lexer": "ipython3",
   "version": "3.9.16"
  }
 },
 "nbformat": 4,
 "nbformat_minor": 2
}
