{
 "cells": [
  {
   "cell_type": "code",
   "execution_count": 56,
   "metadata": {},
   "outputs": [
    {
     "name": "stdout",
     "output_type": "stream",
     "text": [
      "/Users/venere/Desktop/period/data-prep-pnrr/notebooks/data_prep_old/current_app\n"
     ]
    }
   ],
   "source": [
    "import pandas as pd\n",
    "import numpy as np \n",
    "import os\n",
    "\n",
    "print(os.getcwd())\n",
    "\n",
    "\"\"\" p01 = pd.read_parquet(\"../data/updated/p01.parquet\")\n",
    "p02 = pd.read_parquet(\"../data/updated/p02.parquet\")\n",
    "p03 = pd.read_parquet(\"../data/updated/p03.parquet\")\n",
    "p04 = pd.read_parquet(\"../data/updated/p04.parquet\")\n",
    "p05 = pd.read_parquet(\"../data/updated/p05.parquet\")\n",
    "\n",
    "componenti = pd.read_parquet(\"../data/updated/components.parquet\")\n",
    "missions = pd.read_parquet(\"../data/updated/missions.parquet\")\n",
    "comuni = pd.read_parquet(\"../data/updated/comuni.parquet\")\n",
    "\n",
    "indicatori_sdg = pd.read_parquet(\"../data/updated/indicators_sdg.parquet\")\n",
    "indicatori_comuni=pd.read_csv(\"../data/updated/PNRR_Indicatori_Comuni-Universo_REGIS_v2.csv\", sep=\";\", encoding='latin-1')\n",
    "#indicatori_comuni = pd.read_csv(\"../data/updated/PNRR_Indicatori_Comuni-Universo_REGIS_v2.csv\",sep=\",\")\n",
    "\"\"\"\n",
    "appalti_2024=pd.read_excel(\"/Users/venere/Desktop/period/data-prep-pnrr/data/updated/APPALTI_2024_PNRR_PNC_Full 2.xlsx\", header=0)\n",
    "\n",
    "#appalti_2024=pd.read_csv(\"/Users/venere/Desktop/period/data-prep-pnrr/data/updated/APPALTI_2024_PNRR_PNC_csv.csv\", sep=\",\")"
   ]
  },
  {
   "cell_type": "code",
   "execution_count": 98,
   "metadata": {},
   "outputs": [
    {
     "data": {
      "text/plain": [
       "Index(['cig', 'cf_sa', 'Denominazione SA', 'data_pubblicazione',\n",
       "       'importo_lotto', 'oggetto_lotto', 'tipo_procedura', 'flag_pnrr_pnc',\n",
       "       'flag_quote_deroga', 'quota_femminile', 'quota_giovani',\n",
       "       'cod_mot_deroga', 'motivo_deroga', 'flag_misure_premiali',\n",
       "       'codice_mis_prem', 'misura_premiale'],\n",
       "      dtype='object')"
      ]
     },
     "execution_count": 98,
     "metadata": {},
     "output_type": "execute_result"
    }
   ],
   "source": [
    "appalti_2024.columns"
   ]
  },
  {
   "cell_type": "code",
   "execution_count": null,
   "metadata": {},
   "outputs": [],
   "source": [
    "appalti_2024"
   ]
  },
  {
   "cell_type": "code",
   "execution_count": 100,
   "metadata": {},
   "outputs": [],
   "source": [
    "appalti_2024\n",
    "appalti_2024 = appalti_2024[['cig','data_pubblicazione',\n",
    "       'importo_lotto','flag_quote_deroga', 'quota_femminile', 'quota_giovani',\n",
    "       'cod_mot_deroga', 'motivo_deroga', 'flag_misure_premiali',\n",
    "       'codice_mis_prem', 'misura_premiale']]"
   ]
  },
  {
   "cell_type": "code",
   "execution_count": 101,
   "metadata": {},
   "outputs": [
    {
     "name": "stdout",
     "output_type": "stream",
     "text": [
      "51395 1852 3.6034633719233393\n"
     ]
    }
   ],
   "source": [
    "premialita_24 = appalti_2024[appalti_2024[\"flag_misure_premiali\"]=='[]']\n",
    "x = appalti_2024.shape\n",
    "y = premialita_24.shape\n",
    "x = x[0]\n",
    "y = y[0]\n",
    "percentuale = y/x*100\n",
    "print(x, y, percentuale)\n"
   ]
  },
  {
   "cell_type": "code",
   "execution_count": 102,
   "metadata": {},
   "outputs": [
    {
     "name": "stderr",
     "output_type": "stream",
     "text": [
      "/var/folders/zx/2_t1dk8d70ld1mtph0ys7mt40000gn/T/ipykernel_29095/3802793326.py:2: SettingWithCopyWarning: \n",
      "A value is trying to be set on a copy of a slice from a DataFrame.\n",
      "Try using .loc[row_indexer,col_indexer] = value instead\n",
      "\n",
      "See the caveats in the documentation: https://pandas.pydata.org/pandas-docs/stable/user_guide/indexing.html#returning-a-view-versus-a-copy\n",
      "  premialita_24['codice_mis_prem'] = premialita_24['codice_mis_prem'].apply(ast.literal_eval)\n",
      "/var/folders/zx/2_t1dk8d70ld1mtph0ys7mt40000gn/T/ipykernel_29095/3802793326.py:3: SettingWithCopyWarning: \n",
      "A value is trying to be set on a copy of a slice from a DataFrame.\n",
      "Try using .loc[row_indexer,col_indexer] = value instead\n",
      "\n",
      "See the caveats in the documentation: https://pandas.pydata.org/pandas-docs/stable/user_guide/indexing.html#returning-a-view-versus-a-copy\n",
      "  premialita_24['misura_premiale'] = premialita_24['misura_premiale'].apply(ast.literal_eval)\n"
     ]
    }
   ],
   "source": [
    "import ast\n",
    "premialita_24['codice_mis_prem'] = premialita_24['codice_mis_prem'].apply(ast.literal_eval)\n",
    "premialita_24['misura_premiale'] = premialita_24['misura_premiale'].apply(ast.literal_eval)"
   ]
  },
  {
   "cell_type": "code",
   "execution_count": 103,
   "metadata": {},
   "outputs": [],
   "source": [
    "premialita_24_exploded = premialita_24.explode(['codice_mis_prem', 'misura_premiale']).reset_index(drop=True)\n"
   ]
  },
  {
   "cell_type": "markdown",
   "metadata": {},
   "source": [
    "Deroghe e codice motivo deroga"
   ]
  },
  {
   "cell_type": "code",
   "execution_count": 104,
   "metadata": {},
   "outputs": [
    {
     "name": "stdout",
     "output_type": "stream",
     "text": [
      "Index(['cig', 'data_pubblicazione', 'importo_lotto', 'flag_quote_deroga',\n",
      "       'quota_femminile', 'quota_giovani', 'cod_mot_deroga', 'motivo_deroga',\n",
      "       'flag_misure_premiali', 'codice_mis_prem', 'misura_premiale'],\n",
      "      dtype='object')\n"
     ]
    }
   ],
   "source": [
    "print(appalti_2024.columns)\n"
   ]
  },
  {
   "cell_type": "code",
   "execution_count": 105,
   "metadata": {},
   "outputs": [
    {
     "data": {
      "text/plain": [
       "(8061, 11)"
      ]
     },
     "execution_count": 105,
     "metadata": {},
     "output_type": "execute_result"
    }
   ],
   "source": [
    "deroghe_24 = appalti_2024[appalti_2024[\"flag_quote_deroga\"].fillna('').isin(['Q', 'N'])]\n",
    "\n",
    "deroghe_24.shape"
   ]
  },
  {
   "cell_type": "code",
   "execution_count": 106,
   "metadata": {},
   "outputs": [
    {
     "name": "stderr",
     "output_type": "stream",
     "text": [
      "/var/folders/zx/2_t1dk8d70ld1mtph0ys7mt40000gn/T/ipykernel_29095/2803642113.py:9: SettingWithCopyWarning: \n",
      "A value is trying to be set on a copy of a slice from a DataFrame.\n",
      "Try using .loc[row_indexer,col_indexer] = value instead\n",
      "\n",
      "See the caveats in the documentation: https://pandas.pydata.org/pandas-docs/stable/user_guide/indexing.html#returning-a-view-versus-a-copy\n",
      "  deroghe_24['cod_mot_deroga'] = deroghe_24['cod_mot_deroga'].apply(safe_eval)\n",
      "/var/folders/zx/2_t1dk8d70ld1mtph0ys7mt40000gn/T/ipykernel_29095/2803642113.py:10: SettingWithCopyWarning: \n",
      "A value is trying to be set on a copy of a slice from a DataFrame.\n",
      "Try using .loc[row_indexer,col_indexer] = value instead\n",
      "\n",
      "See the caveats in the documentation: https://pandas.pydata.org/pandas-docs/stable/user_guide/indexing.html#returning-a-view-versus-a-copy\n",
      "  deroghe_24['motivo_deroga'] = deroghe_24['motivo_deroga'].apply(safe_eval)\n"
     ]
    }
   ],
   "source": [
    "def safe_eval(val):\n",
    "    if isinstance(val, str):  # Applica solo se è una stringa\n",
    "        try:\n",
    "            return ast.literal_eval(val)\n",
    "        except (ValueError, SyntaxError):\n",
    "            return val  # Ritorna il valore originale se non è una lista valida\n",
    "    return val  # Se è un numero o NaN, lascia invariato\n",
    "\n",
    "deroghe_24['cod_mot_deroga'] = deroghe_24['cod_mot_deroga'].apply(safe_eval)\n",
    "deroghe_24['motivo_deroga'] = deroghe_24['motivo_deroga'].apply(safe_eval)\n",
    "\n",
    "deroghe_24_exploded = deroghe_24.explode([\"cod_mot_deroga\", \"motivo_deroga\"]).reset_index(drop=True)\n"
   ]
  },
  {
   "cell_type": "code",
   "execution_count": 107,
   "metadata": {},
   "outputs": [
    {
     "data": {
      "text/plain": [
       "(8168, 11)"
      ]
     },
     "execution_count": 107,
     "metadata": {},
     "output_type": "execute_result"
    }
   ],
   "source": [
    "deroghe_24_exploded.shape"
   ]
  },
  {
   "cell_type": "markdown",
   "metadata": {},
   "source": [
    "*Analisi premialità*\n",
    "\n",
    "Nella scorsa versione erano 11 misure premiali, ora risultano 13, necessario analizzarle e aggiornare la mappatura"
   ]
  },
  {
   "cell_type": "code",
   "execution_count": 108,
   "metadata": {},
   "outputs": [
    {
     "data": {
      "text/plain": [
       "array(['UTILIZZI O SI IMPEGNI A UTILIZZARE SPECIFICI STRUMENTI DI CONCILIAZIONE DELLE ESIGENZE DI CURA, DI VITA E DI LAVORO PER I PROPRI DIPENDENTI, NONCHÉ MODALITÀ INNOVATIVE DI ORGANIZZAZIONE DEL LAVORO',\n",
       "       \"SI IMPEGNI AD ASSUMERE, OLTRE ALLA SOGLIA MINIMA PERCENTUALE PREVISTA COME REQUISITO DI PARTECIPAZIONE, DONNE PER L'ESECUZIONE DEL CONTRATTO O PER LA REALIZZAZIONE DI ATTIVITÀ AD ESSO CONNESSE O STRUMENTALI\",\n",
       "       \"SI IMPEGNI AD ASSUMERE, OLTRE ALLA SOGLIA MINIMA PERCENTUALE PREVISTA COME REQUISITO DI PARTECIPAZIONE GIOVANI DI ETÀ INFERIORE A TRENTASEI ANNI PER L'ESECUZIONE DEL CONTRATTO O PER LA REALIZZAZIONE DI ATTIVITÀ AD ESSO CONNESSE O STRUMENTALI\",\n",
       "       \"ABBIA, NELL'ULTIMO TRIENNIO, RISPETTATO GLI OBBLIGHI DI CUI ALLA LEGGE 12 MARZO 1999, N. 68 IN MATERIA DI LAVORO DELLE PERSONE DISABILI\",\n",
       "       'ALTRO CRITERIO DI RESPONSABILITÀ SOCIALE NEI CONFRONTI DEI DIVARI DI GENERE',\n",
       "       'ALTRO CRITERIO DI RESPONSABILITÀ SOCIALE NEI CONFRONTI DEI DIVARI INTERGENERAZIONALI',\n",
       "       \"NEI TRE ANNI ANTECEDENTI LA DATA DI SCADENZA DEL TERMINE DI PRESENTAZIONE DELLE OFFERTE, NON RISULTI DESTINATARIO DI ACCERTAMENTI RELATIVI AD ATTI O COMPORTAMENTI DISCRIMINATORI AI SENSI DELL'ARTICOLO 44 DEL D.LGS 25 LUGLIO 1998, N. 286, DELL'ARTICOLO 4 DEL 9 LUGLIO 2003, N. 215, DELL'ARTICOLO 4 DEL D.LGS 9 LUGLIO 2003, N. 216, DELL'ARTICOLO 3 DELLA LEGGE 1° MARZO 2006, N. 67, DEGLI ARTICOLI 35 E 55-QUINQUIES DEL D.LGS. 11 APRILE 2006, N. 198, OVVERO DELL'ARTICOLO 54 DEL D.LGS. 26 MARZO 2001, N. 151\",\n",
       "       'ALTRO CRITERIO PER LU2019INCLUSIONE DEI LAVORATORI DISABILI',\n",
       "       \"SI IMPEGNI AD ASSUMERE, OLTRE ALLA SOGLIA MINIMA PERCENTUALE PREVISTA COME REQUISITO DI PARTECIPAZIONE, PERSONE DISABILI PER L'ESECUZIONE DEL CONTRATTO O PER LA REALIZZAZIONE DI ATTIVITÀ AD ESSO CONNESSE O STRUMENTALI\",\n",
       "       \"ABBIA, NELL'ULTIMO TRIENNIO, ADOTTATO SPECIFICHE MISURE PER PROMUOVERE LE PARI OPPORTUNITÀ GENERAZIONALI\",\n",
       "       \"ABBIA, NELL'ULTIMO TRIENNIO, RISPETTATO I PRINCIPI DELLA PARITÀ DI GENERE, ANCHE TENENDO CONTO DEL RAPPORTO TRA UOMINI E DONNE NELLE ASSUNZIONI, NEI LIVELLI RETRIBUTIVI E NEL CONFERIMENTO DI INCARICHI APICALI\",\n",
       "       \"ABBIA PRESENTATO O SI IMPEGNI A PRESENTARE PER CIASCUNO DEGLI ESERCIZI FINANZIARI, RICOMPRESI NELLA DURATA DEL CONTRATTO DI APPALTO, UNA DICHIARAZIONE VOLONTARIA DI CARATTERE NON FINANZIARIO AI SENSI DELL'ARTICOLO 7 DEL D.LGS. 30 DICEMBRE 2016, N. 254\"],\n",
       "      dtype=object)"
      ]
     },
     "execution_count": 108,
     "metadata": {},
     "output_type": "execute_result"
    }
   ],
   "source": [
    "premialita_24_exploded[\"misura_premiale\"].unique()"
   ]
  },
  {
   "cell_type": "code",
   "execution_count": 109,
   "metadata": {},
   "outputs": [],
   "source": [
    "premialita_24_exploded.to_csv(\"premialita_24_exploded.csv\", index = False, sep=';')\n",
    "#cod_mis_premiale\n",
    "premialita_24_exploded = premialita_24_exploded.rename(columns={'codice_mis_prem': 'cod_mis_premiale'})"
   ]
  },
  {
   "cell_type": "markdown",
   "metadata": {},
   "source": [
    "Riapplichiamo la mappatura fatta in precedenza per le misure premiali"
   ]
  },
  {
   "cell_type": "code",
   "execution_count": null,
   "metadata": {},
   "outputs": [],
   "source": [
    "premialita_24_exploded"
   ]
  },
  {
   "cell_type": "code",
   "execution_count": null,
   "metadata": {},
   "outputs": [],
   "source": [
    "def conditions(s):\n",
    "    if s['cod_mis_premiale'] in [1,2,9]:\n",
    "        return \"GENERALE\"\n",
    "    elif s['cod_mis_premiale'] in [3,8,12]:\n",
    "        return \"DISABILI\"\n",
    "    elif s['cod_mis_premiale'] in [4,6,10]:\n",
    "        return \"GENERE\"\n",
    "    elif s['cod_mis_premiale'] in [5,7,11]:\n",
    "        return \"ETÀ\"\n",
    "    else:\n",
    "        return 0\n",
    "    \n",
    "premialita_24_exploded['CATEGORIA'] = premialita_24_exploded.apply(conditions,axis=1)\n",
    "premialita_24_exploded"
   ]
  },
  {
   "cell_type": "markdown",
   "metadata": {},
   "source": [
    "Motivo deroga è coerente.\n",
    "Creiamo il dataset con premialità e deroghe."
   ]
  },
  {
   "cell_type": "code",
   "execution_count": 113,
   "metadata": {},
   "outputs": [],
   "source": [
    "appalti_2024 = appalti_2024[['cig','data_pubblicazione',\n",
    "       'importo_lotto']]"
   ]
  },
  {
   "cell_type": "code",
   "execution_count": null,
   "metadata": {},
   "outputs": [],
   "source": [
    "leftpremialita = appalti_2024.merge(premialita_24_exploded, on='cig',how='left')\n",
    "leftpremialita\n",
    "leftpremialita = leftpremialita[['cig','data_pubblicazione_x', 'importo_lotto_x', 'flag_misure_premiali',\t'cod_mis_premiale',\t'misura_premiale',\t'CATEGORIA']]\n",
    "leftpremialita = leftpremialita.rename(columns={'importo_lotto_x': 'importo_lotto'})\n",
    "leftpremialita = leftpremialita.rename(columns={'data_pubblicazione_x': 'data_pubblicazione'})\n",
    "leftpremialita"
   ]
  },
  {
   "cell_type": "code",
   "execution_count": null,
   "metadata": {},
   "outputs": [],
   "source": [
    "leftquote = leftpremialita.merge(deroghe_24_exploded, on='cig',how='left')\n",
    "leftquote\n",
    "leftquote = leftquote[['cig','data_pubblicazione_x', 'importo_lotto_x', 'flag_misure_premiali_x',\t'cod_mis_premiale',\t'misura_premiale_x',\t'CATEGORIA','flag_quote_deroga', 'quota_femminile',\t'quota_giovani', 'cod_mot_deroga',\t'motivo_deroga']]\n",
    "leftquote = leftquote.rename(columns={'data_pubblicazione_x': 'data_pubblicazione'})\n",
    "leftquote = leftquote.rename(columns={'importo_lotto_x': 'importo_lotto'})\n",
    "leftquote = leftquote.rename(columns={'flag_misure_premiali_x': 'flag_misure_premiali'})\n",
    "leftquote = leftquote.rename(columns={'misura_premiale_x': 'misura_premiale'})\n",
    "\n",
    "leftquote"
   ]
  },
  {
   "cell_type": "code",
   "execution_count": 4,
   "metadata": {},
   "outputs": [],
   "source": [
    "from logging import getLogger\n",
    "\n",
    "from src.data_collection.comuni import fetch_dataset_comuni\n",
    "from src.data_collection.indicators import get_indicators\n",
    "from src.data_collection.indicators_sdg import get_indicators_and_sdg \n",
    "from src.data_collection.missioni import fetch_pnrr_missions\n",
    "from src.data_collection.p01 import get_p01\n",
    "from src.data_collection.p02 import get_p02\n",
    "from src.data_collection.p03 import get_p03\n",
    "from src.data_collection.p04 import get_p04\n",
    "from src.data_collection.p05 import get_p05\n",
    "from src.data_collection.targets import get_targets\n",
    "from src.data_collection.localizzazioni import get_localizzazioni\n",
    "from src.data_collection.regis import get_regis_indicators"
   ]
  },
  {
   "cell_type": "code",
   "execution_count": 14,
   "metadata": {},
   "outputs": [
    {
     "name": "stderr",
     "output_type": "stream",
     "text": [
      "Dataset from is emty\n",
      "Error fetching data for year 2023: 'NoneType' object is not subscriptable\n",
      "Dataset from is emty\n",
      "Error fetching data for year 2024: 'NoneType' object is not subscriptable\n"
     ]
    },
    {
     "ename": "KeyError",
     "evalue": "'data_pubblicazione'",
     "output_type": "error",
     "traceback": [
      "\u001b[0;31m---------------------------------------------------------------------------\u001b[0m",
      "\u001b[0;31mKeyError\u001b[0m                                  Traceback (most recent call last)",
      "Cell \u001b[0;32mIn[14], line 1\u001b[0m\n\u001b[0;32m----> 1\u001b[0m p05 \u001b[38;5;241m=\u001b[39m \u001b[43mget_p05\u001b[49m\u001b[43m(\u001b[49m\u001b[43m)\u001b[49m\n\u001b[1;32m      2\u001b[0m p05\n",
      "File \u001b[0;32m~/Desktop/period/data-prep-pnrr/src/data_collection/p05.py:45\u001b[0m, in \u001b[0;36mget_p05\u001b[0;34m()\u001b[0m\n\u001b[1;32m     42\u001b[0m p05\u001b[38;5;241m.\u001b[39mdrop_duplicates()\n\u001b[1;32m     43\u001b[0m \u001b[38;5;28;01mfor\u001b[39;00m year \u001b[38;5;129;01min\u001b[39;00m P05_URLs\u001b[38;5;241m.\u001b[39mkeys():\n\u001b[1;32m     44\u001b[0m     logger\u001b[38;5;241m.\u001b[39minfo(\n\u001b[0;32m---> 45\u001b[0m         \u001b[38;5;124mf\u001b[39m\u001b[38;5;124m\"\u001b[39m\u001b[38;5;124mNumber of published CIG in \u001b[39m\u001b[38;5;132;01m{\u001b[39;00myear\u001b[38;5;132;01m}\u001b[39;00m\u001b[38;5;124m: \u001b[39m\u001b[38;5;132;01m{\u001b[39;00mp05[\u001b[43mp05\u001b[49m\u001b[43m[\u001b[49m\u001b[38;5;124;43m'\u001b[39;49m\u001b[38;5;124;43mdata_pubblicazione\u001b[39;49m\u001b[38;5;124;43m'\u001b[39;49m\u001b[43m]\u001b[49m\u001b[38;5;241m.\u001b[39mstr\u001b[38;5;241m.\u001b[39mmatch(\u001b[38;5;28mstr\u001b[39m(year))][\u001b[38;5;124m'\u001b[39m\u001b[38;5;124mdata_pubblicazione\u001b[39m\u001b[38;5;124m'\u001b[39m]\u001b[38;5;241m.\u001b[39mshape[\u001b[38;5;241m0\u001b[39m]\u001b[38;5;132;01m}\u001b[39;00m\u001b[38;5;124m\"\u001b[39m\n\u001b[1;32m     46\u001b[0m     )\n\u001b[1;32m     48\u001b[0m \u001b[38;5;28;01mreturn\u001b[39;00m p05\n",
      "File \u001b[0;32m~/miniconda3/envs/period/lib/python3.11/site-packages/pandas/core/frame.py:4102\u001b[0m, in \u001b[0;36mDataFrame.__getitem__\u001b[0;34m(self, key)\u001b[0m\n\u001b[1;32m   4100\u001b[0m \u001b[38;5;28;01mif\u001b[39;00m \u001b[38;5;28mself\u001b[39m\u001b[38;5;241m.\u001b[39mcolumns\u001b[38;5;241m.\u001b[39mnlevels \u001b[38;5;241m>\u001b[39m \u001b[38;5;241m1\u001b[39m:\n\u001b[1;32m   4101\u001b[0m     \u001b[38;5;28;01mreturn\u001b[39;00m \u001b[38;5;28mself\u001b[39m\u001b[38;5;241m.\u001b[39m_getitem_multilevel(key)\n\u001b[0;32m-> 4102\u001b[0m indexer \u001b[38;5;241m=\u001b[39m \u001b[38;5;28;43mself\u001b[39;49m\u001b[38;5;241;43m.\u001b[39;49m\u001b[43mcolumns\u001b[49m\u001b[38;5;241;43m.\u001b[39;49m\u001b[43mget_loc\u001b[49m\u001b[43m(\u001b[49m\u001b[43mkey\u001b[49m\u001b[43m)\u001b[49m\n\u001b[1;32m   4103\u001b[0m \u001b[38;5;28;01mif\u001b[39;00m is_integer(indexer):\n\u001b[1;32m   4104\u001b[0m     indexer \u001b[38;5;241m=\u001b[39m [indexer]\n",
      "File \u001b[0;32m~/miniconda3/envs/period/lib/python3.11/site-packages/pandas/core/indexes/range.py:417\u001b[0m, in \u001b[0;36mRangeIndex.get_loc\u001b[0;34m(self, key)\u001b[0m\n\u001b[1;32m    415\u001b[0m         \u001b[38;5;28;01mraise\u001b[39;00m \u001b[38;5;167;01mKeyError\u001b[39;00m(key) \u001b[38;5;28;01mfrom\u001b[39;00m \u001b[38;5;21;01merr\u001b[39;00m\n\u001b[1;32m    416\u001b[0m \u001b[38;5;28;01mif\u001b[39;00m \u001b[38;5;28misinstance\u001b[39m(key, Hashable):\n\u001b[0;32m--> 417\u001b[0m     \u001b[38;5;28;01mraise\u001b[39;00m \u001b[38;5;167;01mKeyError\u001b[39;00m(key)\n\u001b[1;32m    418\u001b[0m \u001b[38;5;28mself\u001b[39m\u001b[38;5;241m.\u001b[39m_check_indexing_error(key)\n\u001b[1;32m    419\u001b[0m \u001b[38;5;28;01mraise\u001b[39;00m \u001b[38;5;167;01mKeyError\u001b[39;00m(key)\n",
      "\u001b[0;31mKeyError\u001b[0m: 'data_pubblicazione'"
     ]
    }
   ],
   "source": [
    "p05 = get_p05()\n",
    "p05"
   ]
  },
  {
   "cell_type": "code",
   "execution_count": null,
   "metadata": {},
   "outputs": [],
   "source": [
    "indicatori_comuni\n",
    "\n",
    "print(indicatori_comuni[\"Descrizione Indicatore\"].unique());\n",
    "print(indicatori_comuni[\"Codice Indicatore\"].unique())\n",
    "\n",
    "def conditions_persone(s):\n",
    "    if s['Codice Indicatore'] in [\n",
    "        \"C10.A\",\n",
    "        \"C10.B\",\n",
    "        \"C10.C\",\n",
    "        \"C10.D\",\n",
    "        \"C10.E\",\n",
    "        \"C10.F\",\n",
    "        \"C10.G\",\n",
    "        \"C10.H\",\n",
    "        \"C10IA\",\n",
    "        \"C10IB\",\n",
    "        \"C10IC\",\n",
    "        \"C10ID\",\n",
    "        \"C10IE\",\n",
    "        \"C10IF\",\n",
    "        \"C10IG\",\n",
    "        \"C10IH\",\n",
    "        \"C11.A\",\n",
    "        \"C11.B\",\n",
    "        \"C11.C\",\n",
    "        \"C11.D\",\n",
    "        \"C11.E\",\n",
    "        \"C11.F\",\n",
    "        \"C11.G\",\n",
    "        \"C11.H\",\n",
    "        \"C12\",\n",
    "        \"C14.F\",\n",
    "        \"C14.M\",\n",
    "        \"C4\",\n",
    "        \"C7\",\n",
    "        \"C8.F\",\n",
    "        \"C8.M\"]:\n",
    "        return \"1\"\n",
    "    else:\n",
    "        return 0\n",
    "    \n",
    "indicatori_comuni['FLG_INDICATORI_PERSONE'] = indicatori_comuni.apply(conditions_persone, axis=1)\n",
    "indicatori_comuni\n",
    "\n",
    "indicatori_comuni\n",
    "\n",
    "print(indicatori_comuni[\"Descrizione Indicatore\"].unique());\n",
    "print(indicatori_comuni[\"Codice Indicatore\"].unique())\n",
    "\n",
    "def conditions_persone(s):\n",
    "    if s['Codice Indicatore'] in [\n",
    "        \"C10.A\",\n",
    "        \"C10.B\",\n",
    "        \"C10.C\",\n",
    "        \"C10.D\",\n",
    "        \"C10.E\",\n",
    "        \"C10.F\",\n",
    "        \"C10.G\",\n",
    "        \"C10.H\",\n",
    "        \"C10IA\",\n",
    "        \"C10IB\",\n",
    "        \"C10IC\",\n",
    "        \"C10ID\",\n",
    "        \"C10IE\",\n",
    "        \"C10IF\",\n",
    "        \"C10IG\",\n",
    "        \"C10IH\",\n",
    "        \"C11.A\",\n",
    "        \"C11.B\",\n",
    "        \"C11.C\",\n",
    "        \"C11.D\",\n",
    "        \"C11.E\",\n",
    "        \"C11.F\",\n",
    "        \"C11.G\",\n",
    "        \"C11.H\",\n",
    "        \"C12\",\n",
    "        \"C14.F\",\n",
    "        \"C14.M\",\n",
    "        \"C4\",\n",
    "        \"C7\",\n",
    "        \"C8.F\",\n",
    "        \"C8.M\"]:\n",
    "        return \"1\"\n",
    "    else:\n",
    "        return 0\n",
    "    \n",
    "indicatori_comuni['FLG_INDICATORI_PERSONE'] = indicatori_comuni.apply(conditions_persone, axis=1)\n",
    "indicatori_comuni\n",
    "\n",
    "def conditions_persone(s):\n",
    "    if s['Codice Indicatore'] in [\n",
    "        \"C10.A\",\n",
    "        \"C10.B\",\n",
    "        \"C10.C\",\n",
    "        \"C10.D\",\n",
    "        \"C10.E\",\n",
    "        \"C10.F\",\n",
    "        \"C10.G\",\n",
    "        \"C10.H\",\n",
    "        \"C10IA\",\n",
    "        \"C10IB\",\n",
    "        \"C10IC\",\n",
    "        \"C10ID\",\n",
    "        \"C10IE\",\n",
    "        \"C10IF\",\n",
    "        \"C10IG\",\n",
    "        \"C10IH\",\n",
    "        \"C11.A\",\n",
    "        \"C11.B\",\n",
    "        \"C11.C\",\n",
    "        \"C11.D\",\n",
    "        \"C11.E\",\n",
    "        \"C11.F\",\n",
    "        \"C11.G\",\n",
    "        \"C11.H\",\n",
    "        \"C12\",\n",
    "        \"C14.F\",\n",
    "        \"C14.M\",\n",
    "        \"C4\",\n",
    "        \"C7\",\n",
    "        \"C8.F\",\n",
    "        \"C8.M\"]:\n",
    "        return \"1\"\n",
    "    else:\n",
    "        return 0\n",
    "    \n",
    "indicatori_comuni['FLG_INDICATORI_PERSONE'] = indicatori_comuni.apply(conditions_persone, axis=1)\n",
    "indicatori_comuni\n",
    "\n",
    "\n",
    "def conditions_genere(s):\n",
    "    if s['Codice Indicatore'] in [\n",
    "        \"C10.E\",\n",
    "        \"C10.F\",\n",
    "        \"C10.G\",\n",
    "        \"C10.H\",\n",
    "        \"C10IE\",\n",
    "        \"C10IF\",\n",
    "        \"C10IG\",\n",
    "        \"C10IH\",\n",
    "        \"C11.E\",\n",
    "        \"C11.F\",\n",
    "        \"C11.G\",\n",
    "        \"C11.H\",\n",
    "        \"C14.F\",\n",
    "         \"C8.F\"]:\n",
    "        return \"1\"\n",
    "    else:\n",
    "        return 0\n",
    "\n",
    "indicatori_comuni['FLG_INDICATORI_GENERE'] = indicatori_comuni.apply(conditions_genere, axis=1) \n",
    "indicatori_comuni\n",
    "indicatori_comuni.to_csv(\"indicatori_comuni.csv\", index = False, sep=';')"
   ]
  },
  {
   "cell_type": "code",
   "execution_count": null,
   "metadata": {},
   "outputs": [],
   "source": [
    "p05 = p05.rename(columns={'cig':'CIG'})\n",
    "p03 = p03.rename(columns={'cig':'CIG'})\n",
    "p04 = p04.rename(columns={'cig':'CIG'})\n",
    "def conditions(s):\n",
    "    if s['cod_mis_premiale'] in [1,2,9]:\n",
    "        return \"GENERALE\"\n",
    "    elif s['cod_mis_premiale'] in [3,8,12]:\n",
    "        return \"DISABILI\"\n",
    "    elif s['cod_mis_premiale'] in [4,6,10]:\n",
    "        return \"GENERE\"\n",
    "    elif s['cod_mis_premiale'] in [5,7,11]:\n",
    "        return \"ETÀ\"\n",
    "    else:\n",
    "        return 0\n",
    "    \n",
    "p03['CATEGORIA'] = p03.apply(conditions,axis=1)\n",
    "\n",
    "# left join p5 e p3\n",
    "leftnew_3 = p05.merge(p03, on='CIG',how='left')\n",
    "leftnew_3 = leftnew_3.drop_duplicates()\n",
    "print(leftnew_3.columns)\n",
    "print(leftnew_3.shape)\n",
    "# left join il risultato con p4\n",
    "leftnew_34 = leftnew_3.merge(p04, on='CIG', how='left')\n",
    "leftnew_34 = leftnew_34.drop_duplicates()\n",
    "print(leftnew_34.columns)\n",
    "print(leftnew_34.shape)\n",
    "leftnew_34.to_csv(\"leftnew_34.csv\", index = False, sep=';')"
   ]
  }
 ],
 "metadata": {
  "kernelspec": {
   "display_name": "period",
   "language": "python",
   "name": "python3"
  },
  "language_info": {
   "codemirror_mode": {
    "name": "ipython",
    "version": 3
   },
   "file_extension": ".py",
   "mimetype": "text/x-python",
   "name": "python",
   "nbconvert_exporter": "python",
   "pygments_lexer": "ipython3",
   "version": "3.11.9"
  }
 },
 "nbformat": 4,
 "nbformat_minor": 2
}
