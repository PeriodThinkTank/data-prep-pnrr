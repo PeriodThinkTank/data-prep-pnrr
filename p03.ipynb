{
 "cells": [
  {
   "cell_type": "markdown",
   "metadata": {},
   "source": [
    "# Define the URL for dataset P03\n",
    "P03_URL = \"https://dati.anticorruzione.it/opendata/dataset/misurepremiali-pnrrpnc\"\n",
    "P03_ZIP_URL = \"https://dati.anticorruzione.it/opendata/download/dataset/misurepremiali-pnrrpnc/filesystem/misurepremiali-pnrrpnc_csv.zip\""
   ]
  },
  {
   "cell_type": "code",
   "execution_count": 4,
   "metadata": {},
   "outputs": [],
   "source": [
    "import requests\n",
    "from io import BytesIO\n",
    "from zipfile import ZipFile\n",
    "import pandas as pd\n",
    "\n",
    "# Define the URL for dataset P03\n",
    "P03_URL = \"https://dati.anticorruzione.it/opendata/download/dataset/misurepremiali-pnrrpnc/filesystem/misurepremiali-pnrrpnc_csv.zip\"\n",
    "\n",
    "# Fetch the ZIP file from the URL\n",
    "response = requests.get(P03_URL)\n",
    "response.raise_for_status()  # Raise an HTTPError for bad responses\n",
    "\n",
    "# Use BytesIO to handle the ZIP file in memory\n",
    "with ZipFile(BytesIO(response.content)) as zip_file:\n",
    "   \n",
    "    zip_files = zip_file.namelist()\n",
    "    \n",
    "    # Open the  CSV file from the ZIP \n",
    "    csv_filename = [f for f in zip_files if f.endswith('.csv')][0]\n",
    "    with zip_file.open(csv_filename) as file:\n",
    "        df = pd.read_csv(file, sep=\";\", na_values=[\"NA\", \"ND\"])\n",
    "\n",
    "\n"
   ]
  },
  {
   "cell_type": "code",
   "execution_count": 6,
   "metadata": {},
   "outputs": [
    {
     "data": {
      "text/plain": [
       "(18615, 3)"
      ]
     },
     "execution_count": 6,
     "metadata": {},
     "output_type": "execute_result"
    }
   ],
   "source": [
    "df.shape"
   ]
  },
  {
   "cell_type": "code",
   "execution_count": 7,
   "metadata": {},
   "outputs": [
    {
     "data": {
      "text/html": [
       "<div>\n",
       "<style scoped>\n",
       "    .dataframe tbody tr th:only-of-type {\n",
       "        vertical-align: middle;\n",
       "    }\n",
       "\n",
       "    .dataframe tbody tr th {\n",
       "        vertical-align: top;\n",
       "    }\n",
       "\n",
       "    .dataframe thead th {\n",
       "        text-align: right;\n",
       "    }\n",
       "</style>\n",
       "<table border=\"1\" class=\"dataframe\">\n",
       "  <thead>\n",
       "    <tr style=\"text-align: right;\">\n",
       "      <th></th>\n",
       "      <th>cig</th>\n",
       "      <th>cod_mis_premiale</th>\n",
       "      <th>misura_premiale</th>\n",
       "    </tr>\n",
       "  </thead>\n",
       "  <tbody>\n",
       "    <tr>\n",
       "      <th>0</th>\n",
       "      <td>A02F90328C</td>\n",
       "      <td>2</td>\n",
       "      <td>UTILIZZI O SI IMPEGNI A UTILIZZARE SPECIFICI S...</td>\n",
       "    </tr>\n",
       "    <tr>\n",
       "      <th>1</th>\n",
       "      <td>A009AAD54C</td>\n",
       "      <td>1</td>\n",
       "      <td>NEI TRE ANNI ANTECEDENTI LA DATA DI SCADENZA D...</td>\n",
       "    </tr>\n",
       "    <tr>\n",
       "      <th>2</th>\n",
       "      <td>98614695A8</td>\n",
       "      <td>1</td>\n",
       "      <td>NEI TRE ANNI ANTECEDENTI LA DATA DI SCADENZA D...</td>\n",
       "    </tr>\n",
       "    <tr>\n",
       "      <th>3</th>\n",
       "      <td>A01153D996</td>\n",
       "      <td>3</td>\n",
       "      <td>SI IMPEGNI AD ASSUMERE, OLTRE ALLA SOGLIA MINI...</td>\n",
       "    </tr>\n",
       "    <tr>\n",
       "      <th>4</th>\n",
       "      <td>A01153D996</td>\n",
       "      <td>11</td>\n",
       "      <td>ALTRO CRITERIO DI RESPONSABILITÀ SOCIALE NEI C...</td>\n",
       "    </tr>\n",
       "  </tbody>\n",
       "</table>\n",
       "</div>"
      ],
      "text/plain": [
       "          cig  cod_mis_premiale  \\\n",
       "0  A02F90328C                 2   \n",
       "1  A009AAD54C                 1   \n",
       "2  98614695A8                 1   \n",
       "3  A01153D996                 3   \n",
       "4  A01153D996                11   \n",
       "\n",
       "                                     misura_premiale  \n",
       "0  UTILIZZI O SI IMPEGNI A UTILIZZARE SPECIFICI S...  \n",
       "1  NEI TRE ANNI ANTECEDENTI LA DATA DI SCADENZA D...  \n",
       "2  NEI TRE ANNI ANTECEDENTI LA DATA DI SCADENZA D...  \n",
       "3  SI IMPEGNI AD ASSUMERE, OLTRE ALLA SOGLIA MINI...  \n",
       "4  ALTRO CRITERIO DI RESPONSABILITÀ SOCIALE NEI C...  "
      ]
     },
     "execution_count": 7,
     "metadata": {},
     "output_type": "execute_result"
    }
   ],
   "source": [
    "df.head()\n"
   ]
  }
 ],
 "metadata": {
  "kernelspec": {
   "display_name": "base",
   "language": "python",
   "name": "python3"
  },
  "language_info": {
   "codemirror_mode": {
    "name": "ipython",
    "version": 3
   },
   "file_extension": ".py",
   "mimetype": "text/x-python",
   "name": "python",
   "nbconvert_exporter": "python",
   "pygments_lexer": "ipython3",
   "version": "3.9.13"
  }
 },
 "nbformat": 4,
 "nbformat_minor": 2
}
