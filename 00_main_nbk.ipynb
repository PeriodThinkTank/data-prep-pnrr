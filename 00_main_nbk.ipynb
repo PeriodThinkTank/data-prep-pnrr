{
 "cells": [
  {
   "cell_type": "markdown",
   "metadata": {},
   "source": [
    "## Collecting all datasets\n",
    "\n",
    "This notebook is used to fetch all the datasets in the sources"
   ]
  },
  {
   "cell_type": "code",
   "execution_count": 1,
   "metadata": {},
   "outputs": [],
   "source": [
    "import pandas as pd\n",
    "from logging import getLogger\n",
    "\n",
    "from src.data_collection.comuni import fetch_dataset_comuni\n",
    "from src.data_collection.indicators import get_indicators\n",
    "from src.data_collection.indicators_sdg import get_indicators_and_sdg \n",
    "from src.data_collection.missioni import fetch_pnrr_missions\n",
    "from src.data_collection.p01 import get_p01\n",
    "from src.data_collection.p02 import get_p02\n",
    "from src.data_collection.p03 import get_p03\n",
    "from src.data_collection.p04 import get_p04\n",
    "from src.data_collection.p05 import get_p05\n",
    "from src.data_collection.targets import get_targets\n",
    "from src.data_collection.localizzazioni import get_localizzazioni\n",
    "from src.data_collection.regis import get_regis_indicators"
   ]
  },
  {
   "cell_type": "code",
   "execution_count": null,
   "metadata": {},
   "outputs": [],
   "source": [
    "p01 = get_p01()\n",
    "\n",
    "print(p01.shape)\n",
    "print(p01.columns)\n",
    "p01.head()"
   ]
  },
  {
   "cell_type": "code",
   "execution_count": null,
   "metadata": {},
   "outputs": [],
   "source": [
    "p01.to_parquet(\"data/updated/p01.parquet\")"
   ]
  },
  {
   "cell_type": "code",
   "execution_count": null,
   "metadata": {},
   "outputs": [],
   "source": [
    "p02 = get_p02()\n",
    "\n",
    "print(p02.shape)\n",
    "print(p02.columns)\n",
    "p02.head()"
   ]
  },
  {
   "cell_type": "code",
   "execution_count": null,
   "metadata": {},
   "outputs": [],
   "source": [
    "p02.to_parquet(\"data/updated/p02.parquet\")"
   ]
  },
  {
   "cell_type": "code",
   "execution_count": null,
   "metadata": {},
   "outputs": [],
   "source": [
    "p03 = get_p03()\n",
    "print(p03.shape)\n",
    "print(p03.columns)\n",
    "p03.head()"
   ]
  },
  {
   "cell_type": "code",
   "execution_count": null,
   "metadata": {},
   "outputs": [],
   "source": [
    "p03_old = pd.read_parquet(\"data/updated/p03.parquet\")\n",
    "print(p03_old.shape)\n",
    "print(p03_old.columns)\n",
    "p03_old.head()"
   ]
  },
  {
   "cell_type": "code",
   "execution_count": null,
   "metadata": {},
   "outputs": [],
   "source": [
    "p03.to_parquet(\"data/updated/p03.parquet\") # overwrite del \"vecchio\" dato\n",
    "p03_old.to_parquet(\"data/updated/p03_old.parquet\")"
   ]
  },
  {
   "cell_type": "code",
   "execution_count": null,
   "metadata": {},
   "outputs": [],
   "source": [
    "p04 = get_p04()\n",
    "print(p04.shape)\n",
    "print(p04.columns)\n",
    "p04.head()"
   ]
  },
  {
   "cell_type": "code",
   "execution_count": null,
   "metadata": {},
   "outputs": [],
   "source": [
    "p04_old = pd.read_parquet(\"data/updated/p04.parquet\")\n",
    "print(p04_old.shape)\n",
    "print(p04_old.columns)\n",
    "p04_old.head()"
   ]
  },
  {
   "cell_type": "code",
   "execution_count": null,
   "metadata": {},
   "outputs": [],
   "source": [
    "p04.to_parquet(\"data/updated/p04.parquet\") # overwrite del \"vecchio\" dato\n",
    "p04_old.to_parquet(\"data/updated/p04_old.parquet\")"
   ]
  },
  {
   "cell_type": "code",
   "execution_count": 2,
   "metadata": {},
   "outputs": [
    {
     "data": {
      "text/plain": [
       "(210264, 61)"
      ]
     },
     "execution_count": 2,
     "metadata": {},
     "output_type": "execute_result"
    }
   ],
   "source": [
    "p05_old = pd.read_parquet(\"data/updated/p05.parquet\")\n",
    "\n",
    "p05_old.shape"
   ]
  },
  {
   "cell_type": "code",
   "execution_count": 2,
   "metadata": {},
   "outputs": [
    {
     "name": "stdout",
     "output_type": "stream",
     "text": [
      "Link https://dati.anticorruzione.it/opendata/download/dataset/cig/filesystem/cig_csv_logCsv.csv is not a zip file\n",
      "(264202, 61)\n",
      "Index(['cig', 'cig_accordo_quadro', 'numero_gara', 'oggetto_gara',\n",
      "       'importo_complessivo_gara', 'n_lotti_componenti', 'oggetto_lotto',\n",
      "       'importo_lotto', 'oggetto_principale_contratto', 'stato', 'settore',\n",
      "       'luogo_istat', 'provincia', 'data_pubblicazione',\n",
      "       'data_scadenza_offerta', 'cod_tipo_scelta_contraente',\n",
      "       'tipo_scelta_contraente', 'cod_modalita_realizzazione',\n",
      "       'modalita_realizzazione', 'codice_ausa',\n",
      "       'cf_amministrazione_appaltante',\n",
      "       'denominazione_amministrazione_appaltante', 'sezione_regionale',\n",
      "       'id_centro_costo', 'denominazione_centro_costo', 'anno_pubblicazione',\n",
      "       'mese_pubblicazione', 'cod_cpv', 'descrizione_cpv', 'flag_prevalente',\n",
      "       'COD_MOTIVO_CANCELLAZIONE', 'MOTIVO_CANCELLAZIONE',\n",
      "       'DATA_CANCELLAZIONE', 'DATA_ULTIMO_PERFEZIONAMENTO',\n",
      "       'COD_MODALITA_INDIZIONE_SPECIALI', 'MODALITA_INDIZIONE_SPECIALI',\n",
      "       'COD_MODALITA_INDIZIONE_SERVIZI', 'MODALITA_INDIZIONE_SERVIZI',\n",
      "       'DURATA_PREVISTA', 'COD_STRUMENTO_SVOLGIMENTO', 'STRUMENTO_SVOLGIMENTO',\n",
      "       'FLAG_URGENZA', 'COD_MOTIVO_URGENZA', 'MOTIVO_URGENZA', 'FLAG_DELEGA',\n",
      "       'FUNZIONI_DELEGATE', 'CF_SA_DELEGANTE', 'DENOMINAZIONE_SA_DELEGANTE',\n",
      "       'CF_SA_DELEGATA', 'DENOMINAZIONE_SA_DELEGATA', 'IMPORTO_SICUREZZA',\n",
      "       'TIPO_APPALTO_RISERVATO', 'CUI_PROGRAMMA', 'FLAG_PREV_RIPETIZIONI',\n",
      "       'COD_IPOTESI_COLLEGAMENTO', 'IPOTESI_COLLEGAMENTO', 'CIG_COLLEGAMENTO',\n",
      "       'COD_ESITO', 'ESITO', 'DATA_COMUNICAZIONE_ESITO', 'FLAG_PNRR_PNC'],\n",
      "      dtype='object')\n"
     ]
    },
    {
     "data": {
      "text/html": [
       "<div>\n",
       "<style scoped>\n",
       "    .dataframe tbody tr th:only-of-type {\n",
       "        vertical-align: middle;\n",
       "    }\n",
       "\n",
       "    .dataframe tbody tr th {\n",
       "        vertical-align: top;\n",
       "    }\n",
       "\n",
       "    .dataframe thead th {\n",
       "        text-align: right;\n",
       "    }\n",
       "</style>\n",
       "<table border=\"1\" class=\"dataframe\">\n",
       "  <thead>\n",
       "    <tr style=\"text-align: right;\">\n",
       "      <th></th>\n",
       "      <th>cig</th>\n",
       "      <th>cig_accordo_quadro</th>\n",
       "      <th>numero_gara</th>\n",
       "      <th>oggetto_gara</th>\n",
       "      <th>importo_complessivo_gara</th>\n",
       "      <th>n_lotti_componenti</th>\n",
       "      <th>oggetto_lotto</th>\n",
       "      <th>importo_lotto</th>\n",
       "      <th>oggetto_principale_contratto</th>\n",
       "      <th>stato</th>\n",
       "      <th>...</th>\n",
       "      <th>TIPO_APPALTO_RISERVATO</th>\n",
       "      <th>CUI_PROGRAMMA</th>\n",
       "      <th>FLAG_PREV_RIPETIZIONI</th>\n",
       "      <th>COD_IPOTESI_COLLEGAMENTO</th>\n",
       "      <th>IPOTESI_COLLEGAMENTO</th>\n",
       "      <th>CIG_COLLEGAMENTO</th>\n",
       "      <th>COD_ESITO</th>\n",
       "      <th>ESITO</th>\n",
       "      <th>DATA_COMUNICAZIONE_ESITO</th>\n",
       "      <th>FLAG_PNRR_PNC</th>\n",
       "    </tr>\n",
       "  </thead>\n",
       "  <tbody>\n",
       "    <tr>\n",
       "      <th>0</th>\n",
       "      <td>9708946BB0</td>\n",
       "      <td>NaN</td>\n",
       "      <td>8994956</td>\n",
       "      <td>SERVIZI DI GEOLOGIA E GEOTECNICA IVI COMPRESA ...</td>\n",
       "      <td>7280.0</td>\n",
       "      <td>1</td>\n",
       "      <td>SERVIZI DI GEOLOGIA E GEOTECNICA IVI COMPRESA ...</td>\n",
       "      <td>7280.0</td>\n",
       "      <td>SERVIZI</td>\n",
       "      <td>ATTIVO</td>\n",
       "      <td>...</td>\n",
       "      <td>NaN</td>\n",
       "      <td>L81001230614202200006</td>\n",
       "      <td>0</td>\n",
       "      <td>NaN</td>\n",
       "      <td>NaN</td>\n",
       "      <td>NaN</td>\n",
       "      <td>NaN</td>\n",
       "      <td>NaN</td>\n",
       "      <td>NaN</td>\n",
       "      <td>1</td>\n",
       "    </tr>\n",
       "    <tr>\n",
       "      <th>1</th>\n",
       "      <td>9737176BD2</td>\n",
       "      <td>NaN</td>\n",
       "      <td>9018691</td>\n",
       "      <td>PNC - SAGGI PER VERIFICA MURATURA E SCAVI FOND...</td>\n",
       "      <td>1681.84</td>\n",
       "      <td>1</td>\n",
       "      <td>PNC - SAGGI PER VERIFICA MURATURA E SCAVI FOND...</td>\n",
       "      <td>1681.84</td>\n",
       "      <td>SERVIZI</td>\n",
       "      <td>ATTIVO</td>\n",
       "      <td>...</td>\n",
       "      <td>NaN</td>\n",
       "      <td>NaN</td>\n",
       "      <td>0</td>\n",
       "      <td>NaN</td>\n",
       "      <td>NaN</td>\n",
       "      <td>NaN</td>\n",
       "      <td>1.0</td>\n",
       "      <td>AGGIUDICATA</td>\n",
       "      <td>2023-04-06</td>\n",
       "      <td>1</td>\n",
       "    </tr>\n",
       "    <tr>\n",
       "      <th>2</th>\n",
       "      <td>9601726AF2</td>\n",
       "      <td>NaN</td>\n",
       "      <td>8900928</td>\n",
       "      <td>PROGETTO RIQUALIFICAZIONE ENERGETICA EDIFICI S...</td>\n",
       "      <td>36720.87</td>\n",
       "      <td>1</td>\n",
       "      <td>PROGETTO RIQUALIFICAZIONE ENERGETICA EDIFICI S...</td>\n",
       "      <td>36720.87</td>\n",
       "      <td>SERVIZI</td>\n",
       "      <td>ATTIVO</td>\n",
       "      <td>...</td>\n",
       "      <td>NaN</td>\n",
       "      <td>9999999999999999999999</td>\n",
       "      <td>0</td>\n",
       "      <td>NaN</td>\n",
       "      <td>NaN</td>\n",
       "      <td>NaN</td>\n",
       "      <td>1.0</td>\n",
       "      <td>AGGIUDICATA</td>\n",
       "      <td>2023-01-19</td>\n",
       "      <td>1</td>\n",
       "    </tr>\n",
       "    <tr>\n",
       "      <th>3</th>\n",
       "      <td>98273612D9</td>\n",
       "      <td>NaN</td>\n",
       "      <td>9100251</td>\n",
       "      <td>MIGRAZIONE AL CLOUD ANAGRAFE PNRR</td>\n",
       "      <td>6264.0</td>\n",
       "      <td>1</td>\n",
       "      <td>MIGRAZIONE AL CLOUD ANAGRAFE PNRR</td>\n",
       "      <td>6264.0</td>\n",
       "      <td>SERVIZI</td>\n",
       "      <td>ATTIVO</td>\n",
       "      <td>...</td>\n",
       "      <td>NaN</td>\n",
       "      <td>DEL. CONS.COM.47 /2022</td>\n",
       "      <td>0</td>\n",
       "      <td>NaN</td>\n",
       "      <td>NaN</td>\n",
       "      <td>NaN</td>\n",
       "      <td>1.0</td>\n",
       "      <td>AGGIUDICATA</td>\n",
       "      <td>2023-05-16</td>\n",
       "      <td>1</td>\n",
       "    </tr>\n",
       "    <tr>\n",
       "      <th>4</th>\n",
       "      <td>97087509F2</td>\n",
       "      <td>NaN</td>\n",
       "      <td>8994782</td>\n",
       "      <td>SERVIZI DI GEOLOGIA E GEOTECNICA IVI COMPRESA ...</td>\n",
       "      <td>7280.0</td>\n",
       "      <td>1</td>\n",
       "      <td>SERVIZI DI GEOLOGIA E GEOTECNICA IVI COMPRESA ...</td>\n",
       "      <td>7280.0</td>\n",
       "      <td>SERVIZI</td>\n",
       "      <td>ATTIVO</td>\n",
       "      <td>...</td>\n",
       "      <td>NaN</td>\n",
       "      <td>L81001230614202200027</td>\n",
       "      <td>0</td>\n",
       "      <td>NaN</td>\n",
       "      <td>NaN</td>\n",
       "      <td>NaN</td>\n",
       "      <td>NaN</td>\n",
       "      <td>NaN</td>\n",
       "      <td>NaN</td>\n",
       "      <td>1</td>\n",
       "    </tr>\n",
       "  </tbody>\n",
       "</table>\n",
       "<p>5 rows × 61 columns</p>\n",
       "</div>"
      ],
      "text/plain": [
       "          cig cig_accordo_quadro numero_gara  \\\n",
       "0  9708946BB0                NaN     8994956   \n",
       "1  9737176BD2                NaN     9018691   \n",
       "2  9601726AF2                NaN     8900928   \n",
       "3  98273612D9                NaN     9100251   \n",
       "4  97087509F2                NaN     8994782   \n",
       "\n",
       "                                        oggetto_gara importo_complessivo_gara  \\\n",
       "0  SERVIZI DI GEOLOGIA E GEOTECNICA IVI COMPRESA ...                   7280.0   \n",
       "1  PNC - SAGGI PER VERIFICA MURATURA E SCAVI FOND...                  1681.84   \n",
       "2  PROGETTO RIQUALIFICAZIONE ENERGETICA EDIFICI S...                 36720.87   \n",
       "3                  MIGRAZIONE AL CLOUD ANAGRAFE PNRR                   6264.0   \n",
       "4  SERVIZI DI GEOLOGIA E GEOTECNICA IVI COMPRESA ...                   7280.0   \n",
       "\n",
       "  n_lotti_componenti                                      oggetto_lotto  \\\n",
       "0                  1  SERVIZI DI GEOLOGIA E GEOTECNICA IVI COMPRESA ...   \n",
       "1                  1  PNC - SAGGI PER VERIFICA MURATURA E SCAVI FOND...   \n",
       "2                  1  PROGETTO RIQUALIFICAZIONE ENERGETICA EDIFICI S...   \n",
       "3                  1                  MIGRAZIONE AL CLOUD ANAGRAFE PNRR   \n",
       "4                  1  SERVIZI DI GEOLOGIA E GEOTECNICA IVI COMPRESA ...   \n",
       "\n",
       "  importo_lotto oggetto_principale_contratto   stato  ...  \\\n",
       "0        7280.0                      SERVIZI  ATTIVO  ...   \n",
       "1       1681.84                      SERVIZI  ATTIVO  ...   \n",
       "2      36720.87                      SERVIZI  ATTIVO  ...   \n",
       "3        6264.0                      SERVIZI  ATTIVO  ...   \n",
       "4        7280.0                      SERVIZI  ATTIVO  ...   \n",
       "\n",
       "  TIPO_APPALTO_RISERVATO           CUI_PROGRAMMA FLAG_PREV_RIPETIZIONI  \\\n",
       "0                    NaN   L81001230614202200006                     0   \n",
       "1                    NaN                     NaN                     0   \n",
       "2                    NaN  9999999999999999999999                     0   \n",
       "3                    NaN  DEL. CONS.COM.47 /2022                     0   \n",
       "4                    NaN   L81001230614202200027                     0   \n",
       "\n",
       "  COD_IPOTESI_COLLEGAMENTO IPOTESI_COLLEGAMENTO CIG_COLLEGAMENTO COD_ESITO  \\\n",
       "0                      NaN                  NaN              NaN       NaN   \n",
       "1                      NaN                  NaN              NaN       1.0   \n",
       "2                      NaN                  NaN              NaN       1.0   \n",
       "3                      NaN                  NaN              NaN       1.0   \n",
       "4                      NaN                  NaN              NaN       NaN   \n",
       "\n",
       "         ESITO DATA_COMUNICAZIONE_ESITO FLAG_PNRR_PNC  \n",
       "0          NaN                      NaN             1  \n",
       "1  AGGIUDICATA               2023-04-06             1  \n",
       "2  AGGIUDICATA               2023-01-19             1  \n",
       "3  AGGIUDICATA               2023-05-16             1  \n",
       "4          NaN                      NaN             1  \n",
       "\n",
       "[5 rows x 61 columns]"
      ]
     },
     "execution_count": 2,
     "metadata": {},
     "output_type": "execute_result"
    }
   ],
   "source": [
    "p05 = get_p05()\n",
    "print(p05.shape)\n",
    "print(p05.columns)\n",
    "p05.head()"
   ]
  },
  {
   "cell_type": "code",
   "execution_count": 3,
   "metadata": {},
   "outputs": [],
   "source": [
    "p05.to_parquet(\"data/updated/p05.parquet\")"
   ]
  },
  {
   "cell_type": "code",
   "execution_count": null,
   "metadata": {},
   "outputs": [],
   "source": [
    "comuni = fetch_dataset_comuni()\n",
    "print(comuni.shape)\n",
    "print(comuni.columns)\n",
    "comuni.head()"
   ]
  },
  {
   "cell_type": "code",
   "execution_count": null,
   "metadata": {},
   "outputs": [],
   "source": [
    "comuni.to_parquet(\"data/updated/comuni.parquet\")"
   ]
  },
  {
   "cell_type": "code",
   "execution_count": null,
   "metadata": {},
   "outputs": [],
   "source": [
    "missions, components = fetch_pnrr_missions()\n",
    "print(missions.shape)\n",
    "print(missions.columns)\n",
    "missions.head()"
   ]
  },
  {
   "cell_type": "code",
   "execution_count": null,
   "metadata": {},
   "outputs": [],
   "source": [
    "missions.to_parquet(\"data/updated/missions.parquet\")"
   ]
  },
  {
   "cell_type": "code",
   "execution_count": null,
   "metadata": {},
   "outputs": [],
   "source": [
    "print(components.shape)\n",
    "print(components.columns)\n",
    "components.head()"
   ]
  },
  {
   "cell_type": "code",
   "execution_count": null,
   "metadata": {},
   "outputs": [],
   "source": [
    "components.to_parquet(\"data/updated/components.parquet\")"
   ]
  },
  {
   "cell_type": "code",
   "execution_count": null,
   "metadata": {},
   "outputs": [],
   "source": [
    "indicators = get_indicators()\n",
    "print(indicators.shape)\n",
    "print(indicators.columns)\n",
    "indicators.head()"
   ]
  },
  {
   "cell_type": "code",
   "execution_count": null,
   "metadata": {},
   "outputs": [],
   "source": [
    "indicators.to_parquet(\"data/updated/indicators.parquet\")"
   ]
  },
  {
   "cell_type": "code",
   "execution_count": null,
   "metadata": {},
   "outputs": [],
   "source": [
    "indicators_sdg = get_indicators_and_sdg()\n",
    "print(indicators_sdg.shape)\n",
    "print(indicators_sdg.columns)\n",
    "indicators_sdg.head()"
   ]
  },
  {
   "cell_type": "code",
   "execution_count": null,
   "metadata": {},
   "outputs": [],
   "source": [
    "indicators_sdg.to_parquet(\"data/updated/indicators_sdg.parquet\")"
   ]
  },
  {
   "cell_type": "code",
   "execution_count": null,
   "metadata": {},
   "outputs": [],
   "source": [
    "targets = get_targets()\n",
    "print(targets.shape)\n",
    "print(targets.columns)\n",
    "targets.head()"
   ]
  },
  {
   "cell_type": "code",
   "execution_count": null,
   "metadata": {},
   "outputs": [],
   "source": [
    "targets.to_parquet(\"data/updated/targets.parquet\")"
   ]
  },
  {
   "cell_type": "code",
   "execution_count": null,
   "metadata": {},
   "outputs": [],
   "source": [
    "regis_comm_ind = get_regis_indicators()\n",
    "print(regis_comm_ind.shape)\n",
    "print(regis_comm_ind.columns)\n",
    "regis_comm_ind.head()"
   ]
  },
  {
   "cell_type": "code",
   "execution_count": null,
   "metadata": {},
   "outputs": [],
   "source": [
    "regis_comm_ind.to_parquet(\"data/updated/universo_regis.parquet\")"
   ]
  }
 ],
 "metadata": {
  "kernelspec": {
   "display_name": "period2",
   "language": "python",
   "name": "python3"
  },
  "language_info": {
   "codemirror_mode": {
    "name": "ipython",
    "version": 3
   },
   "file_extension": ".py",
   "mimetype": "text/x-python",
   "name": "python",
   "nbconvert_exporter": "python",
   "pygments_lexer": "ipython3",
   "version": "3.9.16"
  }
 },
 "nbformat": 4,
 "nbformat_minor": 2
}
